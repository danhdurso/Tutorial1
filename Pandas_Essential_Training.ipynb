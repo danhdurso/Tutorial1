{
  "cells": [
    {
      "cell_type": "markdown",
      "metadata": {
        "id": "Qam369vSO_rt"
      },
      "source": [
        "# Pandas Essential Training"
      ]
    },
    {
      "cell_type": "markdown",
      "source": [
        "The following cell has the year for the first olympics"
      ],
      "metadata": {
        "id": "C3lcP01zoLzK"
      }
    },
    {
      "cell_type": "code",
      "source": [
        "year = 1896\n",
        "1986 + 4"
      ],
      "metadata": {
        "id": "jDdclFHuo1w2",
        "outputId": "21a17f1a-176b-4740-8097-3aba3dfe7d0b",
        "colab": {
          "base_uri": "https://localhost:8080/"
        }
      },
      "execution_count": 4,
      "outputs": [
        {
          "output_type": "execute_result",
          "data": {
            "text/plain": [
              "1990"
            ]
          },
          "metadata": {},
          "execution_count": 4
        }
      ]
    },
    {
      "cell_type": "markdown",
      "metadata": {
        "id": "nIp_KPjfO4J9"
      },
      "source": [
        "## Using pandas"
      ]
    },
    {
      "cell_type": "code",
      "execution_count": 7,
      "metadata": {
        "id": "cKNZud6X4_RL",
        "outputId": "510093db-cc18-4327-b62e-ee1a82e00041",
        "colab": {
          "base_uri": "https://localhost:8080/"
        }
      },
      "outputs": [
        {
          "output_type": "stream",
          "name": "stdout",
          "text": [
            "Collecting pandas==2.0.2\n",
            "  Downloading pandas-2.0.2.tar.gz (5.3 MB)\n",
            "\u001b[2K     \u001b[90m━━━━━━━━━━━━━━━━━━━━━━━━━━━━━━━━━━━━━━━━\u001b[0m \u001b[32m5.3/5.3 MB\u001b[0m \u001b[31m39.5 MB/s\u001b[0m eta \u001b[36m0:00:00\u001b[0m\n",
            "\u001b[?25h  Installing build dependencies ... \u001b[?25l\u001b[?25hdone\n",
            "  Getting requirements to build wheel ... \u001b[?25l\u001b[?25hdone\n",
            "  Preparing metadata (pyproject.toml) ... \u001b[?25l\u001b[?25hdone\n",
            "Requirement already satisfied: numpy>=1.21.0 in /usr/local/lib/python3.12/dist-packages (from pandas==2.0.2) (2.0.2)\n",
            "Requirement already satisfied: python-dateutil>=2.8.2 in /usr/local/lib/python3.12/dist-packages (from pandas==2.0.2) (2.9.0.post0)\n",
            "Requirement already satisfied: pytz>=2020.1 in /usr/local/lib/python3.12/dist-packages (from pandas==2.0.2) (2025.2)\n",
            "Requirement already satisfied: tzdata>=2022.1 in /usr/local/lib/python3.12/dist-packages (from pandas==2.0.2) (2025.2)\n",
            "Requirement already satisfied: six>=1.5 in /usr/local/lib/python3.12/dist-packages (from python-dateutil>=2.8.2->pandas==2.0.2) (1.17.0)\n",
            "Building wheels for collected packages: pandas\n",
            "  Building wheel for pandas (pyproject.toml) ... \u001b[?25l\u001b[?25hcanceled\n",
            "\u001b[31mERROR: Operation cancelled by user\u001b[0m\u001b[31m\n",
            "\u001b[0m"
          ]
        }
      ],
      "source": [
        "!pip install pandas==2.0.2"
      ]
    },
    {
      "cell_type": "code",
      "execution_count": null,
      "metadata": {
        "collapsed": true,
        "id": "fQ2h5qjgO4J9"
      },
      "outputs": [],
      "source": [
        "import pandas"
      ]
    },
    {
      "cell_type": "code",
      "execution_count": 9,
      "metadata": {
        "collapsed": true,
        "id": "SaGxEO5YO4J-"
      },
      "outputs": [],
      "source": [
        "import pandas as pd"
      ]
    },
    {
      "cell_type": "code",
      "execution_count": 10,
      "metadata": {
        "id": "C5JAgwmYO4J-",
        "outputId": "a1742891-e853-4cd6-de33-d30287811b3b",
        "colab": {
          "base_uri": "https://localhost:8080/",
          "height": 36
        }
      },
      "outputs": [
        {
          "output_type": "execute_result",
          "data": {
            "text/plain": [
              "'2.2.2'"
            ],
            "application/vnd.google.colaboratory.intrinsic+json": {
              "type": "string"
            }
          },
          "metadata": {},
          "execution_count": 10
        }
      ],
      "source": [
        "pd.__version__"
      ]
    },
    {
      "cell_type": "code",
      "execution_count": 11,
      "metadata": {
        "id": "n53FOqGY4T64",
        "outputId": "8d42cc9f-29de-4844-e4ce-11a930e1dd06",
        "colab": {
          "base_uri": "https://localhost:8080/"
        }
      },
      "outputs": [
        {
          "output_type": "execute_result",
          "data": {
            "text/plain": [
              "['ArrowDtype',\n",
              " 'BooleanDtype',\n",
              " 'Categorical',\n",
              " 'CategoricalDtype',\n",
              " 'CategoricalIndex',\n",
              " 'DataFrame',\n",
              " 'DateOffset',\n",
              " 'DatetimeIndex',\n",
              " 'DatetimeTZDtype',\n",
              " 'ExcelFile',\n",
              " 'ExcelWriter',\n",
              " 'Flags',\n",
              " 'Float32Dtype',\n",
              " 'Float64Dtype',\n",
              " 'Grouper',\n",
              " 'HDFStore',\n",
              " 'Index',\n",
              " 'IndexSlice',\n",
              " 'Int16Dtype',\n",
              " 'Int32Dtype',\n",
              " 'Int64Dtype',\n",
              " 'Int8Dtype',\n",
              " 'Interval',\n",
              " 'IntervalDtype',\n",
              " 'IntervalIndex',\n",
              " 'MultiIndex',\n",
              " 'NA',\n",
              " 'NaT',\n",
              " 'NamedAgg',\n",
              " 'Period',\n",
              " 'PeriodDtype',\n",
              " 'PeriodIndex',\n",
              " 'RangeIndex',\n",
              " 'Series',\n",
              " 'SparseDtype',\n",
              " 'StringDtype',\n",
              " 'Timedelta',\n",
              " 'TimedeltaIndex',\n",
              " 'Timestamp',\n",
              " 'UInt16Dtype',\n",
              " 'UInt32Dtype',\n",
              " 'UInt64Dtype',\n",
              " 'UInt8Dtype',\n",
              " '__all__',\n",
              " '__builtins__',\n",
              " '__cached__',\n",
              " '__doc__',\n",
              " '__docformat__',\n",
              " '__file__',\n",
              " '__git_version__',\n",
              " '__loader__',\n",
              " '__name__',\n",
              " '__package__',\n",
              " '__path__',\n",
              " '__spec__',\n",
              " '__version__',\n",
              " '_built_with_meson',\n",
              " '_config',\n",
              " '_is_numpy_dev',\n",
              " '_libs',\n",
              " '_pandas_datetime_CAPI',\n",
              " '_pandas_parser_CAPI',\n",
              " '_testing',\n",
              " '_typing',\n",
              " '_version_meson',\n",
              " 'annotations',\n",
              " 'api',\n",
              " 'array',\n",
              " 'arrays',\n",
              " 'bdate_range',\n",
              " 'compat',\n",
              " 'concat',\n",
              " 'core',\n",
              " 'crosstab',\n",
              " 'cut',\n",
              " 'date_range',\n",
              " 'describe_option',\n",
              " 'errors',\n",
              " 'eval',\n",
              " 'factorize',\n",
              " 'from_dummies',\n",
              " 'get_dummies',\n",
              " 'get_option',\n",
              " 'infer_freq',\n",
              " 'interval_range',\n",
              " 'io',\n",
              " 'isna',\n",
              " 'isnull',\n",
              " 'json_normalize',\n",
              " 'lreshape',\n",
              " 'melt',\n",
              " 'merge',\n",
              " 'merge_asof',\n",
              " 'merge_ordered',\n",
              " 'notna',\n",
              " 'notnull',\n",
              " 'offsets',\n",
              " 'option_context',\n",
              " 'options',\n",
              " 'pandas',\n",
              " 'period_range',\n",
              " 'pivot',\n",
              " 'pivot_table',\n",
              " 'plotting',\n",
              " 'qcut',\n",
              " 'read_clipboard',\n",
              " 'read_csv',\n",
              " 'read_excel',\n",
              " 'read_feather',\n",
              " 'read_fwf',\n",
              " 'read_gbq',\n",
              " 'read_hdf',\n",
              " 'read_html',\n",
              " 'read_json',\n",
              " 'read_orc',\n",
              " 'read_parquet',\n",
              " 'read_pickle',\n",
              " 'read_sas',\n",
              " 'read_spss',\n",
              " 'read_sql',\n",
              " 'read_sql_query',\n",
              " 'read_sql_table',\n",
              " 'read_stata',\n",
              " 'read_table',\n",
              " 'read_xml',\n",
              " 'reset_option',\n",
              " 'set_eng_float_format',\n",
              " 'set_option',\n",
              " 'show_versions',\n",
              " 'test',\n",
              " 'testing',\n",
              " 'timedelta_range',\n",
              " 'to_datetime',\n",
              " 'to_numeric',\n",
              " 'to_pickle',\n",
              " 'to_timedelta',\n",
              " 'tseries',\n",
              " 'unique',\n",
              " 'util',\n",
              " 'value_counts',\n",
              " 'wide_to_long']"
            ]
          },
          "metadata": {},
          "execution_count": 11
        }
      ],
      "source": [
        "dir(pd)"
      ]
    },
    {
      "cell_type": "code",
      "execution_count": 12,
      "metadata": {
        "collapsed": true,
        "id": "9-fFPNt1O4J-",
        "outputId": "0cf590a7-c9a4-4ba6-9d6e-13344a5b6963",
        "colab": {
          "base_uri": "https://localhost:8080/"
        }
      },
      "outputs": [
        {
          "output_type": "stream",
          "name": "stdout",
          "text": [
            "Help on function read_csv in module pandas.io.parsers.readers:\n",
            "\n",
            "read_csv(filepath_or_buffer: 'FilePath | ReadCsvBuffer[bytes] | ReadCsvBuffer[str]', *, sep: 'str | None | lib.NoDefault' = <no_default>, delimiter: 'str | None | lib.NoDefault' = None, header: \"int | Sequence[int] | None | Literal['infer']\" = 'infer', names: 'Sequence[Hashable] | None | lib.NoDefault' = <no_default>, index_col: 'IndexLabel | Literal[False] | None' = None, usecols: 'UsecolsArgType' = None, dtype: 'DtypeArg | None' = None, engine: 'CSVEngine | None' = None, converters: 'Mapping[Hashable, Callable] | None' = None, true_values: 'list | None' = None, false_values: 'list | None' = None, skipinitialspace: 'bool' = False, skiprows: 'list[int] | int | Callable[[Hashable], bool] | None' = None, skipfooter: 'int' = 0, nrows: 'int | None' = None, na_values: 'Hashable | Iterable[Hashable] | Mapping[Hashable, Iterable[Hashable]] | None' = None, keep_default_na: 'bool' = True, na_filter: 'bool' = True, verbose: 'bool | lib.NoDefault' = <no_default>, skip_blank_lines: 'bool' = True, parse_dates: 'bool | Sequence[Hashable] | None' = None, infer_datetime_format: 'bool | lib.NoDefault' = <no_default>, keep_date_col: 'bool | lib.NoDefault' = <no_default>, date_parser: 'Callable | lib.NoDefault' = <no_default>, date_format: 'str | dict[Hashable, str] | None' = None, dayfirst: 'bool' = False, cache_dates: 'bool' = True, iterator: 'bool' = False, chunksize: 'int | None' = None, compression: 'CompressionOptions' = 'infer', thousands: 'str | None' = None, decimal: 'str' = '.', lineterminator: 'str | None' = None, quotechar: 'str' = '\"', quoting: 'int' = 0, doublequote: 'bool' = True, escapechar: 'str | None' = None, comment: 'str | None' = None, encoding: 'str | None' = None, encoding_errors: 'str | None' = 'strict', dialect: 'str | csv.Dialect | None' = None, on_bad_lines: 'str' = 'error', delim_whitespace: 'bool | lib.NoDefault' = <no_default>, low_memory: 'bool' = True, memory_map: 'bool' = False, float_precision: \"Literal['high', 'legacy'] | None\" = None, storage_options: 'StorageOptions | None' = None, dtype_backend: 'DtypeBackend | lib.NoDefault' = <no_default>) -> 'DataFrame | TextFileReader'\n",
            "    Read a comma-separated values (csv) file into DataFrame.\n",
            "\n",
            "    Also supports optionally iterating or breaking of the file\n",
            "    into chunks.\n",
            "\n",
            "    Additional help can be found in the online docs for\n",
            "    `IO Tools <https://pandas.pydata.org/pandas-docs/stable/user_guide/io.html>`_.\n",
            "\n",
            "    Parameters\n",
            "    ----------\n",
            "    filepath_or_buffer : str, path object or file-like object\n",
            "        Any valid string path is acceptable. The string could be a URL. Valid\n",
            "        URL schemes include http, ftp, s3, gs, and file. For file URLs, a host is\n",
            "        expected. A local file could be: file://localhost/path/to/table.csv.\n",
            "\n",
            "        If you want to pass in a path object, pandas accepts any ``os.PathLike``.\n",
            "\n",
            "        By file-like object, we refer to objects with a ``read()`` method, such as\n",
            "        a file handle (e.g. via builtin ``open`` function) or ``StringIO``.\n",
            "    sep : str, default ','\n",
            "        Character or regex pattern to treat as the delimiter. If ``sep=None``, the\n",
            "        C engine cannot automatically detect\n",
            "        the separator, but the Python parsing engine can, meaning the latter will\n",
            "        be used and automatically detect the separator from only the first valid\n",
            "        row of the file by Python's builtin sniffer tool, ``csv.Sniffer``.\n",
            "        In addition, separators longer than 1 character and different from\n",
            "        ``'\\s+'`` will be interpreted as regular expressions and will also force\n",
            "        the use of the Python parsing engine. Note that regex delimiters are prone\n",
            "        to ignoring quoted data. Regex example: ``'\\r\\t'``.\n",
            "    delimiter : str, optional\n",
            "        Alias for ``sep``.\n",
            "    header : int, Sequence of int, 'infer' or None, default 'infer'\n",
            "        Row number(s) containing column labels and marking the start of the\n",
            "        data (zero-indexed). Default behavior is to infer the column names: if no ``names``\n",
            "        are passed the behavior is identical to ``header=0`` and column\n",
            "        names are inferred from the first line of the file, if column\n",
            "        names are passed explicitly to ``names`` then the behavior is identical to\n",
            "        ``header=None``. Explicitly pass ``header=0`` to be able to\n",
            "        replace existing names. The header can be a list of integers that\n",
            "        specify row locations for a :class:`~pandas.MultiIndex` on the columns\n",
            "        e.g. ``[0, 1, 3]``. Intervening rows that are not specified will be\n",
            "        skipped (e.g. 2 in this example is skipped). Note that this\n",
            "        parameter ignores commented lines and empty lines if\n",
            "        ``skip_blank_lines=True``, so ``header=0`` denotes the first line of\n",
            "        data rather than the first line of the file.\n",
            "    names : Sequence of Hashable, optional\n",
            "        Sequence of column labels to apply. If the file contains a header row,\n",
            "        then you should explicitly pass ``header=0`` to override the column names.\n",
            "        Duplicates in this list are not allowed.\n",
            "    index_col : Hashable, Sequence of Hashable or False, optional\n",
            "      Column(s) to use as row label(s), denoted either by column labels or column\n",
            "      indices.  If a sequence of labels or indices is given, :class:`~pandas.MultiIndex`\n",
            "      will be formed for the row labels.\n",
            "\n",
            "      Note: ``index_col=False`` can be used to force pandas to *not* use the first\n",
            "      column as the index, e.g., when you have a malformed file with delimiters at\n",
            "      the end of each line.\n",
            "    usecols : Sequence of Hashable or Callable, optional\n",
            "        Subset of columns to select, denoted either by column labels or column indices.\n",
            "        If list-like, all elements must either\n",
            "        be positional (i.e. integer indices into the document columns) or strings\n",
            "        that correspond to column names provided either by the user in ``names`` or\n",
            "        inferred from the document header row(s). If ``names`` are given, the document\n",
            "        header row(s) are not taken into account. For example, a valid list-like\n",
            "        ``usecols`` parameter would be ``[0, 1, 2]`` or ``['foo', 'bar', 'baz']``.\n",
            "        Element order is ignored, so ``usecols=[0, 1]`` is the same as ``[1, 0]``.\n",
            "        To instantiate a :class:`~pandas.DataFrame` from ``data`` with element order\n",
            "        preserved use ``pd.read_csv(data, usecols=['foo', 'bar'])[['foo', 'bar']]``\n",
            "        for columns in ``['foo', 'bar']`` order or\n",
            "        ``pd.read_csv(data, usecols=['foo', 'bar'])[['bar', 'foo']]``\n",
            "        for ``['bar', 'foo']`` order.\n",
            "\n",
            "        If callable, the callable function will be evaluated against the column\n",
            "        names, returning names where the callable function evaluates to ``True``. An\n",
            "        example of a valid callable argument would be ``lambda x: x.upper() in\n",
            "        ['AAA', 'BBB', 'DDD']``. Using this parameter results in much faster\n",
            "        parsing time and lower memory usage.\n",
            "    dtype : dtype or dict of {Hashable : dtype}, optional\n",
            "        Data type(s) to apply to either the whole dataset or individual columns.\n",
            "        E.g., ``{'a': np.float64, 'b': np.int32, 'c': 'Int64'}``\n",
            "        Use ``str`` or ``object`` together with suitable ``na_values`` settings\n",
            "        to preserve and not interpret ``dtype``.\n",
            "        If ``converters`` are specified, they will be applied INSTEAD\n",
            "        of ``dtype`` conversion.\n",
            "\n",
            "        .. versionadded:: 1.5.0\n",
            "\n",
            "            Support for ``defaultdict`` was added. Specify a ``defaultdict`` as input where\n",
            "            the default determines the ``dtype`` of the columns which are not explicitly\n",
            "            listed.\n",
            "    engine : {'c', 'python', 'pyarrow'}, optional\n",
            "        Parser engine to use. The C and pyarrow engines are faster, while the python engine\n",
            "        is currently more feature-complete. Multithreading is currently only supported by\n",
            "        the pyarrow engine.\n",
            "\n",
            "        .. versionadded:: 1.4.0\n",
            "\n",
            "            The 'pyarrow' engine was added as an *experimental* engine, and some features\n",
            "            are unsupported, or may not work correctly, with this engine.\n",
            "    converters : dict of {Hashable : Callable}, optional\n",
            "        Functions for converting values in specified columns. Keys can either\n",
            "        be column labels or column indices.\n",
            "    true_values : list, optional\n",
            "        Values to consider as ``True`` in addition to case-insensitive variants of 'True'.\n",
            "    false_values : list, optional\n",
            "        Values to consider as ``False`` in addition to case-insensitive variants of 'False'.\n",
            "    skipinitialspace : bool, default False\n",
            "        Skip spaces after delimiter.\n",
            "    skiprows : int, list of int or Callable, optional\n",
            "        Line numbers to skip (0-indexed) or number of lines to skip (``int``)\n",
            "        at the start of the file.\n",
            "\n",
            "        If callable, the callable function will be evaluated against the row\n",
            "        indices, returning ``True`` if the row should be skipped and ``False`` otherwise.\n",
            "        An example of a valid callable argument would be ``lambda x: x in [0, 2]``.\n",
            "    skipfooter : int, default 0\n",
            "        Number of lines at bottom of file to skip (Unsupported with ``engine='c'``).\n",
            "    nrows : int, optional\n",
            "        Number of rows of file to read. Useful for reading pieces of large files.\n",
            "    na_values : Hashable, Iterable of Hashable or dict of {Hashable : Iterable}, optional\n",
            "        Additional strings to recognize as ``NA``/``NaN``. If ``dict`` passed, specific\n",
            "        per-column ``NA`` values.  By default the following values are interpreted as\n",
            "        ``NaN``: \" \", \"#N/A\", \"#N/A N/A\", \"#NA\", \"-1.#IND\", \"-1.#QNAN\", \"-NaN\", \"-nan\",\n",
            "        \"1.#IND\", \"1.#QNAN\", \"<NA>\", \"N/A\", \"NA\", \"NULL\", \"NaN\", \"None\",\n",
            "        \"n/a\", \"nan\", \"null \".\n",
            "\n",
            "    keep_default_na : bool, default True\n",
            "        Whether or not to include the default ``NaN`` values when parsing the data.\n",
            "        Depending on whether ``na_values`` is passed in, the behavior is as follows:\n",
            "\n",
            "        * If ``keep_default_na`` is ``True``, and ``na_values`` are specified, ``na_values``\n",
            "          is appended to the default ``NaN`` values used for parsing.\n",
            "        * If ``keep_default_na`` is ``True``, and ``na_values`` are not specified, only\n",
            "          the default ``NaN`` values are used for parsing.\n",
            "        * If ``keep_default_na`` is ``False``, and ``na_values`` are specified, only\n",
            "          the ``NaN`` values specified ``na_values`` are used for parsing.\n",
            "        * If ``keep_default_na`` is ``False``, and ``na_values`` are not specified, no\n",
            "          strings will be parsed as ``NaN``.\n",
            "\n",
            "        Note that if ``na_filter`` is passed in as ``False``, the ``keep_default_na`` and\n",
            "        ``na_values`` parameters will be ignored.\n",
            "    na_filter : bool, default True\n",
            "        Detect missing value markers (empty strings and the value of ``na_values``). In\n",
            "        data without any ``NA`` values, passing ``na_filter=False`` can improve the\n",
            "        performance of reading a large file.\n",
            "    verbose : bool, default False\n",
            "        Indicate number of ``NA`` values placed in non-numeric columns.\n",
            "\n",
            "        .. deprecated:: 2.2.0\n",
            "    skip_blank_lines : bool, default True\n",
            "        If ``True``, skip over blank lines rather than interpreting as ``NaN`` values.\n",
            "    parse_dates : bool, list of Hashable, list of lists or dict of {Hashable : list}, default False\n",
            "        The behavior is as follows:\n",
            "\n",
            "        * ``bool``. If ``True`` -> try parsing the index. Note: Automatically set to\n",
            "          ``True`` if ``date_format`` or ``date_parser`` arguments have been passed.\n",
            "        * ``list`` of ``int`` or names. e.g. If ``[1, 2, 3]`` -> try parsing columns 1, 2, 3\n",
            "          each as a separate date column.\n",
            "        * ``list`` of ``list``. e.g.  If ``[[1, 3]]`` -> combine columns 1 and 3 and parse\n",
            "          as a single date column. Values are joined with a space before parsing.\n",
            "        * ``dict``, e.g. ``{'foo' : [1, 3]}`` -> parse columns 1, 3 as date and call\n",
            "          result 'foo'. Values are joined with a space before parsing.\n",
            "\n",
            "        If a column or index cannot be represented as an array of ``datetime``,\n",
            "        say because of an unparsable value or a mixture of timezones, the column\n",
            "        or index will be returned unaltered as an ``object`` data type. For\n",
            "        non-standard ``datetime`` parsing, use :func:`~pandas.to_datetime` after\n",
            "        :func:`~pandas.read_csv`.\n",
            "\n",
            "        Note: A fast-path exists for iso8601-formatted dates.\n",
            "    infer_datetime_format : bool, default False\n",
            "        If ``True`` and ``parse_dates`` is enabled, pandas will attempt to infer the\n",
            "        format of the ``datetime`` strings in the columns, and if it can be inferred,\n",
            "        switch to a faster method of parsing them. In some cases this can increase\n",
            "        the parsing speed by 5-10x.\n",
            "\n",
            "        .. deprecated:: 2.0.0\n",
            "            A strict version of this argument is now the default, passing it has no effect.\n",
            "\n",
            "    keep_date_col : bool, default False\n",
            "        If ``True`` and ``parse_dates`` specifies combining multiple columns then\n",
            "        keep the original columns.\n",
            "    date_parser : Callable, optional\n",
            "        Function to use for converting a sequence of string columns to an array of\n",
            "        ``datetime`` instances. The default uses ``dateutil.parser.parser`` to do the\n",
            "        conversion. pandas will try to call ``date_parser`` in three different ways,\n",
            "        advancing to the next if an exception occurs: 1) Pass one or more arrays\n",
            "        (as defined by ``parse_dates``) as arguments; 2) concatenate (row-wise) the\n",
            "        string values from the columns defined by ``parse_dates`` into a single array\n",
            "        and pass that; and 3) call ``date_parser`` once for each row using one or\n",
            "        more strings (corresponding to the columns defined by ``parse_dates``) as\n",
            "        arguments.\n",
            "\n",
            "        .. deprecated:: 2.0.0\n",
            "           Use ``date_format`` instead, or read in as ``object`` and then apply\n",
            "           :func:`~pandas.to_datetime` as-needed.\n",
            "    date_format : str or dict of column -> format, optional\n",
            "        Format to use for parsing dates when used in conjunction with ``parse_dates``.\n",
            "        The strftime to parse time, e.g. :const:`\"%d/%m/%Y\"`. See\n",
            "        `strftime documentation\n",
            "        <https://docs.python.org/3/library/datetime.html\n",
            "        #strftime-and-strptime-behavior>`_ for more information on choices, though\n",
            "        note that :const:`\"%f\"` will parse all the way up to nanoseconds.\n",
            "        You can also pass:\n",
            "\n",
            "        - \"ISO8601\", to parse any `ISO8601 <https://en.wikipedia.org/wiki/ISO_8601>`_\n",
            "            time string (not necessarily in exactly the same format);\n",
            "        - \"mixed\", to infer the format for each element individually. This is risky,\n",
            "            and you should probably use it along with `dayfirst`.\n",
            "\n",
            "        .. versionadded:: 2.0.0\n",
            "    dayfirst : bool, default False\n",
            "        DD/MM format dates, international and European format.\n",
            "    cache_dates : bool, default True\n",
            "        If ``True``, use a cache of unique, converted dates to apply the ``datetime``\n",
            "        conversion. May produce significant speed-up when parsing duplicate\n",
            "        date strings, especially ones with timezone offsets.\n",
            "\n",
            "    iterator : bool, default False\n",
            "        Return ``TextFileReader`` object for iteration or getting chunks with\n",
            "        ``get_chunk()``.\n",
            "    chunksize : int, optional\n",
            "        Number of lines to read from the file per chunk. Passing a value will cause the\n",
            "        function to return a ``TextFileReader`` object for iteration.\n",
            "        See the `IO Tools docs\n",
            "        <https://pandas.pydata.org/pandas-docs/stable/io.html#io-chunking>`_\n",
            "        for more information on ``iterator`` and ``chunksize``.\n",
            "\n",
            "    compression : str or dict, default 'infer'\n",
            "        For on-the-fly decompression of on-disk data. If 'infer' and 'filepath_or_buffer' is\n",
            "        path-like, then detect compression from the following extensions: '.gz',\n",
            "        '.bz2', '.zip', '.xz', '.zst', '.tar', '.tar.gz', '.tar.xz' or '.tar.bz2'\n",
            "        (otherwise no compression).\n",
            "        If using 'zip' or 'tar', the ZIP file must contain only one data file to be read in.\n",
            "        Set to ``None`` for no decompression.\n",
            "        Can also be a dict with key ``'method'`` set\n",
            "        to one of {``'zip'``, ``'gzip'``, ``'bz2'``, ``'zstd'``, ``'xz'``, ``'tar'``} and\n",
            "        other key-value pairs are forwarded to\n",
            "        ``zipfile.ZipFile``, ``gzip.GzipFile``,\n",
            "        ``bz2.BZ2File``, ``zstandard.ZstdDecompressor``, ``lzma.LZMAFile`` or\n",
            "        ``tarfile.TarFile``, respectively.\n",
            "        As an example, the following could be passed for Zstandard decompression using a\n",
            "        custom compression dictionary:\n",
            "        ``compression={'method': 'zstd', 'dict_data': my_compression_dict}``.\n",
            "\n",
            "        .. versionadded:: 1.5.0\n",
            "            Added support for `.tar` files.\n",
            "\n",
            "        .. versionchanged:: 1.4.0 Zstandard support.\n",
            "\n",
            "    thousands : str (length 1), optional\n",
            "        Character acting as the thousands separator in numerical values.\n",
            "    decimal : str (length 1), default '.'\n",
            "        Character to recognize as decimal point (e.g., use ',' for European data).\n",
            "    lineterminator : str (length 1), optional\n",
            "        Character used to denote a line break. Only valid with C parser.\n",
            "    quotechar : str (length 1), optional\n",
            "        Character used to denote the start and end of a quoted item. Quoted\n",
            "        items can include the ``delimiter`` and it will be ignored.\n",
            "    quoting : {0 or csv.QUOTE_MINIMAL, 1 or csv.QUOTE_ALL, 2 or csv.QUOTE_NONNUMERIC, 3 or csv.QUOTE_NONE}, default csv.QUOTE_MINIMAL\n",
            "        Control field quoting behavior per ``csv.QUOTE_*`` constants. Default is\n",
            "        ``csv.QUOTE_MINIMAL`` (i.e., 0) which implies that only fields containing special\n",
            "        characters are quoted (e.g., characters defined in ``quotechar``, ``delimiter``,\n",
            "        or ``lineterminator``.\n",
            "    doublequote : bool, default True\n",
            "       When ``quotechar`` is specified and ``quoting`` is not ``QUOTE_NONE``, indicate\n",
            "       whether or not to interpret two consecutive ``quotechar`` elements INSIDE a\n",
            "       field as a single ``quotechar`` element.\n",
            "    escapechar : str (length 1), optional\n",
            "        Character used to escape other characters.\n",
            "    comment : str (length 1), optional\n",
            "        Character indicating that the remainder of line should not be parsed.\n",
            "        If found at the beginning\n",
            "        of a line, the line will be ignored altogether. This parameter must be a\n",
            "        single character. Like empty lines (as long as ``skip_blank_lines=True``),\n",
            "        fully commented lines are ignored by the parameter ``header`` but not by\n",
            "        ``skiprows``. For example, if ``comment='#'``, parsing\n",
            "        ``#empty\\na,b,c\\n1,2,3`` with ``header=0`` will result in ``'a,b,c'`` being\n",
            "        treated as the header.\n",
            "    encoding : str, optional, default 'utf-8'\n",
            "        Encoding to use for UTF when reading/writing (ex. ``'utf-8'``). `List of Python\n",
            "        standard encodings\n",
            "        <https://docs.python.org/3/library/codecs.html#standard-encodings>`_ .\n",
            "\n",
            "    encoding_errors : str, optional, default 'strict'\n",
            "        How encoding errors are treated. `List of possible values\n",
            "        <https://docs.python.org/3/library/codecs.html#error-handlers>`_ .\n",
            "\n",
            "        .. versionadded:: 1.3.0\n",
            "\n",
            "    dialect : str or csv.Dialect, optional\n",
            "        If provided, this parameter will override values (default or not) for the\n",
            "        following parameters: ``delimiter``, ``doublequote``, ``escapechar``,\n",
            "        ``skipinitialspace``, ``quotechar``, and ``quoting``. If it is necessary to\n",
            "        override values, a ``ParserWarning`` will be issued. See ``csv.Dialect``\n",
            "        documentation for more details.\n",
            "    on_bad_lines : {'error', 'warn', 'skip'} or Callable, default 'error'\n",
            "        Specifies what to do upon encountering a bad line (a line with too many fields).\n",
            "        Allowed values are :\n",
            "\n",
            "        - ``'error'``, raise an Exception when a bad line is encountered.\n",
            "        - ``'warn'``, raise a warning when a bad line is encountered and skip that line.\n",
            "        - ``'skip'``, skip bad lines without raising or warning when they are encountered.\n",
            "\n",
            "        .. versionadded:: 1.3.0\n",
            "\n",
            "        .. versionadded:: 1.4.0\n",
            "\n",
            "            - Callable, function with signature\n",
            "              ``(bad_line: list[str]) -> list[str] | None`` that will process a single\n",
            "              bad line. ``bad_line`` is a list of strings split by the ``sep``.\n",
            "              If the function returns ``None``, the bad line will be ignored.\n",
            "              If the function returns a new ``list`` of strings with more elements than\n",
            "              expected, a ``ParserWarning`` will be emitted while dropping extra elements.\n",
            "              Only supported when ``engine='python'``\n",
            "\n",
            "        .. versionchanged:: 2.2.0\n",
            "\n",
            "            - Callable, function with signature\n",
            "              as described in `pyarrow documentation\n",
            "              <https://arrow.apache.org/docs/python/generated/pyarrow.csv.ParseOptions.html\n",
            "              #pyarrow.csv.ParseOptions.invalid_row_handler>`_ when ``engine='pyarrow'``\n",
            "\n",
            "    delim_whitespace : bool, default False\n",
            "        Specifies whether or not whitespace (e.g. ``' '`` or ``'\\t'``) will be\n",
            "        used as the ``sep`` delimiter. Equivalent to setting ``sep='\\s+'``. If this option\n",
            "        is set to ``True``, nothing should be passed in for the ``delimiter``\n",
            "        parameter.\n",
            "\n",
            "        .. deprecated:: 2.2.0\n",
            "            Use ``sep=\"\\s+\"`` instead.\n",
            "    low_memory : bool, default True\n",
            "        Internally process the file in chunks, resulting in lower memory use\n",
            "        while parsing, but possibly mixed type inference.  To ensure no mixed\n",
            "        types either set ``False``, or specify the type with the ``dtype`` parameter.\n",
            "        Note that the entire file is read into a single :class:`~pandas.DataFrame`\n",
            "        regardless, use the ``chunksize`` or ``iterator`` parameter to return the data in\n",
            "        chunks. (Only valid with C parser).\n",
            "    memory_map : bool, default False\n",
            "        If a filepath is provided for ``filepath_or_buffer``, map the file object\n",
            "        directly onto memory and access the data directly from there. Using this\n",
            "        option can improve performance because there is no longer any I/O overhead.\n",
            "    float_precision : {'high', 'legacy', 'round_trip'}, optional\n",
            "        Specifies which converter the C engine should use for floating-point\n",
            "        values. The options are ``None`` or ``'high'`` for the ordinary converter,\n",
            "        ``'legacy'`` for the original lower precision pandas converter, and\n",
            "        ``'round_trip'`` for the round-trip converter.\n",
            "\n",
            "    storage_options : dict, optional\n",
            "        Extra options that make sense for a particular storage connection, e.g.\n",
            "        host, port, username, password, etc. For HTTP(S) URLs the key-value pairs\n",
            "        are forwarded to ``urllib.request.Request`` as header options. For other\n",
            "        URLs (e.g. starting with \"s3://\", and \"gcs://\") the key-value pairs are\n",
            "        forwarded to ``fsspec.open``. Please see ``fsspec`` and ``urllib`` for more\n",
            "        details, and for more examples on storage options refer `here\n",
            "        <https://pandas.pydata.org/docs/user_guide/io.html?\n",
            "        highlight=storage_options#reading-writing-remote-files>`_.\n",
            "\n",
            "    dtype_backend : {'numpy_nullable', 'pyarrow'}, default 'numpy_nullable'\n",
            "        Back-end data type applied to the resultant :class:`DataFrame`\n",
            "        (still experimental). Behaviour is as follows:\n",
            "\n",
            "        * ``\"numpy_nullable\"``: returns nullable-dtype-backed :class:`DataFrame`\n",
            "          (default).\n",
            "        * ``\"pyarrow\"``: returns pyarrow-backed nullable :class:`ArrowDtype`\n",
            "          DataFrame.\n",
            "\n",
            "        .. versionadded:: 2.0\n",
            "\n",
            "    Returns\n",
            "    -------\n",
            "    DataFrame or TextFileReader\n",
            "        A comma-separated values (csv) file is returned as two-dimensional\n",
            "        data structure with labeled axes.\n",
            "\n",
            "    See Also\n",
            "    --------\n",
            "    DataFrame.to_csv : Write DataFrame to a comma-separated values (csv) file.\n",
            "    read_table : Read general delimited file into DataFrame.\n",
            "    read_fwf : Read a table of fixed-width formatted lines into DataFrame.\n",
            "\n",
            "    Examples\n",
            "    --------\n",
            "    >>> pd.read_csv('data.csv')  # doctest: +SKIP\n",
            "\n"
          ]
        }
      ],
      "source": [
        "help(pd.read_csv)"
      ]
    },
    {
      "cell_type": "code",
      "execution_count": 13,
      "metadata": {
        "collapsed": true,
        "id": "_vn0ZFdNO4J-"
      },
      "outputs": [],
      "source": [
        "pd.read_csv?"
      ]
    },
    {
      "cell_type": "code",
      "source": [
        "pd.DataFrame?"
      ],
      "metadata": {
        "id": "qoy1obPmvi85"
      },
      "execution_count": 17,
      "outputs": []
    },
    {
      "cell_type": "markdown",
      "metadata": {
        "id": "43a6ZoJNbemF"
      },
      "source": [
        "Pandas documentation: https://pandas.pydata.org/docs/reference/index.html"
      ]
    },
    {
      "cell_type": "markdown",
      "metadata": {
        "id": "1QP__-BYFIFN"
      },
      "source": [
        "## Reading tabular data into pandas"
      ]
    },
    {
      "cell_type": "code",
      "execution_count": 18,
      "metadata": {
        "id": "JaItBRQ4FlFv",
        "outputId": "16afe113-4dc6-4910-9157-cb88972dec20",
        "colab": {
          "base_uri": "https://localhost:8080/"
        }
      },
      "outputs": [
        {
          "output_type": "stream",
          "name": "stdout",
          "text": [
            "--2025-09-09 04:35:28--  https://github.com/jonfernandes/pandas_essential/raw/main/olympics_1896_2004.csv\n",
            "Resolving github.com (github.com)... 140.82.113.3\n",
            "Connecting to github.com (github.com)|140.82.113.3|:443... connected.\n",
            "HTTP request sent, awaiting response... 302 Found\n",
            "Location: https://raw.githubusercontent.com/jonfernandes/pandas_essential/main/olympics_1896_2004.csv [following]\n",
            "--2025-09-09 04:35:28--  https://raw.githubusercontent.com/jonfernandes/pandas_essential/main/olympics_1896_2004.csv\n",
            "Resolving raw.githubusercontent.com (raw.githubusercontent.com)... 185.199.108.133, 185.199.109.133, 185.199.110.133, ...\n",
            "Connecting to raw.githubusercontent.com (raw.githubusercontent.com)|185.199.108.133|:443... connected.\n",
            "HTTP request sent, awaiting response... 200 OK\n",
            "Length: 2398388 (2.3M) [text/plain]\n",
            "Saving to: ‘olympics_1896_2004.csv’\n",
            "\n",
            "olympics_1896_2004. 100%[===================>]   2.29M  --.-KB/s    in 0.05s   \n",
            "\n",
            "2025-09-09 04:35:29 (42.4 MB/s) - ‘olympics_1896_2004.csv’ saved [2398388/2398388]\n",
            "\n"
          ]
        }
      ],
      "source": [
        "!wget https://github.com/jonfernandes/pandas_essential/raw/main/olympics_1896_2004.csv"
      ]
    },
    {
      "cell_type": "code",
      "source": [
        "from google.colab import files\n",
        "files.upload()"
      ],
      "metadata": {
        "id": "Pelnz4PfgRQ0",
        "outputId": "42fb1c1c-1ff7-49f9-c83c-8b1a02e8b4bd",
        "colab": {
          "base_uri": "https://localhost:8080/",
          "height": 342
        }
      },
      "execution_count": 20,
      "outputs": [
        {
          "output_type": "display_data",
          "data": {
            "text/plain": [
              "<IPython.core.display.HTML object>"
            ],
            "text/html": [
              "\n",
              "     <input type=\"file\" id=\"files-750a8a94-c97d-4b91-8658-feabc2b06e84\" name=\"files[]\" multiple disabled\n",
              "        style=\"border:none\" />\n",
              "     <output id=\"result-750a8a94-c97d-4b91-8658-feabc2b06e84\">\n",
              "      Upload widget is only available when the cell has been executed in the\n",
              "      current browser session. Please rerun this cell to enable.\n",
              "      </output>\n",
              "      <script>// Copyright 2017 Google LLC\n",
              "//\n",
              "// Licensed under the Apache License, Version 2.0 (the \"License\");\n",
              "// you may not use this file except in compliance with the License.\n",
              "// You may obtain a copy of the License at\n",
              "//\n",
              "//      http://www.apache.org/licenses/LICENSE-2.0\n",
              "//\n",
              "// Unless required by applicable law or agreed to in writing, software\n",
              "// distributed under the License is distributed on an \"AS IS\" BASIS,\n",
              "// WITHOUT WARRANTIES OR CONDITIONS OF ANY KIND, either express or implied.\n",
              "// See the License for the specific language governing permissions and\n",
              "// limitations under the License.\n",
              "\n",
              "/**\n",
              " * @fileoverview Helpers for google.colab Python module.\n",
              " */\n",
              "(function(scope) {\n",
              "function span(text, styleAttributes = {}) {\n",
              "  const element = document.createElement('span');\n",
              "  element.textContent = text;\n",
              "  for (const key of Object.keys(styleAttributes)) {\n",
              "    element.style[key] = styleAttributes[key];\n",
              "  }\n",
              "  return element;\n",
              "}\n",
              "\n",
              "// Max number of bytes which will be uploaded at a time.\n",
              "const MAX_PAYLOAD_SIZE = 100 * 1024;\n",
              "\n",
              "function _uploadFiles(inputId, outputId) {\n",
              "  const steps = uploadFilesStep(inputId, outputId);\n",
              "  const outputElement = document.getElementById(outputId);\n",
              "  // Cache steps on the outputElement to make it available for the next call\n",
              "  // to uploadFilesContinue from Python.\n",
              "  outputElement.steps = steps;\n",
              "\n",
              "  return _uploadFilesContinue(outputId);\n",
              "}\n",
              "\n",
              "// This is roughly an async generator (not supported in the browser yet),\n",
              "// where there are multiple asynchronous steps and the Python side is going\n",
              "// to poll for completion of each step.\n",
              "// This uses a Promise to block the python side on completion of each step,\n",
              "// then passes the result of the previous step as the input to the next step.\n",
              "function _uploadFilesContinue(outputId) {\n",
              "  const outputElement = document.getElementById(outputId);\n",
              "  const steps = outputElement.steps;\n",
              "\n",
              "  const next = steps.next(outputElement.lastPromiseValue);\n",
              "  return Promise.resolve(next.value.promise).then((value) => {\n",
              "    // Cache the last promise value to make it available to the next\n",
              "    // step of the generator.\n",
              "    outputElement.lastPromiseValue = value;\n",
              "    return next.value.response;\n",
              "  });\n",
              "}\n",
              "\n",
              "/**\n",
              " * Generator function which is called between each async step of the upload\n",
              " * process.\n",
              " * @param {string} inputId Element ID of the input file picker element.\n",
              " * @param {string} outputId Element ID of the output display.\n",
              " * @return {!Iterable<!Object>} Iterable of next steps.\n",
              " */\n",
              "function* uploadFilesStep(inputId, outputId) {\n",
              "  const inputElement = document.getElementById(inputId);\n",
              "  inputElement.disabled = false;\n",
              "\n",
              "  const outputElement = document.getElementById(outputId);\n",
              "  outputElement.innerHTML = '';\n",
              "\n",
              "  const pickedPromise = new Promise((resolve) => {\n",
              "    inputElement.addEventListener('change', (e) => {\n",
              "      resolve(e.target.files);\n",
              "    });\n",
              "  });\n",
              "\n",
              "  const cancel = document.createElement('button');\n",
              "  inputElement.parentElement.appendChild(cancel);\n",
              "  cancel.textContent = 'Cancel upload';\n",
              "  const cancelPromise = new Promise((resolve) => {\n",
              "    cancel.onclick = () => {\n",
              "      resolve(null);\n",
              "    };\n",
              "  });\n",
              "\n",
              "  // Wait for the user to pick the files.\n",
              "  const files = yield {\n",
              "    promise: Promise.race([pickedPromise, cancelPromise]),\n",
              "    response: {\n",
              "      action: 'starting',\n",
              "    }\n",
              "  };\n",
              "\n",
              "  cancel.remove();\n",
              "\n",
              "  // Disable the input element since further picks are not allowed.\n",
              "  inputElement.disabled = true;\n",
              "\n",
              "  if (!files) {\n",
              "    return {\n",
              "      response: {\n",
              "        action: 'complete',\n",
              "      }\n",
              "    };\n",
              "  }\n",
              "\n",
              "  for (const file of files) {\n",
              "    const li = document.createElement('li');\n",
              "    li.append(span(file.name, {fontWeight: 'bold'}));\n",
              "    li.append(span(\n",
              "        `(${file.type || 'n/a'}) - ${file.size} bytes, ` +\n",
              "        `last modified: ${\n",
              "            file.lastModifiedDate ? file.lastModifiedDate.toLocaleDateString() :\n",
              "                                    'n/a'} - `));\n",
              "    const percent = span('0% done');\n",
              "    li.appendChild(percent);\n",
              "\n",
              "    outputElement.appendChild(li);\n",
              "\n",
              "    const fileDataPromise = new Promise((resolve) => {\n",
              "      const reader = new FileReader();\n",
              "      reader.onload = (e) => {\n",
              "        resolve(e.target.result);\n",
              "      };\n",
              "      reader.readAsArrayBuffer(file);\n",
              "    });\n",
              "    // Wait for the data to be ready.\n",
              "    let fileData = yield {\n",
              "      promise: fileDataPromise,\n",
              "      response: {\n",
              "        action: 'continue',\n",
              "      }\n",
              "    };\n",
              "\n",
              "    // Use a chunked sending to avoid message size limits. See b/62115660.\n",
              "    let position = 0;\n",
              "    do {\n",
              "      const length = Math.min(fileData.byteLength - position, MAX_PAYLOAD_SIZE);\n",
              "      const chunk = new Uint8Array(fileData, position, length);\n",
              "      position += length;\n",
              "\n",
              "      const base64 = btoa(String.fromCharCode.apply(null, chunk));\n",
              "      yield {\n",
              "        response: {\n",
              "          action: 'append',\n",
              "          file: file.name,\n",
              "          data: base64,\n",
              "        },\n",
              "      };\n",
              "\n",
              "      let percentDone = fileData.byteLength === 0 ?\n",
              "          100 :\n",
              "          Math.round((position / fileData.byteLength) * 100);\n",
              "      percent.textContent = `${percentDone}% done`;\n",
              "\n",
              "    } while (position < fileData.byteLength);\n",
              "  }\n",
              "\n",
              "  // All done.\n",
              "  yield {\n",
              "    response: {\n",
              "      action: 'complete',\n",
              "    }\n",
              "  };\n",
              "}\n",
              "\n",
              "scope.google = scope.google || {};\n",
              "scope.google.colab = scope.google.colab || {};\n",
              "scope.google.colab._files = {\n",
              "  _uploadFiles,\n",
              "  _uploadFilesContinue,\n",
              "};\n",
              "})(self);\n",
              "</script> "
            ]
          },
          "metadata": {}
        },
        {
          "output_type": "error",
          "ename": "KeyboardInterrupt",
          "evalue": "",
          "traceback": [
            "\u001b[0;31m---------------------------------------------------------------------------\u001b[0m",
            "\u001b[0;31mKeyboardInterrupt\u001b[0m                         Traceback (most recent call last)",
            "\u001b[0;32m/tmp/ipython-input-1613494533.py\u001b[0m in \u001b[0;36m<cell line: 0>\u001b[0;34m()\u001b[0m\n\u001b[1;32m      1\u001b[0m \u001b[0;32mfrom\u001b[0m \u001b[0mgoogle\u001b[0m\u001b[0;34m.\u001b[0m\u001b[0mcolab\u001b[0m \u001b[0;32mimport\u001b[0m \u001b[0mfiles\u001b[0m\u001b[0;34m\u001b[0m\u001b[0;34m\u001b[0m\u001b[0m\n\u001b[0;32m----> 2\u001b[0;31m \u001b[0mfiles\u001b[0m\u001b[0;34m.\u001b[0m\u001b[0mupload\u001b[0m\u001b[0;34m(\u001b[0m\u001b[0;34m)\u001b[0m\u001b[0;34m\u001b[0m\u001b[0;34m\u001b[0m\u001b[0m\n\u001b[0m",
            "\u001b[0;32m/usr/local/lib/python3.12/dist-packages/google/colab/files.py\u001b[0m in \u001b[0;36mupload\u001b[0;34m(target_dir)\u001b[0m\n\u001b[1;32m     70\u001b[0m   \"\"\"\n\u001b[1;32m     71\u001b[0m \u001b[0;34m\u001b[0m\u001b[0m\n\u001b[0;32m---> 72\u001b[0;31m   \u001b[0muploaded_files\u001b[0m \u001b[0;34m=\u001b[0m \u001b[0m_upload_files\u001b[0m\u001b[0;34m(\u001b[0m\u001b[0mmultiple\u001b[0m\u001b[0;34m=\u001b[0m\u001b[0;32mTrue\u001b[0m\u001b[0;34m)\u001b[0m\u001b[0;34m\u001b[0m\u001b[0;34m\u001b[0m\u001b[0m\n\u001b[0m\u001b[1;32m     73\u001b[0m   \u001b[0;31m# Mapping from original filename to filename as saved locally.\u001b[0m\u001b[0;34m\u001b[0m\u001b[0;34m\u001b[0m\u001b[0m\n\u001b[1;32m     74\u001b[0m   \u001b[0mlocal_filenames\u001b[0m \u001b[0;34m=\u001b[0m \u001b[0mdict\u001b[0m\u001b[0;34m(\u001b[0m\u001b[0;34m)\u001b[0m\u001b[0;34m\u001b[0m\u001b[0;34m\u001b[0m\u001b[0m\n",
            "\u001b[0;32m/usr/local/lib/python3.12/dist-packages/google/colab/files.py\u001b[0m in \u001b[0;36m_upload_files\u001b[0;34m(multiple)\u001b[0m\n\u001b[1;32m    162\u001b[0m \u001b[0;34m\u001b[0m\u001b[0m\n\u001b[1;32m    163\u001b[0m   \u001b[0;31m# First result is always an indication that the file picker has completed.\u001b[0m\u001b[0;34m\u001b[0m\u001b[0;34m\u001b[0m\u001b[0m\n\u001b[0;32m--> 164\u001b[0;31m   result = _output.eval_js(\n\u001b[0m\u001b[1;32m    165\u001b[0m       'google.colab._files._uploadFiles(\"{input_id}\", \"{output_id}\")'.format(\n\u001b[1;32m    166\u001b[0m           \u001b[0minput_id\u001b[0m\u001b[0;34m=\u001b[0m\u001b[0minput_id\u001b[0m\u001b[0;34m,\u001b[0m \u001b[0moutput_id\u001b[0m\u001b[0;34m=\u001b[0m\u001b[0moutput_id\u001b[0m\u001b[0;34m\u001b[0m\u001b[0;34m\u001b[0m\u001b[0m\n",
            "\u001b[0;32m/usr/local/lib/python3.12/dist-packages/google/colab/output/_js.py\u001b[0m in \u001b[0;36meval_js\u001b[0;34m(script, ignore_result, timeout_sec)\u001b[0m\n\u001b[1;32m     38\u001b[0m   \u001b[0;32mif\u001b[0m \u001b[0mignore_result\u001b[0m\u001b[0;34m:\u001b[0m\u001b[0;34m\u001b[0m\u001b[0;34m\u001b[0m\u001b[0m\n\u001b[1;32m     39\u001b[0m     \u001b[0;32mreturn\u001b[0m\u001b[0;34m\u001b[0m\u001b[0;34m\u001b[0m\u001b[0m\n\u001b[0;32m---> 40\u001b[0;31m   \u001b[0;32mreturn\u001b[0m \u001b[0m_message\u001b[0m\u001b[0;34m.\u001b[0m\u001b[0mread_reply_from_input\u001b[0m\u001b[0;34m(\u001b[0m\u001b[0mrequest_id\u001b[0m\u001b[0;34m,\u001b[0m \u001b[0mtimeout_sec\u001b[0m\u001b[0;34m)\u001b[0m\u001b[0;34m\u001b[0m\u001b[0;34m\u001b[0m\u001b[0m\n\u001b[0m\u001b[1;32m     41\u001b[0m \u001b[0;34m\u001b[0m\u001b[0m\n\u001b[1;32m     42\u001b[0m \u001b[0;34m\u001b[0m\u001b[0m\n",
            "\u001b[0;32m/usr/local/lib/python3.12/dist-packages/google/colab/_message.py\u001b[0m in \u001b[0;36mread_reply_from_input\u001b[0;34m(message_id, timeout_sec)\u001b[0m\n\u001b[1;32m     94\u001b[0m     \u001b[0mreply\u001b[0m \u001b[0;34m=\u001b[0m \u001b[0m_read_next_input_message\u001b[0m\u001b[0;34m(\u001b[0m\u001b[0;34m)\u001b[0m\u001b[0;34m\u001b[0m\u001b[0;34m\u001b[0m\u001b[0m\n\u001b[1;32m     95\u001b[0m     \u001b[0;32mif\u001b[0m \u001b[0mreply\u001b[0m \u001b[0;34m==\u001b[0m \u001b[0m_NOT_READY\u001b[0m \u001b[0;32mor\u001b[0m \u001b[0;32mnot\u001b[0m \u001b[0misinstance\u001b[0m\u001b[0;34m(\u001b[0m\u001b[0mreply\u001b[0m\u001b[0;34m,\u001b[0m \u001b[0mdict\u001b[0m\u001b[0;34m)\u001b[0m\u001b[0;34m:\u001b[0m\u001b[0;34m\u001b[0m\u001b[0;34m\u001b[0m\u001b[0m\n\u001b[0;32m---> 96\u001b[0;31m       \u001b[0mtime\u001b[0m\u001b[0;34m.\u001b[0m\u001b[0msleep\u001b[0m\u001b[0;34m(\u001b[0m\u001b[0;36m0.025\u001b[0m\u001b[0;34m)\u001b[0m\u001b[0;34m\u001b[0m\u001b[0;34m\u001b[0m\u001b[0m\n\u001b[0m\u001b[1;32m     97\u001b[0m       \u001b[0;32mcontinue\u001b[0m\u001b[0;34m\u001b[0m\u001b[0;34m\u001b[0m\u001b[0m\n\u001b[1;32m     98\u001b[0m     if (\n",
            "\u001b[0;31mKeyboardInterrupt\u001b[0m: "
          ]
        }
      ]
    },
    {
      "cell_type": "code",
      "execution_count": 21,
      "metadata": {
        "id": "uYdq9LXLFlFv",
        "outputId": "b18bbd76-195f-41b2-9cc5-dc840184812e",
        "colab": {
          "base_uri": "https://localhost:8080/"
        }
      },
      "outputs": [
        {
          "output_type": "stream",
          "name": "stdout",
          "text": [
            "total 2360\n",
            "drwxr-xr-x 1 root root    4096 Sep  9 04:35 .\n",
            "drwxr-xr-x 1 root root    4096 Sep  9 03:52 ..\n",
            "drwxr-xr-x 4 root root    4096 Sep  5 13:35 .config\n",
            "-rw-r--r-- 1 root root 2398388 Sep  9 04:35 olympics_1896_2004.csv\n",
            "drwxr-xr-x 1 root root    4096 Sep  5 13:36 sample_data\n"
          ]
        }
      ],
      "source": [
        "!ls -la"
      ]
    },
    {
      "cell_type": "code",
      "source": [
        "pd.read_csv?"
      ],
      "metadata": {
        "id": "Mk90BrMQg38E"
      },
      "execution_count": null,
      "outputs": []
    },
    {
      "cell_type": "code",
      "execution_count": null,
      "metadata": {
        "id": "psxZiLijFuga"
      },
      "outputs": [],
      "source": [
        "pd.read_csv('olympics_1896_2004.csv')"
      ]
    },
    {
      "cell_type": "code",
      "source": [
        "pd.read_csv(filepath_or_buffer='olympics_1896_2004.csv')"
      ],
      "metadata": {
        "id": "VB9FV0fahAcN"
      },
      "execution_count": null,
      "outputs": []
    },
    {
      "cell_type": "code",
      "execution_count": 22,
      "metadata": {
        "id": "zk_3a5XhFlFv",
        "outputId": "7ad96685-1ed5-44a1-b64e-a4d3c47b4583",
        "colab": {
          "base_uri": "https://localhost:8080/",
          "height": 964
        }
      },
      "outputs": [
        {
          "output_type": "execute_result",
          "data": {
            "text/plain": [
              "      This is a list of medallists at the Summer Olympic Games (1896-2004) with details of the year of the olympics, city, sport, discipline, athlete name, gender, event and medal  \\\n",
              "0                                                    NaN                                                                                                                              \n",
              "1      DISCLAIMER: No guarantees, express or implied,...                                                                                                                              \n",
              "2                                                    NaN                                                                                                                              \n",
              "3                                                    NaN                                                                                                                              \n",
              "4                                                   Year                                                                                                                              \n",
              "...                                                  ...                                                                                                                              \n",
              "27174                                               2004                                                                                                                              \n",
              "27175                                               2004                                                                                                                              \n",
              "27176                                               2004                                                                                                                              \n",
              "27177                                               2004                                                                                                                              \n",
              "27178                                               2004                                                                                                                              \n",
              "\n",
              "      Unnamed: 1 Unnamed: 2  Unnamed: 3          Unnamed: 4 Unnamed: 5  \\\n",
              "0            NaN        NaN         NaN                 NaN        NaN   \n",
              "1            NaN        NaN         NaN                 NaN        NaN   \n",
              "2            NaN        NaN         NaN                 NaN        NaN   \n",
              "3            NaN        NaN         NaN                 NaN        NaN   \n",
              "4           City      Sport  Discipline        Athlete Name        NOC   \n",
              "...          ...        ...         ...                 ...        ...   \n",
              "27174     Athens    Fencing     Fencing  LOGOUNOVA, Tatiana        RUS   \n",
              "27175     Athens    Fencing     Fencing       SIVKOVA, Anna        RUS   \n",
              "27176     Athens    Fencing     Fencing      BOKEL, Claudia        GER   \n",
              "27177     Athens    Fencing     Fencing     DUPLITZER, Imke        GER   \n",
              "27178     Athens    Fencing     Fencing   HEIDEMANN, Britta        GER   \n",
              "\n",
              "      Unnamed: 6 Unnamed: 7    Unnamed: 8 Unnamed: 9 Unnamed: 10  \n",
              "0            NaN        NaN           NaN        NaN         NaN  \n",
              "1            NaN        NaN           NaN        NaN         NaN  \n",
              "2            NaN        NaN           NaN        NaN         NaN  \n",
              "3            NaN        NaN           NaN        NaN         NaN  \n",
              "4         Gender      Event  Event Gender      Medal    Position  \n",
              "...          ...        ...           ...        ...         ...  \n",
              "27174      Women  épée team             W       Gold           1  \n",
              "27175      Women  épée team             W       Gold           1  \n",
              "27176      Women  épée team             W     Silver           2  \n",
              "27177      Women  épée team             W     Silver           2  \n",
              "27178      Women  épée team             W     Silver           2  \n",
              "\n",
              "[27179 rows x 11 columns]"
            ],
            "text/html": [
              "\n",
              "  <div id=\"df-103909cf-4464-46ca-a960-58736901affc\" class=\"colab-df-container\">\n",
              "    <div>\n",
              "<style scoped>\n",
              "    .dataframe tbody tr th:only-of-type {\n",
              "        vertical-align: middle;\n",
              "    }\n",
              "\n",
              "    .dataframe tbody tr th {\n",
              "        vertical-align: top;\n",
              "    }\n",
              "\n",
              "    .dataframe thead th {\n",
              "        text-align: right;\n",
              "    }\n",
              "</style>\n",
              "<table border=\"1\" class=\"dataframe\">\n",
              "  <thead>\n",
              "    <tr style=\"text-align: right;\">\n",
              "      <th></th>\n",
              "      <th>This is a list of medallists at the Summer Olympic Games (1896-2004) with details of the year of the olympics, city, sport, discipline, athlete name, gender, event and medal</th>\n",
              "      <th>Unnamed: 1</th>\n",
              "      <th>Unnamed: 2</th>\n",
              "      <th>Unnamed: 3</th>\n",
              "      <th>Unnamed: 4</th>\n",
              "      <th>Unnamed: 5</th>\n",
              "      <th>Unnamed: 6</th>\n",
              "      <th>Unnamed: 7</th>\n",
              "      <th>Unnamed: 8</th>\n",
              "      <th>Unnamed: 9</th>\n",
              "      <th>Unnamed: 10</th>\n",
              "    </tr>\n",
              "  </thead>\n",
              "  <tbody>\n",
              "    <tr>\n",
              "      <th>0</th>\n",
              "      <td>NaN</td>\n",
              "      <td>NaN</td>\n",
              "      <td>NaN</td>\n",
              "      <td>NaN</td>\n",
              "      <td>NaN</td>\n",
              "      <td>NaN</td>\n",
              "      <td>NaN</td>\n",
              "      <td>NaN</td>\n",
              "      <td>NaN</td>\n",
              "      <td>NaN</td>\n",
              "      <td>NaN</td>\n",
              "    </tr>\n",
              "    <tr>\n",
              "      <th>1</th>\n",
              "      <td>DISCLAIMER: No guarantees, express or implied,...</td>\n",
              "      <td>NaN</td>\n",
              "      <td>NaN</td>\n",
              "      <td>NaN</td>\n",
              "      <td>NaN</td>\n",
              "      <td>NaN</td>\n",
              "      <td>NaN</td>\n",
              "      <td>NaN</td>\n",
              "      <td>NaN</td>\n",
              "      <td>NaN</td>\n",
              "      <td>NaN</td>\n",
              "    </tr>\n",
              "    <tr>\n",
              "      <th>2</th>\n",
              "      <td>NaN</td>\n",
              "      <td>NaN</td>\n",
              "      <td>NaN</td>\n",
              "      <td>NaN</td>\n",
              "      <td>NaN</td>\n",
              "      <td>NaN</td>\n",
              "      <td>NaN</td>\n",
              "      <td>NaN</td>\n",
              "      <td>NaN</td>\n",
              "      <td>NaN</td>\n",
              "      <td>NaN</td>\n",
              "    </tr>\n",
              "    <tr>\n",
              "      <th>3</th>\n",
              "      <td>NaN</td>\n",
              "      <td>NaN</td>\n",
              "      <td>NaN</td>\n",
              "      <td>NaN</td>\n",
              "      <td>NaN</td>\n",
              "      <td>NaN</td>\n",
              "      <td>NaN</td>\n",
              "      <td>NaN</td>\n",
              "      <td>NaN</td>\n",
              "      <td>NaN</td>\n",
              "      <td>NaN</td>\n",
              "    </tr>\n",
              "    <tr>\n",
              "      <th>4</th>\n",
              "      <td>Year</td>\n",
              "      <td>City</td>\n",
              "      <td>Sport</td>\n",
              "      <td>Discipline</td>\n",
              "      <td>Athlete Name</td>\n",
              "      <td>NOC</td>\n",
              "      <td>Gender</td>\n",
              "      <td>Event</td>\n",
              "      <td>Event Gender</td>\n",
              "      <td>Medal</td>\n",
              "      <td>Position</td>\n",
              "    </tr>\n",
              "    <tr>\n",
              "      <th>...</th>\n",
              "      <td>...</td>\n",
              "      <td>...</td>\n",
              "      <td>...</td>\n",
              "      <td>...</td>\n",
              "      <td>...</td>\n",
              "      <td>...</td>\n",
              "      <td>...</td>\n",
              "      <td>...</td>\n",
              "      <td>...</td>\n",
              "      <td>...</td>\n",
              "      <td>...</td>\n",
              "    </tr>\n",
              "    <tr>\n",
              "      <th>27174</th>\n",
              "      <td>2004</td>\n",
              "      <td>Athens</td>\n",
              "      <td>Fencing</td>\n",
              "      <td>Fencing</td>\n",
              "      <td>LOGOUNOVA, Tatiana</td>\n",
              "      <td>RUS</td>\n",
              "      <td>Women</td>\n",
              "      <td>épée team</td>\n",
              "      <td>W</td>\n",
              "      <td>Gold</td>\n",
              "      <td>1</td>\n",
              "    </tr>\n",
              "    <tr>\n",
              "      <th>27175</th>\n",
              "      <td>2004</td>\n",
              "      <td>Athens</td>\n",
              "      <td>Fencing</td>\n",
              "      <td>Fencing</td>\n",
              "      <td>SIVKOVA, Anna</td>\n",
              "      <td>RUS</td>\n",
              "      <td>Women</td>\n",
              "      <td>épée team</td>\n",
              "      <td>W</td>\n",
              "      <td>Gold</td>\n",
              "      <td>1</td>\n",
              "    </tr>\n",
              "    <tr>\n",
              "      <th>27176</th>\n",
              "      <td>2004</td>\n",
              "      <td>Athens</td>\n",
              "      <td>Fencing</td>\n",
              "      <td>Fencing</td>\n",
              "      <td>BOKEL, Claudia</td>\n",
              "      <td>GER</td>\n",
              "      <td>Women</td>\n",
              "      <td>épée team</td>\n",
              "      <td>W</td>\n",
              "      <td>Silver</td>\n",
              "      <td>2</td>\n",
              "    </tr>\n",
              "    <tr>\n",
              "      <th>27177</th>\n",
              "      <td>2004</td>\n",
              "      <td>Athens</td>\n",
              "      <td>Fencing</td>\n",
              "      <td>Fencing</td>\n",
              "      <td>DUPLITZER, Imke</td>\n",
              "      <td>GER</td>\n",
              "      <td>Women</td>\n",
              "      <td>épée team</td>\n",
              "      <td>W</td>\n",
              "      <td>Silver</td>\n",
              "      <td>2</td>\n",
              "    </tr>\n",
              "    <tr>\n",
              "      <th>27178</th>\n",
              "      <td>2004</td>\n",
              "      <td>Athens</td>\n",
              "      <td>Fencing</td>\n",
              "      <td>Fencing</td>\n",
              "      <td>HEIDEMANN, Britta</td>\n",
              "      <td>GER</td>\n",
              "      <td>Women</td>\n",
              "      <td>épée team</td>\n",
              "      <td>W</td>\n",
              "      <td>Silver</td>\n",
              "      <td>2</td>\n",
              "    </tr>\n",
              "  </tbody>\n",
              "</table>\n",
              "<p>27179 rows × 11 columns</p>\n",
              "</div>\n",
              "    <div class=\"colab-df-buttons\">\n",
              "\n",
              "  <div class=\"colab-df-container\">\n",
              "    <button class=\"colab-df-convert\" onclick=\"convertToInteractive('df-103909cf-4464-46ca-a960-58736901affc')\"\n",
              "            title=\"Convert this dataframe to an interactive table.\"\n",
              "            style=\"display:none;\">\n",
              "\n",
              "  <svg xmlns=\"http://www.w3.org/2000/svg\" height=\"24px\" viewBox=\"0 -960 960 960\">\n",
              "    <path d=\"M120-120v-720h720v720H120Zm60-500h600v-160H180v160Zm220 220h160v-160H400v160Zm0 220h160v-160H400v160ZM180-400h160v-160H180v160Zm440 0h160v-160H620v160ZM180-180h160v-160H180v160Zm440 0h160v-160H620v160Z\"/>\n",
              "  </svg>\n",
              "    </button>\n",
              "\n",
              "  <style>\n",
              "    .colab-df-container {\n",
              "      display:flex;\n",
              "      gap: 12px;\n",
              "    }\n",
              "\n",
              "    .colab-df-convert {\n",
              "      background-color: #E8F0FE;\n",
              "      border: none;\n",
              "      border-radius: 50%;\n",
              "      cursor: pointer;\n",
              "      display: none;\n",
              "      fill: #1967D2;\n",
              "      height: 32px;\n",
              "      padding: 0 0 0 0;\n",
              "      width: 32px;\n",
              "    }\n",
              "\n",
              "    .colab-df-convert:hover {\n",
              "      background-color: #E2EBFA;\n",
              "      box-shadow: 0px 1px 2px rgba(60, 64, 67, 0.3), 0px 1px 3px 1px rgba(60, 64, 67, 0.15);\n",
              "      fill: #174EA6;\n",
              "    }\n",
              "\n",
              "    .colab-df-buttons div {\n",
              "      margin-bottom: 4px;\n",
              "    }\n",
              "\n",
              "    [theme=dark] .colab-df-convert {\n",
              "      background-color: #3B4455;\n",
              "      fill: #D2E3FC;\n",
              "    }\n",
              "\n",
              "    [theme=dark] .colab-df-convert:hover {\n",
              "      background-color: #434B5C;\n",
              "      box-shadow: 0px 1px 3px 1px rgba(0, 0, 0, 0.15);\n",
              "      filter: drop-shadow(0px 1px 2px rgba(0, 0, 0, 0.3));\n",
              "      fill: #FFFFFF;\n",
              "    }\n",
              "  </style>\n",
              "\n",
              "    <script>\n",
              "      const buttonEl =\n",
              "        document.querySelector('#df-103909cf-4464-46ca-a960-58736901affc button.colab-df-convert');\n",
              "      buttonEl.style.display =\n",
              "        google.colab.kernel.accessAllowed ? 'block' : 'none';\n",
              "\n",
              "      async function convertToInteractive(key) {\n",
              "        const element = document.querySelector('#df-103909cf-4464-46ca-a960-58736901affc');\n",
              "        const dataTable =\n",
              "          await google.colab.kernel.invokeFunction('convertToInteractive',\n",
              "                                                    [key], {});\n",
              "        if (!dataTable) return;\n",
              "\n",
              "        const docLinkHtml = 'Like what you see? Visit the ' +\n",
              "          '<a target=\"_blank\" href=https://colab.research.google.com/notebooks/data_table.ipynb>data table notebook</a>'\n",
              "          + ' to learn more about interactive tables.';\n",
              "        element.innerHTML = '';\n",
              "        dataTable['output_type'] = 'display_data';\n",
              "        await google.colab.output.renderOutput(dataTable, element);\n",
              "        const docLink = document.createElement('div');\n",
              "        docLink.innerHTML = docLinkHtml;\n",
              "        element.appendChild(docLink);\n",
              "      }\n",
              "    </script>\n",
              "  </div>\n",
              "\n",
              "\n",
              "    <div id=\"df-c4bec20c-3c7c-4adb-a494-4db7a662c6e9\">\n",
              "      <button class=\"colab-df-quickchart\" onclick=\"quickchart('df-c4bec20c-3c7c-4adb-a494-4db7a662c6e9')\"\n",
              "                title=\"Suggest charts\"\n",
              "                style=\"display:none;\">\n",
              "\n",
              "<svg xmlns=\"http://www.w3.org/2000/svg\" height=\"24px\"viewBox=\"0 0 24 24\"\n",
              "     width=\"24px\">\n",
              "    <g>\n",
              "        <path d=\"M19 3H5c-1.1 0-2 .9-2 2v14c0 1.1.9 2 2 2h14c1.1 0 2-.9 2-2V5c0-1.1-.9-2-2-2zM9 17H7v-7h2v7zm4 0h-2V7h2v10zm4 0h-2v-4h2v4z\"/>\n",
              "    </g>\n",
              "</svg>\n",
              "      </button>\n",
              "\n",
              "<style>\n",
              "  .colab-df-quickchart {\n",
              "      --bg-color: #E8F0FE;\n",
              "      --fill-color: #1967D2;\n",
              "      --hover-bg-color: #E2EBFA;\n",
              "      --hover-fill-color: #174EA6;\n",
              "      --disabled-fill-color: #AAA;\n",
              "      --disabled-bg-color: #DDD;\n",
              "  }\n",
              "\n",
              "  [theme=dark] .colab-df-quickchart {\n",
              "      --bg-color: #3B4455;\n",
              "      --fill-color: #D2E3FC;\n",
              "      --hover-bg-color: #434B5C;\n",
              "      --hover-fill-color: #FFFFFF;\n",
              "      --disabled-bg-color: #3B4455;\n",
              "      --disabled-fill-color: #666;\n",
              "  }\n",
              "\n",
              "  .colab-df-quickchart {\n",
              "    background-color: var(--bg-color);\n",
              "    border: none;\n",
              "    border-radius: 50%;\n",
              "    cursor: pointer;\n",
              "    display: none;\n",
              "    fill: var(--fill-color);\n",
              "    height: 32px;\n",
              "    padding: 0;\n",
              "    width: 32px;\n",
              "  }\n",
              "\n",
              "  .colab-df-quickchart:hover {\n",
              "    background-color: var(--hover-bg-color);\n",
              "    box-shadow: 0 1px 2px rgba(60, 64, 67, 0.3), 0 1px 3px 1px rgba(60, 64, 67, 0.15);\n",
              "    fill: var(--button-hover-fill-color);\n",
              "  }\n",
              "\n",
              "  .colab-df-quickchart-complete:disabled,\n",
              "  .colab-df-quickchart-complete:disabled:hover {\n",
              "    background-color: var(--disabled-bg-color);\n",
              "    fill: var(--disabled-fill-color);\n",
              "    box-shadow: none;\n",
              "  }\n",
              "\n",
              "  .colab-df-spinner {\n",
              "    border: 2px solid var(--fill-color);\n",
              "    border-color: transparent;\n",
              "    border-bottom-color: var(--fill-color);\n",
              "    animation:\n",
              "      spin 1s steps(1) infinite;\n",
              "  }\n",
              "\n",
              "  @keyframes spin {\n",
              "    0% {\n",
              "      border-color: transparent;\n",
              "      border-bottom-color: var(--fill-color);\n",
              "      border-left-color: var(--fill-color);\n",
              "    }\n",
              "    20% {\n",
              "      border-color: transparent;\n",
              "      border-left-color: var(--fill-color);\n",
              "      border-top-color: var(--fill-color);\n",
              "    }\n",
              "    30% {\n",
              "      border-color: transparent;\n",
              "      border-left-color: var(--fill-color);\n",
              "      border-top-color: var(--fill-color);\n",
              "      border-right-color: var(--fill-color);\n",
              "    }\n",
              "    40% {\n",
              "      border-color: transparent;\n",
              "      border-right-color: var(--fill-color);\n",
              "      border-top-color: var(--fill-color);\n",
              "    }\n",
              "    60% {\n",
              "      border-color: transparent;\n",
              "      border-right-color: var(--fill-color);\n",
              "    }\n",
              "    80% {\n",
              "      border-color: transparent;\n",
              "      border-right-color: var(--fill-color);\n",
              "      border-bottom-color: var(--fill-color);\n",
              "    }\n",
              "    90% {\n",
              "      border-color: transparent;\n",
              "      border-bottom-color: var(--fill-color);\n",
              "    }\n",
              "  }\n",
              "</style>\n",
              "\n",
              "      <script>\n",
              "        async function quickchart(key) {\n",
              "          const quickchartButtonEl =\n",
              "            document.querySelector('#' + key + ' button');\n",
              "          quickchartButtonEl.disabled = true;  // To prevent multiple clicks.\n",
              "          quickchartButtonEl.classList.add('colab-df-spinner');\n",
              "          try {\n",
              "            const charts = await google.colab.kernel.invokeFunction(\n",
              "                'suggestCharts', [key], {});\n",
              "          } catch (error) {\n",
              "            console.error('Error during call to suggestCharts:', error);\n",
              "          }\n",
              "          quickchartButtonEl.classList.remove('colab-df-spinner');\n",
              "          quickchartButtonEl.classList.add('colab-df-quickchart-complete');\n",
              "        }\n",
              "        (() => {\n",
              "          let quickchartButtonEl =\n",
              "            document.querySelector('#df-c4bec20c-3c7c-4adb-a494-4db7a662c6e9 button');\n",
              "          quickchartButtonEl.style.display =\n",
              "            google.colab.kernel.accessAllowed ? 'block' : 'none';\n",
              "        })();\n",
              "      </script>\n",
              "    </div>\n",
              "\n",
              "  <div id=\"id_6a240ac7-8a2d-4b8b-8de7-5efabfdd3713\">\n",
              "    <style>\n",
              "      .colab-df-generate {\n",
              "        background-color: #E8F0FE;\n",
              "        border: none;\n",
              "        border-radius: 50%;\n",
              "        cursor: pointer;\n",
              "        display: none;\n",
              "        fill: #1967D2;\n",
              "        height: 32px;\n",
              "        padding: 0 0 0 0;\n",
              "        width: 32px;\n",
              "      }\n",
              "\n",
              "      .colab-df-generate:hover {\n",
              "        background-color: #E2EBFA;\n",
              "        box-shadow: 0px 1px 2px rgba(60, 64, 67, 0.3), 0px 1px 3px 1px rgba(60, 64, 67, 0.15);\n",
              "        fill: #174EA6;\n",
              "      }\n",
              "\n",
              "      [theme=dark] .colab-df-generate {\n",
              "        background-color: #3B4455;\n",
              "        fill: #D2E3FC;\n",
              "      }\n",
              "\n",
              "      [theme=dark] .colab-df-generate:hover {\n",
              "        background-color: #434B5C;\n",
              "        box-shadow: 0px 1px 3px 1px rgba(0, 0, 0, 0.15);\n",
              "        filter: drop-shadow(0px 1px 2px rgba(0, 0, 0, 0.3));\n",
              "        fill: #FFFFFF;\n",
              "      }\n",
              "    </style>\n",
              "    <button class=\"colab-df-generate\" onclick=\"generateWithVariable('oo')\"\n",
              "            title=\"Generate code using this dataframe.\"\n",
              "            style=\"display:none;\">\n",
              "\n",
              "  <svg xmlns=\"http://www.w3.org/2000/svg\" height=\"24px\"viewBox=\"0 0 24 24\"\n",
              "       width=\"24px\">\n",
              "    <path d=\"M7,19H8.4L18.45,9,17,7.55,7,17.6ZM5,21V16.75L18.45,3.32a2,2,0,0,1,2.83,0l1.4,1.43a1.91,1.91,0,0,1,.58,1.4,1.91,1.91,0,0,1-.58,1.4L9.25,21ZM18.45,9,17,7.55Zm-12,3A5.31,5.31,0,0,0,4.9,8.1,5.31,5.31,0,0,0,1,6.5,5.31,5.31,0,0,0,4.9,4.9,5.31,5.31,0,0,0,6.5,1,5.31,5.31,0,0,0,8.1,4.9,5.31,5.31,0,0,0,12,6.5,5.46,5.46,0,0,0,6.5,12Z\"/>\n",
              "  </svg>\n",
              "    </button>\n",
              "    <script>\n",
              "      (() => {\n",
              "      const buttonEl =\n",
              "        document.querySelector('#id_6a240ac7-8a2d-4b8b-8de7-5efabfdd3713 button.colab-df-generate');\n",
              "      buttonEl.style.display =\n",
              "        google.colab.kernel.accessAllowed ? 'block' : 'none';\n",
              "\n",
              "      buttonEl.onclick = () => {\n",
              "        google.colab.notebook.generateWithVariable('oo');\n",
              "      }\n",
              "      })();\n",
              "    </script>\n",
              "  </div>\n",
              "\n",
              "    </div>\n",
              "  </div>\n"
            ],
            "application/vnd.google.colaboratory.intrinsic+json": {
              "type": "dataframe",
              "variable_name": "oo",
              "summary": "{\n  \"name\": \"oo\",\n  \"rows\": 27179,\n  \"fields\": [\n    {\n      \"column\": \"This is a list of medallists at the Summer Olympic Games (1896-2004) with details of the year of the olympics, city, sport, discipline, athlete name, gender, event and medal\",\n      \"properties\": {\n        \"dtype\": \"category\",\n        \"num_unique_values\": 27,\n        \"samples\": [\n          \"1924\",\n          \"1952\",\n          \"1928\"\n        ],\n        \"semantic_type\": \"\",\n        \"description\": \"\"\n      }\n    },\n    {\n      \"column\": \"Unnamed: 1\",\n      \"properties\": {\n        \"dtype\": \"category\",\n        \"num_unique_values\": 22,\n        \"samples\": [\n          \"City\",\n          \"Tokyo\",\n          \"Los Angeles\"\n        ],\n        \"semantic_type\": \"\",\n        \"description\": \"\"\n      }\n    },\n    {\n      \"column\": \"Unnamed: 2\",\n      \"properties\": {\n        \"dtype\": \"category\",\n        \"num_unique_values\": 43,\n        \"samples\": [\n          \"Table Tennis\",\n          \"Lacrosse\",\n          \"Water Motorsports\"\n        ],\n        \"semantic_type\": \"\",\n        \"description\": \"\"\n      }\n    },\n    {\n      \"column\": \"Unnamed: 3\",\n      \"properties\": {\n        \"dtype\": \"category\",\n        \"num_unique_values\": 56,\n        \"samples\": [\n          \"Discipline\",\n          \"Tennis\",\n          \"Figure skating\"\n        ],\n        \"semantic_type\": \"\",\n        \"description\": \"\"\n      }\n    },\n    {\n      \"column\": \"Unnamed: 4\",\n      \"properties\": {\n        \"dtype\": \"string\",\n        \"num_unique_values\": 19992,\n        \"samples\": [\n          \"SORM, Josef\",\n          \"LOVERA, Roberto\",\n          \"DE GROOT, Henri Franciscus\"\n        ],\n        \"semantic_type\": \"\",\n        \"description\": \"\"\n      }\n    },\n    {\n      \"column\": \"Unnamed: 5\",\n      \"properties\": {\n        \"dtype\": \"category\",\n        \"num_unique_values\": 133,\n        \"samples\": [\n          \"PUR\",\n          \"TUN\",\n          \"NZL\"\n        ],\n        \"semantic_type\": \"\",\n        \"description\": \"\"\n      }\n    },\n    {\n      \"column\": \"Unnamed: 6\",\n      \"properties\": {\n        \"dtype\": \"category\",\n        \"num_unique_values\": 3,\n        \"samples\": [\n          \"Gender\",\n          \"Men\",\n          \"Women\"\n        ],\n        \"semantic_type\": \"\",\n        \"description\": \"\"\n      }\n    },\n    {\n      \"column\": \"Unnamed: 7\",\n      \"properties\": {\n        \"dtype\": \"category\",\n        \"num_unique_values\": 573,\n        \"samples\": [\n          \"- 58 kg\",\n          \"cesta punta\",\n          \"club swinging\"\n        ],\n        \"semantic_type\": \"\",\n        \"description\": \"\"\n      }\n    },\n    {\n      \"column\": \"Unnamed: 8\",\n      \"properties\": {\n        \"dtype\": \"category\",\n        \"num_unique_values\": 4,\n        \"samples\": [\n          \"M\",\n          \"W\",\n          \"Event Gender\"\n        ],\n        \"semantic_type\": \"\",\n        \"description\": \"\"\n      }\n    },\n    {\n      \"column\": \"Unnamed: 9\",\n      \"properties\": {\n        \"dtype\": \"category\",\n        \"num_unique_values\": 4,\n        \"samples\": [\n          \"Gold\",\n          \"Bronze\",\n          \"Medal\"\n        ],\n        \"semantic_type\": \"\",\n        \"description\": \"\"\n      }\n    },\n    {\n      \"column\": \"Unnamed: 10\",\n      \"properties\": {\n        \"dtype\": \"category\",\n        \"num_unique_values\": 4,\n        \"samples\": [\n          \"1\",\n          \"3\",\n          \"Position\"\n        ],\n        \"semantic_type\": \"\",\n        \"description\": \"\"\n      }\n    }\n  ]\n}"
            }
          },
          "metadata": {},
          "execution_count": 22
        }
      ],
      "source": [
        "oo = pd.read_csv('olympics_1896_2004.csv')\n",
        "oo"
      ]
    },
    {
      "cell_type": "code",
      "execution_count": 23,
      "metadata": {
        "id": "MfCWgZclFlFw",
        "outputId": "9ff8ec96-7181-4a38-844f-26f68b372470",
        "colab": {
          "base_uri": "https://localhost:8080/",
          "height": 617
        }
      },
      "outputs": [
        {
          "output_type": "execute_result",
          "data": {
            "text/plain": [
              "       Year    City      Sport     Discipline        Athlete Name  NOC Gender  \\\n",
              "0      1896  Athens    Cycling  Cycling Track       FLAMENG, Léon  FRA    Men   \n",
              "1      1896  Athens    Cycling  Cycling Track  KOLETTIS, Georgios  GRE    Men   \n",
              "2      1896  Athens  Athletics      Athletics       LANE, Francis  USA    Men   \n",
              "3      1896  Athens  Athletics      Athletics    SZOKOLYI, Alajos  HUN    Men   \n",
              "4      1896  Athens  Athletics      Athletics       BURKE, Thomas  USA    Men   \n",
              "...     ...     ...        ...            ...                 ...  ...    ...   \n",
              "27169  2004  Athens    Fencing        Fencing  LOGOUNOVA, Tatiana  RUS  Women   \n",
              "27170  2004  Athens    Fencing        Fencing       SIVKOVA, Anna  RUS  Women   \n",
              "27171  2004  Athens    Fencing        Fencing      BOKEL, Claudia  GER  Women   \n",
              "27172  2004  Athens    Fencing        Fencing     DUPLITZER, Imke  GER  Women   \n",
              "27173  2004  Athens    Fencing        Fencing   HEIDEMANN, Britta  GER  Women   \n",
              "\n",
              "           Event Event Gender   Medal  Position  \n",
              "0          100km            M    Gold         1  \n",
              "1          100km            M  Silver         2  \n",
              "2           100m            M  Bronze         3  \n",
              "3           100m            M  Bronze         3  \n",
              "4           100m            M    Gold         1  \n",
              "...          ...          ...     ...       ...  \n",
              "27169  épée team            W    Gold         1  \n",
              "27170  épée team            W    Gold         1  \n",
              "27171  épée team            W  Silver         2  \n",
              "27172  épée team            W  Silver         2  \n",
              "27173  épée team            W  Silver         2  \n",
              "\n",
              "[27174 rows x 11 columns]"
            ],
            "text/html": [
              "\n",
              "  <div id=\"df-cd148368-9ed8-4c88-bf40-ea647717adf5\" class=\"colab-df-container\">\n",
              "    <div>\n",
              "<style scoped>\n",
              "    .dataframe tbody tr th:only-of-type {\n",
              "        vertical-align: middle;\n",
              "    }\n",
              "\n",
              "    .dataframe tbody tr th {\n",
              "        vertical-align: top;\n",
              "    }\n",
              "\n",
              "    .dataframe thead th {\n",
              "        text-align: right;\n",
              "    }\n",
              "</style>\n",
              "<table border=\"1\" class=\"dataframe\">\n",
              "  <thead>\n",
              "    <tr style=\"text-align: right;\">\n",
              "      <th></th>\n",
              "      <th>Year</th>\n",
              "      <th>City</th>\n",
              "      <th>Sport</th>\n",
              "      <th>Discipline</th>\n",
              "      <th>Athlete Name</th>\n",
              "      <th>NOC</th>\n",
              "      <th>Gender</th>\n",
              "      <th>Event</th>\n",
              "      <th>Event Gender</th>\n",
              "      <th>Medal</th>\n",
              "      <th>Position</th>\n",
              "    </tr>\n",
              "  </thead>\n",
              "  <tbody>\n",
              "    <tr>\n",
              "      <th>0</th>\n",
              "      <td>1896</td>\n",
              "      <td>Athens</td>\n",
              "      <td>Cycling</td>\n",
              "      <td>Cycling Track</td>\n",
              "      <td>FLAMENG, Léon</td>\n",
              "      <td>FRA</td>\n",
              "      <td>Men</td>\n",
              "      <td>100km</td>\n",
              "      <td>M</td>\n",
              "      <td>Gold</td>\n",
              "      <td>1</td>\n",
              "    </tr>\n",
              "    <tr>\n",
              "      <th>1</th>\n",
              "      <td>1896</td>\n",
              "      <td>Athens</td>\n",
              "      <td>Cycling</td>\n",
              "      <td>Cycling Track</td>\n",
              "      <td>KOLETTIS, Georgios</td>\n",
              "      <td>GRE</td>\n",
              "      <td>Men</td>\n",
              "      <td>100km</td>\n",
              "      <td>M</td>\n",
              "      <td>Silver</td>\n",
              "      <td>2</td>\n",
              "    </tr>\n",
              "    <tr>\n",
              "      <th>2</th>\n",
              "      <td>1896</td>\n",
              "      <td>Athens</td>\n",
              "      <td>Athletics</td>\n",
              "      <td>Athletics</td>\n",
              "      <td>LANE, Francis</td>\n",
              "      <td>USA</td>\n",
              "      <td>Men</td>\n",
              "      <td>100m</td>\n",
              "      <td>M</td>\n",
              "      <td>Bronze</td>\n",
              "      <td>3</td>\n",
              "    </tr>\n",
              "    <tr>\n",
              "      <th>3</th>\n",
              "      <td>1896</td>\n",
              "      <td>Athens</td>\n",
              "      <td>Athletics</td>\n",
              "      <td>Athletics</td>\n",
              "      <td>SZOKOLYI, Alajos</td>\n",
              "      <td>HUN</td>\n",
              "      <td>Men</td>\n",
              "      <td>100m</td>\n",
              "      <td>M</td>\n",
              "      <td>Bronze</td>\n",
              "      <td>3</td>\n",
              "    </tr>\n",
              "    <tr>\n",
              "      <th>4</th>\n",
              "      <td>1896</td>\n",
              "      <td>Athens</td>\n",
              "      <td>Athletics</td>\n",
              "      <td>Athletics</td>\n",
              "      <td>BURKE, Thomas</td>\n",
              "      <td>USA</td>\n",
              "      <td>Men</td>\n",
              "      <td>100m</td>\n",
              "      <td>M</td>\n",
              "      <td>Gold</td>\n",
              "      <td>1</td>\n",
              "    </tr>\n",
              "    <tr>\n",
              "      <th>...</th>\n",
              "      <td>...</td>\n",
              "      <td>...</td>\n",
              "      <td>...</td>\n",
              "      <td>...</td>\n",
              "      <td>...</td>\n",
              "      <td>...</td>\n",
              "      <td>...</td>\n",
              "      <td>...</td>\n",
              "      <td>...</td>\n",
              "      <td>...</td>\n",
              "      <td>...</td>\n",
              "    </tr>\n",
              "    <tr>\n",
              "      <th>27169</th>\n",
              "      <td>2004</td>\n",
              "      <td>Athens</td>\n",
              "      <td>Fencing</td>\n",
              "      <td>Fencing</td>\n",
              "      <td>LOGOUNOVA, Tatiana</td>\n",
              "      <td>RUS</td>\n",
              "      <td>Women</td>\n",
              "      <td>épée team</td>\n",
              "      <td>W</td>\n",
              "      <td>Gold</td>\n",
              "      <td>1</td>\n",
              "    </tr>\n",
              "    <tr>\n",
              "      <th>27170</th>\n",
              "      <td>2004</td>\n",
              "      <td>Athens</td>\n",
              "      <td>Fencing</td>\n",
              "      <td>Fencing</td>\n",
              "      <td>SIVKOVA, Anna</td>\n",
              "      <td>RUS</td>\n",
              "      <td>Women</td>\n",
              "      <td>épée team</td>\n",
              "      <td>W</td>\n",
              "      <td>Gold</td>\n",
              "      <td>1</td>\n",
              "    </tr>\n",
              "    <tr>\n",
              "      <th>27171</th>\n",
              "      <td>2004</td>\n",
              "      <td>Athens</td>\n",
              "      <td>Fencing</td>\n",
              "      <td>Fencing</td>\n",
              "      <td>BOKEL, Claudia</td>\n",
              "      <td>GER</td>\n",
              "      <td>Women</td>\n",
              "      <td>épée team</td>\n",
              "      <td>W</td>\n",
              "      <td>Silver</td>\n",
              "      <td>2</td>\n",
              "    </tr>\n",
              "    <tr>\n",
              "      <th>27172</th>\n",
              "      <td>2004</td>\n",
              "      <td>Athens</td>\n",
              "      <td>Fencing</td>\n",
              "      <td>Fencing</td>\n",
              "      <td>DUPLITZER, Imke</td>\n",
              "      <td>GER</td>\n",
              "      <td>Women</td>\n",
              "      <td>épée team</td>\n",
              "      <td>W</td>\n",
              "      <td>Silver</td>\n",
              "      <td>2</td>\n",
              "    </tr>\n",
              "    <tr>\n",
              "      <th>27173</th>\n",
              "      <td>2004</td>\n",
              "      <td>Athens</td>\n",
              "      <td>Fencing</td>\n",
              "      <td>Fencing</td>\n",
              "      <td>HEIDEMANN, Britta</td>\n",
              "      <td>GER</td>\n",
              "      <td>Women</td>\n",
              "      <td>épée team</td>\n",
              "      <td>W</td>\n",
              "      <td>Silver</td>\n",
              "      <td>2</td>\n",
              "    </tr>\n",
              "  </tbody>\n",
              "</table>\n",
              "<p>27174 rows × 11 columns</p>\n",
              "</div>\n",
              "    <div class=\"colab-df-buttons\">\n",
              "\n",
              "  <div class=\"colab-df-container\">\n",
              "    <button class=\"colab-df-convert\" onclick=\"convertToInteractive('df-cd148368-9ed8-4c88-bf40-ea647717adf5')\"\n",
              "            title=\"Convert this dataframe to an interactive table.\"\n",
              "            style=\"display:none;\">\n",
              "\n",
              "  <svg xmlns=\"http://www.w3.org/2000/svg\" height=\"24px\" viewBox=\"0 -960 960 960\">\n",
              "    <path d=\"M120-120v-720h720v720H120Zm60-500h600v-160H180v160Zm220 220h160v-160H400v160Zm0 220h160v-160H400v160ZM180-400h160v-160H180v160Zm440 0h160v-160H620v160ZM180-180h160v-160H180v160Zm440 0h160v-160H620v160Z\"/>\n",
              "  </svg>\n",
              "    </button>\n",
              "\n",
              "  <style>\n",
              "    .colab-df-container {\n",
              "      display:flex;\n",
              "      gap: 12px;\n",
              "    }\n",
              "\n",
              "    .colab-df-convert {\n",
              "      background-color: #E8F0FE;\n",
              "      border: none;\n",
              "      border-radius: 50%;\n",
              "      cursor: pointer;\n",
              "      display: none;\n",
              "      fill: #1967D2;\n",
              "      height: 32px;\n",
              "      padding: 0 0 0 0;\n",
              "      width: 32px;\n",
              "    }\n",
              "\n",
              "    .colab-df-convert:hover {\n",
              "      background-color: #E2EBFA;\n",
              "      box-shadow: 0px 1px 2px rgba(60, 64, 67, 0.3), 0px 1px 3px 1px rgba(60, 64, 67, 0.15);\n",
              "      fill: #174EA6;\n",
              "    }\n",
              "\n",
              "    .colab-df-buttons div {\n",
              "      margin-bottom: 4px;\n",
              "    }\n",
              "\n",
              "    [theme=dark] .colab-df-convert {\n",
              "      background-color: #3B4455;\n",
              "      fill: #D2E3FC;\n",
              "    }\n",
              "\n",
              "    [theme=dark] .colab-df-convert:hover {\n",
              "      background-color: #434B5C;\n",
              "      box-shadow: 0px 1px 3px 1px rgba(0, 0, 0, 0.15);\n",
              "      filter: drop-shadow(0px 1px 2px rgba(0, 0, 0, 0.3));\n",
              "      fill: #FFFFFF;\n",
              "    }\n",
              "  </style>\n",
              "\n",
              "    <script>\n",
              "      const buttonEl =\n",
              "        document.querySelector('#df-cd148368-9ed8-4c88-bf40-ea647717adf5 button.colab-df-convert');\n",
              "      buttonEl.style.display =\n",
              "        google.colab.kernel.accessAllowed ? 'block' : 'none';\n",
              "\n",
              "      async function convertToInteractive(key) {\n",
              "        const element = document.querySelector('#df-cd148368-9ed8-4c88-bf40-ea647717adf5');\n",
              "        const dataTable =\n",
              "          await google.colab.kernel.invokeFunction('convertToInteractive',\n",
              "                                                    [key], {});\n",
              "        if (!dataTable) return;\n",
              "\n",
              "        const docLinkHtml = 'Like what you see? Visit the ' +\n",
              "          '<a target=\"_blank\" href=https://colab.research.google.com/notebooks/data_table.ipynb>data table notebook</a>'\n",
              "          + ' to learn more about interactive tables.';\n",
              "        element.innerHTML = '';\n",
              "        dataTable['output_type'] = 'display_data';\n",
              "        await google.colab.output.renderOutput(dataTable, element);\n",
              "        const docLink = document.createElement('div');\n",
              "        docLink.innerHTML = docLinkHtml;\n",
              "        element.appendChild(docLink);\n",
              "      }\n",
              "    </script>\n",
              "  </div>\n",
              "\n",
              "\n",
              "    <div id=\"df-590d77e8-963e-4124-a05a-1ae3ae3decf9\">\n",
              "      <button class=\"colab-df-quickchart\" onclick=\"quickchart('df-590d77e8-963e-4124-a05a-1ae3ae3decf9')\"\n",
              "                title=\"Suggest charts\"\n",
              "                style=\"display:none;\">\n",
              "\n",
              "<svg xmlns=\"http://www.w3.org/2000/svg\" height=\"24px\"viewBox=\"0 0 24 24\"\n",
              "     width=\"24px\">\n",
              "    <g>\n",
              "        <path d=\"M19 3H5c-1.1 0-2 .9-2 2v14c0 1.1.9 2 2 2h14c1.1 0 2-.9 2-2V5c0-1.1-.9-2-2-2zM9 17H7v-7h2v7zm4 0h-2V7h2v10zm4 0h-2v-4h2v4z\"/>\n",
              "    </g>\n",
              "</svg>\n",
              "      </button>\n",
              "\n",
              "<style>\n",
              "  .colab-df-quickchart {\n",
              "      --bg-color: #E8F0FE;\n",
              "      --fill-color: #1967D2;\n",
              "      --hover-bg-color: #E2EBFA;\n",
              "      --hover-fill-color: #174EA6;\n",
              "      --disabled-fill-color: #AAA;\n",
              "      --disabled-bg-color: #DDD;\n",
              "  }\n",
              "\n",
              "  [theme=dark] .colab-df-quickchart {\n",
              "      --bg-color: #3B4455;\n",
              "      --fill-color: #D2E3FC;\n",
              "      --hover-bg-color: #434B5C;\n",
              "      --hover-fill-color: #FFFFFF;\n",
              "      --disabled-bg-color: #3B4455;\n",
              "      --disabled-fill-color: #666;\n",
              "  }\n",
              "\n",
              "  .colab-df-quickchart {\n",
              "    background-color: var(--bg-color);\n",
              "    border: none;\n",
              "    border-radius: 50%;\n",
              "    cursor: pointer;\n",
              "    display: none;\n",
              "    fill: var(--fill-color);\n",
              "    height: 32px;\n",
              "    padding: 0;\n",
              "    width: 32px;\n",
              "  }\n",
              "\n",
              "  .colab-df-quickchart:hover {\n",
              "    background-color: var(--hover-bg-color);\n",
              "    box-shadow: 0 1px 2px rgba(60, 64, 67, 0.3), 0 1px 3px 1px rgba(60, 64, 67, 0.15);\n",
              "    fill: var(--button-hover-fill-color);\n",
              "  }\n",
              "\n",
              "  .colab-df-quickchart-complete:disabled,\n",
              "  .colab-df-quickchart-complete:disabled:hover {\n",
              "    background-color: var(--disabled-bg-color);\n",
              "    fill: var(--disabled-fill-color);\n",
              "    box-shadow: none;\n",
              "  }\n",
              "\n",
              "  .colab-df-spinner {\n",
              "    border: 2px solid var(--fill-color);\n",
              "    border-color: transparent;\n",
              "    border-bottom-color: var(--fill-color);\n",
              "    animation:\n",
              "      spin 1s steps(1) infinite;\n",
              "  }\n",
              "\n",
              "  @keyframes spin {\n",
              "    0% {\n",
              "      border-color: transparent;\n",
              "      border-bottom-color: var(--fill-color);\n",
              "      border-left-color: var(--fill-color);\n",
              "    }\n",
              "    20% {\n",
              "      border-color: transparent;\n",
              "      border-left-color: var(--fill-color);\n",
              "      border-top-color: var(--fill-color);\n",
              "    }\n",
              "    30% {\n",
              "      border-color: transparent;\n",
              "      border-left-color: var(--fill-color);\n",
              "      border-top-color: var(--fill-color);\n",
              "      border-right-color: var(--fill-color);\n",
              "    }\n",
              "    40% {\n",
              "      border-color: transparent;\n",
              "      border-right-color: var(--fill-color);\n",
              "      border-top-color: var(--fill-color);\n",
              "    }\n",
              "    60% {\n",
              "      border-color: transparent;\n",
              "      border-right-color: var(--fill-color);\n",
              "    }\n",
              "    80% {\n",
              "      border-color: transparent;\n",
              "      border-right-color: var(--fill-color);\n",
              "      border-bottom-color: var(--fill-color);\n",
              "    }\n",
              "    90% {\n",
              "      border-color: transparent;\n",
              "      border-bottom-color: var(--fill-color);\n",
              "    }\n",
              "  }\n",
              "</style>\n",
              "\n",
              "      <script>\n",
              "        async function quickchart(key) {\n",
              "          const quickchartButtonEl =\n",
              "            document.querySelector('#' + key + ' button');\n",
              "          quickchartButtonEl.disabled = true;  // To prevent multiple clicks.\n",
              "          quickchartButtonEl.classList.add('colab-df-spinner');\n",
              "          try {\n",
              "            const charts = await google.colab.kernel.invokeFunction(\n",
              "                'suggestCharts', [key], {});\n",
              "          } catch (error) {\n",
              "            console.error('Error during call to suggestCharts:', error);\n",
              "          }\n",
              "          quickchartButtonEl.classList.remove('colab-df-spinner');\n",
              "          quickchartButtonEl.classList.add('colab-df-quickchart-complete');\n",
              "        }\n",
              "        (() => {\n",
              "          let quickchartButtonEl =\n",
              "            document.querySelector('#df-590d77e8-963e-4124-a05a-1ae3ae3decf9 button');\n",
              "          quickchartButtonEl.style.display =\n",
              "            google.colab.kernel.accessAllowed ? 'block' : 'none';\n",
              "        })();\n",
              "      </script>\n",
              "    </div>\n",
              "\n",
              "  <div id=\"id_21521a4f-926f-4a8d-b1fc-6da14eec0a72\">\n",
              "    <style>\n",
              "      .colab-df-generate {\n",
              "        background-color: #E8F0FE;\n",
              "        border: none;\n",
              "        border-radius: 50%;\n",
              "        cursor: pointer;\n",
              "        display: none;\n",
              "        fill: #1967D2;\n",
              "        height: 32px;\n",
              "        padding: 0 0 0 0;\n",
              "        width: 32px;\n",
              "      }\n",
              "\n",
              "      .colab-df-generate:hover {\n",
              "        background-color: #E2EBFA;\n",
              "        box-shadow: 0px 1px 2px rgba(60, 64, 67, 0.3), 0px 1px 3px 1px rgba(60, 64, 67, 0.15);\n",
              "        fill: #174EA6;\n",
              "      }\n",
              "\n",
              "      [theme=dark] .colab-df-generate {\n",
              "        background-color: #3B4455;\n",
              "        fill: #D2E3FC;\n",
              "      }\n",
              "\n",
              "      [theme=dark] .colab-df-generate:hover {\n",
              "        background-color: #434B5C;\n",
              "        box-shadow: 0px 1px 3px 1px rgba(0, 0, 0, 0.15);\n",
              "        filter: drop-shadow(0px 1px 2px rgba(0, 0, 0, 0.3));\n",
              "        fill: #FFFFFF;\n",
              "      }\n",
              "    </style>\n",
              "    <button class=\"colab-df-generate\" onclick=\"generateWithVariable('oo')\"\n",
              "            title=\"Generate code using this dataframe.\"\n",
              "            style=\"display:none;\">\n",
              "\n",
              "  <svg xmlns=\"http://www.w3.org/2000/svg\" height=\"24px\"viewBox=\"0 0 24 24\"\n",
              "       width=\"24px\">\n",
              "    <path d=\"M7,19H8.4L18.45,9,17,7.55,7,17.6ZM5,21V16.75L18.45,3.32a2,2,0,0,1,2.83,0l1.4,1.43a1.91,1.91,0,0,1,.58,1.4,1.91,1.91,0,0,1-.58,1.4L9.25,21ZM18.45,9,17,7.55Zm-12,3A5.31,5.31,0,0,0,4.9,8.1,5.31,5.31,0,0,0,1,6.5,5.31,5.31,0,0,0,4.9,4.9,5.31,5.31,0,0,0,6.5,1,5.31,5.31,0,0,0,8.1,4.9,5.31,5.31,0,0,0,12,6.5,5.46,5.46,0,0,0,6.5,12Z\"/>\n",
              "  </svg>\n",
              "    </button>\n",
              "    <script>\n",
              "      (() => {\n",
              "      const buttonEl =\n",
              "        document.querySelector('#id_21521a4f-926f-4a8d-b1fc-6da14eec0a72 button.colab-df-generate');\n",
              "      buttonEl.style.display =\n",
              "        google.colab.kernel.accessAllowed ? 'block' : 'none';\n",
              "\n",
              "      buttonEl.onclick = () => {\n",
              "        google.colab.notebook.generateWithVariable('oo');\n",
              "      }\n",
              "      })();\n",
              "    </script>\n",
              "  </div>\n",
              "\n",
              "    </div>\n",
              "  </div>\n"
            ],
            "application/vnd.google.colaboratory.intrinsic+json": {
              "type": "dataframe",
              "variable_name": "oo",
              "summary": "{\n  \"name\": \"oo\",\n  \"rows\": 27174,\n  \"fields\": [\n    {\n      \"column\": \"Year\",\n      \"properties\": {\n        \"dtype\": \"number\",\n        \"std\": 31,\n        \"min\": 1896,\n        \"max\": 2004,\n        \"num_unique_values\": 25,\n        \"samples\": [\n          1932,\n          1972,\n          1896\n        ],\n        \"semantic_type\": \"\",\n        \"description\": \"\"\n      }\n    },\n    {\n      \"column\": \"City\",\n      \"properties\": {\n        \"dtype\": \"category\",\n        \"num_unique_values\": 21,\n        \"samples\": [\n          \"Athens\",\n          \"Seoul\",\n          \"Montreal\"\n        ],\n        \"semantic_type\": \"\",\n        \"description\": \"\"\n      }\n    },\n    {\n      \"column\": \"Sport\",\n      \"properties\": {\n        \"dtype\": \"category\",\n        \"num_unique_values\": 42,\n        \"samples\": [\n          \"Rackets\",\n          \"Croquet\",\n          \"Wrestling\"\n        ],\n        \"semantic_type\": \"\",\n        \"description\": \"\"\n      }\n    },\n    {\n      \"column\": \"Discipline\",\n      \"properties\": {\n        \"dtype\": \"category\",\n        \"num_unique_values\": 55,\n        \"samples\": [\n          \"Jeu de Paume\",\n          \"Fencing\",\n          \"Figure skating\"\n        ],\n        \"semantic_type\": \"\",\n        \"description\": \"\"\n      }\n    },\n    {\n      \"column\": \"Athlete Name\",\n      \"properties\": {\n        \"dtype\": \"string\",\n        \"num_unique_values\": 19991,\n        \"samples\": [\n          \"TOMAN, Ladislav\",\n          \"MATTO, Sergio A.\",\n          \"DE WOLF, Nicolaas\"\n        ],\n        \"semantic_type\": \"\",\n        \"description\": \"\"\n      }\n    },\n    {\n      \"column\": \"NOC\",\n      \"properties\": {\n        \"dtype\": \"category\",\n        \"num_unique_values\": 132,\n        \"samples\": [\n          \"VEN\",\n          \"ZIM\",\n          \"SWE\"\n        ],\n        \"semantic_type\": \"\",\n        \"description\": \"\"\n      }\n    },\n    {\n      \"column\": \"Gender\",\n      \"properties\": {\n        \"dtype\": \"category\",\n        \"num_unique_values\": 2,\n        \"samples\": [\n          \"Women\",\n          \"Men\"\n        ],\n        \"semantic_type\": \"\",\n        \"description\": \"\"\n      }\n    },\n    {\n      \"column\": \"Event\",\n      \"properties\": {\n        \"dtype\": \"category\",\n        \"num_unique_values\": 572,\n        \"samples\": [\n          \"- 58 kg\",\n          \"cricket\"\n        ],\n        \"semantic_type\": \"\",\n        \"description\": \"\"\n      }\n    },\n    {\n      \"column\": \"Event Gender\",\n      \"properties\": {\n        \"dtype\": \"category\",\n        \"num_unique_values\": 3,\n        \"samples\": [\n          \"M\",\n          \"X\"\n        ],\n        \"semantic_type\": \"\",\n        \"description\": \"\"\n      }\n    },\n    {\n      \"column\": \"Medal\",\n      \"properties\": {\n        \"dtype\": \"category\",\n        \"num_unique_values\": 3,\n        \"samples\": [\n          \"Gold\",\n          \"Silver\"\n        ],\n        \"semantic_type\": \"\",\n        \"description\": \"\"\n      }\n    },\n    {\n      \"column\": \"Position\",\n      \"properties\": {\n        \"dtype\": \"number\",\n        \"std\": 0,\n        \"min\": 1,\n        \"max\": 3,\n        \"num_unique_values\": 3,\n        \"samples\": [\n          1,\n          2\n        ],\n        \"semantic_type\": \"\",\n        \"description\": \"\"\n      }\n    }\n  ]\n}"
            }
          },
          "metadata": {},
          "execution_count": 23
        }
      ],
      "source": [
        "oo = pd.read_csv('olympics_1896_2004.csv', skiprows=5)\n",
        "oo"
      ]
    },
    {
      "cell_type": "code",
      "execution_count": null,
      "metadata": {
        "id": "n57rypsOiifF"
      },
      "outputs": [],
      "source": [
        "filename = \"olympics_1896_2004.csv\""
      ]
    },
    {
      "cell_type": "code",
      "source": [
        "from google.colab import files\n",
        "files.upload()"
      ],
      "metadata": {
        "id": "09cr8R36lFSn",
        "outputId": "d190926a-9e08-4986-faf7-8580e3a7d4fe",
        "colab": {
          "base_uri": "https://localhost:8080/",
          "height": 1000
        }
      },
      "execution_count": 26,
      "outputs": [
        {
          "output_type": "display_data",
          "data": {
            "text/plain": [
              "<IPython.core.display.HTML object>"
            ],
            "text/html": [
              "\n",
              "     <input type=\"file\" id=\"files-f6811f86-c4cd-41a4-8296-09893199556e\" name=\"files[]\" multiple disabled\n",
              "        style=\"border:none\" />\n",
              "     <output id=\"result-f6811f86-c4cd-41a4-8296-09893199556e\">\n",
              "      Upload widget is only available when the cell has been executed in the\n",
              "      current browser session. Please rerun this cell to enable.\n",
              "      </output>\n",
              "      <script>// Copyright 2017 Google LLC\n",
              "//\n",
              "// Licensed under the Apache License, Version 2.0 (the \"License\");\n",
              "// you may not use this file except in compliance with the License.\n",
              "// You may obtain a copy of the License at\n",
              "//\n",
              "//      http://www.apache.org/licenses/LICENSE-2.0\n",
              "//\n",
              "// Unless required by applicable law or agreed to in writing, software\n",
              "// distributed under the License is distributed on an \"AS IS\" BASIS,\n",
              "// WITHOUT WARRANTIES OR CONDITIONS OF ANY KIND, either express or implied.\n",
              "// See the License for the specific language governing permissions and\n",
              "// limitations under the License.\n",
              "\n",
              "/**\n",
              " * @fileoverview Helpers for google.colab Python module.\n",
              " */\n",
              "(function(scope) {\n",
              "function span(text, styleAttributes = {}) {\n",
              "  const element = document.createElement('span');\n",
              "  element.textContent = text;\n",
              "  for (const key of Object.keys(styleAttributes)) {\n",
              "    element.style[key] = styleAttributes[key];\n",
              "  }\n",
              "  return element;\n",
              "}\n",
              "\n",
              "// Max number of bytes which will be uploaded at a time.\n",
              "const MAX_PAYLOAD_SIZE = 100 * 1024;\n",
              "\n",
              "function _uploadFiles(inputId, outputId) {\n",
              "  const steps = uploadFilesStep(inputId, outputId);\n",
              "  const outputElement = document.getElementById(outputId);\n",
              "  // Cache steps on the outputElement to make it available for the next call\n",
              "  // to uploadFilesContinue from Python.\n",
              "  outputElement.steps = steps;\n",
              "\n",
              "  return _uploadFilesContinue(outputId);\n",
              "}\n",
              "\n",
              "// This is roughly an async generator (not supported in the browser yet),\n",
              "// where there are multiple asynchronous steps and the Python side is going\n",
              "// to poll for completion of each step.\n",
              "// This uses a Promise to block the python side on completion of each step,\n",
              "// then passes the result of the previous step as the input to the next step.\n",
              "function _uploadFilesContinue(outputId) {\n",
              "  const outputElement = document.getElementById(outputId);\n",
              "  const steps = outputElement.steps;\n",
              "\n",
              "  const next = steps.next(outputElement.lastPromiseValue);\n",
              "  return Promise.resolve(next.value.promise).then((value) => {\n",
              "    // Cache the last promise value to make it available to the next\n",
              "    // step of the generator.\n",
              "    outputElement.lastPromiseValue = value;\n",
              "    return next.value.response;\n",
              "  });\n",
              "}\n",
              "\n",
              "/**\n",
              " * Generator function which is called between each async step of the upload\n",
              " * process.\n",
              " * @param {string} inputId Element ID of the input file picker element.\n",
              " * @param {string} outputId Element ID of the output display.\n",
              " * @return {!Iterable<!Object>} Iterable of next steps.\n",
              " */\n",
              "function* uploadFilesStep(inputId, outputId) {\n",
              "  const inputElement = document.getElementById(inputId);\n",
              "  inputElement.disabled = false;\n",
              "\n",
              "  const outputElement = document.getElementById(outputId);\n",
              "  outputElement.innerHTML = '';\n",
              "\n",
              "  const pickedPromise = new Promise((resolve) => {\n",
              "    inputElement.addEventListener('change', (e) => {\n",
              "      resolve(e.target.files);\n",
              "    });\n",
              "  });\n",
              "\n",
              "  const cancel = document.createElement('button');\n",
              "  inputElement.parentElement.appendChild(cancel);\n",
              "  cancel.textContent = 'Cancel upload';\n",
              "  const cancelPromise = new Promise((resolve) => {\n",
              "    cancel.onclick = () => {\n",
              "      resolve(null);\n",
              "    };\n",
              "  });\n",
              "\n",
              "  // Wait for the user to pick the files.\n",
              "  const files = yield {\n",
              "    promise: Promise.race([pickedPromise, cancelPromise]),\n",
              "    response: {\n",
              "      action: 'starting',\n",
              "    }\n",
              "  };\n",
              "\n",
              "  cancel.remove();\n",
              "\n",
              "  // Disable the input element since further picks are not allowed.\n",
              "  inputElement.disabled = true;\n",
              "\n",
              "  if (!files) {\n",
              "    return {\n",
              "      response: {\n",
              "        action: 'complete',\n",
              "      }\n",
              "    };\n",
              "  }\n",
              "\n",
              "  for (const file of files) {\n",
              "    const li = document.createElement('li');\n",
              "    li.append(span(file.name, {fontWeight: 'bold'}));\n",
              "    li.append(span(\n",
              "        `(${file.type || 'n/a'}) - ${file.size} bytes, ` +\n",
              "        `last modified: ${\n",
              "            file.lastModifiedDate ? file.lastModifiedDate.toLocaleDateString() :\n",
              "                                    'n/a'} - `));\n",
              "    const percent = span('0% done');\n",
              "    li.appendChild(percent);\n",
              "\n",
              "    outputElement.appendChild(li);\n",
              "\n",
              "    const fileDataPromise = new Promise((resolve) => {\n",
              "      const reader = new FileReader();\n",
              "      reader.onload = (e) => {\n",
              "        resolve(e.target.result);\n",
              "      };\n",
              "      reader.readAsArrayBuffer(file);\n",
              "    });\n",
              "    // Wait for the data to be ready.\n",
              "    let fileData = yield {\n",
              "      promise: fileDataPromise,\n",
              "      response: {\n",
              "        action: 'continue',\n",
              "      }\n",
              "    };\n",
              "\n",
              "    // Use a chunked sending to avoid message size limits. See b/62115660.\n",
              "    let position = 0;\n",
              "    do {\n",
              "      const length = Math.min(fileData.byteLength - position, MAX_PAYLOAD_SIZE);\n",
              "      const chunk = new Uint8Array(fileData, position, length);\n",
              "      position += length;\n",
              "\n",
              "      const base64 = btoa(String.fromCharCode.apply(null, chunk));\n",
              "      yield {\n",
              "        response: {\n",
              "          action: 'append',\n",
              "          file: file.name,\n",
              "          data: base64,\n",
              "        },\n",
              "      };\n",
              "\n",
              "      let percentDone = fileData.byteLength === 0 ?\n",
              "          100 :\n",
              "          Math.round((position / fileData.byteLength) * 100);\n",
              "      percent.textContent = `${percentDone}% done`;\n",
              "\n",
              "    } while (position < fileData.byteLength);\n",
              "  }\n",
              "\n",
              "  // All done.\n",
              "  yield {\n",
              "    response: {\n",
              "      action: 'complete',\n",
              "    }\n",
              "  };\n",
              "}\n",
              "\n",
              "scope.google = scope.google || {};\n",
              "scope.google.colab = scope.google.colab || {};\n",
              "scope.google.colab._files = {\n",
              "  _uploadFiles,\n",
              "  _uploadFilesContinue,\n",
              "};\n",
              "})(self);\n",
              "</script> "
            ]
          },
          "metadata": {}
        },
        {
          "output_type": "stream",
          "name": "stdout",
          "text": [
            "Saving im310-mpg.csv to im310-mpg.csv\n"
          ]
        },
        {
          "output_type": "execute_result",
          "data": {
            "text/plain": [
              "{'im310-mpg.csv': b\"mpg,cylinders,displacement,horsepower,weight,acceleration,model_year,origin,name\\n18.0,8,307.0,130.0,3504,12.0,70,usa,chevrolet chevelle malibu\\n15.0,8,350.0,165.0,3693,11.5,70,usa,buick skylark 320\\n18.0,8,318.0,150.0,3436,11.0,70,usa,plymouth satellite\\n16.0,8,304.0,150.0,3433,12.0,70,usa,amc rebel sst\\n17.0,8,302.0,140.0,3449,10.5,70,usa,ford torino\\n15.0,8,429.0,198.0,4341,10.0,70,usa,ford galaxie 500\\n14.0,8,454.0,220.0,4354,9.0,70,usa,chevrolet impala\\n14.0,8,440.0,215.0,4312,8.5,70,usa,plymouth fury iii\\n14.0,8,455.0,225.0,4425,10.0,70,usa,pontiac catalina\\n15.0,8,390.0,190.0,3850,8.5,70,usa,amc ambassador dpl\\n15.0,8,383.0,170.0,3563,10.0,70,usa,dodge challenger se\\n14.0,8,340.0,160.0,3609,8.0,70,usa,plymouth 'cuda 340\\n15.0,8,400.0,150.0,3761,9.5,70,usa,chevrolet monte carlo\\n14.0,8,455.0,225.0,3086,10.0,70,usa,buick estate wagon (sw)\\n24.0,4,113.0,95.0,2372,15.0,70,japan,toyota corona mark ii\\n22.0,6,198.0,95.0,2833,15.5,70,usa,plymouth duster\\n18.0,6,199.0,97.0,2774,15.5,70,usa,amc hornet\\n21.0,6,200.0,85.0,2587,16.0,70,usa,ford maverick\\n27.0,4,97.0,88.0,2130,14.5,70,japan,datsun pl510\\n26.0,4,97.0,46.0,1835,20.5,70,europe,volkswagen 1131 deluxe sedan\\n25.0,4,110.0,87.0,2672,17.5,70,europe,peugeot 504\\n24.0,4,107.0,90.0,2430,14.5,70,europe,audi 100 ls\\n25.0,4,104.0,95.0,2375,17.5,70,europe,saab 99e\\n26.0,4,121.0,113.0,2234,12.5,70,europe,bmw 2002\\n21.0,6,199.0,90.0,2648,15.0,70,usa,amc gremlin\\n10.0,8,360.0,215.0,4615,14.0,70,usa,ford f250\\n10.0,8,307.0,200.0,4376,15.0,70,usa,chevy c20\\n11.0,8,318.0,210.0,4382,13.5,70,usa,dodge d200\\n9.0,8,304.0,193.0,4732,18.5,70,usa,hi 1200d\\n27.0,4,97.0,88.0,2130,14.5,71,japan,datsun pl510\\n28.0,4,140.0,90.0,2264,15.5,71,usa,chevrolet vega 2300\\n25.0,4,113.0,95.0,2228,14.0,71,japan,toyota corona\\n25.0,4,98.0,,2046,19.0,71,usa,ford pinto\\n19.0,6,232.0,100.0,2634,13.0,71,usa,amc gremlin\\n16.0,6,225.0,105.0,3439,15.5,71,usa,plymouth satellite custom\\n17.0,6,250.0,100.0,3329,15.5,71,usa,chevrolet chevelle malibu\\n19.0,6,250.0,88.0,3302,15.5,71,usa,ford torino 500\\n18.0,6,232.0,100.0,3288,15.5,71,usa,amc matador\\n14.0,8,350.0,165.0,4209,12.0,71,usa,chevrolet impala\\n14.0,8,400.0,175.0,4464,11.5,71,usa,pontiac catalina brougham\\n14.0,8,351.0,153.0,4154,13.5,71,usa,ford galaxie 500\\n14.0,8,318.0,150.0,4096,13.0,71,usa,plymouth fury iii\\n12.0,8,383.0,180.0,4955,11.5,71,usa,dodge monaco (sw)\\n13.0,8,400.0,170.0,4746,12.0,71,usa,ford country squire (sw)\\n13.0,8,400.0,175.0,5140,12.0,71,usa,pontiac safari (sw)\\n18.0,6,258.0,110.0,2962,13.5,71,usa,amc hornet sportabout (sw)\\n22.0,4,140.0,72.0,2408,19.0,71,usa,chevrolet vega (sw)\\n19.0,6,250.0,100.0,3282,15.0,71,usa,pontiac firebird\\n18.0,6,250.0,88.0,3139,14.5,71,usa,ford mustang\\n23.0,4,122.0,86.0,2220,14.0,71,usa,mercury capri 2000\\n28.0,4,116.0,90.0,2123,14.0,71,europe,opel 1900\\n30.0,4,79.0,70.0,2074,19.5,71,europe,peugeot 304\\n30.0,4,88.0,76.0,2065,14.5,71,europe,fiat 124b\\n31.0,4,71.0,65.0,1773,19.0,71,japan,toyota corolla 1200\\n35.0,4,72.0,69.0,1613,18.0,71,japan,datsun 1200\\n27.0,4,97.0,60.0,1834,19.0,71,europe,volkswagen model 111\\n26.0,4,91.0,70.0,1955,20.5,71,usa,plymouth cricket\\n24.0,4,113.0,95.0,2278,15.5,72,japan,toyota corona hardtop\\n25.0,4,97.5,80.0,2126,17.0,72,usa,dodge colt hardtop\\n23.0,4,97.0,54.0,2254,23.5,72,europe,volkswagen type 3\\n20.0,4,140.0,90.0,2408,19.5,72,usa,chevrolet vega\\n21.0,4,122.0,86.0,2226,16.5,72,usa,ford pinto runabout\\n13.0,8,350.0,165.0,4274,12.0,72,usa,chevrolet impala\\n14.0,8,400.0,175.0,4385,12.0,72,usa,pontiac catalina\\n15.0,8,318.0,150.0,4135,13.5,72,usa,plymouth fury iii\\n14.0,8,351.0,153.0,4129,13.0,72,usa,ford galaxie 500\\n17.0,8,304.0,150.0,3672,11.5,72,usa,amc ambassador sst\\n11.0,8,429.0,208.0,4633,11.0,72,usa,mercury marquis\\n13.0,8,350.0,155.0,4502,13.5,72,usa,buick lesabre custom\\n12.0,8,350.0,160.0,4456,13.5,72,usa,oldsmobile delta 88 royale\\n13.0,8,400.0,190.0,4422,12.5,72,usa,chrysler newport royal\\n19.0,3,70.0,97.0,2330,13.5,72,japan,mazda rx2 coupe\\n15.0,8,304.0,150.0,3892,12.5,72,usa,amc matador (sw)\\n13.0,8,307.0,130.0,4098,14.0,72,usa,chevrolet chevelle concours (sw)\\n13.0,8,302.0,140.0,4294,16.0,72,usa,ford gran torino (sw)\\n14.0,8,318.0,150.0,4077,14.0,72,usa,plymouth satellite custom (sw)\\n18.0,4,121.0,112.0,2933,14.5,72,europe,volvo 145e (sw)\\n22.0,4,121.0,76.0,2511,18.0,72,europe,volkswagen 411 (sw)\\n21.0,4,120.0,87.0,2979,19.5,72,europe,peugeot 504 (sw)\\n26.0,4,96.0,69.0,2189,18.0,72,europe,renault 12 (sw)\\n22.0,4,122.0,86.0,2395,16.0,72,usa,ford pinto (sw)\\n28.0,4,97.0,92.0,2288,17.0,72,japan,datsun 510 (sw)\\n23.0,4,120.0,97.0,2506,14.5,72,japan,toyouta corona mark ii (sw)\\n28.0,4,98.0,80.0,2164,15.0,72,usa,dodge colt (sw)\\n27.0,4,97.0,88.0,2100,16.5,72,japan,toyota corolla 1600 (sw)\\n13.0,8,350.0,175.0,4100,13.0,73,usa,buick century 350\\n14.0,8,304.0,150.0,3672,11.5,73,usa,amc matador\\n13.0,8,350.0,145.0,3988,13.0,73,usa,chevrolet malibu\\n14.0,8,302.0,137.0,4042,14.5,73,usa,ford gran torino\\n15.0,8,318.0,150.0,3777,12.5,73,usa,dodge coronet custom\\n12.0,8,429.0,198.0,4952,11.5,73,usa,mercury marquis brougham\\n13.0,8,400.0,150.0,4464,12.0,73,usa,chevrolet caprice classic\\n13.0,8,351.0,158.0,4363,13.0,73,usa,ford ltd\\n14.0,8,318.0,150.0,4237,14.5,73,usa,plymouth fury gran sedan\\n13.0,8,440.0,215.0,4735,11.0,73,usa,chrysler new yorker brougham\\n12.0,8,455.0,225.0,4951,11.0,73,usa,buick electra 225 custom\\n13.0,8,360.0,175.0,3821,11.0,73,usa,amc ambassador brougham\\n18.0,6,225.0,105.0,3121,16.5,73,usa,plymouth valiant\\n16.0,6,250.0,100.0,3278,18.0,73,usa,chevrolet nova custom\\n18.0,6,232.0,100.0,2945,16.0,73,usa,amc hornet\\n18.0,6,250.0,88.0,3021,16.5,73,usa,ford maverick\\n23.0,6,198.0,95.0,2904,16.0,73,usa,plymouth duster\\n26.0,4,97.0,46.0,1950,21.0,73,europe,volkswagen super beetle\\n11.0,8,400.0,150.0,4997,14.0,73,usa,chevrolet impala\\n12.0,8,400.0,167.0,4906,12.5,73,usa,ford country\\n13.0,8,360.0,170.0,4654,13.0,73,usa,plymouth custom suburb\\n12.0,8,350.0,180.0,4499,12.5,73,usa,oldsmobile vista cruiser\\n18.0,6,232.0,100.0,2789,15.0,73,usa,amc gremlin\\n20.0,4,97.0,88.0,2279,19.0,73,japan,toyota carina\\n21.0,4,140.0,72.0,2401,19.5,73,usa,chevrolet vega\\n22.0,4,108.0,94.0,2379,16.5,73,japan,datsun 610\\n18.0,3,70.0,90.0,2124,13.5,73,japan,maxda rx3\\n19.0,4,122.0,85.0,2310,18.5,73,usa,ford pinto\\n21.0,6,155.0,107.0,2472,14.0,73,usa,mercury capri v6\\n26.0,4,98.0,90.0,2265,15.5,73,europe,fiat 124 sport coupe\\n15.0,8,350.0,145.0,4082,13.0,73,usa,chevrolet monte carlo s\\n16.0,8,400.0,230.0,4278,9.5,73,usa,pontiac grand prix\\n29.0,4,68.0,49.0,1867,19.5,73,europe,fiat 128\\n24.0,4,116.0,75.0,2158,15.5,73,europe,opel manta\\n20.0,4,114.0,91.0,2582,14.0,73,europe,audi 100ls\\n19.0,4,121.0,112.0,2868,15.5,73,europe,volvo 144ea\\n15.0,8,318.0,150.0,3399,11.0,73,usa,dodge dart custom\\n24.0,4,121.0,110.0,2660,14.0,73,europe,saab 99le\\n20.0,6,156.0,122.0,2807,13.5,73,japan,toyota mark ii\\n11.0,8,350.0,180.0,3664,11.0,73,usa,oldsmobile omega\\n20.0,6,198.0,95.0,3102,16.5,74,usa,plymouth duster\\n21.0,6,200.0,,2875,17.0,74,usa,ford maverick\\n19.0,6,232.0,100.0,2901,16.0,74,usa,amc hornet\\n15.0,6,250.0,100.0,3336,17.0,74,usa,chevrolet nova\\n31.0,4,79.0,67.0,1950,19.0,74,japan,datsun b210\\n26.0,4,122.0,80.0,2451,16.5,74,usa,ford pinto\\n32.0,4,71.0,65.0,1836,21.0,74,japan,toyota corolla 1200\\n25.0,4,140.0,75.0,2542,17.0,74,usa,chevrolet vega\\n16.0,6,250.0,100.0,3781,17.0,74,usa,chevrolet chevelle malibu classic\\n16.0,6,258.0,110.0,3632,18.0,74,usa,amc matador\\n18.0,6,225.0,105.0,3613,16.5,74,usa,plymouth satellite sebring\\n16.0,8,302.0,140.0,4141,14.0,74,usa,ford gran torino\\n13.0,8,350.0,150.0,4699,14.5,74,usa,buick century luxus (sw)\\n14.0,8,318.0,150.0,4457,13.5,74,usa,dodge coronet custom (sw)\\n14.0,8,302.0,140.0,4638,16.0,74,usa,ford gran torino (sw)\\n14.0,8,304.0,150.0,4257,15.5,74,usa,amc matador (sw)\\n29.0,4,98.0,83.0,2219,16.5,74,europe,audi fox\\n26.0,4,79.0,67.0,1963,15.5,74,europe,volkswagen dasher\\n26.0,4,97.0,78.0,2300,14.5,74,europe,opel manta\\n31.0,4,76.0,52.0,1649,16.5,74,japan,toyota corona\\n32.0,4,83.0,61.0,2003,19.0,74,japan,datsun 710\\n28.0,4,90.0,75.0,2125,14.5,74,usa,dodge colt\\n24.0,4,90.0,75.0,2108,15.5,74,europe,fiat 128\\n26.0,4,116.0,75.0,2246,14.0,74,europe,fiat 124 tc\\n24.0,4,120.0,97.0,2489,15.0,74,japan,honda civic\\n26.0,4,108.0,93.0,2391,15.5,74,japan,subaru\\n31.0,4,79.0,67.0,2000,16.0,74,europe,fiat x1.9\\n19.0,6,225.0,95.0,3264,16.0,75,usa,plymouth valiant custom\\n18.0,6,250.0,105.0,3459,16.0,75,usa,chevrolet nova\\n15.0,6,250.0,72.0,3432,21.0,75,usa,mercury monarch\\n15.0,6,250.0,72.0,3158,19.5,75,usa,ford maverick\\n16.0,8,400.0,170.0,4668,11.5,75,usa,pontiac catalina\\n15.0,8,350.0,145.0,4440,14.0,75,usa,chevrolet bel air\\n16.0,8,318.0,150.0,4498,14.5,75,usa,plymouth grand fury\\n14.0,8,351.0,148.0,4657,13.5,75,usa,ford ltd\\n17.0,6,231.0,110.0,3907,21.0,75,usa,buick century\\n16.0,6,250.0,105.0,3897,18.5,75,usa,chevroelt chevelle malibu\\n15.0,6,258.0,110.0,3730,19.0,75,usa,amc matador\\n18.0,6,225.0,95.0,3785,19.0,75,usa,plymouth fury\\n21.0,6,231.0,110.0,3039,15.0,75,usa,buick skyhawk\\n20.0,8,262.0,110.0,3221,13.5,75,usa,chevrolet monza 2+2\\n13.0,8,302.0,129.0,3169,12.0,75,usa,ford mustang ii\\n29.0,4,97.0,75.0,2171,16.0,75,japan,toyota corolla\\n23.0,4,140.0,83.0,2639,17.0,75,usa,ford pinto\\n20.0,6,232.0,100.0,2914,16.0,75,usa,amc gremlin\\n23.0,4,140.0,78.0,2592,18.5,75,usa,pontiac astro\\n24.0,4,134.0,96.0,2702,13.5,75,japan,toyota corona\\n25.0,4,90.0,71.0,2223,16.5,75,europe,volkswagen dasher\\n24.0,4,119.0,97.0,2545,17.0,75,japan,datsun 710\\n18.0,6,171.0,97.0,2984,14.5,75,usa,ford pinto\\n29.0,4,90.0,70.0,1937,14.0,75,europe,volkswagen rabbit\\n19.0,6,232.0,90.0,3211,17.0,75,usa,amc pacer\\n23.0,4,115.0,95.0,2694,15.0,75,europe,audi 100ls\\n23.0,4,120.0,88.0,2957,17.0,75,europe,peugeot 504\\n22.0,4,121.0,98.0,2945,14.5,75,europe,volvo 244dl\\n25.0,4,121.0,115.0,2671,13.5,75,europe,saab 99le\\n33.0,4,91.0,53.0,1795,17.5,75,japan,honda civic cvcc\\n28.0,4,107.0,86.0,2464,15.5,76,europe,fiat 131\\n25.0,4,116.0,81.0,2220,16.9,76,europe,opel 1900\\n25.0,4,140.0,92.0,2572,14.9,76,usa,capri ii\\n26.0,4,98.0,79.0,2255,17.7,76,usa,dodge colt\\n27.0,4,101.0,83.0,2202,15.3,76,europe,renault 12tl\\n17.5,8,305.0,140.0,4215,13.0,76,usa,chevrolet chevelle malibu classic\\n16.0,8,318.0,150.0,4190,13.0,76,usa,dodge coronet brougham\\n15.5,8,304.0,120.0,3962,13.9,76,usa,amc matador\\n14.5,8,351.0,152.0,4215,12.8,76,usa,ford gran torino\\n22.0,6,225.0,100.0,3233,15.4,76,usa,plymouth valiant\\n22.0,6,250.0,105.0,3353,14.5,76,usa,chevrolet nova\\n24.0,6,200.0,81.0,3012,17.6,76,usa,ford maverick\\n22.5,6,232.0,90.0,3085,17.6,76,usa,amc hornet\\n29.0,4,85.0,52.0,2035,22.2,76,usa,chevrolet chevette\\n24.5,4,98.0,60.0,2164,22.1,76,usa,chevrolet woody\\n29.0,4,90.0,70.0,1937,14.2,76,europe,vw rabbit\\n33.0,4,91.0,53.0,1795,17.4,76,japan,honda civic\\n20.0,6,225.0,100.0,3651,17.7,76,usa,dodge aspen se\\n18.0,6,250.0,78.0,3574,21.0,76,usa,ford granada ghia\\n18.5,6,250.0,110.0,3645,16.2,76,usa,pontiac ventura sj\\n17.5,6,258.0,95.0,3193,17.8,76,usa,amc pacer d/l\\n29.5,4,97.0,71.0,1825,12.2,76,europe,volkswagen rabbit\\n32.0,4,85.0,70.0,1990,17.0,76,japan,datsun b-210\\n28.0,4,97.0,75.0,2155,16.4,76,japan,toyota corolla\\n26.5,4,140.0,72.0,2565,13.6,76,usa,ford pinto\\n20.0,4,130.0,102.0,3150,15.7,76,europe,volvo 245\\n13.0,8,318.0,150.0,3940,13.2,76,usa,plymouth volare premier v8\\n19.0,4,120.0,88.0,3270,21.9,76,europe,peugeot 504\\n19.0,6,156.0,108.0,2930,15.5,76,japan,toyota mark ii\\n16.5,6,168.0,120.0,3820,16.7,76,europe,mercedes-benz 280s\\n16.5,8,350.0,180.0,4380,12.1,76,usa,cadillac seville\\n13.0,8,350.0,145.0,4055,12.0,76,usa,chevy c10\\n13.0,8,302.0,130.0,3870,15.0,76,usa,ford f108\\n13.0,8,318.0,150.0,3755,14.0,76,usa,dodge d100\\n31.5,4,98.0,68.0,2045,18.5,77,japan,honda accord cvcc\\n30.0,4,111.0,80.0,2155,14.8,77,usa,buick opel isuzu deluxe\\n36.0,4,79.0,58.0,1825,18.6,77,europe,renault 5 gtl\\n25.5,4,122.0,96.0,2300,15.5,77,usa,plymouth arrow gs\\n33.5,4,85.0,70.0,1945,16.8,77,japan,datsun f-10 hatchback\\n17.5,8,305.0,145.0,3880,12.5,77,usa,chevrolet caprice classic\\n17.0,8,260.0,110.0,4060,19.0,77,usa,oldsmobile cutlass supreme\\n15.5,8,318.0,145.0,4140,13.7,77,usa,dodge monaco brougham\\n15.0,8,302.0,130.0,4295,14.9,77,usa,mercury cougar brougham\\n17.5,6,250.0,110.0,3520,16.4,77,usa,chevrolet concours\\n20.5,6,231.0,105.0,3425,16.9,77,usa,buick skylark\\n19.0,6,225.0,100.0,3630,17.7,77,usa,plymouth volare custom\\n18.5,6,250.0,98.0,3525,19.0,77,usa,ford granada\\n16.0,8,400.0,180.0,4220,11.1,77,usa,pontiac grand prix lj\\n15.5,8,350.0,170.0,4165,11.4,77,usa,chevrolet monte carlo landau\\n15.5,8,400.0,190.0,4325,12.2,77,usa,chrysler cordoba\\n16.0,8,351.0,149.0,4335,14.5,77,usa,ford thunderbird\\n29.0,4,97.0,78.0,1940,14.5,77,europe,volkswagen rabbit custom\\n24.5,4,151.0,88.0,2740,16.0,77,usa,pontiac sunbird coupe\\n26.0,4,97.0,75.0,2265,18.2,77,japan,toyota corolla liftback\\n25.5,4,140.0,89.0,2755,15.8,77,usa,ford mustang ii 2+2\\n30.5,4,98.0,63.0,2051,17.0,77,usa,chevrolet chevette\\n33.5,4,98.0,83.0,2075,15.9,77,usa,dodge colt m/m\\n30.0,4,97.0,67.0,1985,16.4,77,japan,subaru dl\\n30.5,4,97.0,78.0,2190,14.1,77,europe,volkswagen dasher\\n22.0,6,146.0,97.0,2815,14.5,77,japan,datsun 810\\n21.5,4,121.0,110.0,2600,12.8,77,europe,bmw 320i\\n21.5,3,80.0,110.0,2720,13.5,77,japan,mazda rx-4\\n43.1,4,90.0,48.0,1985,21.5,78,europe,volkswagen rabbit custom diesel\\n36.1,4,98.0,66.0,1800,14.4,78,usa,ford fiesta\\n32.8,4,78.0,52.0,1985,19.4,78,japan,mazda glc deluxe\\n39.4,4,85.0,70.0,2070,18.6,78,japan,datsun b210 gx\\n36.1,4,91.0,60.0,1800,16.4,78,japan,honda civic cvcc\\n19.9,8,260.0,110.0,3365,15.5,78,usa,oldsmobile cutlass salon brougham\\n19.4,8,318.0,140.0,3735,13.2,78,usa,dodge diplomat\\n20.2,8,302.0,139.0,3570,12.8,78,usa,mercury monarch ghia\\n19.2,6,231.0,105.0,3535,19.2,78,usa,pontiac phoenix lj\\n20.5,6,200.0,95.0,3155,18.2,78,usa,chevrolet malibu\\n20.2,6,200.0,85.0,2965,15.8,78,usa,ford fairmont (auto)\\n25.1,4,140.0,88.0,2720,15.4,78,usa,ford fairmont (man)\\n20.5,6,225.0,100.0,3430,17.2,78,usa,plymouth volare\\n19.4,6,232.0,90.0,3210,17.2,78,usa,amc concord\\n20.6,6,231.0,105.0,3380,15.8,78,usa,buick century special\\n20.8,6,200.0,85.0,3070,16.7,78,usa,mercury zephyr\\n18.6,6,225.0,110.0,3620,18.7,78,usa,dodge aspen\\n18.1,6,258.0,120.0,3410,15.1,78,usa,amc concord d/l\\n19.2,8,305.0,145.0,3425,13.2,78,usa,chevrolet monte carlo landau\\n17.7,6,231.0,165.0,3445,13.4,78,usa,buick regal sport coupe (turbo)\\n18.1,8,302.0,139.0,3205,11.2,78,usa,ford futura\\n17.5,8,318.0,140.0,4080,13.7,78,usa,dodge magnum xe\\n30.0,4,98.0,68.0,2155,16.5,78,usa,chevrolet chevette\\n27.5,4,134.0,95.0,2560,14.2,78,japan,toyota corona\\n27.2,4,119.0,97.0,2300,14.7,78,japan,datsun 510\\n30.9,4,105.0,75.0,2230,14.5,78,usa,dodge omni\\n21.1,4,134.0,95.0,2515,14.8,78,japan,toyota celica gt liftback\\n23.2,4,156.0,105.0,2745,16.7,78,usa,plymouth sapporo\\n23.8,4,151.0,85.0,2855,17.6,78,usa,oldsmobile starfire sx\\n23.9,4,119.0,97.0,2405,14.9,78,japan,datsun 200-sx\\n20.3,5,131.0,103.0,2830,15.9,78,europe,audi 5000\\n17.0,6,163.0,125.0,3140,13.6,78,europe,volvo 264gl\\n21.6,4,121.0,115.0,2795,15.7,78,europe,saab 99gle\\n16.2,6,163.0,133.0,3410,15.8,78,europe,peugeot 604sl\\n31.5,4,89.0,71.0,1990,14.9,78,europe,volkswagen scirocco\\n29.5,4,98.0,68.0,2135,16.6,78,japan,honda accord lx\\n21.5,6,231.0,115.0,3245,15.4,79,usa,pontiac lemans v6\\n19.8,6,200.0,85.0,2990,18.2,79,usa,mercury zephyr 6\\n22.3,4,140.0,88.0,2890,17.3,79,usa,ford fairmont 4\\n20.2,6,232.0,90.0,3265,18.2,79,usa,amc concord dl 6\\n20.6,6,225.0,110.0,3360,16.6,79,usa,dodge aspen 6\\n17.0,8,305.0,130.0,3840,15.4,79,usa,chevrolet caprice classic\\n17.6,8,302.0,129.0,3725,13.4,79,usa,ford ltd landau\\n16.5,8,351.0,138.0,3955,13.2,79,usa,mercury grand marquis\\n18.2,8,318.0,135.0,3830,15.2,79,usa,dodge st. regis\\n16.9,8,350.0,155.0,4360,14.9,79,usa,buick estate wagon (sw)\\n15.5,8,351.0,142.0,4054,14.3,79,usa,ford country squire (sw)\\n19.2,8,267.0,125.0,3605,15.0,79,usa,chevrolet malibu classic (sw)\\n18.5,8,360.0,150.0,3940,13.0,79,usa,chrysler lebaron town @ country (sw)\\n31.9,4,89.0,71.0,1925,14.0,79,europe,vw rabbit custom\\n34.1,4,86.0,65.0,1975,15.2,79,japan,maxda glc deluxe\\n35.7,4,98.0,80.0,1915,14.4,79,usa,dodge colt hatchback custom\\n27.4,4,121.0,80.0,2670,15.0,79,usa,amc spirit dl\\n25.4,5,183.0,77.0,3530,20.1,79,europe,mercedes benz 300d\\n23.0,8,350.0,125.0,3900,17.4,79,usa,cadillac eldorado\\n27.2,4,141.0,71.0,3190,24.8,79,europe,peugeot 504\\n23.9,8,260.0,90.0,3420,22.2,79,usa,oldsmobile cutlass salon brougham\\n34.2,4,105.0,70.0,2200,13.2,79,usa,plymouth horizon\\n34.5,4,105.0,70.0,2150,14.9,79,usa,plymouth horizon tc3\\n31.8,4,85.0,65.0,2020,19.2,79,japan,datsun 210\\n37.3,4,91.0,69.0,2130,14.7,79,europe,fiat strada custom\\n28.4,4,151.0,90.0,2670,16.0,79,usa,buick skylark limited\\n28.8,6,173.0,115.0,2595,11.3,79,usa,chevrolet citation\\n26.8,6,173.0,115.0,2700,12.9,79,usa,oldsmobile omega brougham\\n33.5,4,151.0,90.0,2556,13.2,79,usa,pontiac phoenix\\n41.5,4,98.0,76.0,2144,14.7,80,europe,vw rabbit\\n38.1,4,89.0,60.0,1968,18.8,80,japan,toyota corolla tercel\\n32.1,4,98.0,70.0,2120,15.5,80,usa,chevrolet chevette\\n37.2,4,86.0,65.0,2019,16.4,80,japan,datsun 310\\n28.0,4,151.0,90.0,2678,16.5,80,usa,chevrolet citation\\n26.4,4,140.0,88.0,2870,18.1,80,usa,ford fairmont\\n24.3,4,151.0,90.0,3003,20.1,80,usa,amc concord\\n19.1,6,225.0,90.0,3381,18.7,80,usa,dodge aspen\\n34.3,4,97.0,78.0,2188,15.8,80,europe,audi 4000\\n29.8,4,134.0,90.0,2711,15.5,80,japan,toyota corona liftback\\n31.3,4,120.0,75.0,2542,17.5,80,japan,mazda 626\\n37.0,4,119.0,92.0,2434,15.0,80,japan,datsun 510 hatchback\\n32.2,4,108.0,75.0,2265,15.2,80,japan,toyota corolla\\n46.6,4,86.0,65.0,2110,17.9,80,japan,mazda glc\\n27.9,4,156.0,105.0,2800,14.4,80,usa,dodge colt\\n40.8,4,85.0,65.0,2110,19.2,80,japan,datsun 210\\n44.3,4,90.0,48.0,2085,21.7,80,europe,vw rabbit c (diesel)\\n43.4,4,90.0,48.0,2335,23.7,80,europe,vw dasher (diesel)\\n36.4,5,121.0,67.0,2950,19.9,80,europe,audi 5000s (diesel)\\n30.0,4,146.0,67.0,3250,21.8,80,europe,mercedes-benz 240d\\n44.6,4,91.0,67.0,1850,13.8,80,japan,honda civic 1500 gl\\n40.9,4,85.0,,1835,17.3,80,europe,renault lecar deluxe\\n33.8,4,97.0,67.0,2145,18.0,80,japan,subaru dl\\n29.8,4,89.0,62.0,1845,15.3,80,europe,vokswagen rabbit\\n32.7,6,168.0,132.0,2910,11.4,80,japan,datsun 280-zx\\n23.7,3,70.0,100.0,2420,12.5,80,japan,mazda rx-7 gs\\n35.0,4,122.0,88.0,2500,15.1,80,europe,triumph tr7 coupe\\n23.6,4,140.0,,2905,14.3,80,usa,ford mustang cobra\\n32.4,4,107.0,72.0,2290,17.0,80,japan,honda accord\\n27.2,4,135.0,84.0,2490,15.7,81,usa,plymouth reliant\\n26.6,4,151.0,84.0,2635,16.4,81,usa,buick skylark\\n25.8,4,156.0,92.0,2620,14.4,81,usa,dodge aries wagon (sw)\\n23.5,6,173.0,110.0,2725,12.6,81,usa,chevrolet citation\\n30.0,4,135.0,84.0,2385,12.9,81,usa,plymouth reliant\\n39.1,4,79.0,58.0,1755,16.9,81,japan,toyota starlet\\n39.0,4,86.0,64.0,1875,16.4,81,usa,plymouth champ\\n35.1,4,81.0,60.0,1760,16.1,81,japan,honda civic 1300\\n32.3,4,97.0,67.0,2065,17.8,81,japan,subaru\\n37.0,4,85.0,65.0,1975,19.4,81,japan,datsun 210 mpg\\n37.7,4,89.0,62.0,2050,17.3,81,japan,toyota tercel\\n34.1,4,91.0,68.0,1985,16.0,81,japan,mazda glc 4\\n34.7,4,105.0,63.0,2215,14.9,81,usa,plymouth horizon 4\\n34.4,4,98.0,65.0,2045,16.2,81,usa,ford escort 4w\\n29.9,4,98.0,65.0,2380,20.7,81,usa,ford escort 2h\\n33.0,4,105.0,74.0,2190,14.2,81,europe,volkswagen jetta\\n34.5,4,100.0,,2320,15.8,81,europe,renault 18i\\n33.7,4,107.0,75.0,2210,14.4,81,japan,honda prelude\\n32.4,4,108.0,75.0,2350,16.8,81,japan,toyota corolla\\n32.9,4,119.0,100.0,2615,14.8,81,japan,datsun 200sx\\n31.6,4,120.0,74.0,2635,18.3,81,japan,mazda 626\\n28.1,4,141.0,80.0,3230,20.4,81,europe,peugeot 505s turbo diesel\\n30.7,6,145.0,76.0,3160,19.6,81,europe,volvo diesel\\n25.4,6,168.0,116.0,2900,12.6,81,japan,toyota cressida\\n24.2,6,146.0,120.0,2930,13.8,81,japan,datsun 810 maxima\\n22.4,6,231.0,110.0,3415,15.8,81,usa,buick century\\n26.6,8,350.0,105.0,3725,19.0,81,usa,oldsmobile cutlass ls\\n20.2,6,200.0,88.0,3060,17.1,81,usa,ford granada gl\\n17.6,6,225.0,85.0,3465,16.6,81,usa,chrysler lebaron salon\\n28.0,4,112.0,88.0,2605,19.6,82,usa,chevrolet cavalier\\n27.0,4,112.0,88.0,2640,18.6,82,usa,chevrolet cavalier wagon\\n34.0,4,112.0,88.0,2395,18.0,82,usa,chevrolet cavalier 2-door\\n31.0,4,112.0,85.0,2575,16.2,82,usa,pontiac j2000 se hatchback\\n29.0,4,135.0,84.0,2525,16.0,82,usa,dodge aries se\\n27.0,4,151.0,90.0,2735,18.0,82,usa,pontiac phoenix\\n24.0,4,140.0,92.0,2865,16.4,82,usa,ford fairmont futura\\n23.0,4,151.0,,3035,20.5,82,usa,amc concord dl\\n36.0,4,105.0,74.0,1980,15.3,82,europe,volkswagen rabbit l\\n37.0,4,91.0,68.0,2025,18.2,82,japan,mazda glc custom l\\n31.0,4,91.0,68.0,1970,17.6,82,japan,mazda glc custom\\n38.0,4,105.0,63.0,2125,14.7,82,usa,plymouth horizon miser\\n36.0,4,98.0,70.0,2125,17.3,82,usa,mercury lynx l\\n36.0,4,120.0,88.0,2160,14.5,82,japan,nissan stanza xe\\n36.0,4,107.0,75.0,2205,14.5,82,japan,honda accord\\n34.0,4,108.0,70.0,2245,16.9,82,japan,toyota corolla\\n38.0,4,91.0,67.0,1965,15.0,82,japan,honda civic\\n32.0,4,91.0,67.0,1965,15.7,82,japan,honda civic (auto)\\n38.0,4,91.0,67.0,1995,16.2,82,japan,datsun 310 gx\\n25.0,6,181.0,110.0,2945,16.4,82,usa,buick century limited\\n38.0,6,262.0,85.0,3015,17.0,82,usa,oldsmobile cutlass ciera (diesel)\\n26.0,4,156.0,92.0,2585,14.5,82,usa,chrysler lebaron medallion\\n22.0,6,232.0,112.0,2835,14.7,82,usa,ford granada l\\n32.0,4,144.0,96.0,2665,13.9,82,japan,toyota celica gt\\n36.0,4,135.0,84.0,2370,13.0,82,usa,dodge charger 2.2\\n27.0,4,151.0,90.0,2950,17.3,82,usa,chevrolet camaro\\n27.0,4,140.0,86.0,2790,15.6,82,usa,ford mustang gl\\n44.0,4,97.0,52.0,2130,24.6,82,europe,vw pickup\\n32.0,4,135.0,84.0,2295,11.6,82,usa,dodge rampage\\n28.0,4,120.0,79.0,2625,18.6,82,usa,ford ranger\\n31.0,4,119.0,82.0,2720,19.4,82,usa,chevy s-10\\n\"}"
            ]
          },
          "metadata": {},
          "execution_count": 26
        }
      ]
    },
    {
      "cell_type": "code",
      "source": [
        "!ls"
      ],
      "metadata": {
        "id": "iyN5ypau-vAu",
        "outputId": "fa385ec2-6ed1-41e3-d82a-f81abc4647a0",
        "colab": {
          "base_uri": "https://localhost:8080/"
        }
      },
      "execution_count": 27,
      "outputs": [
        {
          "output_type": "stream",
          "name": "stdout",
          "text": [
            "im310-mpg.csv  olympics_1896_2004.csv  sample_data\n"
          ]
        }
      ]
    },
    {
      "cell_type": "code",
      "source": [
        "mpg =  pd.read_csv('im310-mpg.csv')\n",
        "mpg"
      ],
      "metadata": {
        "id": "qy9AFMC7954K",
        "outputId": "40177fef-8b43-4a34-9d02-0de23842a187",
        "colab": {
          "base_uri": "https://localhost:8080/",
          "height": 669
        }
      },
      "execution_count": 28,
      "outputs": [
        {
          "output_type": "execute_result",
          "data": {
            "text/plain": [
              "      mpg  cylinders  displacement  horsepower  weight  acceleration  \\\n",
              "0    18.0          8         307.0       130.0    3504          12.0   \n",
              "1    15.0          8         350.0       165.0    3693          11.5   \n",
              "2    18.0          8         318.0       150.0    3436          11.0   \n",
              "3    16.0          8         304.0       150.0    3433          12.0   \n",
              "4    17.0          8         302.0       140.0    3449          10.5   \n",
              "..    ...        ...           ...         ...     ...           ...   \n",
              "393  27.0          4         140.0        86.0    2790          15.6   \n",
              "394  44.0          4          97.0        52.0    2130          24.6   \n",
              "395  32.0          4         135.0        84.0    2295          11.6   \n",
              "396  28.0          4         120.0        79.0    2625          18.6   \n",
              "397  31.0          4         119.0        82.0    2720          19.4   \n",
              "\n",
              "     model_year  origin                       name  \n",
              "0            70     usa  chevrolet chevelle malibu  \n",
              "1            70     usa          buick skylark 320  \n",
              "2            70     usa         plymouth satellite  \n",
              "3            70     usa              amc rebel sst  \n",
              "4            70     usa                ford torino  \n",
              "..          ...     ...                        ...  \n",
              "393          82     usa            ford mustang gl  \n",
              "394          82  europe                  vw pickup  \n",
              "395          82     usa              dodge rampage  \n",
              "396          82     usa                ford ranger  \n",
              "397          82     usa                 chevy s-10  \n",
              "\n",
              "[398 rows x 9 columns]"
            ],
            "text/html": [
              "\n",
              "  <div id=\"df-55211983-5dc0-4301-b173-8fcb34cc34a5\" class=\"colab-df-container\">\n",
              "    <div>\n",
              "<style scoped>\n",
              "    .dataframe tbody tr th:only-of-type {\n",
              "        vertical-align: middle;\n",
              "    }\n",
              "\n",
              "    .dataframe tbody tr th {\n",
              "        vertical-align: top;\n",
              "    }\n",
              "\n",
              "    .dataframe thead th {\n",
              "        text-align: right;\n",
              "    }\n",
              "</style>\n",
              "<table border=\"1\" class=\"dataframe\">\n",
              "  <thead>\n",
              "    <tr style=\"text-align: right;\">\n",
              "      <th></th>\n",
              "      <th>mpg</th>\n",
              "      <th>cylinders</th>\n",
              "      <th>displacement</th>\n",
              "      <th>horsepower</th>\n",
              "      <th>weight</th>\n",
              "      <th>acceleration</th>\n",
              "      <th>model_year</th>\n",
              "      <th>origin</th>\n",
              "      <th>name</th>\n",
              "    </tr>\n",
              "  </thead>\n",
              "  <tbody>\n",
              "    <tr>\n",
              "      <th>0</th>\n",
              "      <td>18.0</td>\n",
              "      <td>8</td>\n",
              "      <td>307.0</td>\n",
              "      <td>130.0</td>\n",
              "      <td>3504</td>\n",
              "      <td>12.0</td>\n",
              "      <td>70</td>\n",
              "      <td>usa</td>\n",
              "      <td>chevrolet chevelle malibu</td>\n",
              "    </tr>\n",
              "    <tr>\n",
              "      <th>1</th>\n",
              "      <td>15.0</td>\n",
              "      <td>8</td>\n",
              "      <td>350.0</td>\n",
              "      <td>165.0</td>\n",
              "      <td>3693</td>\n",
              "      <td>11.5</td>\n",
              "      <td>70</td>\n",
              "      <td>usa</td>\n",
              "      <td>buick skylark 320</td>\n",
              "    </tr>\n",
              "    <tr>\n",
              "      <th>2</th>\n",
              "      <td>18.0</td>\n",
              "      <td>8</td>\n",
              "      <td>318.0</td>\n",
              "      <td>150.0</td>\n",
              "      <td>3436</td>\n",
              "      <td>11.0</td>\n",
              "      <td>70</td>\n",
              "      <td>usa</td>\n",
              "      <td>plymouth satellite</td>\n",
              "    </tr>\n",
              "    <tr>\n",
              "      <th>3</th>\n",
              "      <td>16.0</td>\n",
              "      <td>8</td>\n",
              "      <td>304.0</td>\n",
              "      <td>150.0</td>\n",
              "      <td>3433</td>\n",
              "      <td>12.0</td>\n",
              "      <td>70</td>\n",
              "      <td>usa</td>\n",
              "      <td>amc rebel sst</td>\n",
              "    </tr>\n",
              "    <tr>\n",
              "      <th>4</th>\n",
              "      <td>17.0</td>\n",
              "      <td>8</td>\n",
              "      <td>302.0</td>\n",
              "      <td>140.0</td>\n",
              "      <td>3449</td>\n",
              "      <td>10.5</td>\n",
              "      <td>70</td>\n",
              "      <td>usa</td>\n",
              "      <td>ford torino</td>\n",
              "    </tr>\n",
              "    <tr>\n",
              "      <th>...</th>\n",
              "      <td>...</td>\n",
              "      <td>...</td>\n",
              "      <td>...</td>\n",
              "      <td>...</td>\n",
              "      <td>...</td>\n",
              "      <td>...</td>\n",
              "      <td>...</td>\n",
              "      <td>...</td>\n",
              "      <td>...</td>\n",
              "    </tr>\n",
              "    <tr>\n",
              "      <th>393</th>\n",
              "      <td>27.0</td>\n",
              "      <td>4</td>\n",
              "      <td>140.0</td>\n",
              "      <td>86.0</td>\n",
              "      <td>2790</td>\n",
              "      <td>15.6</td>\n",
              "      <td>82</td>\n",
              "      <td>usa</td>\n",
              "      <td>ford mustang gl</td>\n",
              "    </tr>\n",
              "    <tr>\n",
              "      <th>394</th>\n",
              "      <td>44.0</td>\n",
              "      <td>4</td>\n",
              "      <td>97.0</td>\n",
              "      <td>52.0</td>\n",
              "      <td>2130</td>\n",
              "      <td>24.6</td>\n",
              "      <td>82</td>\n",
              "      <td>europe</td>\n",
              "      <td>vw pickup</td>\n",
              "    </tr>\n",
              "    <tr>\n",
              "      <th>395</th>\n",
              "      <td>32.0</td>\n",
              "      <td>4</td>\n",
              "      <td>135.0</td>\n",
              "      <td>84.0</td>\n",
              "      <td>2295</td>\n",
              "      <td>11.6</td>\n",
              "      <td>82</td>\n",
              "      <td>usa</td>\n",
              "      <td>dodge rampage</td>\n",
              "    </tr>\n",
              "    <tr>\n",
              "      <th>396</th>\n",
              "      <td>28.0</td>\n",
              "      <td>4</td>\n",
              "      <td>120.0</td>\n",
              "      <td>79.0</td>\n",
              "      <td>2625</td>\n",
              "      <td>18.6</td>\n",
              "      <td>82</td>\n",
              "      <td>usa</td>\n",
              "      <td>ford ranger</td>\n",
              "    </tr>\n",
              "    <tr>\n",
              "      <th>397</th>\n",
              "      <td>31.0</td>\n",
              "      <td>4</td>\n",
              "      <td>119.0</td>\n",
              "      <td>82.0</td>\n",
              "      <td>2720</td>\n",
              "      <td>19.4</td>\n",
              "      <td>82</td>\n",
              "      <td>usa</td>\n",
              "      <td>chevy s-10</td>\n",
              "    </tr>\n",
              "  </tbody>\n",
              "</table>\n",
              "<p>398 rows × 9 columns</p>\n",
              "</div>\n",
              "    <div class=\"colab-df-buttons\">\n",
              "\n",
              "  <div class=\"colab-df-container\">\n",
              "    <button class=\"colab-df-convert\" onclick=\"convertToInteractive('df-55211983-5dc0-4301-b173-8fcb34cc34a5')\"\n",
              "            title=\"Convert this dataframe to an interactive table.\"\n",
              "            style=\"display:none;\">\n",
              "\n",
              "  <svg xmlns=\"http://www.w3.org/2000/svg\" height=\"24px\" viewBox=\"0 -960 960 960\">\n",
              "    <path d=\"M120-120v-720h720v720H120Zm60-500h600v-160H180v160Zm220 220h160v-160H400v160Zm0 220h160v-160H400v160ZM180-400h160v-160H180v160Zm440 0h160v-160H620v160ZM180-180h160v-160H180v160Zm440 0h160v-160H620v160Z\"/>\n",
              "  </svg>\n",
              "    </button>\n",
              "\n",
              "  <style>\n",
              "    .colab-df-container {\n",
              "      display:flex;\n",
              "      gap: 12px;\n",
              "    }\n",
              "\n",
              "    .colab-df-convert {\n",
              "      background-color: #E8F0FE;\n",
              "      border: none;\n",
              "      border-radius: 50%;\n",
              "      cursor: pointer;\n",
              "      display: none;\n",
              "      fill: #1967D2;\n",
              "      height: 32px;\n",
              "      padding: 0 0 0 0;\n",
              "      width: 32px;\n",
              "    }\n",
              "\n",
              "    .colab-df-convert:hover {\n",
              "      background-color: #E2EBFA;\n",
              "      box-shadow: 0px 1px 2px rgba(60, 64, 67, 0.3), 0px 1px 3px 1px rgba(60, 64, 67, 0.15);\n",
              "      fill: #174EA6;\n",
              "    }\n",
              "\n",
              "    .colab-df-buttons div {\n",
              "      margin-bottom: 4px;\n",
              "    }\n",
              "\n",
              "    [theme=dark] .colab-df-convert {\n",
              "      background-color: #3B4455;\n",
              "      fill: #D2E3FC;\n",
              "    }\n",
              "\n",
              "    [theme=dark] .colab-df-convert:hover {\n",
              "      background-color: #434B5C;\n",
              "      box-shadow: 0px 1px 3px 1px rgba(0, 0, 0, 0.15);\n",
              "      filter: drop-shadow(0px 1px 2px rgba(0, 0, 0, 0.3));\n",
              "      fill: #FFFFFF;\n",
              "    }\n",
              "  </style>\n",
              "\n",
              "    <script>\n",
              "      const buttonEl =\n",
              "        document.querySelector('#df-55211983-5dc0-4301-b173-8fcb34cc34a5 button.colab-df-convert');\n",
              "      buttonEl.style.display =\n",
              "        google.colab.kernel.accessAllowed ? 'block' : 'none';\n",
              "\n",
              "      async function convertToInteractive(key) {\n",
              "        const element = document.querySelector('#df-55211983-5dc0-4301-b173-8fcb34cc34a5');\n",
              "        const dataTable =\n",
              "          await google.colab.kernel.invokeFunction('convertToInteractive',\n",
              "                                                    [key], {});\n",
              "        if (!dataTable) return;\n",
              "\n",
              "        const docLinkHtml = 'Like what you see? Visit the ' +\n",
              "          '<a target=\"_blank\" href=https://colab.research.google.com/notebooks/data_table.ipynb>data table notebook</a>'\n",
              "          + ' to learn more about interactive tables.';\n",
              "        element.innerHTML = '';\n",
              "        dataTable['output_type'] = 'display_data';\n",
              "        await google.colab.output.renderOutput(dataTable, element);\n",
              "        const docLink = document.createElement('div');\n",
              "        docLink.innerHTML = docLinkHtml;\n",
              "        element.appendChild(docLink);\n",
              "      }\n",
              "    </script>\n",
              "  </div>\n",
              "\n",
              "\n",
              "    <div id=\"df-ee3225ce-daff-4c9c-9b16-32c540db87a2\">\n",
              "      <button class=\"colab-df-quickchart\" onclick=\"quickchart('df-ee3225ce-daff-4c9c-9b16-32c540db87a2')\"\n",
              "                title=\"Suggest charts\"\n",
              "                style=\"display:none;\">\n",
              "\n",
              "<svg xmlns=\"http://www.w3.org/2000/svg\" height=\"24px\"viewBox=\"0 0 24 24\"\n",
              "     width=\"24px\">\n",
              "    <g>\n",
              "        <path d=\"M19 3H5c-1.1 0-2 .9-2 2v14c0 1.1.9 2 2 2h14c1.1 0 2-.9 2-2V5c0-1.1-.9-2-2-2zM9 17H7v-7h2v7zm4 0h-2V7h2v10zm4 0h-2v-4h2v4z\"/>\n",
              "    </g>\n",
              "</svg>\n",
              "      </button>\n",
              "\n",
              "<style>\n",
              "  .colab-df-quickchart {\n",
              "      --bg-color: #E8F0FE;\n",
              "      --fill-color: #1967D2;\n",
              "      --hover-bg-color: #E2EBFA;\n",
              "      --hover-fill-color: #174EA6;\n",
              "      --disabled-fill-color: #AAA;\n",
              "      --disabled-bg-color: #DDD;\n",
              "  }\n",
              "\n",
              "  [theme=dark] .colab-df-quickchart {\n",
              "      --bg-color: #3B4455;\n",
              "      --fill-color: #D2E3FC;\n",
              "      --hover-bg-color: #434B5C;\n",
              "      --hover-fill-color: #FFFFFF;\n",
              "      --disabled-bg-color: #3B4455;\n",
              "      --disabled-fill-color: #666;\n",
              "  }\n",
              "\n",
              "  .colab-df-quickchart {\n",
              "    background-color: var(--bg-color);\n",
              "    border: none;\n",
              "    border-radius: 50%;\n",
              "    cursor: pointer;\n",
              "    display: none;\n",
              "    fill: var(--fill-color);\n",
              "    height: 32px;\n",
              "    padding: 0;\n",
              "    width: 32px;\n",
              "  }\n",
              "\n",
              "  .colab-df-quickchart:hover {\n",
              "    background-color: var(--hover-bg-color);\n",
              "    box-shadow: 0 1px 2px rgba(60, 64, 67, 0.3), 0 1px 3px 1px rgba(60, 64, 67, 0.15);\n",
              "    fill: var(--button-hover-fill-color);\n",
              "  }\n",
              "\n",
              "  .colab-df-quickchart-complete:disabled,\n",
              "  .colab-df-quickchart-complete:disabled:hover {\n",
              "    background-color: var(--disabled-bg-color);\n",
              "    fill: var(--disabled-fill-color);\n",
              "    box-shadow: none;\n",
              "  }\n",
              "\n",
              "  .colab-df-spinner {\n",
              "    border: 2px solid var(--fill-color);\n",
              "    border-color: transparent;\n",
              "    border-bottom-color: var(--fill-color);\n",
              "    animation:\n",
              "      spin 1s steps(1) infinite;\n",
              "  }\n",
              "\n",
              "  @keyframes spin {\n",
              "    0% {\n",
              "      border-color: transparent;\n",
              "      border-bottom-color: var(--fill-color);\n",
              "      border-left-color: var(--fill-color);\n",
              "    }\n",
              "    20% {\n",
              "      border-color: transparent;\n",
              "      border-left-color: var(--fill-color);\n",
              "      border-top-color: var(--fill-color);\n",
              "    }\n",
              "    30% {\n",
              "      border-color: transparent;\n",
              "      border-left-color: var(--fill-color);\n",
              "      border-top-color: var(--fill-color);\n",
              "      border-right-color: var(--fill-color);\n",
              "    }\n",
              "    40% {\n",
              "      border-color: transparent;\n",
              "      border-right-color: var(--fill-color);\n",
              "      border-top-color: var(--fill-color);\n",
              "    }\n",
              "    60% {\n",
              "      border-color: transparent;\n",
              "      border-right-color: var(--fill-color);\n",
              "    }\n",
              "    80% {\n",
              "      border-color: transparent;\n",
              "      border-right-color: var(--fill-color);\n",
              "      border-bottom-color: var(--fill-color);\n",
              "    }\n",
              "    90% {\n",
              "      border-color: transparent;\n",
              "      border-bottom-color: var(--fill-color);\n",
              "    }\n",
              "  }\n",
              "</style>\n",
              "\n",
              "      <script>\n",
              "        async function quickchart(key) {\n",
              "          const quickchartButtonEl =\n",
              "            document.querySelector('#' + key + ' button');\n",
              "          quickchartButtonEl.disabled = true;  // To prevent multiple clicks.\n",
              "          quickchartButtonEl.classList.add('colab-df-spinner');\n",
              "          try {\n",
              "            const charts = await google.colab.kernel.invokeFunction(\n",
              "                'suggestCharts', [key], {});\n",
              "          } catch (error) {\n",
              "            console.error('Error during call to suggestCharts:', error);\n",
              "          }\n",
              "          quickchartButtonEl.classList.remove('colab-df-spinner');\n",
              "          quickchartButtonEl.classList.add('colab-df-quickchart-complete');\n",
              "        }\n",
              "        (() => {\n",
              "          let quickchartButtonEl =\n",
              "            document.querySelector('#df-ee3225ce-daff-4c9c-9b16-32c540db87a2 button');\n",
              "          quickchartButtonEl.style.display =\n",
              "            google.colab.kernel.accessAllowed ? 'block' : 'none';\n",
              "        })();\n",
              "      </script>\n",
              "    </div>\n",
              "\n",
              "  <div id=\"id_e668fadf-3d50-4d12-824f-5dd4f0a4289f\">\n",
              "    <style>\n",
              "      .colab-df-generate {\n",
              "        background-color: #E8F0FE;\n",
              "        border: none;\n",
              "        border-radius: 50%;\n",
              "        cursor: pointer;\n",
              "        display: none;\n",
              "        fill: #1967D2;\n",
              "        height: 32px;\n",
              "        padding: 0 0 0 0;\n",
              "        width: 32px;\n",
              "      }\n",
              "\n",
              "      .colab-df-generate:hover {\n",
              "        background-color: #E2EBFA;\n",
              "        box-shadow: 0px 1px 2px rgba(60, 64, 67, 0.3), 0px 1px 3px 1px rgba(60, 64, 67, 0.15);\n",
              "        fill: #174EA6;\n",
              "      }\n",
              "\n",
              "      [theme=dark] .colab-df-generate {\n",
              "        background-color: #3B4455;\n",
              "        fill: #D2E3FC;\n",
              "      }\n",
              "\n",
              "      [theme=dark] .colab-df-generate:hover {\n",
              "        background-color: #434B5C;\n",
              "        box-shadow: 0px 1px 3px 1px rgba(0, 0, 0, 0.15);\n",
              "        filter: drop-shadow(0px 1px 2px rgba(0, 0, 0, 0.3));\n",
              "        fill: #FFFFFF;\n",
              "      }\n",
              "    </style>\n",
              "    <button class=\"colab-df-generate\" onclick=\"generateWithVariable('mpg')\"\n",
              "            title=\"Generate code using this dataframe.\"\n",
              "            style=\"display:none;\">\n",
              "\n",
              "  <svg xmlns=\"http://www.w3.org/2000/svg\" height=\"24px\"viewBox=\"0 0 24 24\"\n",
              "       width=\"24px\">\n",
              "    <path d=\"M7,19H8.4L18.45,9,17,7.55,7,17.6ZM5,21V16.75L18.45,3.32a2,2,0,0,1,2.83,0l1.4,1.43a1.91,1.91,0,0,1,.58,1.4,1.91,1.91,0,0,1-.58,1.4L9.25,21ZM18.45,9,17,7.55Zm-12,3A5.31,5.31,0,0,0,4.9,8.1,5.31,5.31,0,0,0,1,6.5,5.31,5.31,0,0,0,4.9,4.9,5.31,5.31,0,0,0,6.5,1,5.31,5.31,0,0,0,8.1,4.9,5.31,5.31,0,0,0,12,6.5,5.46,5.46,0,0,0,6.5,12Z\"/>\n",
              "  </svg>\n",
              "    </button>\n",
              "    <script>\n",
              "      (() => {\n",
              "      const buttonEl =\n",
              "        document.querySelector('#id_e668fadf-3d50-4d12-824f-5dd4f0a4289f button.colab-df-generate');\n",
              "      buttonEl.style.display =\n",
              "        google.colab.kernel.accessAllowed ? 'block' : 'none';\n",
              "\n",
              "      buttonEl.onclick = () => {\n",
              "        google.colab.notebook.generateWithVariable('mpg');\n",
              "      }\n",
              "      })();\n",
              "    </script>\n",
              "  </div>\n",
              "\n",
              "    </div>\n",
              "  </div>\n"
            ],
            "application/vnd.google.colaboratory.intrinsic+json": {
              "type": "dataframe",
              "variable_name": "mpg",
              "summary": "{\n  \"name\": \"mpg\",\n  \"rows\": 398,\n  \"fields\": [\n    {\n      \"column\": \"mpg\",\n      \"properties\": {\n        \"dtype\": \"number\",\n        \"std\": 7.815984312565782,\n        \"min\": 9.0,\n        \"max\": 46.6,\n        \"num_unique_values\": 129,\n        \"samples\": [\n          17.7,\n          30.5,\n          30.0\n        ],\n        \"semantic_type\": \"\",\n        \"description\": \"\"\n      }\n    },\n    {\n      \"column\": \"cylinders\",\n      \"properties\": {\n        \"dtype\": \"number\",\n        \"std\": 1,\n        \"min\": 3,\n        \"max\": 8,\n        \"num_unique_values\": 5,\n        \"samples\": [\n          4,\n          5,\n          6\n        ],\n        \"semantic_type\": \"\",\n        \"description\": \"\"\n      }\n    },\n    {\n      \"column\": \"displacement\",\n      \"properties\": {\n        \"dtype\": \"number\",\n        \"std\": 104.26983817119581,\n        \"min\": 68.0,\n        \"max\": 455.0,\n        \"num_unique_values\": 82,\n        \"samples\": [\n          122.0,\n          307.0,\n          360.0\n        ],\n        \"semantic_type\": \"\",\n        \"description\": \"\"\n      }\n    },\n    {\n      \"column\": \"horsepower\",\n      \"properties\": {\n        \"dtype\": \"number\",\n        \"std\": 38.49115993282855,\n        \"min\": 46.0,\n        \"max\": 230.0,\n        \"num_unique_values\": 93,\n        \"samples\": [\n          92.0,\n          100.0,\n          52.0\n        ],\n        \"semantic_type\": \"\",\n        \"description\": \"\"\n      }\n    },\n    {\n      \"column\": \"weight\",\n      \"properties\": {\n        \"dtype\": \"number\",\n        \"std\": 846,\n        \"min\": 1613,\n        \"max\": 5140,\n        \"num_unique_values\": 351,\n        \"samples\": [\n          3730,\n          1995,\n          2215\n        ],\n        \"semantic_type\": \"\",\n        \"description\": \"\"\n      }\n    },\n    {\n      \"column\": \"acceleration\",\n      \"properties\": {\n        \"dtype\": \"number\",\n        \"std\": 2.7576889298126757,\n        \"min\": 8.0,\n        \"max\": 24.8,\n        \"num_unique_values\": 95,\n        \"samples\": [\n          14.7,\n          18.0,\n          14.3\n        ],\n        \"semantic_type\": \"\",\n        \"description\": \"\"\n      }\n    },\n    {\n      \"column\": \"model_year\",\n      \"properties\": {\n        \"dtype\": \"number\",\n        \"std\": 3,\n        \"min\": 70,\n        \"max\": 82,\n        \"num_unique_values\": 13,\n        \"samples\": [\n          81,\n          79,\n          70\n        ],\n        \"semantic_type\": \"\",\n        \"description\": \"\"\n      }\n    },\n    {\n      \"column\": \"origin\",\n      \"properties\": {\n        \"dtype\": \"category\",\n        \"num_unique_values\": 3,\n        \"samples\": [\n          \"usa\",\n          \"japan\",\n          \"europe\"\n        ],\n        \"semantic_type\": \"\",\n        \"description\": \"\"\n      }\n    },\n    {\n      \"column\": \"name\",\n      \"properties\": {\n        \"dtype\": \"string\",\n        \"num_unique_values\": 305,\n        \"samples\": [\n          \"mazda rx-4\",\n          \"ford f108\",\n          \"buick century luxus (sw)\"\n        ],\n        \"semantic_type\": \"\",\n        \"description\": \"\"\n      }\n    }\n  ]\n}"
            }
          },
          "metadata": {},
          "execution_count": 28
        }
      ]
    },
    {
      "cell_type": "code",
      "source": [],
      "metadata": {
        "id": "HMT-uLXYvbKU"
      },
      "execution_count": null,
      "outputs": []
    },
    {
      "cell_type": "markdown",
      "metadata": {
        "id": "LRcakh4dQzWs"
      },
      "source": [
        "## Get an overview of the data and displaying it"
      ]
    },
    {
      "cell_type": "code",
      "source": [
        "!pip install --quiet pandas==2.0.2\n",
        "\n",
        "import pandas as pd\n",
        "from pathlib import Path\n",
        "\n",
        "if not Path(\"olympics_1896_2004.csv\").exists():\n",
        "  !wget https://github.com/jonfernandes/pandas_essential/raw/main/olympics_1896_2004.csv\n",
        "\n",
        "filename = \"olympics_1896_2004.csv\"\n",
        "print(\"Installed all of the necessary files for this section ...\")"
      ],
      "metadata": {
        "id": "wL5WNwGHZlOK"
      },
      "execution_count": null,
      "outputs": []
    },
    {
      "cell_type": "code",
      "execution_count": null,
      "metadata": {
        "id": "JDZYsEWnzkGK"
      },
      "outputs": [],
      "source": [
        "oo = pd.read_csv(filename, skiprows=5)\n",
        "oo"
      ]
    },
    {
      "cell_type": "code",
      "execution_count": null,
      "metadata": {
        "id": "o3NIzDxyQzWs"
      },
      "outputs": [],
      "source": [
        "oo.shape"
      ]
    },
    {
      "cell_type": "code",
      "source": [
        "oo.shape?"
      ],
      "metadata": {
        "id": "B6asCtrReVJ5"
      },
      "execution_count": null,
      "outputs": []
    },
    {
      "cell_type": "code",
      "execution_count": null,
      "metadata": {
        "id": "0PCE_iXpQzWt"
      },
      "outputs": [],
      "source": [
        "oo.head()"
      ]
    },
    {
      "cell_type": "code",
      "execution_count": null,
      "metadata": {
        "id": "k7QFGUXEy8wk"
      },
      "outputs": [],
      "source": [
        "oo.head?"
      ]
    },
    {
      "cell_type": "code",
      "execution_count": null,
      "metadata": {
        "id": "VCOdQQZg9uVN"
      },
      "outputs": [],
      "source": [
        "oo.head(3)"
      ]
    },
    {
      "cell_type": "code",
      "execution_count": null,
      "metadata": {
        "id": "B_P8jwG0QzWt"
      },
      "outputs": [],
      "source": [
        "oo.tail()"
      ]
    },
    {
      "cell_type": "code",
      "execution_count": null,
      "metadata": {
        "id": "f5rgxIri9xlj"
      },
      "outputs": [],
      "source": [
        "oo.sample(5)"
      ]
    },
    {
      "cell_type": "code",
      "source": [
        "oo.sample?"
      ],
      "metadata": {
        "id": "Pj4QBYANegDD"
      },
      "execution_count": null,
      "outputs": []
    },
    {
      "cell_type": "code",
      "execution_count": null,
      "metadata": {
        "id": "oyvg0lNQQzWu"
      },
      "outputs": [],
      "source": [
        "oo.info()"
      ]
    },
    {
      "cell_type": "code",
      "execution_count": null,
      "metadata": {
        "id": "aNUD6Ndobv4U"
      },
      "outputs": [],
      "source": [
        "oo.describe()"
      ]
    },
    {
      "cell_type": "code",
      "execution_count": null,
      "metadata": {
        "id": "CMuwyzFyWvq4"
      },
      "outputs": [],
      "source": [
        "pd.get_option(\"display.max_rows\")"
      ]
    },
    {
      "cell_type": "code",
      "execution_count": null,
      "metadata": {
        "id": "3pZ5LHvnV7TA"
      },
      "outputs": [],
      "source": [
        "pd.set_option(\"display.max_rows\", None)\n",
        "oo"
      ]
    },
    {
      "cell_type": "code",
      "execution_count": null,
      "metadata": {
        "id": "44cpSDDbWEoT"
      },
      "outputs": [],
      "source": [
        "pd.set_option(\"display.max_rows\", 60)\n",
        "oo"
      ]
    },
    {
      "cell_type": "code",
      "source": [
        "pd.get_option(\"display.max_columns\")"
      ],
      "metadata": {
        "id": "6LC6MhhvkJ7w"
      },
      "execution_count": null,
      "outputs": []
    },
    {
      "cell_type": "code",
      "source": [
        "pd.get_option(\"display.width\")"
      ],
      "metadata": {
        "id": "OodXDgN0k3_6"
      },
      "execution_count": null,
      "outputs": []
    },
    {
      "cell_type": "code",
      "source": [
        "pd.set_option(\"display.width\", 100)"
      ],
      "metadata": {
        "id": "3I4G6skCk_-w"
      },
      "execution_count": null,
      "outputs": []
    },
    {
      "cell_type": "markdown",
      "metadata": {
        "id": "vto6K36OcbBY"
      },
      "source": [
        "## Select a Series (column)"
      ]
    },
    {
      "cell_type": "code",
      "source": [
        "!pip install --quiet pandas==2.0.2\n",
        "\n",
        "import pandas as pd\n",
        "from pathlib import Path\n",
        "\n",
        "if not Path(\"olympics_1896_2004.csv\").exists():\n",
        "  !wget https://github.com/jonfernandes/pandas_essential/raw/main/olympics_1896_2004.csv\n",
        "\n",
        "filename = \"olympics_1896_2004.csv\"\n",
        "print(\"Installed all of the necessary files for this section ...\")"
      ],
      "metadata": {
        "id": "tpDuBbu6aqdo"
      },
      "execution_count": null,
      "outputs": []
    },
    {
      "cell_type": "code",
      "execution_count": null,
      "metadata": {
        "id": "K9h2_rrOiztl"
      },
      "outputs": [],
      "source": [
        "oo = pd.read_csv(filename, skiprows=5)\n",
        "oo.sample(3)"
      ]
    },
    {
      "cell_type": "code",
      "execution_count": null,
      "metadata": {
        "id": "SYDcU5ydfcOA"
      },
      "outputs": [],
      "source": [
        "type(oo)"
      ]
    },
    {
      "cell_type": "code",
      "execution_count": null,
      "metadata": {
        "id": "QGyLHeXechHL"
      },
      "outputs": [],
      "source": [
        "oo[\"Discipline\"]"
      ]
    },
    {
      "cell_type": "code",
      "execution_count": null,
      "metadata": {
        "id": "03mViRO_jVle"
      },
      "outputs": [],
      "source": [
        "oo['Discipline']"
      ]
    },
    {
      "cell_type": "code",
      "execution_count": null,
      "metadata": {
        "id": "fHkIb8rBchHM"
      },
      "outputs": [],
      "source": [
        "#oo[\"discipline\"]"
      ]
    },
    {
      "cell_type": "code",
      "execution_count": null,
      "metadata": {
        "id": "YAftK9Qvj9nv"
      },
      "outputs": [],
      "source": [
        "type(oo[\"Discipline\"])"
      ]
    },
    {
      "cell_type": "code",
      "execution_count": null,
      "metadata": {
        "id": "yKj8_1ZPchHM"
      },
      "outputs": [],
      "source": [
        "oo.Discipline"
      ]
    },
    {
      "cell_type": "code",
      "execution_count": null,
      "metadata": {
        "id": "VbDpqF7ajkRz"
      },
      "outputs": [],
      "source": [
        "oo.columns"
      ]
    },
    {
      "cell_type": "code",
      "execution_count": null,
      "metadata": {
        "id": "c_g6y8_ochHM"
      },
      "outputs": [],
      "source": [
        "oo[\"Athlete Name\"]"
      ]
    },
    {
      "cell_type": "code",
      "execution_count": null,
      "metadata": {
        "id": "LUj-Fr0ichHM"
      },
      "outputs": [],
      "source": [
        "#oo.Athlete Name"
      ]
    },
    {
      "cell_type": "code",
      "source": [
        "oo.sample(3)"
      ],
      "metadata": {
        "id": "MRnsL11AoJJY"
      },
      "execution_count": null,
      "outputs": []
    },
    {
      "cell_type": "code",
      "source": [
        "oo.Year.unique()"
      ],
      "metadata": {
        "id": "yRHMYUlbnvR9"
      },
      "execution_count": null,
      "outputs": []
    },
    {
      "cell_type": "code",
      "source": [
        "oo.Year.unique?"
      ],
      "metadata": {
        "id": "GGX0bbMNoRNa"
      },
      "execution_count": null,
      "outputs": []
    },
    {
      "cell_type": "code",
      "source": [
        "oo.Sport.unique()"
      ],
      "metadata": {
        "id": "C6oOf_7Zn9eS"
      },
      "execution_count": null,
      "outputs": []
    },
    {
      "cell_type": "code",
      "source": [
        "oo.sample(3)"
      ],
      "metadata": {
        "id": "_7eyeVfEoXJg"
      },
      "execution_count": null,
      "outputs": []
    },
    {
      "cell_type": "code",
      "source": [
        "oo.Year.value_counts()"
      ],
      "metadata": {
        "id": "HlLqBDkaodQx"
      },
      "execution_count": null,
      "outputs": []
    },
    {
      "cell_type": "code",
      "source": [
        "oo.Year.value_counts?"
      ],
      "metadata": {
        "id": "4bDPb1J8o-8p"
      },
      "execution_count": null,
      "outputs": []
    },
    {
      "cell_type": "code",
      "source": [
        "oo.Year.value_counts(normalize=True)"
      ],
      "metadata": {
        "id": "VH4wKXONpYwh"
      },
      "execution_count": null,
      "outputs": []
    },
    {
      "cell_type": "markdown",
      "source": [
        "## Challenge"
      ],
      "metadata": {
        "id": "Y7NNcfO4xlea"
      }
    },
    {
      "cell_type": "markdown",
      "source": [
        "Answer the following questions. Indicate the Pandas command where relevant.\n",
        "\n",
        "1.   What is the time range covered in this dataset?\n",
        "2.   The Olympics take place every 4 years. Why are there missing years?\n",
        "3.   What are the types of medals awarded?\n",
        "4.   Across all of the Olympic Games, how many Gold, Silver and Bronze medals have there been?\n",
        "5.   Why are there not an equal number of Gold, Silver and Bronze medals?\n",
        "6.   There are more Gold medals than Silver, and more Silver than Bronze. Why might that be?\n",
        "7.   What are the different NOCs (National Olympic Committees)\n",
        "8.   What does the NOC 'ZZX' represent?\n",
        "\n",
        "\n"
      ],
      "metadata": {
        "id": "8zCUnsNAxo-g"
      }
    },
    {
      "cell_type": "markdown",
      "source": [
        "##Solution"
      ],
      "metadata": {
        "id": "cXD8zRjrB0vc"
      }
    },
    {
      "cell_type": "code",
      "source": [
        "!pip install --quiet pandas==2.0.2\n",
        "\n",
        "import pandas as pd\n",
        "from pathlib import Path\n",
        "\n",
        "if not Path(\"olympics_1896_2004.csv\").exists():\n",
        "  !wget https://github.com/jonfernandes/pandas_essential/raw/main/olympics_1896_2004.csv\n",
        "\n",
        "filename = \"olympics_1896_2004.csv\"\n",
        "print(\"Installed all of the necessary files for this section ...\")"
      ],
      "metadata": {
        "id": "gTUIMlWPCDnR"
      },
      "execution_count": null,
      "outputs": []
    },
    {
      "cell_type": "markdown",
      "source": [
        "1. What is the time range covered in this dataset?"
      ],
      "metadata": {
        "id": "-j8eT2c2CN7g"
      }
    },
    {
      "cell_type": "code",
      "source": [
        "oo.Year.unique()"
      ],
      "metadata": {
        "id": "ZSs_CV6SB5wf"
      },
      "execution_count": null,
      "outputs": []
    },
    {
      "cell_type": "markdown",
      "source": [
        "2. The Olympics take place every 4 years. Why are there missing years?\n",
        "- World War 1: 1914-1918\n",
        "- World War 2: 1939-1945"
      ],
      "metadata": {
        "id": "PdU9kXBqHUVx"
      }
    },
    {
      "cell_type": "markdown",
      "source": [
        "3. What are the types of medals awarded?"
      ],
      "metadata": {
        "id": "FO4CF7mACXgJ"
      }
    },
    {
      "cell_type": "code",
      "source": [
        "oo.Medal.unique()"
      ],
      "metadata": {
        "id": "z_gSubsK7GjH"
      },
      "execution_count": null,
      "outputs": []
    },
    {
      "cell_type": "markdown",
      "source": [
        "4. Across all of the Olympics, how many Gold, Silver and Bronze medals have there been?"
      ],
      "metadata": {
        "id": "maVn15rhChhr"
      }
    },
    {
      "cell_type": "code",
      "source": [
        "oo.Medal.value_counts()"
      ],
      "metadata": {
        "id": "4NrbRaLP7_kp"
      },
      "execution_count": null,
      "outputs": []
    },
    {
      "cell_type": "markdown",
      "source": [
        "5. Why are there not an equal number of Gold, Silver and Bronze medals?\n",
        "- Tied results\n",
        "- Team events\n",
        "- Disqualifications"
      ],
      "metadata": {
        "id": "L0BaqP40Cvja"
      }
    },
    {
      "cell_type": "code",
      "source": [
        "oo.head(10)"
      ],
      "metadata": {
        "id": "pmyToiQBIsmO"
      },
      "execution_count": null,
      "outputs": []
    },
    {
      "cell_type": "markdown",
      "source": [
        "6. There are more Gold medals than Silver, and more Silver than Bronze. Why might that be?\n",
        "\n",
        "Men's 100km cycling\n",
        "- https://en.wikipedia.org/wiki/Cycling_at_the_1896_Summer_Olympics_%E2%80%93_Men%27s_100_kilometres\n",
        "- https://en.wikipedia.org/wiki/Aristidis_Konstantinidis\n",
        "\n",
        "Men's 100m freestyle (1896)\n",
        "- https://en.wikipedia.org/wiki/Swimming_at_the_1896_Summer_Olympics_%E2%80%93_Men%27s_100_metre_freestyle\n"
      ],
      "metadata": {
        "id": "QTvM7ugqKpZz"
      }
    },
    {
      "cell_type": "markdown",
      "source": [
        "7. What are the different NOCs (National Olympic Committees)\n"
      ],
      "metadata": {
        "id": "oARaNXGtOiK_"
      }
    },
    {
      "cell_type": "code",
      "source": [
        "oo.NOC.unique()"
      ],
      "metadata": {
        "id": "uWY4zpb4O2v0"
      },
      "execution_count": null,
      "outputs": []
    },
    {
      "cell_type": "markdown",
      "source": [
        "8. What does the NOC 'ZZX' represent?\n",
        "- https://en.wikipedia.org/wiki/Mixed_teams_at_the_Olympics"
      ],
      "metadata": {
        "id": "02ouyDJvO5On"
      }
    },
    {
      "cell_type": "markdown",
      "metadata": {
        "id": "dVneSuG42rEV"
      },
      "source": [
        "## Python Lists and Dictionaries"
      ]
    },
    {
      "cell_type": "code",
      "execution_count": null,
      "metadata": {
        "id": "yaMoREyw2ugU"
      },
      "outputs": [],
      "source": [
        "medals = [\"Gold\", \"Silver\", \"Bronze\"]\n",
        "medals"
      ]
    },
    {
      "cell_type": "code",
      "execution_count": null,
      "metadata": {
        "id": "6KcUdX414wX0"
      },
      "outputs": [],
      "source": [
        "type(medals)"
      ]
    },
    {
      "cell_type": "code",
      "execution_count": null,
      "metadata": {
        "id": "q1xsb6BG5CWv"
      },
      "outputs": [],
      "source": [
        "position = {\"First\": \"Gold\",\n",
        "            \"Second\": \"Silver\",\n",
        "            \"Third\": \"Bronze\"\n",
        "}\n",
        "position"
      ]
    },
    {
      "cell_type": "code",
      "execution_count": null,
      "metadata": {
        "id": "T-4bqeTz-tyH"
      },
      "outputs": [],
      "source": [
        "type(position)"
      ]
    },
    {
      "cell_type": "code",
      "execution_count": null,
      "metadata": {
        "id": "s5wBJSTq-gqd"
      },
      "outputs": [],
      "source": [
        "position[\"First\"]"
      ]
    },
    {
      "cell_type": "markdown",
      "metadata": {
        "id": "Ckw-4M9hpoa3"
      },
      "source": [
        "## Rename a series (or column)"
      ]
    },
    {
      "cell_type": "code",
      "source": [
        "!pip install --quiet pandas==2.0.2\n",
        "\n",
        "import pandas as pd\n",
        "from pathlib import Path\n",
        "\n",
        "if not Path(\"olympics_1896_2004.csv\").exists():\n",
        "  !wget https://github.com/jonfernandes/pandas_essential/raw/main/olympics_1896_2004.csv\n",
        "\n",
        "filename = \"olympics_1896_2004.csv\"\n",
        "print(\"Installed all of the necessary files for this section ...\")"
      ],
      "metadata": {
        "id": "ZkvEYRvXbZBQ"
      },
      "execution_count": null,
      "outputs": []
    },
    {
      "cell_type": "code",
      "execution_count": null,
      "metadata": {
        "id": "GuCHMPABqCOg"
      },
      "outputs": [],
      "source": [
        "oo = pd.read_csv(filename, skiprows=5)\n",
        "oo.sample(3)"
      ]
    },
    {
      "cell_type": "code",
      "execution_count": null,
      "metadata": {
        "id": "aBkPYBGSqZdy"
      },
      "outputs": [],
      "source": [
        "mapper = {\"Athlete Name\": \"Athlete_Name\",\n",
        "          \"Event Gender\": \"Event_Gender\"}"
      ]
    },
    {
      "cell_type": "code",
      "source": [
        "oo.rename?"
      ],
      "metadata": {
        "id": "BGhEHsDscPRn"
      },
      "execution_count": null,
      "outputs": []
    },
    {
      "cell_type": "code",
      "execution_count": null,
      "metadata": {
        "id": "IXlHzMRFqGVP"
      },
      "outputs": [],
      "source": [
        "oo.rename(columns=mapper)"
      ]
    },
    {
      "cell_type": "code",
      "execution_count": null,
      "metadata": {
        "id": "Xr3XjUKFqxBu"
      },
      "outputs": [],
      "source": [
        "oo.sample(3)"
      ]
    },
    {
      "cell_type": "code",
      "execution_count": null,
      "metadata": {
        "id": "nDNiC7Uvq4o4"
      },
      "outputs": [],
      "source": [
        "oo = oo.rename(columns=mapper)\n",
        "oo.sample(3)"
      ]
    },
    {
      "cell_type": "code",
      "source": [
        "oo = pd.read_csv(filename, skiprows=5).rename(columns=mapper)\n",
        "oo.sample(3)"
      ],
      "metadata": {
        "id": "7IGqoCWcbvHc"
      },
      "execution_count": null,
      "outputs": []
    },
    {
      "cell_type": "code",
      "execution_count": null,
      "metadata": {
        "id": "jXX7uTomrDKG"
      },
      "outputs": [],
      "source": [
        "oo = pd.read_csv(filename, skiprows=5)\n",
        "oo = oo.rename(columns={\"Athlete Name\": \"Athlete_Name\", \"Event Gender\": \"Event_Gender\"})\n",
        "oo.sample(3)"
      ]
    },
    {
      "cell_type": "code",
      "execution_count": null,
      "metadata": {
        "id": "kMbTKuQ5rj1I"
      },
      "outputs": [],
      "source": [
        "oo = pd.read_csv(filename, skiprows=5)\n",
        "oo.columns"
      ]
    },
    {
      "cell_type": "code",
      "execution_count": null,
      "metadata": {
        "id": "i2BiQO6Crp6a"
      },
      "outputs": [],
      "source": [
        "column_names = ['Year', 'City', 'Sport', 'Discipline', 'Athlete_Name', 'NOC', 'Gender',\n",
        "       'Event', 'Event_Gender', 'Medal', 'Position']\n",
        "oo.columns = column_names\n",
        "oo.sample(3)"
      ]
    },
    {
      "cell_type": "code",
      "execution_count": null,
      "metadata": {
        "id": "hFOa9jTjr-4m"
      },
      "outputs": [],
      "source": [
        "oo = pd.read_csv(filename, skiprows=5)\n",
        "oo.sample(3)"
      ]
    },
    {
      "cell_type": "code",
      "execution_count": null,
      "metadata": {
        "id": "X3Wc_Xy1swWe"
      },
      "outputs": [],
      "source": [
        "oo = pd.read_csv(filename, skiprows=5, names=column_names)\n",
        "oo.head()"
      ]
    },
    {
      "cell_type": "code",
      "execution_count": null,
      "metadata": {
        "id": "Slv2MGpztEvf"
      },
      "outputs": [],
      "source": [
        "oo = pd.read_csv(filename, skiprows=5, names=column_names, header=0)\n",
        "oo.head()"
      ]
    },
    {
      "cell_type": "markdown",
      "metadata": {
        "id": "W9Nhfv3LkjL0"
      },
      "source": [
        "## Remove a Series (column) or row"
      ]
    },
    {
      "cell_type": "code",
      "source": [
        "!pip install --quiet pandas==2.0.2\n",
        "\n",
        "import pandas as pd\n",
        "from pathlib import Path\n",
        "\n",
        "if not Path(\"olympics_1896_2004.csv\").exists():\n",
        "  !wget https://github.com/jonfernandes/pandas_essential/raw/main/olympics_1896_2004.csv\n",
        "\n",
        "filename = \"olympics_1896_2004.csv\"\n",
        "print(\"Installed all of the necessary files for this section ...\")"
      ],
      "metadata": {
        "id": "wyyfLAZYcyey"
      },
      "execution_count": null,
      "outputs": []
    },
    {
      "cell_type": "code",
      "execution_count": null,
      "metadata": {
        "id": "Jvu3BkX8pEx6"
      },
      "outputs": [],
      "source": [
        "oo = pd.read_csv(filename, skiprows=5)\n",
        "oo.sample(3)"
      ]
    },
    {
      "cell_type": "code",
      "execution_count": null,
      "metadata": {
        "id": "20cP8jKNpI-b"
      },
      "outputs": [],
      "source": [
        "oo.drop('Position', axis=1)"
      ]
    },
    {
      "cell_type": "code",
      "source": [
        "#oo.drop('Position', axis=0)"
      ],
      "metadata": {
        "id": "G3EbLvxuY50E"
      },
      "execution_count": null,
      "outputs": []
    },
    {
      "cell_type": "code",
      "execution_count": null,
      "metadata": {
        "id": "1dHlMJCCpf3C"
      },
      "outputs": [],
      "source": [
        "oo.sample(3)"
      ]
    },
    {
      "cell_type": "code",
      "source": [
        "oo = oo.drop('Position', axis=1)\n",
        "oo.sample(3)"
      ],
      "metadata": {
        "id": "3X4HbXnaZeBw"
      },
      "execution_count": null,
      "outputs": []
    },
    {
      "cell_type": "code",
      "source": [
        "oo = pd.read_csv(filename, skiprows=5).drop('Position', axis=1)\n",
        "oo.sample(3)"
      ],
      "metadata": {
        "id": "Fq1lyaCpajT4"
      },
      "execution_count": null,
      "outputs": []
    },
    {
      "cell_type": "code",
      "source": [
        "oo = (pd.read_csv(filename, skiprows=5)\n",
        "      .drop('Position', axis=1)\n",
        ")\n",
        "oo.sample(3)"
      ],
      "metadata": {
        "id": "ZhTF2wwh2xfr"
      },
      "execution_count": null,
      "outputs": []
    },
    {
      "cell_type": "code",
      "source": [
        "oo = (pd.read_csv(filename, skiprows=5)\n",
        "      .drop('Position', axis=1)\n",
        ")\n",
        "oo.sample(3)"
      ],
      "metadata": {
        "id": "mpxeqJaSa0SH"
      },
      "execution_count": null,
      "outputs": []
    },
    {
      "cell_type": "code",
      "source": [
        "oo = pd.read_csv(filename, skiprows=5)\n",
        "oo.drop('Position', axis=1, inplace=True)\n",
        "oo.sample(3)"
      ],
      "metadata": {
        "id": "FwsO7VDt3Idt"
      },
      "execution_count": null,
      "outputs": []
    },
    {
      "cell_type": "code",
      "execution_count": null,
      "metadata": {
        "id": "r_0NfmZAputk"
      },
      "outputs": [],
      "source": [
        "#oo = (pd.read_csv(filename, skiprows=5)\n",
        "#      .drop('Position', axis=1, inplace=True)\n",
        "#)\n",
        "#oo.sample(3)"
      ]
    },
    {
      "cell_type": "code",
      "source": [
        "oo.drop?"
      ],
      "metadata": {
        "id": "tRDLq3HuZ1pK"
      },
      "execution_count": null,
      "outputs": []
    },
    {
      "cell_type": "code",
      "execution_count": null,
      "metadata": {
        "id": "K8jXziF_p5dJ"
      },
      "outputs": [],
      "source": [
        "oo = (pd.read_csv(filename, skiprows=5)\n",
        "      .drop('Position', axis=1)\n",
        ")\n",
        "oo.sample(3)"
      ]
    },
    {
      "cell_type": "code",
      "execution_count": null,
      "metadata": {
        "id": "bwjWbu26qOle"
      },
      "outputs": [],
      "source": [
        "oo.head(3)"
      ]
    },
    {
      "cell_type": "code",
      "execution_count": null,
      "metadata": {
        "id": "SCzu6DsFqUNn"
      },
      "outputs": [],
      "source": [
        "oo = (pd.read_csv(filename, skiprows=5)\n",
        "      .drop(2, axis=0)\n",
        ")\n",
        "oo.head(3)"
      ]
    },
    {
      "cell_type": "code",
      "execution_count": null,
      "metadata": {
        "id": "OyPaiwdAr7wT"
      },
      "outputs": [],
      "source": [
        "oo = (pd.read_csv(filename, skiprows=5)\n",
        "      .drop([0, 1, 3], axis=0)\n",
        ")\n",
        "oo.head(3)"
      ]
    },
    {
      "cell_type": "code",
      "execution_count": null,
      "metadata": {
        "id": "O7kPV4fXsPpT"
      },
      "outputs": [],
      "source": [
        "oo = oo.drop(['City', 'Sport'], axis=1)\n",
        "oo.head(3)"
      ]
    },
    {
      "cell_type": "code",
      "execution_count": null,
      "metadata": {
        "id": "zP14TUgHrAWV"
      },
      "outputs": [],
      "source": [
        "oo = (pd.read_csv(filename, skiprows=5)\n",
        "      .drop('Position', axis=1)\n",
        ")\n",
        "oo.sample(3)"
      ]
    },
    {
      "cell_type": "code",
      "source": [
        "pd.merge?"
      ],
      "metadata": {
        "id": "Kn5U4c_6etcq"
      },
      "execution_count": null,
      "outputs": []
    },
    {
      "cell_type": "code",
      "source": [
        "pd.concat?"
      ],
      "metadata": {
        "id": "xeu9LEEPe1E9"
      },
      "execution_count": null,
      "outputs": []
    },
    {
      "cell_type": "code",
      "source": [
        "oo.groupby?"
      ],
      "metadata": {
        "id": "oNN6PLPRe9Q6"
      },
      "execution_count": null,
      "outputs": []
    },
    {
      "cell_type": "markdown",
      "metadata": {
        "id": "KoS5odaaWiBi"
      },
      "source": [
        "## Filtering rows for a single condition"
      ]
    },
    {
      "cell_type": "code",
      "source": [
        "!pip install --quiet pandas==2.0.2\n",
        "\n",
        "import pandas as pd\n",
        "from pathlib import Path\n",
        "\n",
        "if not Path(\"olympics_1896_2004.csv\").exists():\n",
        "  !wget https://github.com/jonfernandes/pandas_essential/raw/main/olympics_1896_2004.csv\n",
        "\n",
        "filename = \"olympics_1896_2004.csv\"\n",
        "print(\"Installed all of the necessary files for this section ...\")"
      ],
      "metadata": {
        "id": "lXgyKJGPe8Tu"
      },
      "execution_count": null,
      "outputs": []
    },
    {
      "cell_type": "code",
      "source": [
        "oo = (pd.read_csv(filename, skiprows=5)\n",
        "      .drop('Position', axis=1)\n",
        ")\n",
        "oo.sample(3)"
      ],
      "metadata": {
        "id": "t29BT5gbrBIc"
      },
      "execution_count": null,
      "outputs": []
    },
    {
      "cell_type": "code",
      "execution_count": null,
      "metadata": {
        "id": "sc8z0Lt6YUPO"
      },
      "outputs": [],
      "source": [
        "type(True)"
      ]
    },
    {
      "cell_type": "code",
      "execution_count": null,
      "metadata": {
        "id": "Bmwe33a1Y-2P"
      },
      "outputs": [],
      "source": [
        "type(False)"
      ]
    },
    {
      "cell_type": "code",
      "execution_count": null,
      "metadata": {
        "id": "4dO8-KghZiSV"
      },
      "outputs": [],
      "source": [
        "oo.Year.dtype"
      ]
    },
    {
      "cell_type": "code",
      "execution_count": null,
      "metadata": {
        "id": "6GUl6DVbZFTN"
      },
      "outputs": [],
      "source": [
        "first_olympics = (oo.Year == 1896)\n",
        "first_olympics"
      ]
    },
    {
      "cell_type": "code",
      "execution_count": null,
      "metadata": {
        "id": "f6y4vN4pap6g"
      },
      "outputs": [],
      "source": [
        "oo[first_olympics]"
      ]
    },
    {
      "cell_type": "code",
      "execution_count": null,
      "metadata": {
        "id": "-CeFZjg1av38"
      },
      "outputs": [],
      "source": [
        "oo[oo.Year == 1896]"
      ]
    },
    {
      "cell_type": "code",
      "execution_count": null,
      "metadata": {
        "id": "-bcylkijfi3p"
      },
      "outputs": [],
      "source": [
        "oo[oo.Year < 1896]"
      ]
    },
    {
      "cell_type": "code",
      "execution_count": null,
      "metadata": {
        "id": "1mVCF2aBfojw"
      },
      "outputs": [],
      "source": [
        "oo[(oo.Year <= 1896)]"
      ]
    },
    {
      "cell_type": "markdown",
      "metadata": {
        "id": "IEMaZhWNgH8S"
      },
      "source": [
        "## Filter rows for multiple conditions"
      ]
    },
    {
      "cell_type": "code",
      "source": [
        "!pip install --quiet pandas==2.0.2\n",
        "\n",
        "import pandas as pd\n",
        "from pathlib import Path\n",
        "\n",
        "if not Path(\"olympics_1896_2004.csv\").exists():\n",
        "  !wget https://github.com/jonfernandes/pandas_essential/raw/main/olympics_1896_2004.csv\n",
        "\n",
        "filename = \"olympics_1896_2004.csv\"\n",
        "print(\"Installed all of the necessary files for this section ...\")"
      ],
      "metadata": {
        "id": "2laJYlXsfDLv"
      },
      "execution_count": null,
      "outputs": []
    },
    {
      "cell_type": "code",
      "source": [
        "oo = (pd.read_csv(filename, skiprows=5)\n",
        "      .drop('Position', axis=1)\n",
        ")\n",
        "oo.tail(3)"
      ],
      "metadata": {
        "id": "IlOsfcIgjvUW"
      },
      "execution_count": null,
      "outputs": []
    },
    {
      "cell_type": "code",
      "execution_count": null,
      "metadata": {
        "id": "BW-mRtxwg1qc"
      },
      "outputs": [],
      "source": [
        "oo.dtypes"
      ]
    },
    {
      "cell_type": "code",
      "execution_count": null,
      "metadata": {
        "id": "u7nXHc19gPwj"
      },
      "outputs": [],
      "source": [
        "oo[oo.City == 'Athens']"
      ]
    },
    {
      "cell_type": "code",
      "source": [
        "#oo[oo.City == Athens]"
      ],
      "metadata": {
        "id": "Aw8sVdFAkIBP"
      },
      "execution_count": null,
      "outputs": []
    },
    {
      "cell_type": "code",
      "execution_count": null,
      "metadata": {
        "id": "WHGrdM0AhRuo"
      },
      "outputs": [],
      "source": [
        "oo[(oo.Year == 1896) | (oo.Year == 2004)]"
      ]
    },
    {
      "cell_type": "code",
      "execution_count": null,
      "metadata": {
        "id": "m-4U5Jo3ke6f"
      },
      "outputs": [],
      "source": [
        "oo[(oo.City == 'Athens') & (oo.Year == 2004)]"
      ]
    },
    {
      "cell_type": "code",
      "execution_count": null,
      "metadata": {
        "id": "KmCyCTnyksgk"
      },
      "outputs": [],
      "source": [
        "oo[(oo.City == 'Athens') & ~(oo.Year == 1896)]"
      ]
    },
    {
      "cell_type": "code",
      "execution_count": null,
      "metadata": {
        "id": "yQR50DX2iXd6"
      },
      "outputs": [],
      "source": [
        "first_men_100m = oo[(oo.Year == 1896) & (oo.Gender == 'Men') & (oo.Event == '100m')]\n",
        "first_men_100m"
      ]
    },
    {
      "cell_type": "code",
      "execution_count": null,
      "metadata": {
        "id": "Yl6_EgtTFebl"
      },
      "outputs": [],
      "source": [
        "oo[(oo.Year == 1896) & (oo.Gender == 'Men') & (oo.Event == '100m')][[\"Year\", \"Athlete Name\", \"NOC\", \"Event\", \"Medal\"]]"
      ]
    },
    {
      "cell_type": "code",
      "execution_count": null,
      "metadata": {
        "id": "_f5j-cJ-Ge3d"
      },
      "outputs": [],
      "source": [
        "first_men_100m[[\"Year\", \"Athlete Name\", \"NOC\", \"Event\", \"Medal\"]]"
      ]
    },
    {
      "cell_type": "markdown",
      "metadata": {
        "id": "PLavnC_tldUv"
      },
      "source": [
        "## Using String methods"
      ]
    },
    {
      "cell_type": "code",
      "source": [
        "!pip install --quiet pandas==2.0.2\n",
        "\n",
        "import pandas as pd\n",
        "from pathlib import Path\n",
        "\n",
        "if not Path(\"olympics_1896_2004.csv\").exists():\n",
        "  !wget https://github.com/jonfernandes/pandas_essential/raw/main/olympics_1896_2004.csv\n",
        "\n",
        "filename = \"olympics_1896_2004.csv\"\n",
        "print(\"Installed all of the necessary files for this section ...\")"
      ],
      "metadata": {
        "id": "5WIpCHr9fIM3"
      },
      "execution_count": null,
      "outputs": []
    },
    {
      "cell_type": "code",
      "source": [
        "oo = (pd.read_csv(filename, skiprows=5)\n",
        "      .drop('Position', axis=1)\n",
        ")\n",
        "oo.head(3)"
      ],
      "metadata": {
        "id": "AGr-1o_FeH1w"
      },
      "execution_count": null,
      "outputs": []
    },
    {
      "cell_type": "code",
      "execution_count": null,
      "metadata": {
        "id": "tMUM65Bmlknv"
      },
      "outputs": [],
      "source": [
        "oo[\"Athlete Name\"].str.lower()"
      ]
    },
    {
      "cell_type": "code",
      "execution_count": null,
      "metadata": {
        "id": "GFFRSXU8oTh-"
      },
      "outputs": [],
      "source": [
        "oo.Event.unique()"
      ]
    },
    {
      "cell_type": "code",
      "execution_count": null,
      "metadata": {
        "id": "0KvKRpO9pVd6"
      },
      "outputs": [],
      "source": [
        "oo.Event.str.capitalize()"
      ]
    },
    {
      "cell_type": "code",
      "execution_count": null,
      "metadata": {
        "id": "Mrk9loD6pprs"
      },
      "outputs": [],
      "source": [
        "oo.Event = oo.Event.str.capitalize()\n",
        "oo.Event.unique()"
      ]
    },
    {
      "cell_type": "code",
      "source": [
        "dir(oo.Event.str)"
      ],
      "metadata": {
        "id": "SoySwvn3e7fQ"
      },
      "execution_count": null,
      "outputs": []
    },
    {
      "cell_type": "code",
      "execution_count": null,
      "metadata": {
        "id": "ljwZKwEKp4C9"
      },
      "outputs": [],
      "source": [
        "oo[\"Athlete Name\"].str.contains(\"Latynina\")"
      ]
    },
    {
      "cell_type": "code",
      "execution_count": null,
      "metadata": {
        "id": "9jxM-wfXqBlg"
      },
      "outputs": [],
      "source": [
        "# Larisa Latynina - most decorated Female athlete\n",
        "oo[oo[\"Athlete Name\"].str.contains(\"Latynina\")]"
      ]
    },
    {
      "cell_type": "code",
      "execution_count": null,
      "metadata": {
        "id": "RE5DJK7pt-eW"
      },
      "outputs": [],
      "source": [
        "oo[oo[\"Athlete Name\"].str.contains(\"LATYNINA\")]"
      ]
    },
    {
      "cell_type": "code",
      "source": [
        "dir(oo.Event.str)"
      ],
      "metadata": {
        "id": "F71XMdtviKk3"
      },
      "execution_count": null,
      "outputs": []
    },
    {
      "cell_type": "code",
      "source": [
        "oo.City = oo.City.str.upper()\n",
        "oo.sample(3)"
      ],
      "metadata": {
        "id": "WQjAIm1Silxv"
      },
      "execution_count": null,
      "outputs": []
    },
    {
      "cell_type": "code",
      "source": [
        "oo.City.unique()"
      ],
      "metadata": {
        "id": "gc1CF1PlBg1l"
      },
      "execution_count": null,
      "outputs": []
    },
    {
      "cell_type": "markdown",
      "metadata": {
        "id": "f6JGaT7avvyR"
      },
      "source": [
        "## Sorting a DataFrame or Series"
      ]
    },
    {
      "cell_type": "code",
      "source": [
        "!pip install --quiet pandas==2.0.2\n",
        "\n",
        "import pandas as pd\n",
        "from pathlib import Path\n",
        "\n",
        "if not Path(\"olympics_1896_2004.csv\").exists():\n",
        "  !wget https://github.com/jonfernandes/pandas_essential/raw/main/olympics_1896_2004.csv\n",
        "\n",
        "filename = \"olympics_1896_2004.csv\"\n",
        "print(\"Installed all of the necessary files for this section ...\")"
      ],
      "metadata": {
        "id": "kzVA7nVSfNJv"
      },
      "execution_count": null,
      "outputs": []
    },
    {
      "cell_type": "code",
      "source": [
        "oo = (pd.read_csv(filename, skiprows=5)\n",
        "      .drop('Position', axis=1)\n",
        ")\n",
        "oo.sample(3)"
      ],
      "metadata": {
        "id": "hLvgmZ4WkVlp"
      },
      "execution_count": null,
      "outputs": []
    },
    {
      "cell_type": "code",
      "execution_count": null,
      "metadata": {
        "id": "qP81z2s4vvyV"
      },
      "outputs": [],
      "source": [
        "oo[\"Athlete Name\"].sort_values()"
      ]
    },
    {
      "cell_type": "code",
      "execution_count": null,
      "metadata": {
        "id": "LYg8VS5Iw139"
      },
      "outputs": [],
      "source": [
        "type(oo[\"Athlete Name\"].sort_values())"
      ]
    },
    {
      "cell_type": "code",
      "execution_count": null,
      "metadata": {
        "id": "lM2n1Iq5w6US"
      },
      "outputs": [],
      "source": [
        "oo.sort_values(\"Athlete Name\")"
      ]
    },
    {
      "cell_type": "code",
      "execution_count": null,
      "metadata": {
        "id": "tm7lexN9xSsJ"
      },
      "outputs": [],
      "source": [
        "type(oo.sort_values(\"Athlete Name\"))"
      ]
    },
    {
      "cell_type": "code",
      "execution_count": null,
      "metadata": {
        "id": "fmTzGpfCxFsJ"
      },
      "outputs": [],
      "source": [
        "oo.head(3)"
      ]
    },
    {
      "cell_type": "code",
      "source": [
        "oo.sort_values(\"Athlete Name\", ascending=False)"
      ],
      "metadata": {
        "id": "d_C8hopolmqH"
      },
      "execution_count": null,
      "outputs": []
    },
    {
      "cell_type": "code",
      "execution_count": null,
      "metadata": {
        "id": "6_lOD6wExwOg"
      },
      "outputs": [],
      "source": [
        "oo.sort_values(\"Athlete Name\", ascending=False).head(25)"
      ]
    },
    {
      "cell_type": "code",
      "execution_count": null,
      "metadata": {
        "id": "HVYkoY25vvyW"
      },
      "outputs": [],
      "source": [
        "oo.sort_values(by=['Year','Athlete Name'])"
      ]
    },
    {
      "cell_type": "code",
      "execution_count": null,
      "metadata": {
        "id": "ADjQXqsJvvyW"
      },
      "outputs": [],
      "source": [
        "oo.sort_values(by=[\"Year\", \"Athlete Name\"], ascending=[False, True])"
      ]
    },
    {
      "cell_type": "code",
      "execution_count": null,
      "metadata": {
        "id": "KzxqFKgSyr3q"
      },
      "outputs": [],
      "source": [
        "oo.head(7)"
      ]
    },
    {
      "cell_type": "code",
      "execution_count": null,
      "metadata": {
        "id": "Z4UEv9N-0Pq4"
      },
      "outputs": [],
      "source": [
        "oo.sort_values(by=[\"Year\", \"Event\", \"Medal\"], ascending=[True, True, False]).head(7)"
      ]
    },
    {
      "cell_type": "code",
      "source": [
        "oo.dtypes"
      ],
      "metadata": {
        "id": "fdFb8ZTfEcJv"
      },
      "execution_count": null,
      "outputs": []
    },
    {
      "cell_type": "markdown",
      "metadata": {
        "id": "B66y0jue2DMa"
      },
      "source": [
        "## Working with data types (dtype)"
      ]
    },
    {
      "cell_type": "code",
      "source": [
        "!pip install --quiet pandas==2.0.2\n",
        "\n",
        "import pandas as pd\n",
        "from pathlib import Path\n",
        "\n",
        "if not Path(\"olympics_1896_2004.csv\").exists():\n",
        "  !wget https://github.com/jonfernandes/pandas_essential/raw/main/olympics_1896_2004.csv\n",
        "\n",
        "filename = \"olympics_1896_2004.csv\"\n",
        "print(\"Installed all of the necessary files for this section ...\")"
      ],
      "metadata": {
        "id": "TToL2dscfPOv"
      },
      "execution_count": null,
      "outputs": []
    },
    {
      "cell_type": "code",
      "source": [
        "oo = (pd.read_csv(filename, skiprows=5)\n",
        "      .drop('Position', axis=1)\n",
        ")\n",
        "oo.sample(3)"
      ],
      "metadata": {
        "id": "jRjIv_lpvgLA"
      },
      "execution_count": null,
      "outputs": []
    },
    {
      "cell_type": "code",
      "execution_count": null,
      "metadata": {
        "id": "eImgvCkE2DMc"
      },
      "outputs": [],
      "source": [
        "oo.dtypes"
      ]
    },
    {
      "cell_type": "code",
      "execution_count": null,
      "metadata": {
        "id": "Z3cGak7D47Kf"
      },
      "outputs": [],
      "source": [
        "oo.Medal.unique()"
      ]
    },
    {
      "cell_type": "code",
      "execution_count": null,
      "metadata": {
        "id": "FEUzLnJt2DMc"
      },
      "outputs": [],
      "source": [
        "oo.Medal = oo.Medal.astype(\"category\")\n",
        "oo.dtypes"
      ]
    },
    {
      "cell_type": "code",
      "execution_count": null,
      "metadata": {
        "id": "bAmV0u-Y6ZjR"
      },
      "outputs": [],
      "source": [
        "oo.Gender.unique()"
      ]
    },
    {
      "cell_type": "code",
      "execution_count": null,
      "metadata": {
        "id": "bBeXGHUJ6iAf"
      },
      "outputs": [],
      "source": [
        "oo['Event Gender'].unique()"
      ]
    },
    {
      "cell_type": "code",
      "execution_count": null,
      "metadata": {
        "id": "N0N06RbL2DMc"
      },
      "outputs": [],
      "source": [
        "oo.Gender = oo.Gender.astype(\"category\")\n",
        "oo['Event Gender'] = oo['Event Gender'].astype(\"category\")\n",
        "oo.dtypes"
      ]
    },
    {
      "cell_type": "code",
      "execution_count": null,
      "metadata": {
        "id": "IWPYJ5622DMd"
      },
      "outputs": [],
      "source": [
        "oo.Medal.astype(\"category\")"
      ]
    },
    {
      "cell_type": "code",
      "execution_count": null,
      "metadata": {
        "id": "dZfDXytt2DMd"
      },
      "outputs": [],
      "source": [
        "pd.Categorical?"
      ]
    },
    {
      "cell_type": "code",
      "execution_count": null,
      "metadata": {
        "id": "6-KFI_Eb2DMd"
      },
      "outputs": [],
      "source": [
        "medal_order = [\"Bronze\", \"Silver\", \"Gold\"]\n",
        "pd.Categorical(oo.Medal, categories=medal_order, ordered=True)"
      ]
    },
    {
      "cell_type": "code",
      "execution_count": null,
      "metadata": {
        "id": "D93d0_Wr2DMe"
      },
      "outputs": [],
      "source": [
        "oo.Medal = pd.Categorical(oo.Medal, categories=medal_order, ordered=True)\n",
        "oo.dtypes"
      ]
    },
    {
      "cell_type": "code",
      "source": [
        "oo.Medal"
      ],
      "metadata": {
        "id": "GihNArACC_oT"
      },
      "execution_count": null,
      "outputs": []
    },
    {
      "cell_type": "code",
      "execution_count": null,
      "metadata": {
        "id": "y0jfCp2R8JRn"
      },
      "outputs": [],
      "source": [
        "oo.sort_values(by=[\"Year\", \"Event\", \"Medal\"], ascending=[True, True, False]).head(7)"
      ]
    },
    {
      "cell_type": "markdown",
      "source": [
        "## Memory usage of different dtypes"
      ],
      "metadata": {
        "id": "gIiaB-pcEKdf"
      }
    },
    {
      "cell_type": "code",
      "source": [
        "!pip install --quiet pandas==2.0.2\n",
        "\n",
        "import pandas as pd\n",
        "from pathlib import Path\n",
        "\n",
        "if not Path(\"olympics_1896_2004.csv\").exists():\n",
        "  !wget https://github.com/jonfernandes/pandas_essential/raw/main/olympics_1896_2004.csv\n",
        "\n",
        "filename = \"olympics_1896_2004.csv\"\n",
        "print(\"Installed all of the necessary files for this section ...\")"
      ],
      "metadata": {
        "id": "6YonaJwdETbf"
      },
      "execution_count": null,
      "outputs": []
    },
    {
      "cell_type": "code",
      "execution_count": null,
      "metadata": {
        "id": "9zzPWxb2-uRW"
      },
      "outputs": [],
      "source": [
        "df = pd.read_csv(filename, skiprows=5)\n",
        "df.dtypes"
      ]
    },
    {
      "cell_type": "code",
      "execution_count": null,
      "metadata": {
        "id": "ZLK0wGa0-yJl"
      },
      "outputs": [],
      "source": [
        "oo.dtypes"
      ]
    },
    {
      "cell_type": "code",
      "source": [
        "oo.Medal.memory_usage?"
      ],
      "metadata": {
        "id": "Cvd_ExfYda3V"
      },
      "execution_count": null,
      "outputs": []
    },
    {
      "cell_type": "code",
      "execution_count": null,
      "metadata": {
        "id": "BZSld4yT2DMg"
      },
      "outputs": [],
      "source": [
        "print(f\"Medal series memory usage using dtype category: {oo.Medal.memory_usage(deep=True)}\")\n",
        "print(f\"Medal series memory usage using dtype object: {df.Medal.memory_usage(deep=True)}\")"
      ]
    },
    {
      "cell_type": "code",
      "execution_count": null,
      "metadata": {
        "id": "EZoF7uo-BcAV"
      },
      "outputs": [],
      "source": [
        "oo.Medal.memory_usage(deep=True) / df.Medal.memory_usage(deep=True)"
      ]
    },
    {
      "cell_type": "code",
      "execution_count": null,
      "metadata": {
        "id": "rrwnjQH32DMf"
      },
      "outputs": [],
      "source": [
        "print(f\"Gender series memory usage using dtype category: {oo.Gender.memory_usage(deep=True)}\")\n",
        "print(f\"Gender series memory usage using dtype object: {df.Gender.memory_usage(deep=True)}\")\n",
        "print(f\"Gender series memory usage using dtype category: {oo['Event Gender'].memory_usage(deep=True)}\")\n",
        "print(f\"Gender series memory usage using dtype object: {df['Event Gender'].memory_usage(deep=True)}\")"
      ]
    },
    {
      "cell_type": "code",
      "execution_count": null,
      "metadata": {
        "id": "XNQxzZDw9lz_"
      },
      "outputs": [],
      "source": [
        "oo.City.astype(\"string\")"
      ]
    },
    {
      "cell_type": "code",
      "execution_count": null,
      "metadata": {
        "id": "klsqOxME9-XF"
      },
      "outputs": [],
      "source": [
        "oo.sample(2)"
      ]
    },
    {
      "cell_type": "code",
      "source": [
        "oo.dtypes"
      ],
      "metadata": {
        "id": "6iW7ALfUF4iY"
      },
      "execution_count": null,
      "outputs": []
    },
    {
      "cell_type": "code",
      "execution_count": null,
      "metadata": {
        "id": "gg6Ks_9g9ump"
      },
      "outputs": [],
      "source": [
        "oo.City = oo.City.astype(\"string\")\n",
        "oo.Sport = oo.Sport.astype(\"string\")\n",
        "oo.Discipline = oo.Discipline.astype(\"string\")\n",
        "oo[\"Athlete Name\"] = oo[\"Athlete Name\"].astype(\"string\")\n",
        "oo.NOC = oo.NOC.astype(\"string\")\n",
        "oo.Event = oo.Event.astype(\"string\")\n",
        "oo.dtypes"
      ]
    },
    {
      "cell_type": "code",
      "source": [
        "oo.City.dtype"
      ],
      "metadata": {
        "id": "HFM79UpXeQJw"
      },
      "execution_count": null,
      "outputs": []
    },
    {
      "cell_type": "code",
      "source": [
        "df.City.dtype"
      ],
      "metadata": {
        "id": "0yvz-Uj0etHB"
      },
      "execution_count": null,
      "outputs": []
    },
    {
      "cell_type": "code",
      "execution_count": null,
      "metadata": {
        "id": "6Yy4JJQKFa5D"
      },
      "outputs": [],
      "source": [
        "print(f\"City series memory usage using dtype string: {oo.City.memory_usage(deep=True)}\")\n",
        "print(f\"City series memory usage using dtype object: {df.City.memory_usage(deep=True)}\")"
      ]
    },
    {
      "cell_type": "markdown",
      "metadata": {
        "id": "tW9suZ3CGCpG"
      },
      "source": [
        "## Defining dtypes when you read in a file"
      ]
    },
    {
      "cell_type": "code",
      "source": [
        "!pip install --quiet pandas==2.0.2\n",
        "\n",
        "import pandas as pd\n",
        "from pathlib import Path\n",
        "\n",
        "if not Path(\"olympics_1896_2004.csv\").exists():\n",
        "  !wget https://github.com/jonfernandes/pandas_essential/raw/main/olympics_1896_2004.csv\n",
        "\n",
        "filename = \"olympics_1896_2004.csv\"\n",
        "print(\"Installed all of the necessary files for this section ...\")"
      ],
      "metadata": {
        "id": "hsUPA47HfriT"
      },
      "execution_count": null,
      "outputs": []
    },
    {
      "cell_type": "code",
      "source": [
        "oo = (pd.read_csv(filename, skiprows=5)\n",
        "      .drop('Position', axis=1)\n",
        ")\n",
        "oo.sample(3)"
      ],
      "metadata": {
        "id": "Zk8t5MkRIE5N"
      },
      "execution_count": null,
      "outputs": []
    },
    {
      "cell_type": "code",
      "source": [
        "oo.dtypes"
      ],
      "metadata": {
        "id": "vZymSxdVI28x"
      },
      "execution_count": null,
      "outputs": []
    },
    {
      "cell_type": "code",
      "execution_count": null,
      "metadata": {
        "id": "rFdyP-IHGkjl"
      },
      "outputs": [],
      "source": [
        "dtype_mapper = {\"Year\": \"int64\",\n",
        "                \"City\": \"string\",\n",
        "                \"Sport\": \"string\",\n",
        "                \"Discipline\": \"string\",\n",
        "                \"Athlete Name\": \"string\",\n",
        "                \"NOC\": \"string\",\n",
        "                \"Gender\": \"category\",\n",
        "                \"Event\": \"string\",\n",
        "                \"Event_gender\": \"category\",\n",
        "                \"Medal\": \"category\"}\n",
        "\n",
        "dtype_mapper"
      ]
    },
    {
      "cell_type": "code",
      "execution_count": null,
      "metadata": {
        "id": "3mfyl9ZnLjWt"
      },
      "outputs": [],
      "source": [
        "pd.api.types.CategoricalDtype?"
      ]
    },
    {
      "cell_type": "code",
      "execution_count": null,
      "metadata": {
        "id": "1UaAriDnIJd8"
      },
      "outputs": [],
      "source": [
        "ordered_medals = pd.api.types.CategoricalDtype(categories=[\"Bronze\", \"Silver\", \"Gold\"], ordered=True)\n",
        "ordered_medals"
      ]
    },
    {
      "cell_type": "code",
      "execution_count": null,
      "metadata": {
        "id": "C8EZPlNLJD2a"
      },
      "outputs": [],
      "source": [
        "dtype_mapper = {\"Year\": \"int64\",\n",
        "                \"City\": \"string\",\n",
        "                \"Sport\": \"string\",\n",
        "                \"Discipline\": \"string\",\n",
        "                \"Athlete Name\": \"string\",\n",
        "                \"NOC\": \"string\",\n",
        "                \"Gender\": \"category\",\n",
        "                \"Event\": \"string\",\n",
        "                \"Event_gender\": \"category\",\n",
        "                \"Medal\": ordered_medals}\n",
        "\n",
        "dtype_mapper"
      ]
    },
    {
      "cell_type": "code",
      "execution_count": null,
      "metadata": {
        "id": "hHzmd08z2DMf"
      },
      "outputs": [],
      "source": [
        "oo = pd.read_csv(filename, skiprows=5, dtype=dtype_mapper)\n",
        "oo.sample(3)"
      ]
    },
    {
      "cell_type": "code",
      "execution_count": null,
      "metadata": {
        "id": "0JGknumqLPNg"
      },
      "outputs": [],
      "source": [
        "oo.dtypes"
      ]
    },
    {
      "cell_type": "code",
      "source": [
        "oo[\"Event Gender\"].unique()"
      ],
      "metadata": {
        "id": "mqBaGeK_Je4B"
      },
      "execution_count": null,
      "outputs": []
    },
    {
      "cell_type": "code",
      "source": [
        "oo = pd.read_csv(filename, skiprows=5, dtype=dtype_mapper)\n",
        "oo['Event Gender'] = oo['Event Gender'].astype(\"category\")\n",
        "oo.dtypes"
      ],
      "metadata": {
        "id": "pkh4kO8nWciS"
      },
      "execution_count": null,
      "outputs": []
    },
    {
      "cell_type": "markdown",
      "metadata": {
        "id": "fBBqvMS_uhNk"
      },
      "source": [
        "## Python Functions"
      ]
    },
    {
      "cell_type": "code",
      "source": [
        "!pip install --quiet pandas==2.0.2\n",
        "\n",
        "import pandas as pd\n",
        "from pathlib import Path\n",
        "\n",
        "if not Path(\"olympics_1896_2004.csv\").exists():\n",
        "  !wget https://github.com/jonfernandes/pandas_essential/raw/main/olympics_1896_2004.csv\n",
        "\n",
        "filename = \"olympics_1896_2004.csv\"\n",
        "print(\"Installed all of the necessary files for this section ...\")"
      ],
      "metadata": {
        "id": "TjBgdDnGiTA2"
      },
      "execution_count": null,
      "outputs": []
    },
    {
      "cell_type": "code",
      "execution_count": null,
      "metadata": {
        "id": "E7dIcbNPUTn1"
      },
      "outputs": [],
      "source": [
        "def show_df(filename=\"olympics_1896_2004.csv\"):\n",
        "  \"\"\"Read in csv file and display DataFrame\"\"\"\n",
        "  df = pd.read_csv(filename, skiprows=5)\n",
        "  return df\n",
        "\n",
        "show_df()"
      ]
    },
    {
      "cell_type": "code",
      "execution_count": null,
      "metadata": {
        "id": "O0g0X3fKVU6L"
      },
      "outputs": [],
      "source": [
        "type(show_df())"
      ]
    },
    {
      "cell_type": "code",
      "execution_count": null,
      "metadata": {
        "id": "ihKcmGeLZKMW"
      },
      "outputs": [],
      "source": [
        "ordered_medals = pd.api.types.CategoricalDtype(categories=[\"Bronze\", \"Silver\", \"Gold\"], ordered=True)\n",
        "dtype_mapper = {\"Year\": \"int64\",\n",
        "                \"City\": \"string\",\n",
        "                \"Sport\": \"string\",\n",
        "                \"Discipline\": \"string\",\n",
        "                \"Athlete Name\": \"string\",\n",
        "                \"NOC\": \"string\",\n",
        "                \"Gender\": \"category\",\n",
        "                \"Event\": \"string\",\n",
        "                \"Event_gender\": \"category\",\n",
        "                \"Medal\": ordered_medals}\n",
        "\n",
        "dtype_mapper"
      ]
    },
    {
      "cell_type": "code",
      "execution_count": null,
      "metadata": {
        "id": "oCJcaJFaZMOU"
      },
      "outputs": [],
      "source": [
        "oo = (pd.read_csv(filename, skiprows=5, dtype=dtype_mapper)\n",
        "      .drop('Position', axis=1)\n",
        ")\n",
        "oo.sample(3)"
      ]
    },
    {
      "cell_type": "code",
      "execution_count": null,
      "metadata": {
        "id": "3oXQfacqursw"
      },
      "outputs": [],
      "source": [
        "def preprocess(filename = \"olympics_1896_2004.csv\"):\n",
        "  \"\"\"Preparing and transforming dataframe\"\"\"\n",
        "  print(f\"Preprocessing {filename} ...\\n\")\n",
        "  ordered_medals = pd.api.types.CategoricalDtype(categories=[\"Bronze\", \"Silver\", \"Gold\"], ordered=True)\n",
        "  dtype_mapper = {\"Year\": \"int64\",\n",
        "                \"City\": \"string\",\n",
        "                \"Sport\": \"string\",\n",
        "                \"Discipline\": \"string\",\n",
        "                \"Athlete Name\": \"string\",\n",
        "                \"NOC\": \"string\",\n",
        "                \"Gender\": \"category\",\n",
        "                \"Event\": \"string\",\n",
        "                \"Event_gender\": \"category\",\n",
        "                \"Medal\": ordered_medals}\n",
        "  df = (pd.read_csv(filename, skiprows=5, dtype=dtype_mapper)\n",
        "        .drop('Position', axis=1)\n",
        "  )\n",
        "\n",
        "  return df\n",
        "\n",
        "preprocess()"
      ]
    },
    {
      "cell_type": "code",
      "execution_count": null,
      "metadata": {
        "id": "BwQNeMAivzLq"
      },
      "outputs": [],
      "source": [
        "preprocess()"
      ]
    },
    {
      "cell_type": "code",
      "execution_count": null,
      "metadata": {
        "id": "xREoRlWqvp9J"
      },
      "outputs": [],
      "source": [
        "oo = preprocess()\n",
        "oo.sample(3)"
      ]
    },
    {
      "cell_type": "code",
      "source": [
        "oo.dtypes"
      ],
      "metadata": {
        "id": "kGQ5zFebVPAV"
      },
      "execution_count": null,
      "outputs": []
    },
    {
      "cell_type": "code",
      "source": [
        "oo[\"Event Gender\"].unique()"
      ],
      "metadata": {
        "id": "jWr1WWwyrj3Z"
      },
      "execution_count": null,
      "outputs": []
    },
    {
      "cell_type": "code",
      "source": [
        "def preprocess(filename = \"olympics_1896_2004.csv\"):\n",
        "  \"\"\"Preparing and transforming dataframe\"\"\"\n",
        "  print(f\"Preprocessing {filename} ...\\n\")\n",
        "  ordered_medals = pd.api.types.CategoricalDtype(categories=[\"Bronze\", \"Silver\", \"Gold\"], ordered=True)\n",
        "  dtype_mapper = {\"Year\": \"int64\",\n",
        "                \"City\": \"string\",\n",
        "                \"Sport\": \"string\",\n",
        "                \"Discipline\": \"string\",\n",
        "                \"Athlete Name\": \"string\",\n",
        "                \"NOC\": \"string\",\n",
        "                \"Gender\": \"category\",\n",
        "                \"Event\": \"string\",\n",
        "                \"Event_gender\": \"category\",\n",
        "                \"Medal\": ordered_medals}\n",
        "  df = (pd.read_csv(filename, skiprows=5, dtype=dtype_mapper)\n",
        "        .drop('Position', axis=1)\n",
        "  )\n",
        "  df[\"Event Gender\"] = df[\"Event Gender\"].astype(\"category\")\n",
        "  return df\n",
        "\n",
        "oo = preprocess()\n",
        "oo.sample(3)"
      ],
      "metadata": {
        "id": "9RhvwIbZXwPo"
      },
      "execution_count": null,
      "outputs": []
    },
    {
      "cell_type": "code",
      "source": [
        "oo.dtypes"
      ],
      "metadata": {
        "id": "bjXSAvd_YBi1"
      },
      "execution_count": null,
      "outputs": []
    },
    {
      "cell_type": "markdown",
      "metadata": {
        "id": "RM1S3nJ0vcXs"
      },
      "source": [
        "## Working with Indexes"
      ]
    },
    {
      "cell_type": "code",
      "source": [
        "!pip install --quiet pandas==2.0.2\n",
        "\n",
        "import pandas as pd\n",
        "from pathlib import Path\n",
        "\n",
        "if not Path(\"olympics_1896_2004.csv\").exists():\n",
        "  !wget https://github.com/jonfernandes/pandas_essential/raw/main/olympics_1896_2004.csv\n",
        "\n",
        "filename = \"olympics_1896_2004.csv\"\n",
        "print(\"Installed all of the necessary files for this section ...\")"
      ],
      "metadata": {
        "id": "ELUrukUKprZB"
      },
      "execution_count": null,
      "outputs": []
    },
    {
      "cell_type": "code",
      "execution_count": null,
      "metadata": {
        "id": "2zPiuEBcvblg"
      },
      "outputs": [],
      "source": [
        "def preprocess(filename = \"olympics_1896_2004.csv\"):\n",
        "  \"\"\"Preparing and transforming dataframe\"\"\"\n",
        "  print(f\"Preprocessing {filename} ...\\n\")\n",
        "  ordered_medals = pd.api.types.CategoricalDtype(categories=[\"Bronze\", \"Silver\", \"Gold\"], ordered=True)\n",
        "  dtype_mapper = {\"Year\": \"int64\",\n",
        "                \"City\": \"string\",\n",
        "                \"Sport\": \"string\",\n",
        "                \"Discipline\": \"string\",\n",
        "                \"Athlete Name\": \"string\",\n",
        "                \"NOC\": \"string\",\n",
        "                \"Gender\": \"category\",\n",
        "                \"Event\": \"string\",\n",
        "                \"Event_gender\": \"category\",\n",
        "                \"Medal\": ordered_medals}\n",
        "  df = (pd.read_csv(filename, skiprows=5, dtype=dtype_mapper)\n",
        "        .drop('Position', axis=1)\n",
        "  )\n",
        "  df[\"Event Gender\"] = df[\"Event Gender\"].astype(\"category\")\n",
        "  return df\n",
        "\n",
        "oo = preprocess()\n",
        "oo.head(5)"
      ]
    },
    {
      "cell_type": "code",
      "execution_count": null,
      "metadata": {
        "id": "YGeesWuLw5Tn"
      },
      "outputs": [],
      "source": [
        "oo.index"
      ]
    },
    {
      "cell_type": "code",
      "execution_count": null,
      "metadata": {
        "id": "ZW885B2MxOH-"
      },
      "outputs": [],
      "source": [
        "oo.columns"
      ]
    },
    {
      "cell_type": "code",
      "execution_count": null,
      "metadata": {
        "id": "oGmUPXC6yLWV"
      },
      "outputs": [],
      "source": [
        "oo.shape"
      ]
    },
    {
      "cell_type": "code",
      "execution_count": null,
      "metadata": {
        "id": "joiGhkGTymci"
      },
      "outputs": [],
      "source": [
        "pd.read_csv(filename, skiprows=5, header=None).head()\n"
      ]
    },
    {
      "cell_type": "code",
      "execution_count": null,
      "metadata": {
        "id": "Fjh9SJ4Q0POv"
      },
      "outputs": [],
      "source": [
        "oo = preprocess()\n",
        "oo.head(5)"
      ]
    },
    {
      "cell_type": "code",
      "execution_count": null,
      "metadata": {
        "id": "Y0jhalvD1wJr"
      },
      "outputs": [],
      "source": [
        "oo[oo['Athlete Name'].str.contains(\"LEWIS, Carl\")]"
      ]
    },
    {
      "cell_type": "code",
      "execution_count": null,
      "metadata": {
        "id": "zYCkIFOi2Htz"
      },
      "outputs": [],
      "source": [
        "oo.loc[22719, \"Event\"]"
      ]
    },
    {
      "cell_type": "code",
      "execution_count": null,
      "metadata": {
        "id": "ONnjbHTa3Amt"
      },
      "outputs": [],
      "source": [
        "oo = oo.set_index(\"Athlete Name\")\n",
        "oo.head(5)"
      ]
    },
    {
      "cell_type": "code",
      "execution_count": null,
      "metadata": {
        "id": "sNKbF5EW4CfA"
      },
      "outputs": [],
      "source": [
        "oo.index"
      ]
    },
    {
      "cell_type": "code",
      "execution_count": null,
      "metadata": {
        "id": "p4HUipxR3Vqt"
      },
      "outputs": [],
      "source": [
        "oo.loc[\"LEWIS, Carl\", \"Event\"]"
      ]
    },
    {
      "cell_type": "code",
      "execution_count": null,
      "metadata": {
        "id": "hivXx2NJ4stZ"
      },
      "outputs": [],
      "source": [
        "oo.head(3)"
      ]
    },
    {
      "cell_type": "code",
      "execution_count": null,
      "metadata": {
        "id": "HyG7IgT54Vsx"
      },
      "outputs": [],
      "source": [
        "oo.columns"
      ]
    },
    {
      "cell_type": "code",
      "execution_count": null,
      "metadata": {
        "id": "JuTTmVYQ4Rs1"
      },
      "outputs": [],
      "source": [
        "oo.shape"
      ]
    },
    {
      "cell_type": "code",
      "execution_count": null,
      "metadata": {
        "id": "IvMMCdGj6TJI"
      },
      "outputs": [],
      "source": [
        "oo.head(3)"
      ]
    },
    {
      "cell_type": "code",
      "execution_count": null,
      "metadata": {
        "id": "7lnnepwCDU95"
      },
      "outputs": [],
      "source": [
        "oo.loc[\"LEWIS, Carl\", [\"Year\", \"Event\", \"Medal\"]]"
      ]
    },
    {
      "cell_type": "code",
      "execution_count": null,
      "metadata": {
        "id": "UwegmOH2DvrZ"
      },
      "outputs": [],
      "source": [
        "oo.loc[\"LEWIS, Carl\", :]"
      ]
    },
    {
      "cell_type": "code",
      "execution_count": null,
      "metadata": {
        "id": "Zjq6Ap2_D7_s"
      },
      "outputs": [],
      "source": [
        "oo.loc[\"LEWIS, Carl\"]"
      ]
    },
    {
      "cell_type": "code",
      "execution_count": null,
      "metadata": {
        "id": "aCqAQxgw6dfc"
      },
      "outputs": [],
      "source": [
        "oo = oo.sort_index()\n",
        "oo.head(3)"
      ]
    },
    {
      "cell_type": "code",
      "execution_count": null,
      "metadata": {
        "id": "KICIHBuU5HBL"
      },
      "outputs": [],
      "source": [
        "oo = oo.reset_index()\n",
        "oo.head(3)"
      ]
    },
    {
      "cell_type": "code",
      "execution_count": null,
      "metadata": {
        "id": "UK37rcqdCrU2"
      },
      "outputs": [],
      "source": [
        "oo.iloc[0, 0]"
      ]
    },
    {
      "cell_type": "code",
      "source": [
        "oo.iloc[0, 5]"
      ],
      "metadata": {
        "id": "olA305lnyCQg"
      },
      "execution_count": null,
      "outputs": []
    },
    {
      "cell_type": "code",
      "source": [
        "oo.iloc[0, :]"
      ],
      "metadata": {
        "id": "JH7Gr3RLyI8E"
      },
      "execution_count": null,
      "outputs": []
    },
    {
      "cell_type": "code",
      "source": [
        "oo.iloc[0]"
      ],
      "metadata": {
        "id": "raIogoAPyP3N"
      },
      "execution_count": null,
      "outputs": []
    },
    {
      "cell_type": "markdown",
      "metadata": {
        "id": "SCq05iZiwibC"
      },
      "source": [
        "## Being Productive in pandas - My Best Practices"
      ]
    },
    {
      "cell_type": "code",
      "source": [
        "!pip install --quiet pandas==2.0.2\n",
        "\n",
        "import pandas as pd\n",
        "from pathlib import Path\n",
        "\n",
        "if not Path(\"olympics_1896_2004.csv\").exists():\n",
        "  !wget https://github.com/jonfernandes/pandas_essential/raw/main/olympics_1896_2004.csv\n",
        "\n",
        "filename = \"olympics_1896_2004.csv\"\n",
        "print(\"Installed all of the necessary files for this section ...\")"
      ],
      "metadata": {
        "id": "jnHdKL7YpzwM"
      },
      "execution_count": null,
      "outputs": []
    },
    {
      "cell_type": "code",
      "source": [
        "def preprocess(filename = \"olympics_1896_2004.csv\"):\n",
        "  \"\"\"Preparing and transforming dataframe\"\"\"\n",
        "  print(f\"Preprocessing {filename} ...\\n\")\n",
        "  ordered_medals = pd.api.types.CategoricalDtype(categories=[\"Bronze\", \"Silver\", \"Gold\"], ordered=True)\n",
        "  dtype_mapper = {\"Year\": \"int64\",\n",
        "                \"City\": \"string\",\n",
        "                \"Sport\": \"string\",\n",
        "                \"Discipline\": \"string\",\n",
        "                \"Athlete Name\": \"string\",\n",
        "                \"NOC\": \"string\",\n",
        "                \"Gender\": \"category\",\n",
        "                \"Event\": \"string\",\n",
        "                \"Event_gender\": \"category\",\n",
        "                \"Medal\": ordered_medals}\n",
        "  df = (pd.read_csv(filename, skiprows=5, dtype=dtype_mapper)\n",
        "        .drop('Position', axis=1)\n",
        "  )\n",
        "  df[\"Event Gender\"] = df[\"Event Gender\"].astype(\"category\")\n",
        "  return df\n",
        "\n",
        "oo = preprocess()\n",
        "oo.sample(3)"
      ],
      "metadata": {
        "id": "k0-XRGK7nR62"
      },
      "execution_count": null,
      "outputs": []
    },
    {
      "cell_type": "markdown",
      "source": [
        "**Get immediate feedback**"
      ],
      "metadata": {
        "id": "5BP1DH0bm6fn"
      }
    },
    {
      "cell_type": "code",
      "source": [
        "oo = preprocess()"
      ],
      "metadata": {
        "id": "kCnXvBcAm9cD"
      },
      "execution_count": null,
      "outputs": []
    },
    {
      "cell_type": "code",
      "source": [
        "oo.sample(3)"
      ],
      "metadata": {
        "id": "HZTxSp_xqZ0H"
      },
      "execution_count": null,
      "outputs": []
    },
    {
      "cell_type": "code",
      "source": [
        "oo = preprocess()\n",
        "oo.sample(3)"
      ],
      "metadata": {
        "id": "mxt4ISkDnUpd"
      },
      "execution_count": null,
      "outputs": []
    },
    {
      "cell_type": "markdown",
      "source": [
        "**Understand the basics of Python**"
      ],
      "metadata": {
        "id": "Ro0ieaQIcf9m"
      }
    },
    {
      "cell_type": "code",
      "source": [
        "dir(pd)"
      ],
      "metadata": {
        "id": "XKgsz5cVbbBs"
      },
      "execution_count": null,
      "outputs": []
    },
    {
      "cell_type": "code",
      "source": [
        "[func.upper() for func in dir(pd)]"
      ],
      "metadata": {
        "id": "vaTnK1HUcsda"
      },
      "execution_count": null,
      "outputs": []
    },
    {
      "cell_type": "markdown",
      "metadata": {
        "id": "hcg8ujl-mVeu"
      },
      "source": [
        "**Searching for method names**"
      ]
    },
    {
      "cell_type": "code",
      "execution_count": null,
      "metadata": {
        "id": "H8vzfekQwqx4"
      },
      "outputs": [],
      "source": [
        "import re\n",
        "import pandas as pd\n",
        "\n",
        "search_string = \"excel\"\n",
        "\n",
        "[func for func in dir(pd) if re.search(rf\"{search_string}\", func, re.IGNORECASE)]"
      ]
    },
    {
      "cell_type": "code",
      "source": [
        "pd.read_excel?"
      ],
      "metadata": {
        "id": "ryj0jvuKrEB-"
      },
      "execution_count": null,
      "outputs": []
    },
    {
      "cell_type": "code",
      "source": [
        "[func\n",
        " for func in dir(pd)\n",
        " if re.search(rf\"{search_string}\", func, re.IGNORECASE)]"
      ],
      "metadata": {
        "id": "vlhzHMgqztPe"
      },
      "execution_count": null,
      "outputs": []
    },
    {
      "cell_type": "markdown",
      "metadata": {
        "id": "ZeLHFbxnmZQf"
      },
      "source": [
        "**Documentation while staying in the IDE**"
      ]
    },
    {
      "cell_type": "code",
      "execution_count": null,
      "metadata": {
        "id": "50S1wJpKxy3J"
      },
      "outputs": [],
      "source": [
        "pd.read_excel?"
      ]
    },
    {
      "cell_type": "markdown",
      "metadata": {
        "id": "E4v0oobOmjYF"
      },
      "source": [
        "**head() vs. sample()**"
      ]
    },
    {
      "cell_type": "code",
      "execution_count": null,
      "metadata": {
        "id": "K3BAxqULz_Ef"
      },
      "outputs": [],
      "source": [
        "oo = (pd.read_csv(filename, skiprows=5)\n",
        "      .drop('Position', axis=1)\n",
        ")\n",
        "oo.sample(3)"
      ]
    },
    {
      "cell_type": "markdown",
      "metadata": {
        "id": "zXtT_AqrmpzE"
      },
      "source": [
        "**Functions to preprocess data. Modify the data, not the original files**"
      ]
    },
    {
      "cell_type": "code",
      "execution_count": null,
      "metadata": {
        "id": "T_SLXopI0S87"
      },
      "outputs": [],
      "source": [
        "def preprocess(filename):\n",
        "  \"\"\"Transform the data. Change the dataframe and not the original csv files\"\"\"\n",
        "  ...\n",
        "\n",
        "preprocess(filename)"
      ]
    },
    {
      "cell_type": "markdown",
      "metadata": {
        "id": "P_UymMfcmzh8"
      },
      "source": [
        "**Using python assert**"
      ]
    },
    {
      "cell_type": "code",
      "execution_count": null,
      "metadata": {
        "id": "cablAtbT0qAf"
      },
      "outputs": [],
      "source": [
        "oo[(oo.Year < 1896) & (oo.Year > 2004)].shape"
      ]
    },
    {
      "cell_type": "code",
      "execution_count": null,
      "metadata": {
        "id": "xYmXnSHq1ZVE"
      },
      "outputs": [],
      "source": [
        "oo[(oo.Year < 1896) & (oo.Year > 2004)].shape[0] == 0"
      ]
    },
    {
      "cell_type": "code",
      "execution_count": null,
      "metadata": {
        "id": "iCll2J2k5Imw"
      },
      "outputs": [],
      "source": [
        "assert(oo[(oo.Year < 1896) & (oo.Year > 2004)].shape[0] == 0)"
      ]
    },
    {
      "cell_type": "code",
      "execution_count": null,
      "metadata": {
        "id": "VxIi0y9y1dRn"
      },
      "outputs": [],
      "source": [
        "assert(oo[(oo.Year < 1896) & (oo.Year > 2004)].shape[0] == 0)\n",
        "print(\"All tests passed\")"
      ]
    },
    {
      "cell_type": "code",
      "execution_count": null,
      "metadata": {
        "id": "wxO2TQRG5Awz"
      },
      "outputs": [],
      "source": [
        "#assert(oo[(oo.Year < 1896) & (oo.Year > 2004)].shape[0] == (0, 10))\n",
        "#print(\"All tests passed\")"
      ]
    },
    {
      "cell_type": "markdown",
      "metadata": {
        "id": "jC4ahcAcnOot"
      },
      "source": [
        "**Chaining and splitting over several rows. No inplace=True**"
      ]
    },
    {
      "cell_type": "code",
      "execution_count": null,
      "metadata": {
        "id": "frTUBUC357py"
      },
      "outputs": [],
      "source": [
        "oo = pd.read_csv(filename, skiprows=5)\n",
        "oo = oo.drop('Position', axis=1)\n",
        "oo.head(3)"
      ]
    },
    {
      "cell_type": "code",
      "source": [
        "oo = (pd.read_csv(filename, skiprows=5)\n",
        "      .drop('Position', axis=1)\n",
        ")\n",
        "oo.head(3)"
      ],
      "metadata": {
        "id": "PChfl-uKoZC7"
      },
      "execution_count": null,
      "outputs": []
    },
    {
      "cell_type": "code",
      "execution_count": null,
      "metadata": {
        "id": "HKLzCINP_r-h"
      },
      "outputs": [],
      "source": [
        "last3 = pd.read_csv(filename, skiprows=5).sort_values(['Year', 'Athlete Name']).tail(3)\n",
        "last3"
      ]
    },
    {
      "cell_type": "code",
      "execution_count": null,
      "metadata": {
        "id": "JufCdeUYAAfi"
      },
      "outputs": [],
      "source": [
        "last3 = (pd.read_csv(filename, skiprows=5)\n",
        "        .sort_values(['Year', 'Athlete Name'])\n",
        "        .tail(3)\n",
        ")\n",
        "last3"
      ]
    },
    {
      "cell_type": "code",
      "execution_count": null,
      "metadata": {
        "id": "qPynmpjEAgNJ"
      },
      "outputs": [],
      "source": [
        "last3 = (pd.read_csv(filename, skiprows=5)\n",
        "#        .sort_values(['Year', 'Athlete Name'])\n",
        "        .tail(3)\n",
        ")\n",
        "last3"
      ]
    },
    {
      "cell_type": "markdown",
      "source": [
        "**isin()**"
      ],
      "metadata": {
        "id": "6UqKSsGOr_tV"
      }
    },
    {
      "cell_type": "code",
      "source": [
        "oo.Year.isin?"
      ],
      "metadata": {
        "id": "UIz-lkJ_xqVQ"
      },
      "execution_count": null,
      "outputs": []
    },
    {
      "cell_type": "code",
      "source": [
        "years_of_interest = [1972, 1980, 1984, 1992, 2000, 2004]"
      ],
      "metadata": {
        "id": "OCvhY0qYxCRd"
      },
      "execution_count": null,
      "outputs": []
    },
    {
      "cell_type": "code",
      "source": [
        "oo[oo.Year.isin(years_of_interest)]"
      ],
      "metadata": {
        "id": "COsacC9sr_R7"
      },
      "execution_count": null,
      "outputs": []
    },
    {
      "cell_type": "code",
      "source": [
        "oo[~oo.Year.isin(years_of_interest)]"
      ],
      "metadata": {
        "id": "KnnNeawWyGjI"
      },
      "execution_count": null,
      "outputs": []
    },
    {
      "cell_type": "markdown",
      "metadata": {
        "id": "FFNB7w6Kn4wQ"
      },
      "source": [
        "**Finding and dealing with missing values**"
      ]
    },
    {
      "cell_type": "code",
      "execution_count": null,
      "metadata": {
        "id": "OvZWEEl0mPpt"
      },
      "outputs": [],
      "source": [
        "oo.info()"
      ]
    },
    {
      "cell_type": "markdown",
      "metadata": {
        "id": "Z0rYN2NIPxNZ"
      },
      "source": [
        "## Creating Series and DataFrames"
      ]
    },
    {
      "cell_type": "code",
      "source": [
        "import pandas as pd"
      ],
      "metadata": {
        "id": "aV6MY1Xt0KXm"
      },
      "execution_count": null,
      "outputs": []
    },
    {
      "cell_type": "code",
      "execution_count": null,
      "metadata": {
        "id": "7JJx8J__NISg"
      },
      "outputs": [],
      "source": [
        "city = [\"London\", \"Rio\", \"Tokyo\"]\n",
        "start_date = [\"27th Jul, 2012\", \"5th Aug, 2016\", \"23rd July, 2021\"]"
      ]
    },
    {
      "cell_type": "code",
      "execution_count": null,
      "metadata": {
        "id": "wSq6TkwFp09e"
      },
      "outputs": [],
      "source": [
        "pd.Series(city)"
      ]
    },
    {
      "cell_type": "code",
      "execution_count": null,
      "metadata": {
        "id": "2enzKn6_b5Sp"
      },
      "outputs": [],
      "source": [
        "pd.DataFrame({\"City\": pd.Series(city),\n",
        "              \"Start Date\": pd.Series(start_date)})"
      ]
    },
    {
      "cell_type": "code",
      "execution_count": null,
      "metadata": {
        "id": "sQhbHFRCAhF5"
      },
      "outputs": [],
      "source": [
        "pd.DataFrame({\"City\": city,\n",
        "              \"Start Date\": start_date})"
      ]
    },
    {
      "cell_type": "code",
      "source": [
        "pd.DataFrame(zip(city, start_date))"
      ],
      "metadata": {
        "id": "5s9m1kYq2E1q"
      },
      "execution_count": null,
      "outputs": []
    },
    {
      "cell_type": "code",
      "execution_count": null,
      "metadata": {
        "id": "mbFN8_X5bJ7K"
      },
      "outputs": [],
      "source": [
        "pd.DataFrame(zip(city, start_date), columns=[\"City\", \"Start Date\"])"
      ]
    },
    {
      "cell_type": "markdown",
      "metadata": {
        "id": "mFDo3MYfd60y"
      },
      "source": [
        "## Working with dates"
      ]
    },
    {
      "cell_type": "code",
      "source": [
        "import pandas as pd"
      ],
      "metadata": {
        "id": "kv-qiZLQ2L4e"
      },
      "execution_count": null,
      "outputs": []
    },
    {
      "cell_type": "code",
      "execution_count": null,
      "metadata": {
        "id": "tCe5g9CpfTda"
      },
      "outputs": [],
      "source": [
        "city = [\"London\", \"Rio\", \"Tokyo\"]\n",
        "start_date = [\"07-27-2012\", \"5th Aug, 2016\", \"23rd Jul, 2021\"]\n",
        "end_date = [\"12th Aug, 2012\", \"21-08-2016\", \"8th Aug, 2021\"]"
      ]
    },
    {
      "cell_type": "code",
      "execution_count": null,
      "metadata": {
        "id": "rJMXpKQTdx-g"
      },
      "outputs": [],
      "source": [
        "games = pd.DataFrame(zip(city, start_date, end_date), columns=[\"City\", \"Start Date\", \"End Date\"])\n",
        "games"
      ]
    },
    {
      "cell_type": "code",
      "execution_count": null,
      "metadata": {
        "id": "GmCoDvSyd_C6"
      },
      "outputs": [],
      "source": [
        "games.dtypes"
      ]
    },
    {
      "cell_type": "code",
      "execution_count": null,
      "metadata": {
        "id": "Wz1bAV3SeCk_"
      },
      "outputs": [],
      "source": [
        "import re\n",
        "import pandas as pd\n",
        "\n",
        "search_string = \"date\"\n",
        "\n",
        "[func for func in dir(pd) if re.search(rf\"{search_string}\", func, re.IGNORECASE)]"
      ]
    },
    {
      "cell_type": "code",
      "source": [
        "pd.to_datetime?"
      ],
      "metadata": {
        "id": "orEyvILk6ueE"
      },
      "execution_count": null,
      "outputs": []
    },
    {
      "cell_type": "code",
      "execution_count": null,
      "metadata": {
        "id": "rD15NL_veS6L"
      },
      "outputs": [],
      "source": [
        "#pd.to_datetime(games[\"Start Date\"])"
      ]
    },
    {
      "cell_type": "code",
      "source": [
        "pd.to_datetime(games[\"Start Date\"], format='mixed')"
      ],
      "metadata": {
        "id": "bp1qfHo28QoH"
      },
      "execution_count": null,
      "outputs": []
    },
    {
      "cell_type": "code",
      "execution_count": null,
      "metadata": {
        "id": "85602zibeibf"
      },
      "outputs": [],
      "source": [
        "games[\"Start Date\"] = pd.to_datetime(games[\"Start Date\"], format='mixed')\n",
        "games[\"End Date\"] = pd.to_datetime(games[\"End Date\"], format='mixed')\n",
        "games[\"City\"] = games.City.astype(\"string\")\n",
        "games"
      ]
    },
    {
      "cell_type": "code",
      "execution_count": null,
      "metadata": {
        "id": "ZvB1OP3Xen30"
      },
      "outputs": [],
      "source": [
        "games.dtypes"
      ]
    },
    {
      "cell_type": "code",
      "execution_count": null,
      "metadata": {
        "id": "vyq0kyJRiVcV"
      },
      "outputs": [],
      "source": [
        "games[\"End Date\"]"
      ]
    },
    {
      "cell_type": "code",
      "execution_count": null,
      "metadata": {
        "id": "jYSyhes9iXYh"
      },
      "outputs": [],
      "source": [
        "games[\"Start Date\"]"
      ]
    },
    {
      "cell_type": "code",
      "execution_count": null,
      "metadata": {
        "id": "BiCTrRtth_75"
      },
      "outputs": [],
      "source": [
        "games[\"End Date\"] - games[\"Start Date\"]"
      ]
    },
    {
      "cell_type": "code",
      "execution_count": null,
      "metadata": {
        "id": "JniIyVA-jDeN"
      },
      "outputs": [],
      "source": [
        "games = games.assign(duration=games[\"End Date\"] - games[\"Start Date\"])\n",
        "games"
      ]
    },
    {
      "cell_type": "code",
      "execution_count": null,
      "metadata": {
        "id": "8ePDtaiqjljJ"
      },
      "outputs": [],
      "source": [
        "games.dtypes"
      ]
    },
    {
      "cell_type": "markdown",
      "metadata": {
        "id": "bU802QvxZOh_"
      },
      "source": [
        "## Combining DataFrames"
      ]
    },
    {
      "cell_type": "code",
      "source": [
        "import pandas as pd"
      ],
      "metadata": {
        "id": "uAHilytz_xAs"
      },
      "execution_count": null,
      "outputs": []
    },
    {
      "cell_type": "code",
      "execution_count": null,
      "metadata": {
        "id": "Bfn4C3ZTdOIC"
      },
      "outputs": [],
      "source": [
        "start = pd.DataFrame({\"city\": [\"London\", \"Rio\", \"Tokyo\"],\n",
        "                      \"start_date\": [\"27th Jul, 2012\", \"5th Aug, 2016\", \"23rd July, 2021\"]})\n",
        "start"
      ]
    },
    {
      "cell_type": "code",
      "execution_count": null,
      "metadata": {
        "id": "qbZm-hmRcMJs"
      },
      "outputs": [],
      "source": [
        "end = pd.DataFrame({\"City\": [\"London\", \"Tokyo\", \"Paris\"],\n",
        "                    \"end_date\": [\"12th Aug, 2012\", \"8th Aug, 2021\", \"11th Aug, 2024\"]})\n",
        "end"
      ]
    },
    {
      "cell_type": "code",
      "execution_count": null,
      "metadata": {
        "id": "1v4gGo1XnxES"
      },
      "outputs": [],
      "source": [
        "pd.concat?"
      ]
    },
    {
      "cell_type": "code",
      "execution_count": null,
      "metadata": {
        "id": "Cp6Y8fFlnrEY"
      },
      "outputs": [],
      "source": [
        "pd.concat([start, end], axis=0)"
      ]
    },
    {
      "cell_type": "code",
      "source": [
        "end = pd.DataFrame({\"city\": [\"London\", \"Tokyo\", \"Paris\"],\n",
        "                    \"end_date\": [\"12th Aug, 2012\", \"8th Aug, 2021\", \"11th Aug, 2024\"]})\n",
        "end"
      ],
      "metadata": {
        "id": "LBcoth7NAsBZ"
      },
      "execution_count": null,
      "outputs": []
    },
    {
      "cell_type": "code",
      "source": [
        "pd.concat([start, end], axis=0)"
      ],
      "metadata": {
        "id": "3W6Ml__fBDT-"
      },
      "execution_count": null,
      "outputs": []
    },
    {
      "cell_type": "code",
      "execution_count": null,
      "metadata": {
        "id": "IV8rqQUnn5V-"
      },
      "outputs": [],
      "source": [
        "pd.concat([start, end], axis=1)"
      ]
    },
    {
      "cell_type": "markdown",
      "metadata": {
        "id": "95AObzLMaJ2O"
      },
      "source": [
        "**Inner join**"
      ]
    },
    {
      "cell_type": "code",
      "execution_count": null,
      "metadata": {
        "id": "mL_lnFQl_7pE"
      },
      "outputs": [],
      "source": [
        "start"
      ]
    },
    {
      "cell_type": "code",
      "execution_count": null,
      "metadata": {
        "id": "4CNVJS3f_7pE"
      },
      "outputs": [],
      "source": [
        "end"
      ]
    },
    {
      "cell_type": "code",
      "source": [
        "pd.merge?"
      ],
      "metadata": {
        "id": "O5wR6KsxA5HZ"
      },
      "execution_count": null,
      "outputs": []
    },
    {
      "cell_type": "code",
      "execution_count": null,
      "metadata": {
        "id": "4ZB3I1hDlsfT"
      },
      "outputs": [],
      "source": [
        "pd.merge(left=start, right=end, on=\"city\", how=\"inner\")"
      ]
    },
    {
      "cell_type": "markdown",
      "metadata": {
        "id": "x4qMqkY6aWfy"
      },
      "source": [
        "**Outer join**"
      ]
    },
    {
      "cell_type": "code",
      "execution_count": null,
      "metadata": {
        "id": "gXlmFT4FmP6B"
      },
      "outputs": [],
      "source": [
        "start"
      ]
    },
    {
      "cell_type": "code",
      "execution_count": null,
      "metadata": {
        "id": "vxXO0chfmRG7"
      },
      "outputs": [],
      "source": [
        "end"
      ]
    },
    {
      "cell_type": "code",
      "execution_count": null,
      "metadata": {
        "id": "EyPqa2Ndk5Mz"
      },
      "outputs": [],
      "source": [
        "pd.merge(left=start, right=end, on=\"city\", how=\"outer\")"
      ]
    },
    {
      "cell_type": "markdown",
      "metadata": {
        "id": "VKkhqBWfad0J"
      },
      "source": [
        "**Left join**"
      ]
    },
    {
      "cell_type": "code",
      "execution_count": null,
      "metadata": {
        "id": "Ts5pNF6mmWnh"
      },
      "outputs": [],
      "source": [
        "start"
      ]
    },
    {
      "cell_type": "code",
      "execution_count": null,
      "metadata": {
        "id": "uuAtLImaau4u"
      },
      "outputs": [],
      "source": [
        "pd.merge(left=start, right=end, on=\"city\", how=\"left\")"
      ]
    },
    {
      "cell_type": "markdown",
      "metadata": {
        "id": "dPgGwru2a9TB"
      },
      "source": [
        "**Right join**"
      ]
    },
    {
      "cell_type": "code",
      "execution_count": null,
      "metadata": {
        "id": "rXpbjz6HmaJh"
      },
      "outputs": [],
      "source": [
        "end"
      ]
    },
    {
      "cell_type": "code",
      "execution_count": null,
      "metadata": {
        "id": "nE5Gxayoa_XU"
      },
      "outputs": [],
      "source": [
        "pd.merge(left=start, right=end, on=\"city\", how=\"right\")"
      ]
    },
    {
      "cell_type": "markdown",
      "metadata": {
        "id": "DEyNm2RLoeGd"
      },
      "source": [
        "## Combining Datasets"
      ]
    },
    {
      "cell_type": "code",
      "source": [
        "!pip install --quiet pandas==2.0.2\n",
        "\n",
        "import pandas as pd\n",
        "from pathlib import Path\n",
        "\n",
        "if not Path(\"olympics_1896_2004.csv\").exists():\n",
        "  !wget https://github.com/jonfernandes/pandas_essential/raw/main/olympics_1896_2004.csv\n",
        "\n",
        "filename = \"olympics_1896_2004.csv\"\n",
        "print(\"Installed all of the necessary files for this section ...\")"
      ],
      "metadata": {
        "id": "5FPr9Euwp9Lj"
      },
      "execution_count": null,
      "outputs": []
    },
    {
      "cell_type": "code",
      "source": [
        "def preprocess(filename = \"olympics_1896_2004.csv\"):\n",
        "  \"\"\"Preparing and transforming dataframe\"\"\"\n",
        "  print(f\"Preprocessing {filename} ...\\n\")\n",
        "  ordered_medals = pd.api.types.CategoricalDtype(categories=[\"Bronze\", \"Silver\", \"Gold\"], ordered=True)\n",
        "  dtype_mapper = {\"Year\": \"int64\",\n",
        "                \"City\": \"string\",\n",
        "                \"Sport\": \"string\",\n",
        "                \"Discipline\": \"string\",\n",
        "                \"Athlete Name\": \"string\",\n",
        "                \"NOC\": \"string\",\n",
        "                \"Gender\": \"category\",\n",
        "                \"Event\": \"string\",\n",
        "                \"Event_gender\": \"category\",\n",
        "                \"Medal\": ordered_medals}\n",
        "  df = (pd.read_csv(filename, skiprows=5, dtype=dtype_mapper)\n",
        "        .drop('Position', axis=1)\n",
        "  )\n",
        "  df[\"Event Gender\"] = df[\"Event Gender\"].astype(\"category\")\n",
        "  return df\n",
        "\n",
        "preprocess()"
      ],
      "metadata": {
        "id": "Y7cv0VM762Pi"
      },
      "execution_count": null,
      "outputs": []
    },
    {
      "cell_type": "code",
      "execution_count": null,
      "metadata": {
        "id": "qvrU1Jh_oj4c"
      },
      "outputs": [],
      "source": [
        "oo = preprocess()\n",
        "oo.sample(3)"
      ]
    },
    {
      "cell_type": "code",
      "execution_count": null,
      "metadata": {
        "id": "PmWbYgeaojk9"
      },
      "outputs": [],
      "source": [
        "!wget https://github.com/jonfernandes/pandas_essential/raw/main/olympics_2008.csv"
      ]
    },
    {
      "cell_type": "code",
      "source": [
        "new_filename =  \"olympics_2008.csv\"\n",
        "nw = pd.read_csv(new_filename)\n",
        "nw.head(5)"
      ],
      "metadata": {
        "id": "ZpK7tnIzZVmG"
      },
      "execution_count": null,
      "outputs": []
    },
    {
      "cell_type": "code",
      "source": [
        "oo.sample(3)"
      ],
      "metadata": {
        "id": "NrkQRln1bNg6"
      },
      "execution_count": null,
      "outputs": []
    },
    {
      "cell_type": "code",
      "source": [
        "pd.concat([oo, nw], axis=0)"
      ],
      "metadata": {
        "id": "GM5UsBtlZ3Cr"
      },
      "execution_count": null,
      "outputs": []
    },
    {
      "cell_type": "code",
      "source": [
        "nw.columns"
      ],
      "metadata": {
        "id": "jdqpKDFbt9J2"
      },
      "execution_count": null,
      "outputs": []
    },
    {
      "cell_type": "code",
      "source": [
        "oo.columns"
      ],
      "metadata": {
        "id": "KM9vztovt_m2"
      },
      "execution_count": null,
      "outputs": []
    },
    {
      "cell_type": "code",
      "source": [
        "nw.columns = ['City', 'Edition', 'Sport', 'Discipline', 'Athlete', 'Country_code',\n",
        "       'Gender', 'Event', 'Event_gender', 'Medal', 'Result']\n",
        "nw.columns"
      ],
      "metadata": {
        "id": "21cc4lPQuNny"
      },
      "execution_count": null,
      "outputs": []
    },
    {
      "cell_type": "code",
      "source": [
        "new_columns = ['City', 'Edition', 'Sport', 'Discipline', 'Athlete', 'Country_code',\n",
        "       'Gender', 'Event', 'Event_gender', 'Medal', 'Result']"
      ],
      "metadata": {
        "id": "bDXyYYwb6YJq"
      },
      "execution_count": null,
      "outputs": []
    },
    {
      "cell_type": "code",
      "source": [
        "nw = pd.read_csv(new_filename, names=new_columns)\n",
        "nw.columns"
      ],
      "metadata": {
        "id": "35q0mneeuuWU"
      },
      "execution_count": null,
      "outputs": []
    },
    {
      "cell_type": "code",
      "source": [
        "nw.columns = [column.capitalize() for column in nw.columns]\n",
        "nw.columns"
      ],
      "metadata": {
        "id": "m6s7OzQnugEk"
      },
      "execution_count": null,
      "outputs": []
    },
    {
      "cell_type": "code",
      "source": [
        "pd.concat([oo, nw], axis=0)"
      ],
      "metadata": {
        "id": "9ITtwDmGvDn1"
      },
      "execution_count": null,
      "outputs": []
    },
    {
      "cell_type": "code",
      "source": [
        "oo.columns"
      ],
      "metadata": {
        "id": "c854ig1uvrJh"
      },
      "execution_count": null,
      "outputs": []
    },
    {
      "cell_type": "code",
      "source": [
        "nw.columns"
      ],
      "metadata": {
        "id": "TFLt_GF_vurN"
      },
      "execution_count": null,
      "outputs": []
    },
    {
      "cell_type": "code",
      "source": [
        "nw.columns = ['City', 'Year', 'Sport', 'Discipline', 'Athlete Name', 'NOC',\n",
        "       'Gender', 'Event', 'Event Gender', 'Medal', 'Result']"
      ],
      "metadata": {
        "id": "30-bKfomwMIY"
      },
      "execution_count": null,
      "outputs": []
    },
    {
      "cell_type": "code",
      "source": [
        "pd.concat([oo, nw], axis=0)"
      ],
      "metadata": {
        "id": "6RFkaLASwbHe"
      },
      "execution_count": null,
      "outputs": []
    },
    {
      "cell_type": "code",
      "source": [
        "nw.Result.unique()"
      ],
      "metadata": {
        "id": "mW7SKK0Kxa3Q"
      },
      "execution_count": null,
      "outputs": []
    },
    {
      "cell_type": "code",
      "source": [
        "nw = nw.drop(\"Result\", axis=1)\n",
        "nw.sample(3)"
      ],
      "metadata": {
        "id": "Ma1wyjIDxfev"
      },
      "execution_count": null,
      "outputs": []
    },
    {
      "cell_type": "code",
      "source": [
        "pd.concat([oo, nw], axis=0)"
      ],
      "metadata": {
        "id": "bEQ84QIFxuMc"
      },
      "execution_count": null,
      "outputs": []
    },
    {
      "cell_type": "code",
      "source": [
        "pd.concat([oo, nw], axis=0).dtypes"
      ],
      "metadata": {
        "id": "rOriZgSsx1PK"
      },
      "execution_count": null,
      "outputs": []
    },
    {
      "cell_type": "code",
      "source": [
        "def preprocess_2008(filename=\"olympics_2008.csv\"):\n",
        "  df = pd.read_csv(filename)\n",
        "  df.columns = ['City', 'Year', 'Sport', 'Discipline', 'Athlete Name', 'NOC',\n",
        "       'Gender', 'Event', 'Event Gender', 'Medal', 'Result']\n",
        "  df = df.drop(\"Result\", axis=1)\n",
        "  return df\n",
        "\n",
        "nw = preprocess_2008()\n",
        "nw.sample(3)"
      ],
      "metadata": {
        "id": "ELoqzkbqw1yT"
      },
      "execution_count": null,
      "outputs": []
    },
    {
      "cell_type": "markdown",
      "source": [
        "## Working with Missing Data"
      ],
      "metadata": {
        "id": "FematpDlyP3J"
      }
    },
    {
      "cell_type": "code",
      "source": [
        "!pip install --quiet pandas==2.0.2\n",
        "\n",
        "import pandas as pd\n",
        "from pathlib import Path\n",
        "\n",
        "if not Path(\"olympics_1896_2004.csv\").exists():\n",
        "  !wget https://github.com/jonfernandes/pandas_essential/raw/main/olympics_1896_2004.csv\n",
        "if not Path(\"olympics_2008.csv\").exists():\n",
        "  !wget https://github.com/jonfernandes/pandas_essential/raw/main/olympics_2008.csv\n",
        "\n",
        "filename = \"olympics_1896_2004.csv\"\n",
        "print(\"Installed all of the necessary files for this section ...\")"
      ],
      "metadata": {
        "id": "uKhIUj8UrJTT"
      },
      "execution_count": null,
      "outputs": []
    },
    {
      "cell_type": "code",
      "source": [
        "nw = preprocess_2008()\n",
        "nw.sample(3)"
      ],
      "metadata": {
        "id": "rWt8-HcXyT61"
      },
      "execution_count": null,
      "outputs": []
    },
    {
      "cell_type": "code",
      "source": [
        "nw.info()"
      ],
      "metadata": {
        "id": "k5D4UxSWyabN"
      },
      "execution_count": null,
      "outputs": []
    },
    {
      "cell_type": "code",
      "source": [
        "import re\n",
        "\n",
        "search_string = \"na\"\n",
        "\n",
        "[func for func in dir(nw.City) if re.search(rf\"{search_string}$\", func, re.IGNORECASE)]"
      ],
      "metadata": {
        "id": "inv1wbnFEu15"
      },
      "execution_count": null,
      "outputs": []
    },
    {
      "cell_type": "code",
      "source": [
        "nw.City.isna?"
      ],
      "metadata": {
        "id": "66DdxC_JEO_s"
      },
      "execution_count": null,
      "outputs": []
    },
    {
      "cell_type": "code",
      "source": [
        "nw.City.isna()"
      ],
      "metadata": {
        "id": "4uoReWLZ3eLU"
      },
      "execution_count": null,
      "outputs": []
    },
    {
      "cell_type": "code",
      "source": [
        "nw.City.isna().sum()"
      ],
      "metadata": {
        "id": "pM4SAK_l3jKa"
      },
      "execution_count": null,
      "outputs": []
    },
    {
      "cell_type": "code",
      "source": [
        "nw[nw.City.isna()]"
      ],
      "metadata": {
        "id": "3OEXLwoEye78"
      },
      "execution_count": null,
      "outputs": []
    },
    {
      "cell_type": "code",
      "source": [
        "nw.City.unique()"
      ],
      "metadata": {
        "id": "1erE0ZRw_4y4"
      },
      "execution_count": null,
      "outputs": []
    },
    {
      "cell_type": "code",
      "source": [
        "nw.shape"
      ],
      "metadata": {
        "id": "oGJ7HNak6wxa"
      },
      "execution_count": null,
      "outputs": []
    },
    {
      "cell_type": "code",
      "source": [
        "import re\n",
        "\n",
        "search_string = \"na\"\n",
        "\n",
        "[func for func in dir(nw.City) if re.search(rf\"{search_string}$\", func, re.IGNORECASE)]"
      ],
      "metadata": {
        "id": "BwcYzjE0FV64"
      },
      "execution_count": null,
      "outputs": []
    },
    {
      "cell_type": "code",
      "source": [
        "nw.City.fillna?"
      ],
      "metadata": {
        "id": "laxs_wK0AQ8i"
      },
      "execution_count": null,
      "outputs": []
    },
    {
      "cell_type": "code",
      "source": [
        "nw.City = nw.City.fillna(value=\"Beijing\")\n",
        "nw.City.unique()"
      ],
      "metadata": {
        "id": "zddqCceEAIfB"
      },
      "execution_count": null,
      "outputs": []
    },
    {
      "cell_type": "code",
      "source": [
        "nw.Year"
      ],
      "metadata": {
        "id": "e9b8FghNA440"
      },
      "execution_count": null,
      "outputs": []
    },
    {
      "cell_type": "code",
      "source": [
        "nw.Year.unique()"
      ],
      "metadata": {
        "id": "A78SlZC9481h"
      },
      "execution_count": null,
      "outputs": []
    },
    {
      "cell_type": "code",
      "source": [
        "nw.Year = nw.Year.fillna(value=2008)\n",
        "nw.info()"
      ],
      "metadata": {
        "id": "nNC-1pr-5EOL"
      },
      "execution_count": null,
      "outputs": []
    },
    {
      "cell_type": "code",
      "source": [
        "def preprocess_2008(filename=\"olympics_2008.csv\"):\n",
        "  df = pd.read_csv(filename)\n",
        "  df.columns = ['City', 'Year', 'Sport', 'Discipline', 'Athlete Name', 'NOC',\n",
        "       'Gender', 'Event', 'Event Gender', 'Medal', 'Result']\n",
        "  df = df.drop(\"Result\", axis=1)\n",
        "  df.City = df.City.fillna(value=\"Beijing\")\n",
        "  df.Year = df.Year.fillna(value=2008)\n",
        "  return df\n",
        "\n",
        "nw = preprocess_2008()\n",
        "nw.sample(3)"
      ],
      "metadata": {
        "id": "azUTDKxc5ctc"
      },
      "execution_count": null,
      "outputs": []
    },
    {
      "cell_type": "code",
      "source": [
        "nw.dtypes"
      ],
      "metadata": {
        "id": "05dHle50VjsF"
      },
      "execution_count": null,
      "outputs": []
    },
    {
      "cell_type": "markdown",
      "source": [
        "## Removing Missing Data"
      ],
      "metadata": {
        "id": "emB7XuGpBOPu"
      }
    },
    {
      "cell_type": "code",
      "source": [
        "!pip install --quiet pandas==2.0.2\n",
        "\n",
        "import pandas as pd\n",
        "from pathlib import Path\n",
        "\n",
        "if not Path(\"olympics_1896_2004.csv\").exists():\n",
        "  !wget https://github.com/jonfernandes/pandas_essential/raw/main/olympics_1896_2004.csv\n",
        "if not Path(\"olympics_2008.csv\").exists():\n",
        "  !wget https://github.com/jonfernandes/pandas_essential/raw/main/olympics_2008.csv\n",
        "\n",
        "filename = \"olympics_1896_2004.csv\"\n",
        "print(\"Installed all of the necessary files for this section ...\")"
      ],
      "metadata": {
        "id": "IMeKqkvprH96"
      },
      "execution_count": null,
      "outputs": []
    },
    {
      "cell_type": "code",
      "source": [
        "def preprocess_2008(filename=\"olympics_2008.csv\"):\n",
        "  df = pd.read_csv(filename)\n",
        "  df.columns = ['City', 'Year', 'Sport', 'Discipline', 'Athlete Name', 'NOC',\n",
        "       'Gender', 'Event', 'Event Gender', 'Medal', 'Result']\n",
        "  df = df.drop(\"Result\", axis=1)\n",
        "  df.City = df.City.fillna(value=\"Beijing\")\n",
        "  df.Year = df.Year.fillna(value=2008)\n",
        "  return df\n",
        "\n",
        "nw = preprocess_2008()\n",
        "nw.sample(3)"
      ],
      "metadata": {
        "id": "I_ywNXrrBQrt"
      },
      "execution_count": null,
      "outputs": []
    },
    {
      "cell_type": "code",
      "source": [
        "nw.info()"
      ],
      "metadata": {
        "id": "D0GGrn5-BUi8"
      },
      "execution_count": null,
      "outputs": []
    },
    {
      "cell_type": "code",
      "source": [
        "nw[nw.Sport.isna()]"
      ],
      "metadata": {
        "id": "CZMPwsAmYbQj"
      },
      "execution_count": null,
      "outputs": []
    },
    {
      "cell_type": "code",
      "source": [
        "nw.dropna(how=\"all\", axis=0)"
      ],
      "metadata": {
        "id": "7arenC0wB7vk"
      },
      "execution_count": null,
      "outputs": []
    },
    {
      "cell_type": "code",
      "source": [
        "nw.dropna(how=\"any\", axis=0)"
      ],
      "metadata": {
        "id": "5aatWXUuCdu2"
      },
      "execution_count": null,
      "outputs": []
    },
    {
      "cell_type": "code",
      "source": [
        "nw[nw.Sport.isna()]"
      ],
      "metadata": {
        "id": "2G7qXMqiCj7N"
      },
      "execution_count": null,
      "outputs": []
    },
    {
      "cell_type": "code",
      "source": [
        "nw.dropna?"
      ],
      "metadata": {
        "id": "_P6iWSr7Cz4h"
      },
      "execution_count": null,
      "outputs": []
    },
    {
      "cell_type": "code",
      "source": [
        "nw.columns"
      ],
      "metadata": {
        "id": "YOGjsI6kCvDY"
      },
      "execution_count": null,
      "outputs": []
    },
    {
      "cell_type": "code",
      "source": [
        "nw.dropna(subset=['Sport', 'Discipline', 'Athlete Name', 'NOC', 'Gender',\n",
        "       'Event', 'Event Gender', 'Medal'], how=\"all\")"
      ],
      "metadata": {
        "id": "XoovbAMMClzE"
      },
      "execution_count": null,
      "outputs": []
    },
    {
      "cell_type": "code",
      "source": [
        "nw = nw.dropna(subset=['Sport', 'Discipline', 'Athlete Name', 'NOC', 'Gender',\n",
        "       'Event', 'Event Gender', 'Medal'], how=\"all\")\n",
        "nw.info()"
      ],
      "metadata": {
        "id": "_DJc-cyaDLab"
      },
      "execution_count": null,
      "outputs": []
    },
    {
      "cell_type": "code",
      "source": [
        "def preprocess_2008(filename=\"olympics_2008.csv\"):\n",
        "  df = pd.read_csv(filename)\n",
        "  df.columns = ['City', 'Year', 'Sport', 'Discipline', 'Athlete Name', 'NOC',\n",
        "       'Gender', 'Event', 'Event Gender', 'Medal', 'Result']\n",
        "  df = df.drop(\"Result\", axis=1)\n",
        "  df.City = df.City.fillna(value=\"Beijing\")\n",
        "  df.Year = df.Year.fillna(value=2008)\n",
        "  df = df.dropna(subset=['Sport', 'Discipline', 'Athlete Name', 'NOC', 'Gender',\n",
        "       'Event', 'Event Gender', 'Medal'], how=\"all\")\n",
        "  return df\n",
        "\n",
        "nw = preprocess_2008()\n",
        "nw.sample(3)"
      ],
      "metadata": {
        "id": "TbvIR2KuDOce"
      },
      "execution_count": null,
      "outputs": []
    },
    {
      "cell_type": "markdown",
      "source": [
        "##Working with Duplicates"
      ],
      "metadata": {
        "id": "Utjd5YTX5ruR"
      }
    },
    {
      "cell_type": "code",
      "source": [
        "!pip install --quiet pandas==2.0.2\n",
        "\n",
        "import pandas as pd\n",
        "from pathlib import Path\n",
        "\n",
        "if not Path(\"olympics_1896_2004.csv\").exists():\n",
        "  !wget https://github.com/jonfernandes/pandas_essential/raw/main/olympics_1896_2004.csv\n",
        "if not Path(\"olympics_2008.csv\").exists():\n",
        "  !wget https://github.com/jonfernandes/pandas_essential/raw/main/olympics_2008.csv\n",
        "\n",
        "filename = \"olympics_1896_2004.csv\"\n",
        "print(\"Installed all of the necessary files for this section ...\")"
      ],
      "metadata": {
        "id": "Wx0imt2brFps"
      },
      "execution_count": null,
      "outputs": []
    },
    {
      "cell_type": "code",
      "source": [
        "def preprocess_2008(filename=\"olympics_2008.csv\"):\n",
        "  df = pd.read_csv(filename)\n",
        "  df.columns = ['City', 'Year', 'Sport', 'Discipline', 'Athlete Name', 'NOC',\n",
        "       'Gender', 'Event', 'Event Gender', 'Medal', 'Result']\n",
        "  df = df.drop(\"Result\", axis=1)\n",
        "  df.City = df.City.fillna(value=\"Beijing\")\n",
        "  df.Year = df.Year.fillna(value=2008)\n",
        "  df = df.dropna(subset=['Sport', 'Discipline', 'Athlete Name', 'NOC', 'Gender',\n",
        "       'Event', 'Event Gender', 'Medal'], how=\"all\")\n",
        "  return df\n",
        "\n",
        "nw = preprocess_2008()\n",
        "nw.sample(3)"
      ],
      "metadata": {
        "id": "PhF-plEy5rOc"
      },
      "execution_count": null,
      "outputs": []
    },
    {
      "cell_type": "code",
      "source": [
        "nw.shape"
      ],
      "metadata": {
        "id": "lnY00dZWD1_8"
      },
      "execution_count": null,
      "outputs": []
    },
    {
      "cell_type": "code",
      "source": [
        "nw.duplicated?"
      ],
      "metadata": {
        "id": "pZ6N3UlLBzX8"
      },
      "execution_count": null,
      "outputs": []
    },
    {
      "cell_type": "code",
      "source": [
        "nw.duplicated()"
      ],
      "metadata": {
        "id": "NgPpC9HQE3Ry"
      },
      "execution_count": null,
      "outputs": []
    },
    {
      "cell_type": "code",
      "source": [
        "nw.duplicated().sum()"
      ],
      "metadata": {
        "id": "Jgp4ubzZGa9o"
      },
      "execution_count": null,
      "outputs": []
    },
    {
      "cell_type": "code",
      "source": [
        "nw.loc[nw.duplicated(), :]"
      ],
      "metadata": {
        "id": "JVtJfNHJE3Of"
      },
      "execution_count": null,
      "outputs": []
    },
    {
      "cell_type": "code",
      "source": [
        "nw.shape"
      ],
      "metadata": {
        "id": "IBd61f-72BfX"
      },
      "execution_count": null,
      "outputs": []
    },
    {
      "cell_type": "code",
      "source": [
        "nw = nw.drop_duplicates()\n",
        "nw.shape"
      ],
      "metadata": {
        "id": "O87BZiyT17P-"
      },
      "execution_count": null,
      "outputs": []
    },
    {
      "cell_type": "code",
      "source": [
        "nw.columns"
      ],
      "metadata": {
        "id": "bECzvRPB2gDS"
      },
      "execution_count": null,
      "outputs": []
    },
    {
      "cell_type": "code",
      "source": [
        "athlete_multiple_events = nw.duplicated(subset=['Athlete Name', 'NOC', 'Gender'])\n",
        "athlete_multiple_events"
      ],
      "metadata": {
        "id": "0QXfMx362b90"
      },
      "execution_count": null,
      "outputs": []
    },
    {
      "cell_type": "code",
      "source": [
        "nw.duplicated?"
      ],
      "metadata": {
        "id": "qbe4O9cG9Bx6"
      },
      "execution_count": null,
      "outputs": []
    },
    {
      "cell_type": "code",
      "source": [
        "nw.loc[athlete_multiple_events, :]"
      ],
      "metadata": {
        "id": "AXu-1OdR23dQ"
      },
      "execution_count": null,
      "outputs": []
    },
    {
      "cell_type": "code",
      "source": [
        "nw.loc[athlete_multiple_events, :].sort_values(\"Athlete Name\")"
      ],
      "metadata": {
        "id": "Aejpo1cQ9t8z"
      },
      "execution_count": null,
      "outputs": []
    },
    {
      "cell_type": "code",
      "source": [
        "nw.loc[nw[\"Athlete Name\"] == \"ZOU, Kai\"]"
      ],
      "metadata": {
        "id": "OSVcTGp26RL1"
      },
      "execution_count": null,
      "outputs": []
    },
    {
      "cell_type": "code",
      "source": [
        "def preprocess_2008(filename=\"olympics_2008.csv\"):\n",
        "  df = pd.read_csv(filename)\n",
        "  df.columns = ['City', 'Year', 'Sport', 'Discipline', 'Athlete Name', 'NOC',\n",
        "       'Gender', 'Event', 'Event Gender', 'Medal', 'Result']\n",
        "  df = df.drop(\"Result\", axis=1)\n",
        "  df.City = df.City.fillna(value=\"Beijing\")\n",
        "  df.Year = df.Year.fillna(value=2008)\n",
        "  df = df.dropna(subset=['Sport', 'Discipline', 'Athlete Name', 'NOC', 'Gender',\n",
        "       'Event', 'Event Gender', 'Medal'], how=\"all\")\n",
        "  df = df.drop_duplicates()\n",
        "  return df\n",
        "\n",
        "nw = preprocess_2008()\n",
        "nw.sample(3)"
      ],
      "metadata": {
        "id": "JvOKU5gh-LkC"
      },
      "execution_count": null,
      "outputs": []
    },
    {
      "cell_type": "markdown",
      "metadata": {
        "id": "UbtEix9Y-6Uc"
      },
      "source": [
        "## Validating data"
      ]
    },
    {
      "cell_type": "code",
      "source": [
        "!pip install --quiet pandas==2.0.2\n",
        "\n",
        "import pandas as pd\n",
        "from pathlib import Path\n",
        "\n",
        "if not Path(\"olympics_1896_2004.csv\").exists():\n",
        "  !wget https://github.com/jonfernandes/pandas_essential/raw/main/olympics_1896_2004.csv\n",
        "if not Path(\"olympics_2008.csv\").exists():\n",
        "  !wget https://github.com/jonfernandes/pandas_essential/raw/main/olympics_2008.csv\n",
        "\n",
        "filename = \"olympics_1896_2004.csv\"\n",
        "print(\"Installed all of the necessary files for this section ...\")"
      ],
      "metadata": {
        "id": "K-3GE0qErC57"
      },
      "execution_count": null,
      "outputs": []
    },
    {
      "cell_type": "code",
      "source": [
        "def preprocess(filename = \"olympics_1896_2004.csv\"):\n",
        "  \"\"\"Preparing and transforming dataframe\"\"\"\n",
        "  print(f\"Preprocessing {filename} ...\\n\")\n",
        "  ordered_medals = pd.api.types.CategoricalDtype(categories=[\"Bronze\", \"Silver\", \"Gold\"], ordered=True)\n",
        "  dtype_mapper = {\"Year\": \"int64\",\n",
        "                \"City\": \"string\",\n",
        "                \"Sport\": \"string\",\n",
        "                \"Discipline\": \"string\",\n",
        "                \"Athlete Name\": \"string\",\n",
        "                \"NOC\": \"string\",\n",
        "                \"Gender\": \"category\",\n",
        "                \"Event\": \"string\",\n",
        "                \"Event_gender\": \"category\",\n",
        "                \"Medal\": ordered_medals}\n",
        "  df = (pd.read_csv(filename, skiprows=5, dtype=dtype_mapper)\n",
        "        .drop('Position', axis=1)\n",
        "  )\n",
        "  df[\"Event Gender\"] = df[\"Event Gender\"].astype(\"category\")\n",
        "  return df\n",
        "\n",
        "oo = preprocess()\n",
        "\n",
        "def preprocess_2008(filename=\"olympics_2008.csv\"):\n",
        "  df = pd.read_csv(filename)\n",
        "  df.columns = ['City', 'Year', 'Sport', 'Discipline', 'Athlete Name', 'NOC',\n",
        "       'Gender', 'Event', 'Event Gender', 'Medal', 'Result']\n",
        "  df = df.drop(\"Result\", axis=1)\n",
        "  df.City = df.City.fillna(value=\"Beijing\")\n",
        "  df.Year = df.Year.fillna(value=2008)\n",
        "  df = df.dropna(subset=['Sport', 'Discipline', 'Athlete Name', 'NOC', 'Gender',\n",
        "       'Event', 'Event Gender', 'Medal'], how=\"all\")\n",
        "  df = df.drop_duplicates()\n",
        "  return df\n",
        "\n",
        "nw = preprocess_2008()\n",
        "nw.sample(3)"
      ],
      "metadata": {
        "id": "HwNEL7CXQyu5"
      },
      "execution_count": null,
      "outputs": []
    },
    {
      "cell_type": "code",
      "source": [
        "nw[\"Event Gender\"].unique()"
      ],
      "metadata": {
        "id": "rhetXk9g8AsY"
      },
      "execution_count": null,
      "outputs": []
    },
    {
      "cell_type": "code",
      "source": [
        "nw.Gender.unique()"
      ],
      "metadata": {
        "id": "l1qJFDAX8GSY"
      },
      "execution_count": null,
      "outputs": []
    },
    {
      "cell_type": "code",
      "execution_count": null,
      "metadata": {
        "id": "eYHYicgr_EzJ"
      },
      "outputs": [],
      "source": [
        "nw.loc[(nw[\"Event Gender\"] == \"M\") & (nw.Gender != \"Men\")]"
      ]
    },
    {
      "cell_type": "code",
      "execution_count": null,
      "metadata": {
        "id": "l1sWOUlZBylc"
      },
      "outputs": [],
      "source": [
        "nw.loc[(nw[\"Event Gender\"] == \"F\") & (nw.Gender != \"Women\")]"
      ]
    },
    {
      "cell_type": "code",
      "source": [
        "nw.loc[(nw.Gender == \"Women\") & ((nw[\"Event Gender\"] != \"W\") & (nw[\"Event Gender\"] != \"X\"))]"
      ],
      "metadata": {
        "id": "EuwgJImaMzwT"
      },
      "execution_count": null,
      "outputs": []
    },
    {
      "cell_type": "code",
      "source": [
        "nw.loc[(nw.Gender == \"Men\") & ((nw[\"Event Gender\"] != \"M\") & (nw[\"Event Gender\"] != \"X\"))]"
      ],
      "metadata": {
        "id": "JIpUdf5oGImN"
      },
      "execution_count": null,
      "outputs": []
    },
    {
      "cell_type": "code",
      "source": [
        "oo[\"Event Gender\"].unique()"
      ],
      "metadata": {
        "id": "EX9V3FzM9BQt"
      },
      "execution_count": null,
      "outputs": []
    },
    {
      "cell_type": "code",
      "source": [
        "oo.Gender.unique()"
      ],
      "metadata": {
        "id": "-0BXwVdH9OAH"
      },
      "execution_count": null,
      "outputs": []
    },
    {
      "cell_type": "code",
      "source": [
        "oo.loc[(oo[\"Event Gender\"] == \"M\") & (oo.Gender != \"Men\")]"
      ],
      "metadata": {
        "id": "9TkKywKF9dIP"
      },
      "execution_count": null,
      "outputs": []
    },
    {
      "cell_type": "code",
      "source": [
        "oo.loc[(oo[\"Event Gender\"] == \"F\") & (oo.Gender != \"Women\")]"
      ],
      "metadata": {
        "id": "D_pgFuPv9kbM"
      },
      "execution_count": null,
      "outputs": []
    },
    {
      "cell_type": "code",
      "source": [
        "oo.loc[(oo.Gender == \"Women\") & ((oo[\"Event Gender\"] != \"W\") & (oo[\"Event Gender\"] != \"X\"))]"
      ],
      "metadata": {
        "id": "vlnNr3cU9zyy"
      },
      "execution_count": null,
      "outputs": []
    },
    {
      "cell_type": "code",
      "source": [
        "oo.loc[(oo.Gender == \"Men\") & ((oo[\"Event Gender\"] != \"M\") & (oo[\"Event Gender\"] != \"X\"))]"
      ],
      "metadata": {
        "id": "RBRUQUVm96_l"
      },
      "execution_count": null,
      "outputs": []
    },
    {
      "cell_type": "code",
      "source": [
        "oo.loc[(oo.Year == 2000) & (oo.Event == \"marathon\")]"
      ],
      "metadata": {
        "id": "-SbUAODK-LB1"
      },
      "execution_count": null,
      "outputs": []
    },
    {
      "cell_type": "code",
      "source": [
        "oo.loc[24676, \"Gender\"] = \"Women\"\n",
        "oo.loc[(oo.Year == 2000) & (oo.Event == \"marathon\")]"
      ],
      "metadata": {
        "id": "oKFCpt5S_ofd"
      },
      "execution_count": null,
      "outputs": []
    },
    {
      "cell_type": "code",
      "source": [
        "def preprocess(filename = \"olympics_1896_2004.csv\"):\n",
        "  \"\"\"Preparing and transforming dataframe\"\"\"\n",
        "  print(f\"Preprocessing {filename} ...\\n\")\n",
        "  ordered_medals = pd.api.types.CategoricalDtype(categories=[\"Bronze\", \"Silver\", \"Gold\"], ordered=True)\n",
        "  dtype_mapper = {\"Year\": \"int64\",\n",
        "                \"City\": \"string\",\n",
        "                \"Sport\": \"string\",\n",
        "                \"Discipline\": \"string\",\n",
        "                \"Athlete Name\": \"string\",\n",
        "                \"NOC\": \"string\",\n",
        "                \"Gender\": \"category\",\n",
        "                \"Event\": \"string\",\n",
        "                \"Event_gender\": \"category\",\n",
        "                \"Medal\": ordered_medals}\n",
        "  df = (pd.read_csv(filename, skiprows=5, dtype=dtype_mapper)\n",
        "        .drop('Position', axis=1)\n",
        "  )\n",
        "  df[\"Event Gender\"] = df[\"Event Gender\"].astype(\"category\")\n",
        "  df.loc[24676, \"Gender\"] = \"Women\"\n",
        "  return df\n",
        "\n",
        "oo = preprocess()\n",
        "oo.sample(3)"
      ],
      "metadata": {
        "id": "hVoK33fL_k20"
      },
      "execution_count": null,
      "outputs": []
    },
    {
      "cell_type": "code",
      "source": [
        "oo.dtypes"
      ],
      "metadata": {
        "id": "4Osa_SYePnWU"
      },
      "execution_count": null,
      "outputs": []
    },
    {
      "cell_type": "code",
      "source": [
        "nw.Year.unique()"
      ],
      "metadata": {
        "id": "TbvtLls0XmeR"
      },
      "execution_count": null,
      "outputs": []
    },
    {
      "cell_type": "code",
      "source": [
        "nw.City.unique()"
      ],
      "metadata": {
        "id": "hZ9-Og4rXjKh"
      },
      "execution_count": null,
      "outputs": []
    },
    {
      "cell_type": "code",
      "source": [
        "nw[\"Event Gender\"].unique()"
      ],
      "metadata": {
        "id": "YnOLgu_gUSIH"
      },
      "execution_count": null,
      "outputs": []
    },
    {
      "cell_type": "code",
      "execution_count": null,
      "metadata": {
        "id": "jQ1zI7dsHB6y"
      },
      "outputs": [],
      "source": [
        "nw[\"Event Gender\"].unique().tolist()"
      ]
    },
    {
      "cell_type": "code",
      "source": [
        "oo[\"Event Gender\"].unique().tolist()"
      ],
      "metadata": {
        "id": "1ZQ5IIN9aB8M"
      },
      "execution_count": null,
      "outputs": []
    },
    {
      "cell_type": "code",
      "source": [
        "nw[\"Event Gender\"].unique().tolist() == oo[\"Event Gender\"].unique().tolist()"
      ],
      "metadata": {
        "id": "RWjS9PJQBzZf"
      },
      "execution_count": null,
      "outputs": []
    },
    {
      "cell_type": "code",
      "source": [
        "sorted(nw[\"Event Gender\"].unique().tolist())"
      ],
      "metadata": {
        "id": "CxqGXp08V_52"
      },
      "execution_count": null,
      "outputs": []
    },
    {
      "cell_type": "code",
      "source": [
        "sorted(oo[\"Event Gender\"].unique().tolist())"
      ],
      "metadata": {
        "id": "SOMsVp49ShoN"
      },
      "execution_count": null,
      "outputs": []
    },
    {
      "cell_type": "code",
      "execution_count": null,
      "metadata": {
        "id": "8l3rPB3DMzuI"
      },
      "outputs": [],
      "source": [
        "assert(sorted(nw[\"Event Gender\"].unique().tolist()) == sorted(oo[\"Event Gender\"].unique().tolist()))\n",
        "print(\"Passes all tests ...\")"
      ]
    },
    {
      "cell_type": "code",
      "execution_count": null,
      "metadata": {
        "id": "cccr9txiHrau"
      },
      "outputs": [],
      "source": [
        "#assert(sorted(nw[\"Event Gender\"].unique().tolist()) == sorted(oo[\"Event Gender\"].unique().tolist()))\n",
        "#assert(sorted(nw.Gender.unique().tolist()) == sorted(oo.Gender.unique().tolist()))\n",
        "#assert(sorted(nw.Medal.unique().tolist()) == sorted(oo.Medal.unique().tolist()))\n",
        "#print(\"Passes all tests ...\")"
      ]
    },
    {
      "cell_type": "code",
      "source": [
        "sorted(oo.Medal.unique().tolist())"
      ],
      "metadata": {
        "id": "yNIqLCfCWzsZ"
      },
      "execution_count": null,
      "outputs": []
    },
    {
      "cell_type": "code",
      "source": [
        "sorted(nw.Medal.unique().tolist())"
      ],
      "metadata": {
        "id": "0XNUaBHDWoc8"
      },
      "execution_count": null,
      "outputs": []
    },
    {
      "cell_type": "code",
      "source": [
        "nw.Medal.str.capitalize()"
      ],
      "metadata": {
        "id": "8uIxl1TBW9Fs"
      },
      "execution_count": null,
      "outputs": []
    },
    {
      "cell_type": "code",
      "source": [
        "nw.Medal = nw.Medal.str.capitalize()\n",
        "nw.sample(3)"
      ],
      "metadata": {
        "id": "sgUAncYIX7He"
      },
      "execution_count": null,
      "outputs": []
    },
    {
      "cell_type": "code",
      "source": [
        "assert(sorted(nw[\"Event Gender\"].unique().tolist()) == sorted(oo[\"Event Gender\"].unique().tolist()))\n",
        "assert(sorted(nw.Gender.unique().tolist()) == sorted(oo.Gender.unique().tolist()))\n",
        "assert(sorted(nw.Medal.unique().tolist()) == sorted(oo.Medal.unique().tolist()))\n",
        "print(\"Passes all tests ...\")"
      ],
      "metadata": {
        "id": "ahSYGIbVMKBQ"
      },
      "execution_count": null,
      "outputs": []
    },
    {
      "cell_type": "code",
      "source": [
        "sorted(nw.Sport.unique().tolist())"
      ],
      "metadata": {
        "id": "PpJbb4ZDbez1"
      },
      "execution_count": null,
      "outputs": []
    },
    {
      "cell_type": "code",
      "source": [
        "sorted(oo.Sport.unique().tolist())"
      ],
      "metadata": {
        "id": "tjmUeyJ-br55"
      },
      "execution_count": null,
      "outputs": []
    },
    {
      "cell_type": "code",
      "source": [
        "nw.NOC.unique()"
      ],
      "metadata": {
        "id": "Q0H1hrjuFgZC"
      },
      "execution_count": null,
      "outputs": []
    },
    {
      "cell_type": "code",
      "source": [
        "nw.Sport = nw.Sport.str.lower()\n",
        "nw.Discipline = nw.Discipline.str.lower()\n",
        "nw.Event = nw.Event.str.lower()\n",
        "nw.NOC = nw.NOC.str.upper()\n",
        "nw.sample(3)"
      ],
      "metadata": {
        "id": "qYYpOxjYb1Zl"
      },
      "execution_count": null,
      "outputs": []
    },
    {
      "cell_type": "code",
      "execution_count": null,
      "metadata": {
        "id": "cVFweCTTKK16"
      },
      "outputs": [],
      "source": [
        "def preprocess_2008(filename=\"olympics_2008.csv\"):\n",
        "  df = pd.read_csv(filename)\n",
        "  df.columns = ['City', 'Year', 'Sport', 'Discipline', 'Athlete Name', 'NOC',\n",
        "       'Gender', 'Event', 'Event Gender', 'Medal', 'Result']\n",
        "  df = df.drop(\"Result\", axis=1)\n",
        "  df.City = df.City.fillna(value=\"Beijing\")\n",
        "  df.Year = df.Year.fillna(value=2008)\n",
        "  df = df.dropna(subset=['Sport', 'Discipline', 'Athlete Name', 'NOC', 'Gender',\n",
        "       'Event', 'Event Gender', 'Medal'], how=\"all\")\n",
        "  df = df.drop_duplicates()\n",
        "  df.Sport = df.Sport.str.lower()\n",
        "  df.Discipline = df.Discipline.str.lower()\n",
        "  df.Event = df.Event.str.lower()\n",
        "  df.NOC = df.NOC.str.upper()\n",
        "  df.Medal = df.Medal.str.capitalize()\n",
        "  return df\n",
        "\n",
        "nw = preprocess_2008()\n",
        "nw.sample(3)"
      ]
    },
    {
      "cell_type": "markdown",
      "source": [
        "## Further Data Validation"
      ],
      "metadata": {
        "id": "L1yiHNB0Ohfm"
      }
    },
    {
      "cell_type": "code",
      "source": [
        "def preprocess(filename = \"olympics_1896_2004.csv\"):\n",
        "  \"\"\"Preparing and transforming dataframe\"\"\"\n",
        "  print(f\"Preprocessing {filename} ...\\n\")\n",
        "  ordered_medals = pd.api.types.CategoricalDtype(categories=[\"Bronze\", \"Silver\", \"Gold\"], ordered=True)\n",
        "  dtype_mapper = {\"Year\": \"int64\",\n",
        "                \"City\": \"string\",\n",
        "                \"Sport\": \"string\",\n",
        "                \"Discipline\": \"string\",\n",
        "                \"Athlete Name\": \"string\",\n",
        "                \"NOC\": \"string\",\n",
        "                \"Gender\": \"category\",\n",
        "                \"Event\": \"string\",\n",
        "                \"Event_gender\": \"category\",\n",
        "                \"Medal\": ordered_medals}\n",
        "  df = (pd.read_csv(filename, skiprows=5, dtype=dtype_mapper)\n",
        "        .drop('Position', axis=1)\n",
        "  )\n",
        "  df[\"Event Gender\"] = df[\"Event Gender\"].astype(\"category\")\n",
        "  return df\n",
        "\n",
        "oo = preprocess()\n",
        "\n",
        "def preprocess_2008(filename=\"olympics_2008.csv\"):\n",
        "  df = pd.read_csv(filename)\n",
        "  df.columns = ['City', 'Year', 'Sport', 'Discipline', 'Athlete Name', 'NOC',\n",
        "       'Gender', 'Event', 'Event Gender', 'Medal', 'Result']\n",
        "  df = df.drop(\"Result\", axis=1)\n",
        "  df.City = df.City.fillna(value=\"Beijing\")\n",
        "  df.Year = df.Year.fillna(value=2008)\n",
        "  df = df.dropna(subset=['Sport', 'Discipline', 'Athlete Name', 'NOC', 'Gender',\n",
        "       'Event', 'Event Gender', 'Medal'], how=\"all\")\n",
        "  df = df.drop_duplicates()\n",
        "  return df\n",
        "\n",
        "nw = preprocess_2008()\n",
        "nw.sample(3)"
      ],
      "metadata": {
        "id": "GOflVpGsZL_Q"
      },
      "execution_count": null,
      "outputs": []
    },
    {
      "cell_type": "code",
      "source": [
        "medals = ['Gold', 'Silver', 'Bronze', 'Bronze', 'Gold']\n",
        "medals"
      ],
      "metadata": {
        "id": "N6o2NYWie7D8"
      },
      "execution_count": null,
      "outputs": []
    },
    {
      "cell_type": "code",
      "source": [
        "medals[0]"
      ],
      "metadata": {
        "id": "v7c-iLUOQPsK"
      },
      "execution_count": null,
      "outputs": []
    },
    {
      "cell_type": "code",
      "source": [
        "medals[1]"
      ],
      "metadata": {
        "id": "jldc5g5fQRFH"
      },
      "execution_count": null,
      "outputs": []
    },
    {
      "cell_type": "code",
      "source": [
        "len(medals)"
      ],
      "metadata": {
        "id": "6Y0s7gi_Qh47"
      },
      "execution_count": null,
      "outputs": []
    },
    {
      "cell_type": "code",
      "source": [
        "nw[\"Athlete Name\"]"
      ],
      "metadata": {
        "id": "QeaYD5fwZyqj"
      },
      "execution_count": null,
      "outputs": []
    },
    {
      "cell_type": "code",
      "source": [
        "import re\n",
        "\n",
        "search_string = \"split\"\n",
        "\n",
        "[func for func in dir(nw[\"Athlete Name\"].str) if re.search(rf\"{search_string}\", func, re.IGNORECASE)]"
      ],
      "metadata": {
        "id": "1hoQ3x9jeptx"
      },
      "execution_count": null,
      "outputs": []
    },
    {
      "cell_type": "code",
      "source": [
        "nw[\"Athlete Name\"].str.split?"
      ],
      "metadata": {
        "id": "fh_rUyyieUm7"
      },
      "execution_count": null,
      "outputs": []
    },
    {
      "cell_type": "code",
      "source": [
        "nw[\"Athlete Name\"].str.split(\", \")"
      ],
      "metadata": {
        "id": "mf-ra6HlHOXq"
      },
      "execution_count": null,
      "outputs": []
    },
    {
      "cell_type": "code",
      "source": [
        "nw[\"Athlete Name\"].str.split(\", \").tolist()"
      ],
      "metadata": {
        "id": "EaXUuR-vHjVh"
      },
      "execution_count": null,
      "outputs": []
    },
    {
      "cell_type": "code",
      "source": [
        "athlete_names = nw[\"Athlete Name\"].str.split(\", \").tolist()\n",
        "athlete_names"
      ],
      "metadata": {
        "id": "2ejtl6psHnbN"
      },
      "execution_count": null,
      "outputs": []
    },
    {
      "cell_type": "code",
      "source": [
        "import re\n",
        "\n",
        "search_string = \"upper\"\n",
        "\n",
        "[func for func in dir(nw[\"Athlete Name\"].str) if re.search(rf\"{search_string}\", func, re.IGNORECASE)]"
      ],
      "metadata": {
        "id": "g1USKjupfWxT"
      },
      "execution_count": null,
      "outputs": []
    },
    {
      "cell_type": "code",
      "source": [
        "[athlete_name for athlete_name in athlete_names]"
      ],
      "metadata": {
        "id": "UAvRMk62IC9y"
      },
      "execution_count": null,
      "outputs": []
    },
    {
      "cell_type": "code",
      "source": [
        "[athlete_name[0] for athlete_name in athlete_names]"
      ],
      "metadata": {
        "id": "r1zOAWZhITjq"
      },
      "execution_count": null,
      "outputs": []
    },
    {
      "cell_type": "code",
      "source": [
        "[athlete_name[0].isupper() for athlete_name in athlete_names]"
      ],
      "metadata": {
        "id": "8rkOsk9cIZ9n"
      },
      "execution_count": null,
      "outputs": []
    },
    {
      "cell_type": "code",
      "source": [
        "len([item[0].isupper() for item in athlete_names])"
      ],
      "metadata": {
        "id": "0eyFKJTBG1FB"
      },
      "execution_count": null,
      "outputs": []
    },
    {
      "cell_type": "code",
      "source": [
        "nw.info()"
      ],
      "metadata": {
        "id": "AihTvS2aHFzJ"
      },
      "execution_count": null,
      "outputs": []
    },
    {
      "cell_type": "markdown",
      "source": [
        "##Updating the dtypes"
      ],
      "metadata": {
        "id": "nC0B3PtWD0H1"
      }
    },
    {
      "cell_type": "code",
      "source": [
        "!pip install --quiet pandas==2.0.2\n",
        "\n",
        "import pandas as pd\n",
        "from pathlib import Path\n",
        "\n",
        "if not Path(\"olympics_1896_2004.csv\").exists():\n",
        "  !wget https://github.com/jonfernandes/pandas_essential/raw/main/olympics_1896_2004.csv\n",
        "if not Path(\"olympics_2008.csv\").exists():\n",
        "  !wget https://github.com/jonfernandes/pandas_essential/raw/main/olympics_2008.csv\n",
        "\n",
        "filename = \"olympics_1896_2004.csv\"\n",
        "print(\"Installed all of the necessary files for this section ...\")"
      ],
      "metadata": {
        "id": "biY5wXHNq_Sv"
      },
      "execution_count": null,
      "outputs": []
    },
    {
      "cell_type": "code",
      "source": [
        "def preprocess(filename = \"olympics_1896_2004.csv\"):\n",
        "  \"\"\"Preparing and transforming dataframe\"\"\"\n",
        "  print(f\"Preprocessing {filename} ...\\n\")\n",
        "  ordered_medals = pd.api.types.CategoricalDtype(categories=[\"Bronze\", \"Silver\", \"Gold\"], ordered=True)\n",
        "  dtype_mapper = {\"Year\": \"int64\",\n",
        "                \"City\": \"string\",\n",
        "                \"Sport\": \"string\",\n",
        "                \"Discipline\": \"string\",\n",
        "                \"Athlete Name\": \"string\",\n",
        "                \"NOC\": \"string\",\n",
        "                \"Gender\": \"category\",\n",
        "                \"Event\": \"string\",\n",
        "                \"Event_gender\": \"category\",\n",
        "                \"Medal\": ordered_medals}\n",
        "  df = (pd.read_csv(filename, skiprows=5, dtype=dtype_mapper)\n",
        "        .drop('Position', axis=1)\n",
        "  )\n",
        "  df.Sport = df.Sport.str.lower()\n",
        "  df.Discipline = df.Discipline.str.lower()\n",
        "  df.Event = df.Event.str.lower()\n",
        "  df.NOC = df.NOC.str.upper()\n",
        "  df[\"Event Gender\"] = df[\"Event Gender\"].astype(\"category\")\n",
        "  df.loc[24676, \"Gender\"] = \"Women\"\n",
        "  return df\n",
        "\n",
        "def preprocess_2008(filename=\"olympics_2008.csv\"):\n",
        "  df = pd.read_csv(filename)\n",
        "  df.columns = ['City', 'Year', 'Sport', 'Discipline', 'Athlete Name', 'NOC',\n",
        "       'Gender', 'Event', 'Event Gender', 'Medal', 'Result']\n",
        "  df = df.drop(\"Result\", axis=1)\n",
        "  df.City = df.City.fillna(value=\"Beijing\")\n",
        "  df.Year = df.Year.fillna(value=2008)\n",
        "  df = df.dropna(subset=['Sport', 'Discipline', 'Athlete Name', 'NOC', 'Gender',\n",
        "       'Event', 'Event Gender', 'Medal'], how=\"all\")\n",
        "  df = df.drop_duplicates()\n",
        "  df.Sport = df.Sport.str.lower()\n",
        "  df.Discipline = df.Discipline.str.lower()\n",
        "  df.Event = df.Event.str.lower()\n",
        "  df.NOC = df.NOC.str.upper()\n",
        "  df.Medal = df.Medal.str.capitalize()\n",
        "  return df\n",
        "\n",
        "oo = preprocess()\n",
        "nw = preprocess_2008()\n",
        "nw.sample(3)"
      ],
      "metadata": {
        "id": "Ilm29tuCDmpV"
      },
      "execution_count": null,
      "outputs": []
    },
    {
      "cell_type": "code",
      "source": [
        "nw.dtypes"
      ],
      "metadata": {
        "id": "8ode2JHZD-4o"
      },
      "execution_count": null,
      "outputs": []
    },
    {
      "cell_type": "code",
      "source": [
        "oo.dtypes"
      ],
      "metadata": {
        "id": "LAuLw1l3T2jD"
      },
      "execution_count": null,
      "outputs": []
    },
    {
      "cell_type": "code",
      "source": [
        "def preprocess_2008(filename=\"olympics_2008.csv\"):\n",
        "  print(f\"Preprocessing {filename} ...\\n\")\n",
        "  df = pd.read_csv(filename)\n",
        "  df.columns = ['City', 'Year', 'Sport', 'Discipline', 'Athlete Name', 'NOC',\n",
        "       'Gender', 'Event', 'Event Gender', 'Medal', 'Result']\n",
        "  df = df.drop(\"Result\", axis=1)\n",
        "  df.City = df.City.fillna(value=\"Beijing\")\n",
        "  df.Year = df.Year.fillna(value=2008)\n",
        "  df = df.dropna(subset=['Sport', 'Discipline', 'Athlete Name', 'NOC', 'Gender',\n",
        "       'Event', 'Event Gender', 'Medal'], how=\"all\")\n",
        "  df = df.drop_duplicates()\n",
        "  df.Sport = df.Sport.str.lower()\n",
        "  df.Discipline = df.Discipline.str.lower()\n",
        "  df.Event = df.Event.str.lower()\n",
        "  df.NOC = df.NOC.str.upper()\n",
        "  df.Medal = df.Medal.str.capitalize()\n",
        "  df.City = df.City.astype(\"string\")\n",
        "  df.Year = df.Year.astype(int)\n",
        "  df.Sport = df.Sport.astype(\"string\")\n",
        "  df.Discipline = df.Discipline.astype(\"string\")\n",
        "  df[\"Athlete Name\"] = df[\"Athlete Name\"].astype(\"string\")\n",
        "  df.NOC = df.NOC.astype(\"string\")\n",
        "  df.Gender = df.Gender.astype(\"category\")\n",
        "  df.Event = df.Event.astype(\"string\")\n",
        "  df['Event Gender'] = df['Event Gender'].astype(\"category\")\n",
        "  medal_order = [\"Bronze\", \"Silver\", \"Gold\"]\n",
        "  df.Medal = pd.Categorical(df.Medal, categories=medal_order, ordered=True)\n",
        "\n",
        "  return df\n",
        "\n",
        "nw = preprocess_2008()\n",
        "nw.sample(3)\n",
        "\n"
      ],
      "metadata": {
        "id": "JPZ847t7ERLs"
      },
      "execution_count": null,
      "outputs": []
    },
    {
      "cell_type": "code",
      "source": [
        "nw.dtypes"
      ],
      "metadata": {
        "id": "WmhfHI5KERIT"
      },
      "execution_count": null,
      "outputs": []
    },
    {
      "cell_type": "markdown",
      "source": [
        "## Combine the datasets"
      ],
      "metadata": {
        "id": "BdOwoiXDISBA"
      }
    },
    {
      "cell_type": "code",
      "source": [
        "!pip install --quiet pandas==2.0.2\n",
        "\n",
        "import pandas as pd\n",
        "from pathlib import Path\n",
        "\n",
        "if not Path(\"olympics_1896_2004.csv\").exists():\n",
        "  !wget https://github.com/jonfernandes/pandas_essential/raw/main/olympics_1896_2004.csv\n",
        "if not Path(\"olympics_2008.csv\").exists():\n",
        "  !wget https://github.com/jonfernandes/pandas_essential/raw/main/olympics_2008.csv\n",
        "\n",
        "filename = \"olympics_1896_2004.csv\"\n",
        "print(\"Installed all of the necessary files for this section ...\")"
      ],
      "metadata": {
        "id": "r76ijBJvqLIj"
      },
      "execution_count": null,
      "outputs": []
    },
    {
      "cell_type": "code",
      "source": [
        "def preprocess(filename = \"olympics_1896_2004.csv\"):\n",
        "  \"\"\"Preparing and transforming dataframe\"\"\"\n",
        "  print(f\"Preprocessing {filename} ...\\n\")\n",
        "  ordered_medals = pd.api.types.CategoricalDtype(categories=[\"Bronze\", \"Silver\", \"Gold\"], ordered=True)\n",
        "  dtype_mapper = {\"Year\": \"int64\",\n",
        "                \"City\": \"string\",\n",
        "                \"Sport\": \"string\",\n",
        "                \"Discipline\": \"string\",\n",
        "                \"Athlete Name\": \"string\",\n",
        "                \"NOC\": \"string\",\n",
        "                \"Gender\": \"category\",\n",
        "                \"Event\": \"string\",\n",
        "                \"Event_gender\": \"category\",\n",
        "                \"Medal\": ordered_medals}\n",
        "  df = (pd.read_csv(filename, skiprows=5, dtype=dtype_mapper)\n",
        "        .drop('Position', axis=1)\n",
        "  )\n",
        "  df[\"Event Gender\"] = df[\"Event Gender\"].astype(\"category\")\n",
        "  df.loc[24676, \"Gender\"] = \"Women\"\n",
        "  df.Sport = df.Sport.str.lower()\n",
        "  df.Discipline = df.Discipline.str.lower()\n",
        "  df.Event = df.Event.str.lower()\n",
        "  df.NOC = df.NOC.str.upper()\n",
        "  return df\n",
        "\n",
        "def preprocess_2008(filename=\"olympics_2008.csv\"):\n",
        "  print(f\"Preprocessing {filename} ...\\n\")\n",
        "  df = pd.read_csv(filename)\n",
        "  df.columns = ['City', 'Year', 'Sport', 'Discipline', 'Athlete Name', 'NOC',\n",
        "       'Gender', 'Event', 'Event Gender', 'Medal', 'Result']\n",
        "  df = df.drop(\"Result\", axis=1)\n",
        "  df.City = df.City.fillna(value=\"Beijing\")\n",
        "  df.Year = df.Year.fillna(value=2008)\n",
        "  df = df.dropna(subset=['Sport', 'Discipline', 'Athlete Name', 'NOC', 'Gender',\n",
        "       'Event', 'Event Gender', 'Medal'], how=\"all\")\n",
        "  df = df.drop_duplicates()\n",
        "  df.Sport = df.Sport.str.lower()\n",
        "  df.Discipline = df.Discipline.str.lower()\n",
        "  df.Event = df.Event.str.lower()\n",
        "  df.NOC = df.NOC.str.upper()\n",
        "  df.Medal = df.Medal.str.capitalize()\n",
        "  df.City = df.City.astype(\"string\")\n",
        "  df.Year = df.Year.astype(int)\n",
        "  df.Sport = df.Sport.astype(\"string\")\n",
        "  df.Discipline = df.Discipline.astype(\"string\")\n",
        "  df[\"Athlete Name\"] = df[\"Athlete Name\"].astype(\"string\")\n",
        "  df.NOC = df.NOC.astype(\"string\")\n",
        "  df.Gender = df.Gender.astype(\"category\")\n",
        "  df.Event = df.Event.astype(\"string\")\n",
        "  df['Event Gender'] = df['Event Gender'].astype(\"category\")\n",
        "  medal_order = [\"Bronze\", \"Silver\", \"Gold\"]\n",
        "  df.Medal = pd.Categorical(df.Medal, categories=medal_order, ordered=True)\n",
        "\n",
        "  return df\n"
      ],
      "metadata": {
        "id": "jO66AK7yYYpE"
      },
      "execution_count": null,
      "outputs": []
    },
    {
      "cell_type": "code",
      "source": [
        "oo = preprocess()\n",
        "oo.sample(3)"
      ],
      "metadata": {
        "id": "OPd8JXEDERBV"
      },
      "execution_count": null,
      "outputs": []
    },
    {
      "cell_type": "code",
      "source": [
        "oo.dtypes"
      ],
      "metadata": {
        "id": "F7vBfS85JK5j"
      },
      "execution_count": null,
      "outputs": []
    },
    {
      "cell_type": "code",
      "source": [
        "nw = preprocess_2008()\n",
        "nw.sample(3)"
      ],
      "metadata": {
        "id": "fJrBOACtERE4"
      },
      "execution_count": null,
      "outputs": []
    },
    {
      "cell_type": "code",
      "source": [
        "nw.dtypes"
      ],
      "metadata": {
        "id": "nVorqQPcJM_f"
      },
      "execution_count": null,
      "outputs": []
    },
    {
      "cell_type": "code",
      "source": [
        "pd.concat([oo, nw])"
      ],
      "metadata": {
        "id": "KXeIQvOUEQ8-"
      },
      "execution_count": null,
      "outputs": []
    },
    {
      "cell_type": "code",
      "source": [
        "pd.concat([oo, nw]).dtypes"
      ],
      "metadata": {
        "id": "V-YFZ-lqEQ5D"
      },
      "execution_count": null,
      "outputs": []
    },
    {
      "cell_type": "code",
      "source": [
        "up = pd.concat([oo, nw])\n",
        "up.sample(3)"
      ],
      "metadata": {
        "id": "-jegITAgEQxf"
      },
      "execution_count": null,
      "outputs": []
    },
    {
      "cell_type": "code",
      "source": [
        "up.dtypes"
      ],
      "metadata": {
        "id": "4PmCLeOil6cf"
      },
      "execution_count": null,
      "outputs": []
    },
    {
      "cell_type": "markdown",
      "source": [
        "##Plotting data"
      ],
      "metadata": {
        "id": "kH9DmNEweaVZ"
      }
    },
    {
      "cell_type": "code",
      "source": [
        "!pip install --quiet pandas==2.0.2\n",
        "\n",
        "import pandas as pd\n",
        "from pathlib import Path\n",
        "import matplotlib.pyplot as plt\n",
        "\n",
        "\n",
        "if not Path(\"olympics_1896_2004.csv\").exists():\n",
        "  !wget https://github.com/jonfernandes/pandas_essential/raw/main/olympics_1896_2004.csv\n",
        "if not Path(\"olympics_2008.csv\").exists():\n",
        "  !wget https://github.com/jonfernandes/pandas_essential/raw/main/olympics_2008.csv\n",
        "\n",
        "filename = \"olympics_1896_2004.csv\"\n",
        "print(\"Installed all of the necessary files for this section ...\")"
      ],
      "metadata": {
        "id": "ESgPIHjNqVjk"
      },
      "execution_count": null,
      "outputs": []
    },
    {
      "cell_type": "code",
      "source": [
        "def preprocess(filename = \"olympics_1896_2004.csv\"):\n",
        "  \"\"\"Preparing and transforming dataframe\"\"\"\n",
        "  print(f\"Preprocessing {filename} ...\\n\")\n",
        "  ordered_medals = pd.api.types.CategoricalDtype(categories=[\"Bronze\", \"Silver\", \"Gold\"], ordered=True)\n",
        "  dtype_mapper = {\"Year\": \"int64\",\n",
        "                \"City\": \"string\",\n",
        "                \"Sport\": \"string\",\n",
        "                \"Discipline\": \"string\",\n",
        "                \"Athlete Name\": \"string\",\n",
        "                \"NOC\": \"string\",\n",
        "                \"Gender\": \"category\",\n",
        "                \"Event\": \"string\",\n",
        "                \"Event_gender\": \"category\",\n",
        "                \"Medal\": ordered_medals}\n",
        "  df = (pd.read_csv(filename, skiprows=5, dtype=dtype_mapper)\n",
        "        .drop('Position', axis=1)\n",
        "  )\n",
        "  df[\"Event Gender\"] = df[\"Event Gender\"].astype(\"category\")\n",
        "  df.loc[24676, \"Gender\"] = \"Women\"\n",
        "  df.Sport = df.Sport.str.lower()\n",
        "  df.Discipline = df.Discipline.str.lower()\n",
        "  df.Event = df.Event.str.lower()\n",
        "  df.NOC = df.NOC.str.upper()\n",
        "  return df\n",
        "\n",
        "\n",
        "def preprocess_2008(filename=\"olympics_2008.csv\"):\n",
        "  print(f\"Preprocessing {filename} ...\\n\")\n",
        "  df = pd.read_csv(filename)\n",
        "  df.columns = ['City', 'Year', 'Sport', 'Discipline', 'Athlete Name', 'NOC',\n",
        "       'Gender', 'Event', 'Event Gender', 'Medal', 'Result']\n",
        "  df = df.drop(\"Result\", axis=1)\n",
        "  df.City = df.City.fillna(value=\"Beijing\")\n",
        "  df.Year = df.Year.fillna(value=2008)\n",
        "  df = df.dropna(subset=['Sport', 'Discipline', 'Athlete Name', 'NOC', 'Gender',\n",
        "       'Event', 'Event Gender', 'Medal'], how=\"all\")\n",
        "  df = df.drop_duplicates()\n",
        "  df.Sport = df.Sport.str.lower()\n",
        "  df.Discipline = df.Discipline.str.lower()\n",
        "  df.Event = df.Event.str.lower()\n",
        "  df.NOC = df.NOC.str.upper()\n",
        "  df.Medal = df.Medal.str.capitalize()\n",
        "  df.City = df.City.astype(\"string\")\n",
        "  df.Year = df.Year.astype(int)\n",
        "  df.Sport = df.Sport.astype(\"string\")\n",
        "  df.Discipline = df.Discipline.astype(\"string\")\n",
        "  df[\"Athlete Name\"] = df[\"Athlete Name\"].astype(\"string\")\n",
        "  df.NOC = df.NOC.astype(\"string\")\n",
        "  df.Gender = df.Gender.astype(\"category\")\n",
        "  df.Event = df.Event.astype(\"string\")\n",
        "  df['Event Gender'] = df['Event Gender'].astype(\"category\")\n",
        "  medal_order = [\"Bronze\", \"Silver\", \"Gold\"]\n",
        "  df.Medal = pd.Categorical(df.Medal, categories=medal_order, ordered=True)\n",
        "\n",
        "  return df\n",
        "\n",
        "oo = preprocess()\n",
        "nw = preprocess_2008()\n",
        "up = pd.concat([oo, nw])\n",
        "up.sample(3)"
      ],
      "metadata": {
        "id": "e7WwBAKBfZ_x"
      },
      "execution_count": null,
      "outputs": []
    },
    {
      "cell_type": "code",
      "source": [
        "import matplotlib.pyplot as plt"
      ],
      "metadata": {
        "id": "hDcHyZ0Zee4H"
      },
      "execution_count": null,
      "outputs": []
    },
    {
      "cell_type": "markdown",
      "source": [
        "**For the first Olympics, how many events were there for each of the different sports? Plot them using different graphs.**"
      ],
      "metadata": {
        "id": "_0kw7_W7fOnW"
      }
    },
    {
      "cell_type": "code",
      "source": [
        "first_games = up[up.Year == 1896]\n",
        "first_games"
      ],
      "metadata": {
        "id": "e5bQRFKLee0U"
      },
      "execution_count": null,
      "outputs": []
    },
    {
      "cell_type": "code",
      "source": [
        "first_games.Sport.value_counts()"
      ],
      "metadata": {
        "id": "bl7_0MNUfo9F"
      },
      "execution_count": null,
      "outputs": []
    },
    {
      "cell_type": "code",
      "source": [
        "first_games.Sport.value_counts().plot?"
      ],
      "metadata": {
        "id": "GsrXzz2Ngqc6"
      },
      "execution_count": null,
      "outputs": []
    },
    {
      "cell_type": "code",
      "source": [
        "type(first_games.Sport.value_counts())"
      ],
      "metadata": {
        "id": "3HerIqOQh1b8"
      },
      "execution_count": null,
      "outputs": []
    },
    {
      "cell_type": "code",
      "source": [
        "dir(pd.Series)"
      ],
      "metadata": {
        "id": "WM5f-w3AhRRt"
      },
      "execution_count": null,
      "outputs": []
    },
    {
      "cell_type": "code",
      "source": [
        "pd.Series.plot?"
      ],
      "metadata": {
        "id": "NC2Py4eigDCw"
      },
      "execution_count": null,
      "outputs": []
    },
    {
      "cell_type": "code",
      "source": [
        "first_games.Sport.value_counts().plot(kind='line')"
      ],
      "metadata": {
        "id": "BvvtW4gzfo5J"
      },
      "execution_count": null,
      "outputs": []
    },
    {
      "cell_type": "code",
      "source": [
        "first_games.Sport.value_counts().plot(figsize=(10,3))"
      ],
      "metadata": {
        "id": "Atn1b3-vhSwy"
      },
      "execution_count": null,
      "outputs": []
    },
    {
      "cell_type": "code",
      "source": [
        "(first_games\n",
        " .Sport\n",
        " .value_counts()\n",
        " .plot(figsize=(10,3))\n",
        ")"
      ],
      "metadata": {
        "id": "bkX2FsJPj1GH"
      },
      "execution_count": null,
      "outputs": []
    },
    {
      "cell_type": "code",
      "source": [
        "(first_games\n",
        " .Sport\n",
        " .value_counts()\n",
        " #.plot(figsize=(10,3))\n",
        ")"
      ],
      "metadata": {
        "id": "PT2Y9QQFkEqa"
      },
      "execution_count": null,
      "outputs": []
    },
    {
      "cell_type": "code",
      "source": [
        "(first_games\n",
        " .Sport\n",
        " .value_counts()\n",
        " .plot(kind='bar')\n",
        ")"
      ],
      "metadata": {
        "id": "u9WiJO5Afo1h"
      },
      "execution_count": null,
      "outputs": []
    },
    {
      "cell_type": "code",
      "source": [
        "(first_games\n",
        " .Sport\n",
        " .value_counts()\n",
        " .plot\n",
        " .bar()\n",
        ")"
      ],
      "metadata": {
        "id": "G_UpM4MPh5yG"
      },
      "execution_count": null,
      "outputs": []
    },
    {
      "cell_type": "code",
      "source": [
        "(first_games\n",
        " .Sport\n",
        " .value_counts()\n",
        " .plot(kind='barh')\n",
        ")"
      ],
      "metadata": {
        "id": "xcCfatDefoxw"
      },
      "execution_count": null,
      "outputs": []
    },
    {
      "cell_type": "code",
      "source": [
        "(first_games\n",
        " .Sport\n",
        " .value_counts()\n",
        " .plot(kind='barh', color='red')\n",
        ")"
      ],
      "metadata": {
        "id": "Q_Tm9qp6y7aA"
      },
      "execution_count": null,
      "outputs": []
    },
    {
      "cell_type": "code",
      "source": [
        "(first_games\n",
        " .Sport\n",
        " .value_counts()\n",
        " .plot(kind='barh', color=['blue', 'red'])\n",
        ")"
      ],
      "metadata": {
        "id": "21U9xe7UzItK"
      },
      "execution_count": null,
      "outputs": []
    },
    {
      "cell_type": "markdown",
      "source": [
        "##Working with colormaps and Seaborn"
      ],
      "metadata": {
        "id": "486bDzcSDjs9"
      }
    },
    {
      "cell_type": "code",
      "source": [
        "!pip install --quiet pandas==2.0.2\n",
        "\n",
        "import pandas as pd\n",
        "from pathlib import Path\n",
        "import matplotlib.pyplot as plt\n",
        "\n",
        "if not Path(\"olympics_1896_2004.csv\").exists():\n",
        "  !wget https://github.com/jonfernandes/pandas_essential/raw/main/olympics_1896_2004.csv\n",
        "if not Path(\"olympics_2008.csv\").exists():\n",
        "  !wget https://github.com/jonfernandes/pandas_essential/raw/main/olympics_2008.csv\n",
        "\n",
        "filename = \"olympics_1896_2004.csv\"\n",
        "print(\"Installed all of the necessary files for this section ...\")"
      ],
      "metadata": {
        "id": "DpnRrEIoqid-"
      },
      "execution_count": null,
      "outputs": []
    },
    {
      "cell_type": "code",
      "source": [
        "def preprocess(filename = \"olympics_1896_2004.csv\"):\n",
        "  \"\"\"Preparing and transforming dataframe\"\"\"\n",
        "  print(f\"Preprocessing {filename} ...\\n\")\n",
        "  ordered_medals = pd.api.types.CategoricalDtype(categories=[\"Bronze\", \"Silver\", \"Gold\"], ordered=True)\n",
        "  dtype_mapper = {\"Year\": \"int64\",\n",
        "                \"City\": \"string\",\n",
        "                \"Sport\": \"string\",\n",
        "                \"Discipline\": \"string\",\n",
        "                \"Athlete Name\": \"string\",\n",
        "                \"NOC\": \"string\",\n",
        "                \"Gender\": \"category\",\n",
        "                \"Event\": \"string\",\n",
        "                \"Event_gender\": \"category\",\n",
        "                \"Medal\": ordered_medals}\n",
        "  df = (pd.read_csv(filename, skiprows=5, dtype=dtype_mapper)\n",
        "        .drop('Position', axis=1)\n",
        "  )\n",
        "  df[\"Event Gender\"] = df[\"Event Gender\"].astype(\"category\")\n",
        "  df.loc[24676, \"Gender\"] = \"Women\"\n",
        "  df.Sport = df.Sport.str.lower()\n",
        "  df.Discipline = df.Discipline.str.lower()\n",
        "  df.Event = df.Event.str.lower()\n",
        "  df.NOC = df.NOC.str.upper()\n",
        "  return df\n",
        "\n",
        "def preprocess_2008(filename=\"olympics_2008.csv\"):\n",
        "  print(f\"Preprocessing {filename} ...\\n\")\n",
        "  df = pd.read_csv(filename)\n",
        "  df.columns = ['City', 'Year', 'Sport', 'Discipline', 'Athlete Name', 'NOC',\n",
        "       'Gender', 'Event', 'Event Gender', 'Medal', 'Result']\n",
        "  df = df.drop(\"Result\", axis=1)\n",
        "  df.City = df.City.fillna(value=\"Beijing\")\n",
        "  df.Year = df.Year.fillna(value=2008)\n",
        "  df = df.dropna(subset=['Sport', 'Discipline', 'Athlete Name', 'NOC', 'Gender',\n",
        "       'Event', 'Event Gender', 'Medal'], how=\"all\")\n",
        "  df = df.drop_duplicates()\n",
        "  df.Sport = df.Sport.str.lower()\n",
        "  df.Discipline = df.Discipline.str.lower()\n",
        "  df.Event = df.Event.str.lower()\n",
        "  df.NOC = df.NOC.str.upper()\n",
        "  df.Medal = df.Medal.str.capitalize()\n",
        "  df.City = df.City.astype(\"string\")\n",
        "  df.Year = df.Year.astype(int)\n",
        "  df.Sport = df.Sport.astype(\"string\")\n",
        "  df.Discipline = df.Discipline.astype(\"string\")\n",
        "  df[\"Athlete Name\"] = df[\"Athlete Name\"].astype(\"string\")\n",
        "  df.NOC = df.NOC.astype(\"string\")\n",
        "  df.Gender = df.Gender.astype(\"category\")\n",
        "  df.Event = df.Event.astype(\"string\")\n",
        "  df['Event Gender'] = df['Event Gender'].astype(\"category\")\n",
        "  medal_order = [\"Bronze\", \"Silver\", \"Gold\"]\n",
        "  df.Medal = pd.Categorical(df.Medal, categories=medal_order, ordered=True)\n",
        "\n",
        "  return df\n",
        "\n",
        "oo = preprocess()\n",
        "nw = preprocess_2008()\n",
        "up = pd.concat([oo, nw])\n",
        "up.sample(3)"
      ],
      "metadata": {
        "id": "Ur60DjmuFL1V"
      },
      "execution_count": null,
      "outputs": []
    },
    {
      "cell_type": "code",
      "source": [
        "games_2008 = up[up.Year == 2008]\n",
        "games_2008.sample(3)"
      ],
      "metadata": {
        "id": "U76lkf7sfoor"
      },
      "execution_count": null,
      "outputs": []
    },
    {
      "cell_type": "code",
      "source": [
        "(games_2008\n",
        " .Medal\n",
        " .value_counts())"
      ],
      "metadata": {
        "id": "oSg5G5_EfolO"
      },
      "execution_count": null,
      "outputs": []
    },
    {
      "cell_type": "code",
      "source": [
        "import seaborn as sns"
      ],
      "metadata": {
        "id": "6fbPnUCrfohj"
      },
      "execution_count": null,
      "outputs": []
    },
    {
      "cell_type": "code",
      "source": [
        "plt.figure(figsize=(5,3))\n",
        "plt.title(\"Medals from the 2008 games\")\n",
        "sns.countplot(data=games_2008,\n",
        "              x='Medal',\n",
        "              )\n"
      ],
      "metadata": {
        "id": "_lEr91CVfoZy"
      },
      "execution_count": null,
      "outputs": []
    },
    {
      "cell_type": "code",
      "source": [
        "plt.figure(figsize=(5,3))\n",
        "plt.title(\"Medals from the 2008 games\")\n",
        "sns.countplot(data=games_2008,\n",
        "              x='Medal',\n",
        "              order=[\"Gold\", \"Silver\", \"Bronze\"])"
      ],
      "metadata": {
        "id": "ONwg1H21yJSk"
      },
      "execution_count": null,
      "outputs": []
    },
    {
      "cell_type": "code",
      "source": [
        "plt.figure(figsize=(5,3))\n",
        "plt.title(\"Medals from the 2008 games\")\n",
        "sns.countplot(data=games_2008,\n",
        "              x='Medal',\n",
        "              order=[\"Gold\", \"Silver\", \"Bronze\"],\n",
        "              hue='Gender')"
      ],
      "metadata": {
        "id": "nDzVng1P0xsO"
      },
      "execution_count": null,
      "outputs": []
    },
    {
      "cell_type": "code",
      "source": [
        "plt.figure(figsize=(5,3))\n",
        "plt.title(\"Medals from the 2008 games\")\n",
        "sns.countplot(data=games_2008,\n",
        "              x='Medal',\n",
        "              order=[\"Gold\", \"Silver\", \"Bronze\"],\n",
        "              hue='Gender',\n",
        "              palette='seismic')"
      ],
      "metadata": {
        "id": "7DWDpQWe05b4"
      },
      "execution_count": null,
      "outputs": []
    },
    {
      "cell_type": "code",
      "source": [
        "plt.figure(figsize=(5,3))\n",
        "plt.title(\"Medals from the 2008 games\")\n",
        "sns.countplot(data=games_2008,\n",
        "              x='Medal',\n",
        "              order=[\"Gold\", \"Silver\", \"Bronze\"],\n",
        "              hue='Gender',\n",
        "              palette='coolwarm')"
      ],
      "metadata": {
        "id": "OrMVWF7406Af"
      },
      "execution_count": null,
      "outputs": []
    },
    {
      "cell_type": "code",
      "source": [
        "plt.figure(figsize=(5,3))\n",
        "plt.title(\"Medals from the 2008 games\")\n",
        "sns.countplot(data=games_2008,\n",
        "              x='Medal',\n",
        "              order=[\"Gold\", \"Silver\", \"Bronze\"],\n",
        "              hue='Gender',\n",
        "              palette='bwr')"
      ],
      "metadata": {
        "id": "IUwowuAG1pMo"
      },
      "execution_count": null,
      "outputs": []
    },
    {
      "cell_type": "code",
      "source": [
        "plt.figure(figsize=(5,3))\n",
        "plt.title(\"Medals from the 2008 games\")\n",
        "sns.countplot(data=games_2008,\n",
        "              x='Medal',\n",
        "              order=[\"Gold\", \"Silver\", \"Bronze\"],\n",
        "              hue='Gender',\n",
        "              palette='bwr_r')"
      ],
      "metadata": {
        "id": "V1PuecS106i2"
      },
      "execution_count": null,
      "outputs": []
    },
    {
      "cell_type": "markdown",
      "source": [
        "##Working with groupby"
      ],
      "metadata": {
        "id": "Qr68snfKFo33"
      }
    },
    {
      "cell_type": "code",
      "source": [
        "!pip install --quiet pandas==2.0.2\n",
        "\n",
        "import pandas as pd\n",
        "from pathlib import Path\n",
        "import matplotlib.pyplot as plt\n",
        "\n",
        "\n",
        "if not Path(\"olympics_1896_2004.csv\").exists():\n",
        "  !wget https://github.com/jonfernandes/pandas_essential/raw/main/olympics_1896_2004.csv\n",
        "if not Path(\"olympics_2008.csv\").exists():\n",
        "  !wget https://github.com/jonfernandes/pandas_essential/raw/main/olympics_2008.csv\n",
        "\n",
        "filename = \"olympics_1896_2004.csv\"\n",
        "print(\"Installed all of the necessary files for this section ...\")"
      ],
      "metadata": {
        "id": "h6s7DYd4q5Mk"
      },
      "execution_count": null,
      "outputs": []
    },
    {
      "cell_type": "code",
      "source": [
        "def preprocess(filename = \"olympics_1896_2004.csv\"):\n",
        "  \"\"\"Preparing and transforming dataframe\"\"\"\n",
        "  print(f\"Preprocessing {filename} ...\\n\")\n",
        "  ordered_medals = pd.api.types.CategoricalDtype(categories=[\"Bronze\", \"Silver\", \"Gold\"], ordered=True)\n",
        "  dtype_mapper = {\"Year\": \"int64\",\n",
        "                \"City\": \"string\",\n",
        "                \"Sport\": \"string\",\n",
        "                \"Discipline\": \"string\",\n",
        "                \"Athlete Name\": \"string\",\n",
        "                \"NOC\": \"string\",\n",
        "                \"Gender\": \"category\",\n",
        "                \"Event\": \"string\",\n",
        "                \"Event_gender\": \"category\",\n",
        "                \"Medal\": ordered_medals}\n",
        "  df = (pd.read_csv(filename, skiprows=5, dtype=dtype_mapper)\n",
        "        .drop('Position', axis=1)\n",
        "  )\n",
        "  df[\"Event Gender\"] = df[\"Event Gender\"].astype(\"category\")\n",
        "  df.loc[24676, \"Gender\"] = \"Women\"\n",
        "  df.Sport = df.Sport.str.lower()\n",
        "  df.Discipline = df.Discipline.str.lower()\n",
        "  df.Event = df.Event.str.lower()\n",
        "  df.NOC = df.NOC.str.upper()\n",
        "  return df\n",
        "\n",
        "def preprocess_2008(filename=\"olympics_2008.csv\"):\n",
        "  print(f\"Preprocessing {filename} ...\\n\")\n",
        "  df = pd.read_csv(filename)\n",
        "  df.columns = ['City', 'Year', 'Sport', 'Discipline', 'Athlete Name', 'NOC',\n",
        "       'Gender', 'Event', 'Event Gender', 'Medal', 'Result']\n",
        "  df = df.drop(\"Result\", axis=1)\n",
        "  df.City = df.City.fillna(value=\"Beijing\")\n",
        "  df.Year = df.Year.fillna(value=2008)\n",
        "  df = df.dropna(subset=['Sport', 'Discipline', 'Athlete Name', 'NOC', 'Gender',\n",
        "       'Event', 'Event Gender', 'Medal'], how=\"all\")\n",
        "  df = df.drop_duplicates()\n",
        "  df.Sport = df.Sport.str.lower()\n",
        "  df.Discipline = df.Discipline.str.lower()\n",
        "  df.Event = df.Event.str.lower()\n",
        "  df.NOC = df.NOC.str.upper()\n",
        "  df.Medal = df.Medal.str.capitalize()\n",
        "  df.City = df.City.astype(\"string\")\n",
        "  df.Year = df.Year.astype(int)\n",
        "  df.Sport = df.Sport.astype(\"string\")\n",
        "  df.Discipline = df.Discipline.astype(\"string\")\n",
        "  df[\"Athlete Name\"] = df[\"Athlete Name\"].astype(\"string\")\n",
        "  df.NOC = df.NOC.astype(\"string\")\n",
        "  df.Gender = df.Gender.astype(\"category\")\n",
        "  df.Event = df.Event.astype(\"string\")\n",
        "  df['Event Gender'] = df['Event Gender'].astype(\"category\")\n",
        "  medal_order = [\"Bronze\", \"Silver\", \"Gold\"]\n",
        "  df.Medal = pd.Categorical(df.Medal, categories=medal_order, ordered=True)\n",
        "\n",
        "  return df\n",
        "\n",
        "oo = preprocess()\n",
        "nw = preprocess_2008()\n",
        "up = pd.concat([oo, nw])\n",
        "up.sample(3)"
      ],
      "metadata": {
        "id": "jLYyLD1F-PAT"
      },
      "execution_count": null,
      "outputs": []
    },
    {
      "cell_type": "code",
      "source": [
        "sprints = up[(up.Year == 2008) & ((up.Event == '100m') | (up.Event == '200m'))]\n",
        "sprints"
      ],
      "metadata": {
        "id": "fjqov5kh_FHa"
      },
      "execution_count": null,
      "outputs": []
    },
    {
      "cell_type": "code",
      "source": [
        "sp = sprints.groupby(['NOC', 'Gender', 'Event'])\n",
        "sp"
      ],
      "metadata": {
        "id": "hqdKX_EXAqrY"
      },
      "execution_count": null,
      "outputs": []
    },
    {
      "cell_type": "code",
      "source": [
        "up.groupby(\"Year\")"
      ],
      "metadata": {
        "id": "W95xeY7ZFtYb"
      },
      "execution_count": null,
      "outputs": []
    },
    {
      "cell_type": "code",
      "source": [
        "type(up.groupby('Year'))"
      ],
      "metadata": {
        "id": "xyac4sOnF7xV"
      },
      "execution_count": null,
      "outputs": []
    },
    {
      "cell_type": "code",
      "source": [
        "up.groupby(\"Year\").count()"
      ],
      "metadata": {
        "id": "yACDdzl9Fzr0"
      },
      "execution_count": null,
      "outputs": []
    },
    {
      "cell_type": "code",
      "source": [
        "for group_key, group_value in up.groupby('Year'):\n",
        "    print(group_key)\n",
        "    print(group_value)"
      ],
      "metadata": {
        "id": "NnugdlmPGfuV"
      },
      "execution_count": null,
      "outputs": []
    },
    {
      "cell_type": "code",
      "source": [
        "type(group_value)"
      ],
      "metadata": {
        "id": "PFvFNPieG6fw"
      },
      "execution_count": null,
      "outputs": []
    },
    {
      "cell_type": "code",
      "source": [
        "up.groupby(['Year']).count()"
      ],
      "metadata": {
        "id": "FUZ1XjrC_qMv"
      },
      "execution_count": null,
      "outputs": []
    },
    {
      "cell_type": "code",
      "source": [
        "up.groupby(\"Year\").size()"
      ],
      "metadata": {
        "id": "aXuPTFXeHACE"
      },
      "execution_count": null,
      "outputs": []
    },
    {
      "cell_type": "code",
      "source": [
        "up.groupby(['Year','NOC']).count()"
      ],
      "metadata": {
        "id": "5pqISQ6FIy2Q"
      },
      "execution_count": null,
      "outputs": []
    },
    {
      "cell_type": "code",
      "source": [
        "up.groupby(['Year','NOC'])['Medal'].count()"
      ],
      "metadata": {
        "id": "p5W-QKRzKXK1"
      },
      "execution_count": null,
      "outputs": []
    },
    {
      "cell_type": "code",
      "source": [
        "up.groupby(['Year','NOC']).size()"
      ],
      "metadata": {
        "id": "pJqhHLChIoAA"
      },
      "execution_count": null,
      "outputs": []
    },
    {
      "cell_type": "code",
      "source": [
        "up.groupby(['Year','NOC','Medal']).size()"
      ],
      "metadata": {
        "id": "_o3eF3uEHAFS"
      },
      "execution_count": null,
      "outputs": []
    },
    {
      "cell_type": "code",
      "source": [
        "up.groupby(['NOC'])['Year'].min()"
      ],
      "metadata": {
        "id": "NkPLhcA9KuMu"
      },
      "execution_count": null,
      "outputs": []
    },
    {
      "cell_type": "code",
      "source": [
        "up.groupby(['NOC'])['Year'].max()"
      ],
      "metadata": {
        "id": "N7_2PKh8K79g"
      },
      "execution_count": null,
      "outputs": []
    },
    {
      "cell_type": "code",
      "source": [
        "up.groupby(['NOC'])['Year'].min()"
      ],
      "metadata": {
        "id": "nclk4Xx3cON6"
      },
      "execution_count": null,
      "outputs": []
    },
    {
      "cell_type": "code",
      "source": [
        "up.groupby(['NOC'])['Year'].agg(['min', 'max', 'count'])"
      ],
      "metadata": {
        "id": "2fC52zyTG_-e"
      },
      "execution_count": null,
      "outputs": []
    },
    {
      "cell_type": "markdown",
      "source": [
        "##Reshaping data: Stacking, Unstacking and MultiIndex"
      ],
      "metadata": {
        "id": "G4oDXcOu6cNf"
      }
    },
    {
      "cell_type": "code",
      "source": [
        "!pip install --quiet pandas==2.0.2\n",
        "\n",
        "import pandas as pd\n",
        "from pathlib import Path\n",
        "import matplotlib.pyplot as plt\n",
        "\n",
        "\n",
        "if not Path(\"olympics_1896_2004.csv\").exists():\n",
        "  !wget https://github.com/jonfernandes/pandas_essential/raw/main/olympics_1896_2004.csv\n",
        "if not Path(\"olympics_2008.csv\").exists():\n",
        "  !wget https://github.com/jonfernandes/pandas_essential/raw/main/olympics_2008.csv\n",
        "\n",
        "filename = \"olympics_1896_2004.csv\"\n",
        "print(\"Installed all of the necessary files for this section ...\")"
      ],
      "metadata": {
        "id": "qRfLqK3V6nDb"
      },
      "execution_count": null,
      "outputs": []
    },
    {
      "cell_type": "code",
      "source": [
        "def preprocess(filename = \"olympics_1896_2004.csv\"):\n",
        "  \"\"\"Preparing and transforming dataframe\"\"\"\n",
        "  print(f\"Preprocessing {filename} ...\\n\")\n",
        "  ordered_medals = pd.api.types.CategoricalDtype(categories=[\"Bronze\", \"Silver\", \"Gold\"], ordered=True)\n",
        "  dtype_mapper = {\"Year\": \"int64\",\n",
        "                \"City\": \"string\",\n",
        "                \"Sport\": \"string\",\n",
        "                \"Discipline\": \"string\",\n",
        "                \"Athlete Name\": \"string\",\n",
        "                \"NOC\": \"string\",\n",
        "                \"Gender\": \"category\",\n",
        "                \"Event\": \"string\",\n",
        "                \"Event_gender\": \"category\",\n",
        "                \"Medal\": ordered_medals}\n",
        "  df = pd.read_csv(filename, skiprows=5, dtype=dtype_mapper)\n",
        "  df = df.drop('Position', axis=1)\n",
        "  df[\"Event Gender\"] = df[\"Event Gender\"].astype(\"category\")\n",
        "  df.loc[24676, \"Gender\"] = \"Women\"\n",
        "  df.Sport = df.Sport.str.lower()\n",
        "  df.Discipline = df.Discipline.str.lower()\n",
        "  df.Event = df.Event.str.lower()\n",
        "  df.NOC = df.NOC.str.upper()\n",
        "  return df\n",
        "\n",
        "def preprocess_2008(filename=\"olympics_2008.csv\"):\n",
        "  print(f\"Preprocessing {filename} ...\\n\")\n",
        "  df = pd.read_csv(filename)\n",
        "  df.columns = ['City', 'Year', 'Sport', 'Discipline', 'Athlete Name', 'NOC',\n",
        "       'Gender', 'Event', 'Event Gender', 'Medal', 'Result']\n",
        "  df = df.drop(\"Result\", axis=1)\n",
        "  df.City = df.City.fillna(value=\"Beijing\")\n",
        "  df.Year = df.Year.fillna(value=2008)\n",
        "  df = df.dropna(subset=['Sport', 'Discipline', 'Athlete Name', 'NOC', 'Gender',\n",
        "       'Event', 'Event Gender', 'Medal'], how=\"all\")\n",
        "  df = df.drop_duplicates()\n",
        "  df.Sport = df.Sport.str.lower()\n",
        "  df.Discipline = df.Discipline.str.lower()\n",
        "  df.Event = df.Event.str.lower()\n",
        "  df.NOC = df.NOC.str.upper()\n",
        "  df.Medal = df.Medal.str.capitalize()\n",
        "  df.City = df.City.astype(\"string\")\n",
        "  df.Year = df.Year.astype(int)\n",
        "  df.Sport = df.Sport.astype(\"string\")\n",
        "  df.Discipline = df.Discipline.astype(\"string\")\n",
        "  df[\"Athlete Name\"] = df[\"Athlete Name\"].astype(\"string\")\n",
        "  df.NOC = df.NOC.astype(\"string\")\n",
        "  df.Gender = df.Gender.astype(\"category\")\n",
        "  df.Event = df.Event.astype(\"string\")\n",
        "  df['Event Gender'] = df['Event Gender'].astype(\"category\")\n",
        "  medal_order = [\"Bronze\", \"Silver\", \"Gold\"]\n",
        "  df.Medal = pd.Categorical(df.Medal, categories=medal_order, ordered=True)\n",
        "\n",
        "  return df\n",
        "\n",
        "oo = preprocess()\n",
        "nw = preprocess_2008()\n",
        "up = pd.concat([oo, nw])\n",
        "up.sample(3)"
      ],
      "metadata": {
        "id": "XuhND-Tz6nDb"
      },
      "execution_count": null,
      "outputs": []
    },
    {
      "cell_type": "code",
      "source": [
        "sprints = up[(up.Year == 2008) & ( (up.Event == '100m') | (up.Event == '200m'))]\n",
        "sprints"
      ],
      "metadata": {
        "id": "HPvTlgBv6g1l"
      },
      "execution_count": null,
      "outputs": []
    },
    {
      "cell_type": "code",
      "source": [
        "sp = sprints.groupby(['NOC','Gender','Event']).size()\n",
        "sp"
      ],
      "metadata": {
        "id": "bl6fTsV064ji"
      },
      "execution_count": null,
      "outputs": []
    },
    {
      "cell_type": "code",
      "source": [
        "sp.unstack?"
      ],
      "metadata": {
        "id": "rqB_IGRlS-3t"
      },
      "execution_count": null,
      "outputs": []
    },
    {
      "cell_type": "code",
      "source": [
        "sp.unstack('Gender', fill_value=0)"
      ],
      "metadata": {
        "id": "aOZjOX4c8zig"
      },
      "execution_count": null,
      "outputs": []
    },
    {
      "cell_type": "code",
      "source": [
        "(sp\n",
        " .unstack('Gender', fill_value=0)\n",
        " .unstack('Event', fill_value=0)\n",
        ")"
      ],
      "metadata": {
        "id": "tSipFwZU87rU"
      },
      "execution_count": null,
      "outputs": []
    },
    {
      "cell_type": "code",
      "source": [
        "sp.unstack?"
      ],
      "metadata": {
        "id": "F3OkF_UyQTC5"
      },
      "execution_count": null,
      "outputs": []
    },
    {
      "cell_type": "code",
      "source": [
        "sp.unstack(['Gender', 'Event'], fill_value=0)"
      ],
      "metadata": {
        "id": "zkfX-zpO64do"
      },
      "execution_count": null,
      "outputs": []
    },
    {
      "cell_type": "code",
      "source": [
        "sp = sprints.groupby(['NOC','Gender','Event']).size()\n",
        "sp"
      ],
      "metadata": {
        "id": "sw378hByAh_z"
      },
      "execution_count": null,
      "outputs": []
    },
    {
      "cell_type": "code",
      "source": [
        "sp.unstack(level=1, fill_value=0)"
      ],
      "metadata": {
        "id": "HeayOcw3V8Vg"
      },
      "execution_count": null,
      "outputs": []
    },
    {
      "cell_type": "code",
      "source": [
        "sprints_table = sp.unstack(level=1, fill_value=0).unstack(level=1, fill_value=0)\n",
        "sprints_table"
      ],
      "metadata": {
        "id": "AwUsaAcRWKtN"
      },
      "execution_count": null,
      "outputs": []
    },
    {
      "cell_type": "code",
      "source": [
        "sprints_NOC = sprints_table.stack(\"Gender\")\n",
        "sprints_NOC"
      ],
      "metadata": {
        "id": "9qhYg3pm64PS"
      },
      "execution_count": null,
      "outputs": []
    },
    {
      "cell_type": "code",
      "source": [
        "sprints_NOC.index"
      ],
      "metadata": {
        "id": "BygN_yLAXMM3"
      },
      "execution_count": null,
      "outputs": []
    },
    {
      "cell_type": "code",
      "source": [
        "sprints_NOC.loc[('JAM',   'Men'), :]"
      ],
      "metadata": {
        "id": "J2iY34Vr64Gj"
      },
      "execution_count": null,
      "outputs": []
    },
    {
      "cell_type": "code",
      "source": [
        "sprints_NOC.loc[('JAM',   'Men'), '100m']"
      ],
      "metadata": {
        "id": "EupzuYGO64Bk"
      },
      "execution_count": null,
      "outputs": []
    },
    {
      "cell_type": "code",
      "source": [
        "sprints_NOC.iloc[0, :]"
      ],
      "metadata": {
        "id": "YrJ9kCCdYE_R"
      },
      "execution_count": null,
      "outputs": []
    },
    {
      "cell_type": "code",
      "source": [
        "sprints_NOC.iloc[0, 0]"
      ],
      "metadata": {
        "id": "gxcj_y-qYMHm"
      },
      "execution_count": null,
      "outputs": []
    },
    {
      "cell_type": "code",
      "source": [
        "sprints_NOC.stack?"
      ],
      "metadata": {
        "id": "DkrFQ0XGB5Oj"
      },
      "execution_count": null,
      "outputs": []
    },
    {
      "cell_type": "code",
      "source": [
        "sprints_NOC.unstack?"
      ],
      "metadata": {
        "id": "bwoHmR7aB_Pr"
      },
      "execution_count": null,
      "outputs": []
    },
    {
      "cell_type": "markdown",
      "source": [
        "## Challenge"
      ],
      "metadata": {
        "id": "prwKaxHRupV5"
      }
    },
    {
      "cell_type": "code",
      "source": [
        "!pip install --quiet pandas==2.0.2\n",
        "\n",
        "import pandas as pd\n",
        "from pathlib import Path\n",
        "import matplotlib.pyplot as plt\n",
        "\n",
        "if not Path(\"olympics_1896_2004.csv\").exists():\n",
        "  !wget https://github.com/jonfernandes/pandas_essential/raw/main/olympics_1896_2004.csv\n",
        "if not Path(\"olympics_2008.csv\").exists():\n",
        "  !wget https://github.com/jonfernandes/pandas_essential/raw/main/olympics_2008.csv\n",
        "\n",
        "filename = \"olympics_1896_2004.csv\"\n",
        "print(\"Installed all of the necessary files for this section ...\")"
      ],
      "metadata": {
        "id": "pUFO5mPbexfs"
      },
      "execution_count": null,
      "outputs": []
    },
    {
      "cell_type": "code",
      "source": [
        "def preprocess(filename = \"olympics_1896_2004.csv\"):\n",
        "  \"\"\"Preparing and transforming dataframe\"\"\"\n",
        "  print(f\"Preprocessing {filename} ...\\n\")\n",
        "  ordered_medals = pd.api.types.CategoricalDtype(categories=[\"Bronze\", \"Silver\", \"Gold\"], ordered=True)\n",
        "  dtype_mapper = {\"Year\": \"int64\",\n",
        "                \"City\": \"string\",\n",
        "                \"Sport\": \"string\",\n",
        "                \"Discipline\": \"string\",\n",
        "                \"Athlete Name\": \"string\",\n",
        "                \"NOC\": \"string\",\n",
        "                \"Gender\": \"category\",\n",
        "                \"Event\": \"string\",\n",
        "                \"Event_gender\": \"category\",\n",
        "                \"Medal\": ordered_medals}\n",
        "  df = pd.read_csv(filename, skiprows=5, dtype=dtype_mapper)\n",
        "  df = df.drop('Position', axis=1)\n",
        "  df[\"Event Gender\"] = df[\"Event Gender\"].astype(\"category\")\n",
        "  df.loc[24676, \"Gender\"] = \"Women\"\n",
        "  df.Sport = df.Sport.str.lower()\n",
        "  df.Discipline = df.Discipline.str.lower()\n",
        "  df.Event = df.Event.str.lower()\n",
        "  df.NOC = df.NOC.str.upper()\n",
        "  return df\n",
        "\n",
        "def preprocess_2008(filename=\"olympics_2008.csv\"):\n",
        "  print(f\"Preprocessing {filename} ...\\n\")\n",
        "  df = pd.read_csv(filename)\n",
        "  df.columns = ['City', 'Year', 'Sport', 'Discipline', 'Athlete Name', 'NOC',\n",
        "       'Gender', 'Event', 'Event Gender', 'Medal', 'Result']\n",
        "  df = df.drop(\"Result\", axis=1)\n",
        "  df.City = df.City.fillna(value=\"Beijing\")\n",
        "  df.Year = df.Year.fillna(value=2008)\n",
        "  df = df.dropna(subset=['Sport', 'Discipline', 'Athlete Name', 'NOC', 'Gender',\n",
        "       'Event', 'Event Gender', 'Medal'], how=\"all\")\n",
        "  df = df.drop_duplicates()\n",
        "  df.Sport = df.Sport.str.lower()\n",
        "  df.Discipline = df.Discipline.str.lower()\n",
        "  df.Event = df.Event.str.lower()\n",
        "  df.NOC = df.NOC.str.upper()\n",
        "  df.Medal = df.Medal.str.capitalize()\n",
        "  df.City = df.City.astype(\"string\")\n",
        "  df.Year = df.Year.astype(int)\n",
        "  df.Sport = df.Sport.astype(\"string\")\n",
        "  df.Discipline = df.Discipline.astype(\"string\")\n",
        "  df[\"Athlete Name\"] = df[\"Athlete Name\"].astype(\"string\")\n",
        "  df.NOC = df.NOC.astype(\"string\")\n",
        "  df.Gender = df.Gender.astype(\"category\")\n",
        "  df.Event = df.Event.astype(\"string\")\n",
        "  df['Event Gender'] = df['Event Gender'].astype(\"category\")\n",
        "  medal_order = [\"Bronze\", \"Silver\", \"Gold\"]\n",
        "  df.Medal = pd.Categorical(df.Medal, categories=medal_order, ordered=True)\n",
        "\n",
        "  return df\n",
        "\n",
        "oo = preprocess()\n",
        "nw = preprocess_2008()\n",
        "up = pd.concat([oo, nw])\n",
        "up.sample(3)"
      ],
      "metadata": {
        "id": "pDC_nItNexfs"
      },
      "execution_count": null,
      "outputs": []
    },
    {
      "cell_type": "markdown",
      "source": [
        "**Using a line graph, plot the number of gold medals won by the USA male and female Olympians throughout the history of the Olympics?\n",
        "Distinguish between the male and female Olympians in the line graph using blue and pink**"
      ],
      "metadata": {
        "id": "r5o55t_3uuwb"
      }
    },
    {
      "cell_type": "code",
      "source": [],
      "metadata": {
        "id": "C_RNt_Ef639H"
      },
      "execution_count": null,
      "outputs": []
    },
    {
      "cell_type": "markdown",
      "source": [
        "**Using a bar chart, plot the 5 Olympians who have won the most gold medals from the dataset (1896 to 2008). When there is a tie, consider the number of silver medals, then bronze medals.**"
      ],
      "metadata": {
        "id": "Tb5t8FCK3hwH"
      }
    },
    {
      "cell_type": "markdown",
      "source": [
        "##Solution"
      ],
      "metadata": {
        "id": "UeJT-eycu6o9"
      }
    },
    {
      "cell_type": "markdown",
      "source": [
        "**Using a line graph, plot the number of gold medals won by the USA male and female Olympians throughout the history of the Olympics?\n",
        "Distinguish between the male and female Olympians in the line graph using blue (male) and pink (female)**"
      ],
      "metadata": {
        "id": "Q9Qf05NHu6o9"
      }
    },
    {
      "cell_type": "code",
      "source": [
        "!pip install --quiet pandas==2.0.2\n",
        "\n",
        "import pandas as pd\n",
        "from pathlib import Path\n",
        "import matplotlib.pyplot as plt\n",
        "\n",
        "if not Path(\"olympics_1896_2004.csv\").exists():\n",
        "  !wget https://github.com/jonfernandes/pandas_essential/raw/main/olympics_1896_2004.csv\n",
        "if not Path(\"olympics_2008.csv\").exists():\n",
        "  !wget https://github.com/jonfernandes/pandas_essential/raw/main/olympics_2008.csv\n",
        "\n",
        "filename = \"olympics_1896_2004.csv\"\n",
        "print(\"Installed all of the necessary files for this section ...\")"
      ],
      "metadata": {
        "id": "dYNEO227vQiv"
      },
      "execution_count": null,
      "outputs": []
    },
    {
      "cell_type": "code",
      "source": [
        "def preprocess(filename = \"olympics_1896_2004.csv\"):\n",
        "  \"\"\"Preparing and transforming dataframe\"\"\"\n",
        "  print(f\"Preprocessing {filename} ...\\n\")\n",
        "  ordered_medals = pd.api.types.CategoricalDtype(categories=[\"Bronze\", \"Silver\", \"Gold\"], ordered=True)\n",
        "  dtype_mapper = {\"Year\": \"int64\",\n",
        "                \"City\": \"string\",\n",
        "                \"Sport\": \"string\",\n",
        "                \"Discipline\": \"string\",\n",
        "                \"Athlete Name\": \"string\",\n",
        "                \"NOC\": \"string\",\n",
        "                \"Gender\": \"category\",\n",
        "                \"Event\": \"string\",\n",
        "                \"Event_gender\": \"category\",\n",
        "                \"Medal\": ordered_medals}\n",
        "  df = pd.read_csv(filename, skiprows=5, dtype=dtype_mapper)\n",
        "  df = df.drop('Position', axis=1)\n",
        "  df[\"Event Gender\"] = df[\"Event Gender\"].astype(\"category\")\n",
        "  df.loc[24676, \"Gender\"] = \"Women\"\n",
        "  df.Sport = df.Sport.str.lower()\n",
        "  df.Discipline = df.Discipline.str.lower()\n",
        "  df.Event = df.Event.str.lower()\n",
        "  df.NOC = df.NOC.str.upper()\n",
        "  return df\n",
        "\n",
        "def preprocess_2008(filename=\"olympics_2008.csv\"):\n",
        "  print(f\"Preprocessing {filename} ...\\n\")\n",
        "  df = pd.read_csv(filename)\n",
        "  df.columns = ['City', 'Year', 'Sport', 'Discipline', 'Athlete Name', 'NOC',\n",
        "       'Gender', 'Event', 'Event Gender', 'Medal', 'Result']\n",
        "  df = df.drop(\"Result\", axis=1)\n",
        "  df.City = df.City.fillna(value=\"Beijing\")\n",
        "  df.Year = df.Year.fillna(value=2008)\n",
        "  df = df.dropna(subset=['Sport', 'Discipline', 'Athlete Name', 'NOC', 'Gender',\n",
        "       'Event', 'Event Gender', 'Medal'], how=\"all\")\n",
        "  df = df.drop_duplicates()\n",
        "  df.Sport = df.Sport.str.lower()\n",
        "  df.Discipline = df.Discipline.str.lower()\n",
        "  df.Event = df.Event.str.lower()\n",
        "  df.NOC = df.NOC.str.upper()\n",
        "  df.Medal = df.Medal.str.capitalize()\n",
        "  df.City = df.City.astype(\"string\")\n",
        "  df.Year = df.Year.astype(int)\n",
        "  df.Sport = df.Sport.astype(\"string\")\n",
        "  df.Discipline = df.Discipline.astype(\"string\")\n",
        "  df[\"Athlete Name\"] = df[\"Athlete Name\"].astype(\"string\")\n",
        "  df.NOC = df.NOC.astype(\"string\")\n",
        "  df.Gender = df.Gender.astype(\"category\")\n",
        "  df.Event = df.Event.astype(\"string\")\n",
        "  df['Event Gender'] = df['Event Gender'].astype(\"category\")\n",
        "  medal_order = [\"Bronze\", \"Silver\", \"Gold\"]\n",
        "  df.Medal = pd.Categorical(df.Medal, categories=medal_order, ordered=True)\n",
        "\n",
        "  return df\n",
        "\n",
        "oo = preprocess()\n",
        "nw = preprocess_2008()\n",
        "up = pd.concat([oo, nw])\n",
        "up.sample(3)"
      ],
      "metadata": {
        "id": "QEVPTHlIvQiw"
      },
      "execution_count": null,
      "outputs": []
    },
    {
      "cell_type": "code",
      "source": [
        "usa_gold = up[(up.NOC == 'USA') & (up.Medal == 'Gold')]\n",
        "usa_gold"
      ],
      "metadata": {
        "id": "MphlXj4BvXNa"
      },
      "execution_count": null,
      "outputs": []
    },
    {
      "cell_type": "code",
      "source": [
        "usa_gold.groupby(['Year', 'Gender']).size()"
      ],
      "metadata": {
        "id": "cC_5dpdrvXKK"
      },
      "execution_count": null,
      "outputs": []
    },
    {
      "cell_type": "code",
      "source": [
        "usa_gold.groupby(['Year', 'Gender']).size().index"
      ],
      "metadata": {
        "id": "O5dFukxku6o-"
      },
      "execution_count": null,
      "outputs": []
    },
    {
      "cell_type": "code",
      "source": [
        "usa_gold.groupby(['Year', 'Gender']).size().plot(kind='line')"
      ],
      "metadata": {
        "id": "0Wz1wAS4z-xZ"
      },
      "execution_count": null,
      "outputs": []
    },
    {
      "cell_type": "code",
      "source": [
        "usa_gold.groupby(['Year', 'Gender']).size()"
      ],
      "metadata": {
        "id": "R_XDcQRT1A07"
      },
      "execution_count": null,
      "outputs": []
    },
    {
      "cell_type": "code",
      "source": [
        "usa_gold.groupby(['Year', 'Gender']).size().unstack('Gender')"
      ],
      "metadata": {
        "id": "v13F5zuIwuFm"
      },
      "execution_count": null,
      "outputs": []
    },
    {
      "cell_type": "code",
      "source": [
        "usa_gold.groupby(['Year', 'Gender']).size().unstack('Gender').plot(kind='line')"
      ],
      "metadata": {
        "id": "Ss-ROTMkwuCk"
      },
      "execution_count": null,
      "outputs": []
    },
    {
      "cell_type": "code",
      "source": [
        "usa_gold.groupby(['Year', 'Gender']).size().unstack('Gender').plot?"
      ],
      "metadata": {
        "id": "epfAeOuIZZhJ"
      },
      "execution_count": null,
      "outputs": []
    },
    {
      "cell_type": "code",
      "source": [
        "pd.Series.plot?"
      ],
      "metadata": {
        "id": "oRbk59AZZr_7"
      },
      "execution_count": null,
      "outputs": []
    },
    {
      "cell_type": "code",
      "source": [
        "usa_gold.groupby(['Year', 'Gender']).size().unstack('Gender').plot(kind='line', color=['blue', 'pink'])"
      ],
      "metadata": {
        "id": "LW0X9ze0wt8Z"
      },
      "execution_count": null,
      "outputs": []
    },
    {
      "cell_type": "code",
      "source": [
        "usa_gold.groupby(['Year', 'Gender']).size().unstack('Gender').plot(kind='line', color=['pink', 'blue'])"
      ],
      "metadata": {
        "id": "rFbw6oa2wt5d"
      },
      "execution_count": null,
      "outputs": []
    },
    {
      "cell_type": "markdown",
      "source": [
        "**Using a bar chart, plot the 5 Olympians who have won the most gold medals from the dataset (1896 to 2008). When there is a tie, consider the number of silver medals, then bronze medals.**"
      ],
      "metadata": {
        "id": "foilIThA354A"
      }
    },
    {
      "cell_type": "code",
      "source": [
        "up.groupby(['Athlete Name','Medal']).size()"
      ],
      "metadata": {
        "id": "NZOK4FC7wt2Y"
      },
      "execution_count": null,
      "outputs": []
    },
    {
      "cell_type": "code",
      "source": [
        "(up.groupby(['Athlete Name','Medal'])\n",
        ".size()\n",
        ".unstack('Medal', fill_value=0)\n",
        ")"
      ],
      "metadata": {
        "id": "WwmJr_heaCJI"
      },
      "execution_count": null,
      "outputs": []
    },
    {
      "cell_type": "code",
      "source": [
        "(up.groupby(['Athlete Name','Medal'])\n",
        ".size()\n",
        ".unstack('Medal', fill_value=0)\n",
        ".sort_values(['Gold', 'Silver', 'Bronze'], ascending=False)\n",
        ")"
      ],
      "metadata": {
        "id": "IwdoRPZtwtzO"
      },
      "execution_count": null,
      "outputs": []
    },
    {
      "cell_type": "code",
      "source": [
        "(up.groupby(['Athlete Name','Medal'])\n",
        ".size()\n",
        ".unstack('Medal', fill_value=0)\n",
        ".sort_values(['Gold', 'Silver', 'Bronze'], ascending=False)[['Gold', 'Silver', 'Bronze']]\n",
        ")"
      ],
      "metadata": {
        "id": "ULPVMVbBwtvx"
      },
      "execution_count": null,
      "outputs": []
    },
    {
      "cell_type": "code",
      "source": [
        "(up.groupby(['Athlete Name','Medal'])\n",
        ".size()\n",
        ".unstack('Medal', fill_value=0)\n",
        ".sort_values(['Gold', 'Silver', 'Bronze'], ascending=False)[['Gold', 'Silver', 'Bronze']]\n",
        ".head(5)\n",
        ")"
      ],
      "metadata": {
        "id": "uDO5cqLa5BOq"
      },
      "execution_count": null,
      "outputs": []
    },
    {
      "cell_type": "code",
      "source": [
        "(up.groupby(['Athlete Name','Medal'])\n",
        ".size()\n",
        ".unstack('Medal', fill_value=0)\n",
        ".sort_values(['Gold', 'Silver', 'Bronze'], ascending=False)[['Gold', 'Silver', 'Bronze']]\n",
        ".head(5)\n",
        ".plot(kind='bar')\n",
        ")"
      ],
      "metadata": {
        "id": "udOauxgS5pl8"
      },
      "execution_count": null,
      "outputs": []
    },
    {
      "cell_type": "markdown",
      "source": [
        "##Creating your own colormaps"
      ],
      "metadata": {
        "id": "w-w5R_xF7431"
      }
    },
    {
      "cell_type": "code",
      "source": [
        "!pip install --quiet pandas==2.0.2\n",
        "\n",
        "import pandas as pd\n",
        "from pathlib import Path\n",
        "import matplotlib.pyplot as plt\n",
        "\n",
        "if not Path(\"olympics_1896_2004.csv\").exists():\n",
        "  !wget https://github.com/jonfernandes/pandas_essential/raw/main/olympics_1896_2004.csv\n",
        "if not Path(\"olympics_2008.csv\").exists():\n",
        "  !wget https://github.com/jonfernandes/pandas_essential/raw/main/olympics_2008.csv\n",
        "\n",
        "filename = \"olympics_1896_2004.csv\"\n",
        "print(\"Installed all of the necessary files for this section ...\")"
      ],
      "metadata": {
        "id": "cHYafmKciN48"
      },
      "execution_count": null,
      "outputs": []
    },
    {
      "cell_type": "code",
      "source": [
        "def preprocess(filename = \"olympics_1896_2004.csv\"):\n",
        "  \"\"\"Preparing and transforming dataframe\"\"\"\n",
        "  print(f\"Preprocessing {filename} ...\\n\")\n",
        "  ordered_medals = pd.api.types.CategoricalDtype(categories=[\"Bronze\", \"Silver\", \"Gold\"], ordered=True)\n",
        "  dtype_mapper = {\"Year\": \"int64\",\n",
        "                \"City\": \"string\",\n",
        "                \"Sport\": \"string\",\n",
        "                \"Discipline\": \"string\",\n",
        "                \"Athlete Name\": \"string\",\n",
        "                \"NOC\": \"string\",\n",
        "                \"Gender\": \"category\",\n",
        "                \"Event\": \"string\",\n",
        "                \"Event_gender\": \"category\",\n",
        "                \"Medal\": ordered_medals}\n",
        "  df = pd.read_csv(filename, skiprows=5, dtype=dtype_mapper)\n",
        "  df = df.drop('Position', axis=1)\n",
        "  df[\"Event Gender\"] = df[\"Event Gender\"].astype(\"category\")\n",
        "  df.loc[24676, \"Gender\"] = \"Women\"\n",
        "  df.Sport = df.Sport.str.lower()\n",
        "  df.Discipline = df.Discipline.str.lower()\n",
        "  df.Event = df.Event.str.lower()\n",
        "  df.NOC = df.NOC.str.upper()\n",
        "  return df\n",
        "\n",
        "def preprocess_2008(filename=\"olympics_2008.csv\"):\n",
        "  print(f\"Preprocessing {filename} ...\\n\")\n",
        "  df = pd.read_csv(filename)\n",
        "  df.columns = ['City', 'Year', 'Sport', 'Discipline', 'Athlete Name', 'NOC',\n",
        "       'Gender', 'Event', 'Event Gender', 'Medal', 'Result']\n",
        "  df = df.drop(\"Result\", axis=1)\n",
        "  df.City = df.City.fillna(value=\"Beijing\")\n",
        "  df.Year = df.Year.fillna(value=2008)\n",
        "  df = df.dropna(subset=['Sport', 'Discipline', 'Athlete Name', 'NOC', 'Gender',\n",
        "       'Event', 'Event Gender', 'Medal'], how=\"all\")\n",
        "  df = df.drop_duplicates()\n",
        "  df.Sport = df.Sport.str.lower()\n",
        "  df.Discipline = df.Discipline.str.lower()\n",
        "  df.Event = df.Event.str.lower()\n",
        "  df.NOC = df.NOC.str.upper()\n",
        "  df.Medal = df.Medal.str.capitalize()\n",
        "  df.City = df.City.astype(\"string\")\n",
        "  df.Year = df.Year.astype(int)\n",
        "  df.Sport = df.Sport.astype(\"string\")\n",
        "  df.Discipline = df.Discipline.astype(\"string\")\n",
        "  df[\"Athlete Name\"] = df[\"Athlete Name\"].astype(\"string\")\n",
        "  df.NOC = df.NOC.astype(\"string\")\n",
        "  df.Gender = df.Gender.astype(\"category\")\n",
        "  df.Event = df.Event.astype(\"string\")\n",
        "  df['Event Gender'] = df['Event Gender'].astype(\"category\")\n",
        "  medal_order = [\"Bronze\", \"Silver\", \"Gold\"]\n",
        "  df.Medal = pd.Categorical(df.Medal, categories=medal_order, ordered=True)\n",
        "\n",
        "  return df\n",
        "\n",
        "oo = preprocess()\n",
        "nw = preprocess_2008()\n",
        "up = pd.concat([oo, nw])\n",
        "up.sample(3)"
      ],
      "metadata": {
        "id": "RdlXjxjGiN49"
      },
      "execution_count": null,
      "outputs": []
    },
    {
      "cell_type": "code",
      "source": [
        "(up.groupby(['Athlete Name','Medal'])\n",
        ".size()\n",
        ".unstack('Medal', fill_value=0)\n",
        ".sort_values(['Gold', 'Silver', 'Bronze'], ascending=False)[['Gold', 'Silver', 'Bronze']]\n",
        ".head(5)\n",
        ".plot(kind='bar')\n",
        ")"
      ],
      "metadata": {
        "id": "mHLjmflh7-nT"
      },
      "execution_count": null,
      "outputs": []
    },
    {
      "cell_type": "code",
      "source": [
        "from matplotlib.colors import ListedColormap"
      ],
      "metadata": {
        "id": "iYeTaMM87-kF"
      },
      "execution_count": null,
      "outputs": []
    },
    {
      "cell_type": "code",
      "source": [
        "ListedColormap?"
      ],
      "metadata": {
        "id": "qFIqIhPH7-gj"
      },
      "execution_count": null,
      "outputs": []
    },
    {
      "cell_type": "code",
      "source": [
        "gold_silver_bronze = ['#dbb40c','#c5c9c7','#a87900']"
      ],
      "metadata": {
        "id": "p0l6tR4z7-dP"
      },
      "execution_count": null,
      "outputs": []
    },
    {
      "cell_type": "code",
      "source": [
        "colormap = ListedColormap(gold_silver_bronze)\n",
        "colormap"
      ],
      "metadata": {
        "id": "AoZBeImP9yWf"
      },
      "execution_count": null,
      "outputs": []
    },
    {
      "cell_type": "code",
      "source": [
        "(up.groupby(['Athlete Name','Medal'])\n",
        ".size()\n",
        ".unstack('Medal', fill_value=0)\n",
        ".sort_values(['Gold', 'Silver', 'Bronze'], ascending=False)[['Gold', 'Silver', 'Bronze']]\n",
        ".head(5)\n",
        ".plot(kind='bar', colormap=colormap)\n",
        ")"
      ],
      "metadata": {
        "id": "D2yNdU-R9ySu"
      },
      "execution_count": null,
      "outputs": []
    },
    {
      "cell_type": "markdown",
      "source": [
        "##Final Challenge"
      ],
      "metadata": {
        "id": "Ffq41qyWCfrk"
      }
    },
    {
      "cell_type": "markdown",
      "source": [
        "For each Olympic year present in the dataset, show the US Olympian (and their sport) who has won the highest number of medals in that particular year.\n",
        "\n",
        "- In the case of a tie, Gold > Silver > Bronze\n",
        "- Include only one Olympian for each Olympic year i.e. If there are 2 Olympians in one year who have won exactly the same number and type of medals, then show only the first one based on sorting the names alphabetically by surname.\n",
        "\n",
        "- You should show the the following columns for each Olympic year:\n",
        "  - Athlete Name\n",
        "  - Sport\n",
        "  - Total\n"
      ],
      "metadata": {
        "id": "zMMgGjqYCsDE"
      }
    },
    {
      "cell_type": "code",
      "source": [
        "!pip install --quiet pandas==2.0.2\n",
        "\n",
        "import pandas as pd\n",
        "from pathlib import Path\n",
        "import matplotlib.pyplot as plt\n",
        "pd.set_option(\"display.width\", 100)\n",
        "\n",
        "if not Path(\"olympics_1896_2004.csv\").exists():\n",
        "  !wget https://github.com/jonfernandes/pandas_essential/raw/main/olympics_1896_2004.csv\n",
        "if not Path(\"olympics_2008.csv\").exists():\n",
        "  !wget https://github.com/jonfernandes/pandas_essential/raw/main/olympics_2008.csv\n",
        "\n",
        "filename = \"olympics_1896_2004.csv\"\n",
        "print(\"Installed all of the necessary files for this section ...\")"
      ],
      "metadata": {
        "id": "oqXcdInNjsca"
      },
      "execution_count": null,
      "outputs": []
    },
    {
      "cell_type": "code",
      "source": [
        "def preprocess(filename = \"olympics_1896_2004.csv\"):\n",
        "  \"\"\"Preparing and transforming dataframe\"\"\"\n",
        "  print(f\"Preprocessing {filename} ...\\n\")\n",
        "  ordered_medals = pd.api.types.CategoricalDtype(categories=[\"Bronze\", \"Silver\", \"Gold\"], ordered=True)\n",
        "  dtype_mapper = {\"Year\": \"int64\",\n",
        "                \"City\": \"string\",\n",
        "                \"Sport\": \"string\",\n",
        "                \"Discipline\": \"string\",\n",
        "                \"Athlete Name\": \"string\",\n",
        "                \"NOC\": \"string\",\n",
        "                \"Gender\": \"category\",\n",
        "                \"Event\": \"string\",\n",
        "                \"Event_gender\": \"category\",\n",
        "                \"Medal\": ordered_medals}\n",
        "  df = pd.read_csv(filename, skiprows=5, dtype=dtype_mapper)\n",
        "  df = df.drop('Position', axis=1)\n",
        "  df[\"Event Gender\"] = df[\"Event Gender\"].astype(\"category\")\n",
        "  df.loc[24676, \"Gender\"] = \"Women\"\n",
        "  df.Sport = df.Sport.str.lower()\n",
        "  df.Discipline = df.Discipline.str.lower()\n",
        "  df.Event = df.Event.str.lower()\n",
        "  df.NOC = df.NOC.str.upper()\n",
        "  return df\n",
        "\n",
        "def preprocess_2008(filename=\"olympics_2008.csv\"):\n",
        "  print(f\"Preprocessing {filename} ...\\n\")\n",
        "  df = pd.read_csv(filename)\n",
        "  df.columns = ['City', 'Year', 'Sport', 'Discipline', 'Athlete Name', 'NOC',\n",
        "       'Gender', 'Event', 'Event Gender', 'Medal', 'Result']\n",
        "  df = df.drop(\"Result\", axis=1)\n",
        "  df.City = df.City.fillna(value=\"Beijing\")\n",
        "  df.Year = df.Year.fillna(value=2008)\n",
        "  df = df.dropna(subset=['Sport', 'Discipline', 'Athlete Name', 'NOC', 'Gender',\n",
        "       'Event', 'Event Gender', 'Medal'], how=\"all\")\n",
        "  df = df.drop_duplicates()\n",
        "  df.Sport = df.Sport.str.lower()\n",
        "  df.Discipline = df.Discipline.str.lower()\n",
        "  df.Event = df.Event.str.lower()\n",
        "  df.NOC = df.NOC.str.upper()\n",
        "  df.Medal = df.Medal.str.capitalize()\n",
        "  df.City = df.City.astype(\"string\")\n",
        "  df.Year = df.Year.astype(int)\n",
        "  df.Sport = df.Sport.astype(\"string\")\n",
        "  df.Discipline = df.Discipline.astype(\"string\")\n",
        "  df[\"Athlete Name\"] = df[\"Athlete Name\"].astype(\"string\")\n",
        "  df.NOC = df.NOC.astype(\"string\")\n",
        "  df.Gender = df.Gender.astype(\"category\")\n",
        "  df.Event = df.Event.astype(\"string\")\n",
        "  df['Event Gender'] = df['Event Gender'].astype(\"category\")\n",
        "  medal_order = [\"Bronze\", \"Silver\", \"Gold\"]\n",
        "  df.Medal = pd.Categorical(df.Medal, categories=medal_order, ordered=True)\n",
        "\n",
        "  return df\n",
        "\n",
        "oo = preprocess()\n",
        "nw = preprocess_2008()\n",
        "up = pd.concat([oo, nw])\n",
        "up.sample(3)"
      ],
      "metadata": {
        "id": "i951MK2ojscb"
      },
      "execution_count": null,
      "outputs": []
    },
    {
      "cell_type": "code",
      "source": [],
      "metadata": {
        "id": "NGHBR0r1eqig"
      },
      "execution_count": null,
      "outputs": []
    },
    {
      "cell_type": "markdown",
      "source": [
        "##Solution"
      ],
      "metadata": {
        "id": "y4e4PWcferLR"
      }
    },
    {
      "cell_type": "markdown",
      "source": [
        "For each Olympic year present in the dataset, show the US Olympian (and their sport) who has won the highest number of medals in that particular year.\n",
        "\n",
        "- In the case of a tie, Gold > Silver > Bronze\n",
        "- Include only one Olympian for each Olympic year i.e. If there are 2 Olympians in one year who have won exactly the same number and type of medals, then show only the first one based on sorting the names alphabetically by surname.\n",
        "\n",
        "- You should show the the following columns for each Olympic year:\n",
        "  - Athlete Name\n",
        "  - Sport\n",
        "  - Total\n"
      ],
      "metadata": {
        "id": "yZMmxFA3ezMd"
      }
    },
    {
      "cell_type": "code",
      "source": [
        "!pip install --quiet pandas==2.0.2\n",
        "\n",
        "import pandas as pd\n",
        "from pathlib import Path\n",
        "import matplotlib.pyplot as plt\n",
        "pd.set_option(\"display.width\", 100)\n",
        "\n",
        "if not Path(\"olympics_1896_2004.csv\").exists():\n",
        "  !wget https://github.com/jonfernandes/pandas_essential/raw/main/olympics_1896_2004.csv\n",
        "if not Path(\"olympics_2008.csv\").exists():\n",
        "  !wget https://github.com/jonfernandes/pandas_essential/raw/main/olympics_2008.csv\n",
        "\n",
        "filename = \"olympics_1896_2004.csv\"\n",
        "print(\"Installed all of the necessary files for this section ...\")"
      ],
      "metadata": {
        "id": "MbU6X-CxeojY"
      },
      "execution_count": null,
      "outputs": []
    },
    {
      "cell_type": "code",
      "source": [
        "def preprocess(filename = \"olympics_1896_2004.csv\"):\n",
        "  \"\"\"Preparing and transforming dataframe\"\"\"\n",
        "  print(f\"Preprocessing {filename} ...\\n\")\n",
        "  ordered_medals = pd.api.types.CategoricalDtype(categories=[\"Bronze\", \"Silver\", \"Gold\"], ordered=True)\n",
        "  dtype_mapper = {\"Year\": \"int64\",\n",
        "                \"City\": \"string\",\n",
        "                \"Sport\": \"string\",\n",
        "                \"Discipline\": \"string\",\n",
        "                \"Athlete Name\": \"string\",\n",
        "                \"NOC\": \"string\",\n",
        "                \"Gender\": \"category\",\n",
        "                \"Event\": \"string\",\n",
        "                \"Event_gender\": \"category\",\n",
        "                \"Medal\": ordered_medals}\n",
        "  df = pd.read_csv(filename, skiprows=5, dtype=dtype_mapper)\n",
        "  df = df.drop('Position', axis=1)\n",
        "  df[\"Event Gender\"] = df[\"Event Gender\"].astype(\"category\")\n",
        "  df.loc[24676, \"Gender\"] = \"Women\"\n",
        "  df.Sport = df.Sport.str.lower()\n",
        "  df.Discipline = df.Discipline.str.lower()\n",
        "  df.Event = df.Event.str.lower()\n",
        "  df.NOC = df.NOC.str.upper()\n",
        "  return df\n",
        "\n",
        "def preprocess_2008(filename=\"olympics_2008.csv\"):\n",
        "  print(f\"Preprocessing {filename} ...\\n\")\n",
        "  df = pd.read_csv(filename)\n",
        "  df.columns = ['City', 'Year', 'Sport', 'Discipline', 'Athlete Name', 'NOC',\n",
        "       'Gender', 'Event', 'Event Gender', 'Medal', 'Result']\n",
        "  df = df.drop(\"Result\", axis=1)\n",
        "  df.City = df.City.fillna(value=\"Beijing\")\n",
        "  df.Year = df.Year.fillna(value=2008)\n",
        "  df = df.dropna(subset=['Sport', 'Discipline', 'Athlete Name', 'NOC', 'Gender',\n",
        "       'Event', 'Event Gender', 'Medal'], how=\"all\")\n",
        "  df = df.drop_duplicates()\n",
        "  df.Sport = df.Sport.str.lower()\n",
        "  df.Discipline = df.Discipline.str.lower()\n",
        "  df.Event = df.Event.str.lower()\n",
        "  df.NOC = df.NOC.str.upper()\n",
        "  df.Medal = df.Medal.str.capitalize()\n",
        "  df.City = df.City.astype(\"string\")\n",
        "  df.Year = df.Year.astype(int)\n",
        "  df.Sport = df.Sport.astype(\"string\")\n",
        "  df.Discipline = df.Discipline.astype(\"string\")\n",
        "  df[\"Athlete Name\"] = df[\"Athlete Name\"].astype(\"string\")\n",
        "  df.NOC = df.NOC.astype(\"string\")\n",
        "  df.Gender = df.Gender.astype(\"category\")\n",
        "  df.Event = df.Event.astype(\"string\")\n",
        "  df['Event Gender'] = df['Event Gender'].astype(\"category\")\n",
        "  medal_order = [\"Bronze\", \"Silver\", \"Gold\"]\n",
        "  df.Medal = pd.Categorical(df.Medal, categories=medal_order, ordered=True)\n",
        "\n",
        "  return df\n",
        "\n",
        "oo = preprocess()\n",
        "nw = preprocess_2008()\n",
        "up = pd.concat([oo, nw])\n",
        "up.sample(3)"
      ],
      "metadata": {
        "id": "By6xUA93eojY"
      },
      "execution_count": null,
      "outputs": []
    },
    {
      "cell_type": "code",
      "source": [
        "usa_olympian = up[up.NOC == 'USA']\n",
        "usa_olympian"
      ],
      "metadata": {
        "id": "OLZlVtDn9yO8"
      },
      "execution_count": null,
      "outputs": []
    },
    {
      "cell_type": "code",
      "source": [
        "usa_olympian.groupby(['Year', 'Athlete Name', 'Medal', 'Sport']).size()"
      ],
      "metadata": {
        "id": "hEh9oP6mDGWG"
      },
      "execution_count": null,
      "outputs": []
    },
    {
      "cell_type": "code",
      "source": [
        "(usa_olympian.groupby(['Year', 'Athlete Name', 'Medal', 'Sport'])\n",
        ".size()\n",
        ".unstack('Medal', fill_value=0)\n",
        ")"
      ],
      "metadata": {
        "id": "xUZBqPx6DGSj"
      },
      "execution_count": null,
      "outputs": []
    },
    {
      "cell_type": "code",
      "source": [
        "table = (usa_olympian.groupby(['Year', 'Athlete Name', 'Sport', 'Medal'])\n",
        ".size()\n",
        ".unstack('Medal', fill_value=0)\n",
        ")\n",
        "table"
      ],
      "metadata": {
        "id": "GxD7zqJ0DGO-"
      },
      "execution_count": null,
      "outputs": []
    },
    {
      "cell_type": "code",
      "source": [
        "table = (usa_olympian.groupby(['Year', 'Athlete Name', 'Sport', 'Medal'])\n",
        ".size()\n",
        ".unstack('Medal', fill_value=0)\n",
        ".assign(Total=table['Gold']+table['Silver']+table['Bronze'])\n",
        ")\n",
        "table"
      ],
      "metadata": {
        "id": "QvazfNN4fYC4"
      },
      "execution_count": null,
      "outputs": []
    },
    {
      "cell_type": "code",
      "source": [
        "table = (usa_olympian.groupby(['Year', 'Athlete Name', 'Sport', 'Medal'])\n",
        ".size()\n",
        ".unstack('Medal', fill_value=0)\n",
        ".assign(Total=table['Gold']+table['Silver']+table['Bronze'])\n",
        ".reset_index()\n",
        ")\n",
        "table"
      ],
      "metadata": {
        "id": "0NDJfhOEDGE_"
      },
      "execution_count": null,
      "outputs": []
    },
    {
      "cell_type": "code",
      "source": [
        "for year, group in table.groupby('Year'):\n",
        "  print(group)"
      ],
      "metadata": {
        "id": "ngE9HmQGDGBc"
      },
      "execution_count": null,
      "outputs": []
    },
    {
      "cell_type": "code",
      "source": [
        "for year, group in table.groupby('Year'):\n",
        "  print(group.sort_values('Total', ascending=False))"
      ],
      "metadata": {
        "id": "mlgTuzU3DF9-"
      },
      "execution_count": null,
      "outputs": []
    },
    {
      "cell_type": "code",
      "source": [
        "for year, group in table.groupby('Year'):\n",
        "  print(group.sort_values(['Total', 'Gold', 'Silver', 'Bronze', 'Athlete Name'], ascending=False))"
      ],
      "metadata": {
        "id": "EhbtvlD7DF6d"
      },
      "execution_count": null,
      "outputs": []
    },
    {
      "cell_type": "code",
      "source": [
        "for year, group in table.groupby('Year'):\n",
        "  print(group.sort_values(['Total', 'Gold', 'Silver', 'Bronze', 'Athlete Name'], ascending=False).head(1))"
      ],
      "metadata": {
        "id": "XYplgW07Al82"
      },
      "execution_count": null,
      "outputs": []
    },
    {
      "cell_type": "code",
      "source": [
        "winners = [\n",
        "    group.sort_values(['Total', 'Gold', 'Silver', 'Bronze', 'Athlete Name'], ascending=False).head(1)\n",
        "    for year, group in table.groupby('Year')\n",
        "]\n",
        "winners"
      ],
      "metadata": {
        "id": "NXtd9GEJDFx4"
      },
      "execution_count": null,
      "outputs": []
    },
    {
      "cell_type": "code",
      "source": [
        "winners[0]"
      ],
      "metadata": {
        "id": "07PdUFZew7Ex"
      },
      "execution_count": null,
      "outputs": []
    },
    {
      "cell_type": "code",
      "source": [
        "type(winners[0])"
      ],
      "metadata": {
        "id": "Jps9YCyhw9JR"
      },
      "execution_count": null,
      "outputs": []
    },
    {
      "cell_type": "code",
      "source": [
        "pd.concat(winners)"
      ],
      "metadata": {
        "id": "bHoG_62bDFud"
      },
      "execution_count": null,
      "outputs": []
    },
    {
      "cell_type": "code",
      "source": [
        "pd.concat(winners)[[\"Year\",\t\"Athlete Name\",\t\"Sport\", \"Total\"]]"
      ],
      "metadata": {
        "id": "Qkd4c8LKcOGt"
      },
      "execution_count": null,
      "outputs": []
    },
    {
      "cell_type": "code",
      "source": [
        "pd.concat(winners)[[\"Year\",\t\"Athlete Name\",\t\"Sport\", \"Total\"]].reset_index()"
      ],
      "metadata": {
        "id": "4azCAhsZcOCr"
      },
      "execution_count": null,
      "outputs": []
    },
    {
      "cell_type": "code",
      "source": [
        "pd.concat(winners)[[\"Year\",\t\"Athlete Name\",\t\"Sport\", \"Total\"]].reset_index?"
      ],
      "metadata": {
        "id": "oLalobULcN-l"
      },
      "execution_count": null,
      "outputs": []
    },
    {
      "cell_type": "code",
      "source": [
        "pd.DataFrame.reset_index?"
      ],
      "metadata": {
        "id": "XvlJx_mkcN6b"
      },
      "execution_count": null,
      "outputs": []
    },
    {
      "cell_type": "code",
      "source": [
        "pd.concat(winners)[[\"Year\",\t\"Athlete Name\",\t\"Sport\", \"Total\"]].reset_index(drop=True)"
      ],
      "metadata": {
        "id": "pu1EH5vZcN2i"
      },
      "execution_count": null,
      "outputs": []
    },
    {
      "cell_type": "code",
      "source": [],
      "metadata": {
        "id": "mkGHzL79b0v2"
      },
      "execution_count": null,
      "outputs": []
    },
    {
      "cell_type": "code",
      "source": [
        "#SDG"
      ],
      "metadata": {
        "id": "ysqHxer4b0m2"
      },
      "execution_count": null,
      "outputs": []
    },
    {
      "cell_type": "code",
      "source": [],
      "metadata": {
        "id": "VntgwLJzb0i_"
      },
      "execution_count": null,
      "outputs": []
    },
    {
      "cell_type": "code",
      "source": [],
      "metadata": {
        "id": "O01B55rUb0ec"
      },
      "execution_count": null,
      "outputs": []
    }
  ],
  "metadata": {
    "colab": {
      "collapsed_sections": [
        "nIp_KPjfO4J9",
        "1QP__-BYFIFN",
        "LRcakh4dQzWs",
        "vto6K36OcbBY",
        "Y7NNcfO4xlea",
        "cXD8zRjrB0vc",
        "dVneSuG42rEV",
        "Ckw-4M9hpoa3",
        "W9Nhfv3LkjL0",
        "KoS5odaaWiBi",
        "IEMaZhWNgH8S",
        "PLavnC_tldUv",
        "f6JGaT7avvyR",
        "B66y0jue2DMa",
        "gIiaB-pcEKdf",
        "tW9suZ3CGCpG",
        "fBBqvMS_uhNk",
        "RM1S3nJ0vcXs",
        "SCq05iZiwibC",
        "Z0rYN2NIPxNZ",
        "mFDo3MYfd60y",
        "bU802QvxZOh_",
        "DEyNm2RLoeGd",
        "FematpDlyP3J",
        "emB7XuGpBOPu",
        "Utjd5YTX5ruR",
        "UbtEix9Y-6Uc",
        "L1yiHNB0Ohfm",
        "nC0B3PtWD0H1",
        "BdOwoiXDISBA",
        "kH9DmNEweaVZ",
        "486bDzcSDjs9",
        "Qr68snfKFo33",
        "G4oDXcOu6cNf",
        "prwKaxHRupV5",
        "UeJT-eycu6o9",
        "w-w5R_xF7431",
        "Ffq41qyWCfrk",
        "y4e4PWcferLR"
      ],
      "provenance": []
    },
    "gpuClass": "standard",
    "kernelspec": {
      "display_name": "Python 3",
      "name": "python3"
    },
    "language_info": {
      "name": "python"
    }
  },
  "nbformat": 4,
  "nbformat_minor": 0
}